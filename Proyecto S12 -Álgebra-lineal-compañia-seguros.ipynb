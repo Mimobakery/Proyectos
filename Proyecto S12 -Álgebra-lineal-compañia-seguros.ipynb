{
 "cells": [
  {
   "cell_type": "markdown",
   "metadata": {},
   "source": [
    "# Descripción"
   ]
  },
  {
   "cell_type": "markdown",
   "metadata": {},
   "source": [
    "La compañía de seguros Sure Tomorrow quiere resolver varias tareas con la ayuda de machine learning y te pide que evalúes esa posibilidad.\n",
    "- Tarea 1: encontrar clientes que sean similares a un cliente determinado. Esto ayudará a los agentes de la compañía con el marketing.\n",
    "- Tarea 2: predecir la probabilidad de que un nuevo cliente reciba una prestación del seguro. ¿Puede un modelo de predictivo funcionar mejor que un modelo dummy?\n",
    "- Tarea 3: predecir el número de prestaciones de seguro que un nuevo cliente pueda recibir utilizando un modelo de regresión lineal.\n",
    "- Tarea 4: proteger los datos personales de los clientes sin afectar al modelo del ejercicio anterior. Es necesario desarrollar un algoritmo de transformación de datos que dificulte la recuperación de la información personal si los datos caen en manos equivocadas. Esto se denomina enmascaramiento u ofuscación de datos. Pero los datos deben protegerse de tal manera que no se vea afectada la calidad de los modelos de machine learning. No es necesario elegir el mejor modelo, basta con demostrar que el algoritmo funciona correctamente.\n"
   ]
  },
  {
   "cell_type": "markdown",
   "metadata": {},
   "source": [
    "# Preprocesamiento y exploración de datos\n",
    "\n",
    "## Inicialización"
   ]
  },
  {
   "cell_type": "code",
   "execution_count": 1,
   "metadata": {},
   "outputs": [
    {
     "name": "stdout",
     "output_type": "stream",
     "text": [
      "\u001b[33mWARNING: Ignoring invalid distribution - (/opt/conda/envs/python3/lib/python3.9/site-packages)\u001b[0m\u001b[33m\n",
      "\u001b[0m\u001b[33mWARNING: Ignoring invalid distribution -cikit-learn (/opt/conda/envs/python3/lib/python3.9/site-packages)\u001b[0m\u001b[33m\n",
      "\u001b[0mRequirement already satisfied: scikit-learn in /opt/conda/envs/python3/lib/python3.9/site-packages (0.24.1)\n",
      "Collecting scikit-learn\n",
      "  Using cached scikit_learn-1.6.1-cp39-cp39-manylinux_2_17_x86_64.manylinux2014_x86_64.whl.metadata (18 kB)\n",
      "Requirement already satisfied: numpy>=1.19.5 in /opt/conda/envs/python3/lib/python3.9/site-packages (from scikit-learn) (1.21.2)\n",
      "Requirement already satisfied: scipy>=1.6.0 in /opt/conda/envs/python3/lib/python3.9/site-packages (from scikit-learn) (1.10.1)\n",
      "Requirement already satisfied: joblib>=1.2.0 in /opt/conda/envs/python3/lib/python3.9/site-packages (from scikit-learn) (1.4.2)\n",
      "Requirement already satisfied: threadpoolctl>=3.1.0 in /opt/conda/envs/python3/lib/python3.9/site-packages (from scikit-learn) (3.5.0)\n",
      "Using cached scikit_learn-1.6.1-cp39-cp39-manylinux_2_17_x86_64.manylinux2014_x86_64.whl (13.5 MB)\n",
      "\u001b[33mWARNING: Ignoring invalid distribution - (/opt/conda/envs/python3/lib/python3.9/site-packages)\u001b[0m\u001b[33m\n",
      "\u001b[0m\u001b[33mWARNING: Ignoring invalid distribution -cikit-learn (/opt/conda/envs/python3/lib/python3.9/site-packages)\u001b[0m\u001b[33m\n",
      "\u001b[0mInstalling collected packages: scikit-learn\n",
      "  Attempting uninstall: scikit-learn\n",
      "    Found existing installation: scikit-learn 0.24.1\n",
      "    Uninstalling scikit-learn-0.24.1:\n",
      "\u001b[31mERROR: Could not install packages due to an OSError: [Errno 13] Permission denied: 'COPYING'\n",
      "Consider using the `--user` option or check the permissions.\n",
      "\u001b[0m\u001b[31m\n",
      "\u001b[0mNote: you may need to restart the kernel to use updated packages.\n"
     ]
    }
   ],
   "source": [
    "pip install scikit-learn --upgrade"
   ]
  },
  {
   "cell_type": "code",
   "execution_count": 2,
   "metadata": {},
   "outputs": [],
   "source": [
    "import numpy as np\n",
    "import pandas as pd\n",
    "import math\n",
    "import seaborn as sns\n",
    "\n",
    "import sklearn.linear_model\n",
    "import sklearn.metrics\n",
    "import sklearn.neighbors \n",
    "import sklearn.preprocessing\n",
    "from sklearn.neighbors import KNeighborsClassifier\n",
    "from sklearn.preprocessing import MaxAbsScaler\n",
    "from sklearn.metrics import f1_score, confusion_matrix\n",
    "from sklearn.neighbors import NearestNeighbors\n",
    "from sklearn.model_selection import train_test_split\n",
    "from IPython.display import display"
   ]
  },
  {
   "cell_type": "markdown",
   "metadata": {},
   "source": [
    "## Carga de datos"
   ]
  },
  {
   "cell_type": "markdown",
   "metadata": {},
   "source": [
    "Carga los datos y haz una revisión básica para comprobar que no hay problemas obvios."
   ]
  },
  {
   "cell_type": "code",
   "execution_count": 3,
   "metadata": {},
   "outputs": [],
   "source": [
    "df = pd.read_csv('/datasets/insurance_us.csv')"
   ]
  },
  {
   "cell_type": "markdown",
   "metadata": {},
   "source": [
    "Renombramos las columnas para que el código se vea más coherente con su estilo."
   ]
  },
  {
   "cell_type": "code",
   "execution_count": 4,
   "metadata": {},
   "outputs": [],
   "source": [
    "df = df.rename(columns={'Gender': 'gender', 'Age': 'age', 'Salary': 'income', 'Family members': 'family_members', 'Insurance benefits': 'insurance_benefits'})"
   ]
  },
  {
   "cell_type": "code",
   "execution_count": 5,
   "metadata": {},
   "outputs": [
    {
     "data": {
      "text/html": [
       "<div>\n",
       "<style scoped>\n",
       "    .dataframe tbody tr th:only-of-type {\n",
       "        vertical-align: middle;\n",
       "    }\n",
       "\n",
       "    .dataframe tbody tr th {\n",
       "        vertical-align: top;\n",
       "    }\n",
       "\n",
       "    .dataframe thead th {\n",
       "        text-align: right;\n",
       "    }\n",
       "</style>\n",
       "<table border=\"1\" class=\"dataframe\">\n",
       "  <thead>\n",
       "    <tr style=\"text-align: right;\">\n",
       "      <th></th>\n",
       "      <th>gender</th>\n",
       "      <th>age</th>\n",
       "      <th>income</th>\n",
       "      <th>family_members</th>\n",
       "      <th>insurance_benefits</th>\n",
       "    </tr>\n",
       "  </thead>\n",
       "  <tbody>\n",
       "    <tr>\n",
       "      <th>618</th>\n",
       "      <td>0</td>\n",
       "      <td>33.0</td>\n",
       "      <td>47100.0</td>\n",
       "      <td>0</td>\n",
       "      <td>0</td>\n",
       "    </tr>\n",
       "    <tr>\n",
       "      <th>2667</th>\n",
       "      <td>0</td>\n",
       "      <td>22.0</td>\n",
       "      <td>37000.0</td>\n",
       "      <td>1</td>\n",
       "      <td>0</td>\n",
       "    </tr>\n",
       "    <tr>\n",
       "      <th>3618</th>\n",
       "      <td>1</td>\n",
       "      <td>31.0</td>\n",
       "      <td>42600.0</td>\n",
       "      <td>2</td>\n",
       "      <td>0</td>\n",
       "    </tr>\n",
       "    <tr>\n",
       "      <th>2087</th>\n",
       "      <td>1</td>\n",
       "      <td>21.0</td>\n",
       "      <td>68000.0</td>\n",
       "      <td>2</td>\n",
       "      <td>0</td>\n",
       "    </tr>\n",
       "    <tr>\n",
       "      <th>4967</th>\n",
       "      <td>1</td>\n",
       "      <td>23.0</td>\n",
       "      <td>29000.0</td>\n",
       "      <td>2</td>\n",
       "      <td>0</td>\n",
       "    </tr>\n",
       "    <tr>\n",
       "      <th>2549</th>\n",
       "      <td>0</td>\n",
       "      <td>18.0</td>\n",
       "      <td>35300.0</td>\n",
       "      <td>2</td>\n",
       "      <td>0</td>\n",
       "    </tr>\n",
       "    <tr>\n",
       "      <th>1644</th>\n",
       "      <td>1</td>\n",
       "      <td>29.0</td>\n",
       "      <td>45300.0</td>\n",
       "      <td>1</td>\n",
       "      <td>0</td>\n",
       "    </tr>\n",
       "    <tr>\n",
       "      <th>2734</th>\n",
       "      <td>0</td>\n",
       "      <td>32.0</td>\n",
       "      <td>34300.0</td>\n",
       "      <td>1</td>\n",
       "      <td>0</td>\n",
       "    </tr>\n",
       "    <tr>\n",
       "      <th>2644</th>\n",
       "      <td>1</td>\n",
       "      <td>33.0</td>\n",
       "      <td>40000.0</td>\n",
       "      <td>1</td>\n",
       "      <td>0</td>\n",
       "    </tr>\n",
       "    <tr>\n",
       "      <th>545</th>\n",
       "      <td>0</td>\n",
       "      <td>32.0</td>\n",
       "      <td>50700.0</td>\n",
       "      <td>1</td>\n",
       "      <td>0</td>\n",
       "    </tr>\n",
       "  </tbody>\n",
       "</table>\n",
       "</div>"
      ],
      "text/plain": [
       "      gender   age   income  family_members  insurance_benefits\n",
       "618        0  33.0  47100.0               0                   0\n",
       "2667       0  22.0  37000.0               1                   0\n",
       "3618       1  31.0  42600.0               2                   0\n",
       "2087       1  21.0  68000.0               2                   0\n",
       "4967       1  23.0  29000.0               2                   0\n",
       "2549       0  18.0  35300.0               2                   0\n",
       "1644       1  29.0  45300.0               1                   0\n",
       "2734       0  32.0  34300.0               1                   0\n",
       "2644       1  33.0  40000.0               1                   0\n",
       "545        0  32.0  50700.0               1                   0"
      ]
     },
     "execution_count": 5,
     "metadata": {},
     "output_type": "execute_result"
    }
   ],
   "source": [
    "df.sample(10)"
   ]
  },
  {
   "cell_type": "code",
   "execution_count": 6,
   "metadata": {},
   "outputs": [
    {
     "name": "stdout",
     "output_type": "stream",
     "text": [
      "<class 'pandas.core.frame.DataFrame'>\n",
      "RangeIndex: 5000 entries, 0 to 4999\n",
      "Data columns (total 5 columns):\n",
      " #   Column              Non-Null Count  Dtype  \n",
      "---  ------              --------------  -----  \n",
      " 0   gender              5000 non-null   int64  \n",
      " 1   age                 5000 non-null   float64\n",
      " 2   income              5000 non-null   float64\n",
      " 3   family_members      5000 non-null   int64  \n",
      " 4   insurance_benefits  5000 non-null   int64  \n",
      "dtypes: float64(2), int64(3)\n",
      "memory usage: 195.4 KB\n"
     ]
    }
   ],
   "source": [
    "df.info()"
   ]
  },
  {
   "cell_type": "code",
   "execution_count": 7,
   "metadata": {},
   "outputs": [],
   "source": [
    "# puede que queramos cambiar el tipo de edad (de float a int) aunque esto no es crucial\n",
    "\n",
    "# se cambia el tipo de dato a entero\n",
    "df['age'] = df['age'].astype(int)"
   ]
  },
  {
   "cell_type": "code",
   "execution_count": 8,
   "metadata": {},
   "outputs": [
    {
     "name": "stdout",
     "output_type": "stream",
     "text": [
      "<class 'pandas.core.frame.DataFrame'>\n",
      "RangeIndex: 5000 entries, 0 to 4999\n",
      "Data columns (total 5 columns):\n",
      " #   Column              Non-Null Count  Dtype  \n",
      "---  ------              --------------  -----  \n",
      " 0   gender              5000 non-null   int64  \n",
      " 1   age                 5000 non-null   int64  \n",
      " 2   income              5000 non-null   float64\n",
      " 3   family_members      5000 non-null   int64  \n",
      " 4   insurance_benefits  5000 non-null   int64  \n",
      "dtypes: float64(1), int64(4)\n",
      "memory usage: 195.4 KB\n"
     ]
    }
   ],
   "source": [
    "# comprueba que la conversión se haya realizado con éxito\n",
    "df.info()"
   ]
  },
  {
   "cell_type": "code",
   "execution_count": 56,
   "metadata": {},
   "outputs": [],
   "source": [
    "# ahora echa un vistazo a las estadísticas descriptivas de los datos.# ¿Se ve todo bien?"
   ]
  },
  {
   "cell_type": "code",
   "execution_count": 9,
   "metadata": {},
   "outputs": [
    {
     "data": {
      "text/html": [
       "<div>\n",
       "<style scoped>\n",
       "    .dataframe tbody tr th:only-of-type {\n",
       "        vertical-align: middle;\n",
       "    }\n",
       "\n",
       "    .dataframe tbody tr th {\n",
       "        vertical-align: top;\n",
       "    }\n",
       "\n",
       "    .dataframe thead th {\n",
       "        text-align: right;\n",
       "    }\n",
       "</style>\n",
       "<table border=\"1\" class=\"dataframe\">\n",
       "  <thead>\n",
       "    <tr style=\"text-align: right;\">\n",
       "      <th></th>\n",
       "      <th>gender</th>\n",
       "      <th>age</th>\n",
       "      <th>income</th>\n",
       "      <th>family_members</th>\n",
       "      <th>insurance_benefits</th>\n",
       "    </tr>\n",
       "  </thead>\n",
       "  <tbody>\n",
       "    <tr>\n",
       "      <th>count</th>\n",
       "      <td>5000.000000</td>\n",
       "      <td>5000.000000</td>\n",
       "      <td>5000.000000</td>\n",
       "      <td>5000.000000</td>\n",
       "      <td>5000.000000</td>\n",
       "    </tr>\n",
       "    <tr>\n",
       "      <th>mean</th>\n",
       "      <td>0.499000</td>\n",
       "      <td>30.952800</td>\n",
       "      <td>39916.360000</td>\n",
       "      <td>1.194200</td>\n",
       "      <td>0.148000</td>\n",
       "    </tr>\n",
       "    <tr>\n",
       "      <th>std</th>\n",
       "      <td>0.500049</td>\n",
       "      <td>8.440807</td>\n",
       "      <td>9900.083569</td>\n",
       "      <td>1.091387</td>\n",
       "      <td>0.463183</td>\n",
       "    </tr>\n",
       "    <tr>\n",
       "      <th>min</th>\n",
       "      <td>0.000000</td>\n",
       "      <td>18.000000</td>\n",
       "      <td>5300.000000</td>\n",
       "      <td>0.000000</td>\n",
       "      <td>0.000000</td>\n",
       "    </tr>\n",
       "    <tr>\n",
       "      <th>25%</th>\n",
       "      <td>0.000000</td>\n",
       "      <td>24.000000</td>\n",
       "      <td>33300.000000</td>\n",
       "      <td>0.000000</td>\n",
       "      <td>0.000000</td>\n",
       "    </tr>\n",
       "    <tr>\n",
       "      <th>50%</th>\n",
       "      <td>0.000000</td>\n",
       "      <td>30.000000</td>\n",
       "      <td>40200.000000</td>\n",
       "      <td>1.000000</td>\n",
       "      <td>0.000000</td>\n",
       "    </tr>\n",
       "    <tr>\n",
       "      <th>75%</th>\n",
       "      <td>1.000000</td>\n",
       "      <td>37.000000</td>\n",
       "      <td>46600.000000</td>\n",
       "      <td>2.000000</td>\n",
       "      <td>0.000000</td>\n",
       "    </tr>\n",
       "    <tr>\n",
       "      <th>max</th>\n",
       "      <td>1.000000</td>\n",
       "      <td>65.000000</td>\n",
       "      <td>79000.000000</td>\n",
       "      <td>6.000000</td>\n",
       "      <td>5.000000</td>\n",
       "    </tr>\n",
       "  </tbody>\n",
       "</table>\n",
       "</div>"
      ],
      "text/plain": [
       "            gender          age        income  family_members  \\\n",
       "count  5000.000000  5000.000000   5000.000000     5000.000000   \n",
       "mean      0.499000    30.952800  39916.360000        1.194200   \n",
       "std       0.500049     8.440807   9900.083569        1.091387   \n",
       "min       0.000000    18.000000   5300.000000        0.000000   \n",
       "25%       0.000000    24.000000  33300.000000        0.000000   \n",
       "50%       0.000000    30.000000  40200.000000        1.000000   \n",
       "75%       1.000000    37.000000  46600.000000        2.000000   \n",
       "max       1.000000    65.000000  79000.000000        6.000000   \n",
       "\n",
       "       insurance_benefits  \n",
       "count         5000.000000  \n",
       "mean             0.148000  \n",
       "std              0.463183  \n",
       "min              0.000000  \n",
       "25%              0.000000  \n",
       "50%              0.000000  \n",
       "75%              0.000000  \n",
       "max              5.000000  "
      ]
     },
     "execution_count": 9,
     "metadata": {},
     "output_type": "execute_result"
    }
   ],
   "source": [
    "# estadísticas descriptivas\n",
    "df.describe()"
   ]
  },
  {
   "cell_type": "code",
   "execution_count": 10,
   "metadata": {},
   "outputs": [
    {
     "data": {
      "image/png": "[encoded data removed]",
      "text/plain": [
       "<Figure size 1000x800 with 6 Axes>"
      ]
     },
     "metadata": {},
     "output_type": "display_data"
    }
   ],
   "source": [
    "import matplotlib.pyplot as plt\n",
    "\n",
    "# Histograma para cada variable numérica\n",
    "df.hist(bins=20, figsize=(10,8))\n",
    "plt.tight_layout()\n",
    "plt.show()\n"
   ]
  },
  {
   "cell_type": "markdown",
   "metadata": {},
   "source": [
    "**Las estadísticas descriptivas muestran que todas las variables tienen el mismo número de filas, lo que indica que no hay valores nulos en el DataFrame. Además, al observar los histogramas de las variables numéricas, no se identifican valores atípicos o comportamientos inusuales de manera significativa.**"
   ]
  },
  {
   "cell_type": "markdown",
   "metadata": {},
   "source": [
    "## Análisis exploratorio de datos"
   ]
  },
  {
   "cell_type": "markdown",
   "metadata": {},
   "source": [
    "Vamos a comprobar rápidamente si existen determinados grupos de clientes observando el gráfico de pares."
   ]
  },
  {
   "cell_type": "code",
   "execution_count": 11,
   "metadata": {},
   "outputs": [
    {
     "data": {
      "image/png": "[encoded data removed]",
      "text/plain": [
       "<Figure size 1200x1200 with 30 Axes>"
      ]
     },
     "metadata": {},
     "output_type": "display_data"
    }
   ],
   "source": [
    "g = sns.pairplot(df, kind='hist')\n",
    "g.fig.set_size_inches(12, 12)"
   ]
  },
  {
   "cell_type": "markdown",
   "metadata": {},
   "source": [
    "De acuerdo, es un poco complicado detectar grupos obvios (clústeres) ya que es difícil combinar diversas variables simultáneamente (para analizar distribuciones multivariadas). Ahí es donde LA y ML pueden ser bastante útiles."
   ]
  },
  {
   "cell_type": "markdown",
   "metadata": {},
   "source": [
    "# Tarea 1. Clientes similares"
   ]
  },
  {
   "cell_type": "markdown",
   "metadata": {},
   "source": [
    "En el lenguaje de ML, es necesario desarrollar un procedimiento que devuelva los k vecinos más cercanos (objetos) para un objeto dado basándose en la distancia entre los objetos.\n",
    "Es posible que quieras revisar las siguientes lecciones (capítulo -> lección)- Distancia entre vectores -> Distancia euclidiana\n",
    "- Distancia entre vectores -> Distancia Manhattan\n",
    "\n",
    "Para resolver la tarea, podemos probar diferentes métricas de distancia."
   ]
  },
  {
   "cell_type": "markdown",
   "metadata": {},
   "source": [
    "Escribe una función que devuelva los k vecinos más cercanos para un $n^{th}$ objeto basándose en una métrica de distancia especificada. A la hora de realizar esta tarea no debe tenerse en cuenta el número de prestaciones de seguro recibidas.\n",
    "Puedes utilizar una implementación ya existente del algoritmo kNN de scikit-learn (consulta [el enlace](https://scikit-learn.org/stable/modules/generated/sklearn.neighbors.NearestNeighbors.html#sklearn.neighbors.NearestNeighbors)) o tu propia implementación.\n",
    "Pruébalo para cuatro combinaciones de dos casos- Escalado\n",
    "  - los datos no están escalados\n",
    "  - los datos se escalan con el escalador [MaxAbsScaler](https://scikit-learn.org/stable/modules/generated/sklearn.preprocessing.MaxAbsScaler.html)\n",
    "- Métricas de distancia\n",
    "  - Euclidiana\n",
    "  - Manhattan\n",
    "\n",
    "Responde a estas preguntas:- ¿El hecho de que los datos no estén escalados afecta al algoritmo kNN? Si es así, ¿cómo se manifiesta?- ¿Qué tan similares son los resultados al utilizar la métrica de distancia Manhattan (independientemente del escalado)?"
   ]
  },
  {
   "cell_type": "code",
   "execution_count": 12,
   "metadata": {},
   "outputs": [],
   "source": [
    "feature_names = ['gender', 'age', 'income', 'family_members']"
   ]
  },
  {
   "cell_type": "code",
   "execution_count": 15,
   "metadata": {},
   "outputs": [],
   "source": [
    "def get_knn(df, n, k, metric):\n",
    "    \n",
    "    \"\"\"\n",
    "    Devuelve los k vecinos más cercanos\n",
    "\n",
    "    :param df: DataFrame de pandas utilizado para encontrar objetos similares dentro del mismo lugar  \n",
    "    :param n: número de objetos para los que se buscan los vecinos más cercanos  \n",
    "    :param k: número de vecinos más cercanos a devolver\n",
    "    :param métrica: nombre de la métrica de distancia    \"\"\"\n",
    "    \n",
    "    nbrs = NearestNeighbors(n_neighbors=k, metric=metric)\n",
    "    nbrs.fit(df[feature_names])\n",
    "    nbrs_distances, nbrs_indices = nbrs.kneighbors([df.iloc[n][feature_names]], k, return_distance=True)\n",
    "    \n",
    "    df_res = pd.concat([\n",
    "        df.iloc[nbrs_indices[0]], \n",
    "        pd.DataFrame(nbrs_distances.T, index=nbrs_indices[0], columns=['distance'])\n",
    "        ], axis=1)\n",
    "    \n",
    "    return df_res"
   ]
  },
  {
   "cell_type": "markdown",
   "metadata": {},
   "source": [
    "**Esta función devuelve los k vecinos más cercanos de un objeto específico utilizando una métrica de distancia (como la euclidiana o la manhattan). Usamos el modelo NearestNeighbors de scikit-learn para encontrar los vecinos más cercanos.**"
   ]
  },
  {
   "cell_type": "markdown",
   "metadata": {},
   "source": [
    "Escalar datos."
   ]
  },
  {
   "cell_type": "code",
   "execution_count": 16,
   "metadata": {},
   "outputs": [],
   "source": [
    "feature_names = ['gender', 'age', 'income', 'family_members']\n",
    "\n",
    "transformer_mas = sklearn.preprocessing.MaxAbsScaler().fit(df[feature_names].to_numpy())\n",
    "\n",
    "df_scaled = df.copy()\n",
    "df_scaled.loc[:, feature_names] = transformer_mas.transform(df[feature_names].to_numpy())"
   ]
  },
  {
   "cell_type": "code",
   "execution_count": 17,
   "metadata": {},
   "outputs": [
    {
     "data": {
      "text/html": [
       "<div>\n",
       "<style scoped>\n",
       "    .dataframe tbody tr th:only-of-type {\n",
       "        vertical-align: middle;\n",
       "    }\n",
       "\n",
       "    .dataframe tbody tr th {\n",
       "        vertical-align: top;\n",
       "    }\n",
       "\n",
       "    .dataframe thead th {\n",
       "        text-align: right;\n",
       "    }\n",
       "</style>\n",
       "<table border=\"1\" class=\"dataframe\">\n",
       "  <thead>\n",
       "    <tr style=\"text-align: right;\">\n",
       "      <th></th>\n",
       "      <th>gender</th>\n",
       "      <th>age</th>\n",
       "      <th>income</th>\n",
       "      <th>family_members</th>\n",
       "      <th>insurance_benefits</th>\n",
       "    </tr>\n",
       "  </thead>\n",
       "  <tbody>\n",
       "    <tr>\n",
       "      <th>3844</th>\n",
       "      <td>0.0</td>\n",
       "      <td>0.446154</td>\n",
       "      <td>0.377215</td>\n",
       "      <td>0.166667</td>\n",
       "      <td>0</td>\n",
       "    </tr>\n",
       "    <tr>\n",
       "      <th>3172</th>\n",
       "      <td>0.0</td>\n",
       "      <td>0.538462</td>\n",
       "      <td>0.624051</td>\n",
       "      <td>0.166667</td>\n",
       "      <td>0</td>\n",
       "    </tr>\n",
       "    <tr>\n",
       "      <th>338</th>\n",
       "      <td>0.0</td>\n",
       "      <td>0.461538</td>\n",
       "      <td>0.555696</td>\n",
       "      <td>0.000000</td>\n",
       "      <td>0</td>\n",
       "    </tr>\n",
       "    <tr>\n",
       "      <th>4221</th>\n",
       "      <td>1.0</td>\n",
       "      <td>0.600000</td>\n",
       "      <td>0.663291</td>\n",
       "      <td>0.000000</td>\n",
       "      <td>0</td>\n",
       "    </tr>\n",
       "    <tr>\n",
       "      <th>1419</th>\n",
       "      <td>0.0</td>\n",
       "      <td>0.307692</td>\n",
       "      <td>0.382278</td>\n",
       "      <td>0.666667</td>\n",
       "      <td>0</td>\n",
       "    </tr>\n",
       "  </tbody>\n",
       "</table>\n",
       "</div>"
      ],
      "text/plain": [
       "      gender       age    income  family_members  insurance_benefits\n",
       "3844     0.0  0.446154  0.377215        0.166667                   0\n",
       "3172     0.0  0.538462  0.624051        0.166667                   0\n",
       "338      0.0  0.461538  0.555696        0.000000                   0\n",
       "4221     1.0  0.600000  0.663291        0.000000                   0\n",
       "1419     0.0  0.307692  0.382278        0.666667                   0"
      ]
     },
     "execution_count": 17,
     "metadata": {},
     "output_type": "execute_result"
    }
   ],
   "source": [
    "df_scaled.sample(5)"
   ]
  },
  {
   "cell_type": "markdown",
   "metadata": {},
   "source": [
    "Ahora, vamos a obtener registros similares para uno determinado, para cada combinación"
   ]
  },
  {
   "cell_type": "code",
   "execution_count": 18,
   "metadata": {},
   "outputs": [
    {
     "name": "stdout",
     "output_type": "stream",
     "text": [
      "Vecinos con distancia Euclidiana (sin escalado):\n",
      "      gender  age   income  family_members  insurance_benefits  distance\n",
      "10         1   25  36600.0               1                   0  0.000000\n",
      "4039       1   25  36600.0               2                   0  1.000000\n",
      "2037       1   26  36600.0               0                   0  1.414214\n",
      "3247       1   26  36600.0               2                   0  1.414214\n",
      "1508       0   26  36600.0               0                   0  1.732051\n",
      "\n",
      "Vecinos con distancia Euclidiana (escalados):\n",
      "      gender       age    income  family_members  insurance_benefits  distance\n",
      "10       1.0  0.384615  0.463291        0.166667                   0  0.000000\n",
      "4377     1.0  0.384615  0.473418        0.166667                   0  0.010127\n",
      "1389     1.0  0.369231  0.464557        0.166667                   0  0.015437\n",
      "760      1.0  0.369231  0.462025        0.166667                   0  0.015437\n",
      "2254     1.0  0.400000  0.455696        0.166667                   0  0.017157\n"
     ]
    }
   ],
   "source": [
    "n = 10  # Cliente a analizar\n",
    "k = 5   # Nro de vecinos más cercanos\n",
    "\n",
    "# Combinación 1: Datos no escalados, distancia Euclidiana\n",
    "result_euclidean = get_knn(df, n, k, 'euclidean')\n",
    "print(\"Vecinos con distancia Euclidiana (sin escalado):\")\n",
    "print(result_euclidean)\n",
    "\n",
    "# Combinación 2: Datos escalados, distancia Euclidiana\n",
    "result_scaled_euclidean = get_knn(df_scaled, n, k, 'euclidean')\n",
    "print(\"\\nVecinos con distancia Euclidiana (escalados):\")\n",
    "print(result_scaled_euclidean)\n"
   ]
  },
  {
   "cell_type": "code",
   "execution_count": 19,
   "metadata": {},
   "outputs": [
    {
     "name": "stdout",
     "output_type": "stream",
     "text": [
      "Vecinos con distancia Manhattan (sin escalado):\n",
      "      gender  age   income  family_members  insurance_benefits  distance\n",
      "10         1   25  36600.0               1                   0       0.0\n",
      "4039       1   25  36600.0               2                   0       1.0\n",
      "2037       1   26  36600.0               0                   0       2.0\n",
      "3247       1   26  36600.0               2                   0       2.0\n",
      "1508       0   26  36600.0               0                   0       3.0\n",
      "\n",
      "Vecinos con distancia Manhattan (escalados):\n",
      "      gender       age    income  family_members  insurance_benefits  distance\n",
      "10       1.0  0.384615  0.463291        0.166667                   0  0.000000\n",
      "4377     1.0  0.384615  0.473418        0.166667                   0  0.010127\n",
      "1389     1.0  0.369231  0.464557        0.166667                   0  0.016650\n",
      "760      1.0  0.369231  0.462025        0.166667                   0  0.016650\n",
      "2254     1.0  0.400000  0.455696        0.166667                   0  0.022980\n"
     ]
    }
   ],
   "source": [
    "# Combinación 3: Datos no escalados, distancia Manhattan\n",
    "result_manhattan = get_knn(df, n, k, 'manhattan')\n",
    "print(\"Vecinos con distancia Manhattan (sin escalado):\")\n",
    "print(result_manhattan)\n",
    "\n",
    "# Combinación 4: Datos escalados, distancia Manhattan\n",
    "result_scaled_manhattan = get_knn(df_scaled, n, k, 'manhattan')\n",
    "print(\"\\nVecinos con distancia Manhattan (escalados):\")\n",
    "print(result_scaled_manhattan)"
   ]
  },
  {
   "cell_type": "markdown",
   "metadata": {},
   "source": [
    "Respuestas a las preguntas"
   ]
  },
  {
   "cell_type": "markdown",
   "metadata": {},
   "source": [
    "**¿El hecho de que los datos no estén escalados afecta al algoritmo kNN? Si es así, ¿cómo se manifiesta?** \n",
    "\n",
    "Sí, no escalar los datos afecta el algoritmo kNN, ya que las características con valores más grandes, como _income_, dominan la métrica de distancia. Esto puede sesgar la elección de los vecinos más cercanos, ya que la distancia entre los objetos se verá influenciada principalmente por las características con mayor rango de valores."
   ]
  },
  {
   "cell_type": "markdown",
   "metadata": {},
   "source": [
    "**¿Qué tan similares son los resultados al utilizar la métrica de distancia Manhattan (independientemente del escalado)?** \n",
    "\n",
    "Los resultados utilizando la métrica Manhattan pueden ser similares a los de la distancia Euclidiana, especialmente cuando los datos están escalados, ya que ambas métricas dependen de las diferencias entre las características."
   ]
  },
  {
   "cell_type": "markdown",
   "metadata": {},
   "source": [
    "# Tarea 2. ¿Es probable que el cliente reciba una prestación del seguro?"
   ]
  },
  {
   "cell_type": "markdown",
   "metadata": {},
   "source": [
    "En términos de machine learning podemos considerarlo como una tarea de clasificación binaria."
   ]
  },
  {
   "cell_type": "markdown",
   "metadata": {},
   "source": [
    "Con el valor de `insurance_benefits` superior a cero como objetivo, evalúa si el enfoque de clasificación kNN puede funcionar mejor que el modelo dummy.\n",
    "Instrucciones:\n",
    "- Construye un clasificador basado en KNN y mide su calidad con la métrica F1 para k=1...10 tanto para los datos originales como para los escalados. Sería interesante observar cómo k puede influir en la métrica de evaluación y si el escalado de los datos provoca alguna diferencia. Puedes utilizar una implementación ya existente del algoritmo de clasificación kNN de scikit-learn (consulta [el enlace](https://scikit-learn.org/stable/modules/generated/sklearn.neighbors.KNeighborsClassifier.html)) o tu propia implementación.- Construye un modelo dummy que, en este caso, es simplemente un modelo aleatorio. Debería devolver \"1\" con cierta probabilidad. Probemos el modelo con cuatro valores de probabilidad: 0, la probabilidad de pagar cualquier prestación del seguro, 0.5, 1.\n",
    "La probabilidad de pagar cualquier prestación del seguro puede definirse como\n",
    "$$\n",
    "P\\{\\text{prestación de seguro recibida}\\}=\\frac{\\text{número de clientes que han recibido alguna prestación de seguro}}{\\text{número total de clientes}}.\n",
    "$$\n",
    "\n",
    "Divide todos los datos correspondientes a las etapas de entrenamiento/prueba respetando la proporción 70:30."
   ]
  },
  {
   "cell_type": "code",
   "execution_count": 20,
   "metadata": {},
   "outputs": [],
   "source": [
    "# сalcula el objetivo\n",
    "df['insurance_benefits_received'] = np.where(df['insurance_benefits']>0,1,0)"
   ]
  },
  {
   "cell_type": "code",
   "execution_count": 21,
   "metadata": {},
   "outputs": [
    {
     "name": "stdout",
     "output_type": "stream",
     "text": [
      "0    4436\n",
      "1     564\n",
      "Name: insurance_benefits_received, dtype: int64\n"
     ]
    }
   ],
   "source": [
    "# comprueba el desequilibrio de clases con value_counts()\n",
    "\n",
    "print(df['insurance_benefits_received'].value_counts())"
   ]
  },
  {
   "cell_type": "code",
   "execution_count": 22,
   "metadata": {},
   "outputs": [],
   "source": [
    "# división de los datos en entrenamiento y prueba (70%-30%)\n",
    "X = df[['gender', 'age', 'income', 'family_members']]\n",
    "y = df['insurance_benefits_received']\n",
    "X_train, X_test, y_train, y_test = train_test_split(X, y, test_size=0.3, random_state=12345)"
   ]
  },
  {
   "cell_type": "code",
   "execution_count": 23,
   "metadata": {},
   "outputs": [],
   "source": [
    "# datos escalados\n",
    "scaler = MaxAbsScaler()\n",
    "X_train_scaled = scaler.fit_transform(X_train)\n",
    "X_test_scaled = scaler.transform(X_test)"
   ]
  },
  {
   "cell_type": "code",
   "execution_count": 24,
   "metadata": {},
   "outputs": [],
   "source": [
    "def eval_classifier(y_true, y_pred):\n",
    "    \n",
    "    f1_score = sklearn.metrics.f1_score(y_true, y_pred)\n",
    "    print(f'F1: {f1_score:.2f}')\n",
    "    \n",
    "# si tienes algún problema con la siguiente línea, reinicia el kernel y ejecuta el cuaderno de nuevo \n",
    "    cm = sklearn.metrics.confusion_matrix(y_true, y_pred, normalize='all')\n",
    "    print('Matriz de confusión')\n",
    "    print(cm)"
   ]
  },
  {
   "cell_type": "code",
   "execution_count": 25,
   "metadata": {},
   "outputs": [
    {
     "name": "stdout",
     "output_type": "stream",
     "text": [
      "Evaluación para k=1\n",
      "F1 sin escalar (k=1): F1: 0.61\n",
      "Matriz de confusión\n",
      "[[0.87       0.02133333]\n",
      " [0.052      0.05666667]]\n",
      "F1 con escalado (k=1): F1: 0.97\n",
      "Matriz de confusión\n",
      "[[0.88866667 0.00266667]\n",
      " [0.00466667 0.104     ]]\n",
      "\n",
      "Evaluación para k=2\n",
      "F1 sin escalar (k=2): F1: 0.41\n",
      "Matriz de confusión\n",
      "[[0.88733333 0.004     ]\n",
      " [0.08       0.02866667]]\n",
      "F1 con escalado (k=2): F1: 0.93\n",
      "Matriz de confusión\n",
      "[[8.90666667e-01 6.66666667e-04]\n",
      " [1.40000000e-02 9.46666667e-02]]\n",
      "\n",
      "Evaluación para k=3\n",
      "F1 sin escalar (k=3): F1: 0.41\n",
      "Matriz de confusión\n",
      "[[0.88       0.01133333]\n",
      " [0.078      0.03066667]]\n",
      "F1 con escalado (k=3): F1: 0.95\n",
      "Matriz de confusión\n",
      "[[0.88933333 0.002     ]\n",
      " [0.00866667 0.1       ]]\n",
      "\n",
      "Evaluación para k=4\n",
      "F1 sin escalar (k=4): F1: 0.28\n",
      "Matriz de confusión\n",
      "[[0.88866667 0.00266667]\n",
      " [0.09066667 0.018     ]]\n",
      "F1 con escalado (k=4): F1: 0.91\n",
      "Matriz de confusión\n",
      "[[0.88933333 0.002     ]\n",
      " [0.01666667 0.092     ]]\n",
      "\n",
      "Evaluación para k=5\n",
      "F1 sin escalar (k=5): F1: 0.27\n",
      "Matriz de confusión\n",
      "[[0.88533333 0.006     ]\n",
      " [0.09066667 0.018     ]]\n",
      "F1 con escalado (k=5): F1: 0.92\n",
      "Matriz de confusión\n",
      "[[0.88666667 0.00466667]\n",
      " [0.01133333 0.09733333]]\n",
      "\n",
      "Evaluación para k=6\n",
      "F1 sin escalar (k=6): F1: 0.11\n",
      "Matriz de confusión\n",
      "[[0.89       0.00133333]\n",
      " [0.102      0.00666667]]\n",
      "F1 con escalado (k=6): F1: 0.90\n",
      "Matriz de confusión\n",
      "[[0.89       0.00133333]\n",
      " [0.018      0.09066667]]\n",
      "\n",
      "Evaluación para k=7\n",
      "F1 sin escalar (k=7): F1: 0.11\n",
      "Matriz de confusión\n",
      "[[0.88866667 0.00266667]\n",
      " [0.102      0.00666667]]\n",
      "F1 con escalado (k=7): F1: 0.92\n",
      "Matriz de confusión\n",
      "[[0.88733333 0.004     ]\n",
      " [0.01266667 0.096     ]]\n",
      "\n",
      "Evaluación para k=8\n",
      "F1 sin escalar (k=8): F1: 0.07\n",
      "Matriz de confusión\n",
      "[[0.89133333 0.        ]\n",
      " [0.10466667 0.004     ]]\n",
      "F1 con escalado (k=8): F1: 0.90\n",
      "Matriz de confusión\n",
      "[[0.88866667 0.00266667]\n",
      " [0.01733333 0.09133333]]\n",
      "\n",
      "Evaluación para k=9\n",
      "F1 sin escalar (k=9): F1: 0.08\n",
      "Matriz de confusión\n",
      "[[0.89133333 0.        ]\n",
      " [0.104      0.00466667]]\n",
      "F1 con escalado (k=9): F1: 0.92\n",
      "Matriz de confusión\n",
      "[[0.88866667 0.00266667]\n",
      " [0.01466667 0.094     ]]\n",
      "\n",
      "Evaluación para k=10\n",
      "F1 sin escalar (k=10): F1: 0.00\n",
      "Matriz de confusión\n",
      "[[0.89133333 0.        ]\n",
      " [0.10866667 0.        ]]\n",
      "F1 con escalado (k=10): F1: 0.88\n",
      "Matriz de confusión\n",
      "[[0.88866667 0.00266667]\n",
      " [0.02133333 0.08733333]]\n",
      "\n"
     ]
    }
   ],
   "source": [
    "# Entrenamiento y evaluación del modelo kNN para diferentes valores de k\n",
    "for k in range(1, 11):\n",
    "    print(f'Evaluación para k={k}')\n",
    "    \n",
    "    # Modelo kNN sin escalar\n",
    "    knn = KNeighborsClassifier(n_neighbors=k)\n",
    "    knn.fit(X_train, y_train)\n",
    "    y_pred = knn.predict(X_test)\n",
    "    print(f\"F1 sin escalar (k={k}): \", end=\"\")\n",
    "    eval_classifier(y_test, y_pred)\n",
    "    \n",
    "    # Modelo kNN con datos escalados\n",
    "    knn.fit(X_train_scaled, y_train)\n",
    "    y_pred_scaled = knn.predict(X_test_scaled)\n",
    "    print(f\"F1 con escalado (k={k}): \", end=\"\")\n",
    "    eval_classifier(y_test, y_pred_scaled)\n",
    "    \n",
    "    print()"
   ]
  },
  {
   "cell_type": "code",
   "execution_count": 26,
   "metadata": {},
   "outputs": [],
   "source": [
    "# generar la salida de un modelo aleatorio\n",
    "\n",
    "def rnd_model_predict(P, size, seed=42):\n",
    "\n",
    "    rng = np.random.default_rng(seed=seed)\n",
    "    return rng.binomial(n=1, p=P, size=size)"
   ]
  },
  {
   "cell_type": "code",
   "execution_count": 27,
   "metadata": {},
   "outputs": [
    {
     "name": "stdout",
     "output_type": "stream",
     "text": [
      "La probabilidad: 0.00\n",
      "F1: 0.00\n",
      "Matriz de confusión\n",
      "[[0.8872 0.    ]\n",
      " [0.1128 0.    ]]\n",
      "\n",
      "La probabilidad: 0.11\n",
      "F1: 0.12\n",
      "Matriz de confusión\n",
      "[[0.7914 0.0958]\n",
      " [0.0994 0.0134]]\n",
      "\n",
      "La probabilidad: 0.50\n",
      "F1: 0.20\n",
      "Matriz de confusión\n",
      "[[0.456  0.4312]\n",
      " [0.053  0.0598]]\n",
      "\n",
      "La probabilidad: 1.00\n",
      "F1: 0.20\n",
      "Matriz de confusión\n",
      "[[0.     0.8872]\n",
      " [0.     0.1128]]\n",
      "\n"
     ]
    }
   ],
   "source": [
    "for P in [0, df['insurance_benefits_received'].sum() / len(df), 0.5, 1]:\n",
    "\n",
    "    print(f'La probabilidad: {P:.2f}')\n",
    "    y_pred_rnd = rnd_model_predict(P, df.shape[0], seed=42)\n",
    "        \n",
    "    eval_classifier(df['insurance_benefits_received'], y_pred_rnd)\n",
    "    \n",
    "    print()"
   ]
  },
  {
   "cell_type": "markdown",
   "metadata": {},
   "source": [
    "**El modelo KNN escalado supera al modelo dummy en rendimiento. El KNN, especialmente con k bajos, ofrece una buena precisión (F1 > 0.9 con escalado), mientras que el modelo dummy tiene un F1 muy bajo (entre 0 y 0.2). Por lo tanto, el KNN escalado es la opción recomendada, ya que brinda resultados mucho mejores que el modelo aleatorio.**"
   ]
  },
  {
   "cell_type": "markdown",
   "metadata": {},
   "source": [
    "# Tarea 3. Regresión (con regresión lineal)"
   ]
  },
  {
   "cell_type": "markdown",
   "metadata": {},
   "source": [
    "Con `insurance_benefits` como objetivo, evalúa cuál sería la RECM de un modelo de regresión lineal."
   ]
  },
  {
   "cell_type": "markdown",
   "metadata": {},
   "source": [
    "Construye tu propia implementación de regresión lineal. Para ello, recuerda cómo está formulada la solución de la tarea de regresión lineal en términos de LA. Comprueba la RECM tanto para los datos originales como para los escalados. ¿Puedes ver alguna diferencia en la RECM con respecto a estos dos casos?\n",
    "\n",
    "Denotemos- $X$: matriz de características; cada fila es un caso, cada columna es una característica, la primera columna está formada por unidades- $y$ — objetivo (un vector)- $\\hat{y}$ — objetivo estimado (un vector)- $w$ — vector de pesos\n",
    "La tarea de regresión lineal en el lenguaje de las matrices puede formularse así:\n",
    "$$\n",
    "y = Xw\n",
    "$$\n",
    "\n",
    "El objetivo de entrenamiento es entonces encontrar esa $w$ w que minimice la distancia L2 (ECM) entre $Xw$ y $y$:\n",
    "\n",
    "$$\n",
    "\\min_w d_2(Xw, y) \\quad \\text{or} \\quad \\min_w \\text{MSE}(Xw, y)\n",
    "$$\n",
    "\n",
    "Parece que hay una solución analítica para lo anteriormente expuesto:\n",
    "$$\n",
    "w = (X^T X)^{-1} X^T y\n",
    "$$\n",
    "\n",
    "La fórmula anterior puede servir para encontrar los pesos $w$ y estos últimos pueden utilizarse para calcular los valores predichos\n",
    "$$\n",
    "\\hat{y} = X_{val}w\n",
    "$$"
   ]
  },
  {
   "cell_type": "markdown",
   "metadata": {},
   "source": [
    "Divide todos los datos correspondientes a las etapas de entrenamiento/prueba respetando la proporción 70:30. Utiliza la métrica RECM para evaluar el modelo."
   ]
  },
  {
   "cell_type": "code",
   "execution_count": 28,
   "metadata": {},
   "outputs": [],
   "source": [
    "class MyLinearRegression:\n",
    "    \n",
    "    def __init__(self):\n",
    "        \n",
    "        self.weights = None\n",
    "    \n",
    "    def fit(self, X, y):\n",
    "        \n",
    "        # añadir las unidades\n",
    "        X2 = np.append(np.ones([len(X), 1]), X, axis=1)\n",
    "        self.weights = np.linalg.inv(X2.T @ X2) @ X2.T @ y\n",
    "\n",
    "    def predict(self, X):\n",
    "        \n",
    "        # añadir las unidades\n",
    "        X2 = np.append(np.ones([len(X), 1]), X, axis=1)\n",
    "        y_pred = X2 @ self.weights\n",
    "        \n",
    "        return y_pred"
   ]
  },
  {
   "cell_type": "code",
   "execution_count": 29,
   "metadata": {},
   "outputs": [],
   "source": [
    "def eval_regressor(y_true, y_pred):\n",
    "    \n",
    "    rmse = math.sqrt(sklearn.metrics.mean_squared_error(y_true, y_pred))\n",
    "    print(f'RMSE: {rmse:.2f}')\n",
    "    \n",
    "    r2_score = math.sqrt(sklearn.metrics.r2_score(y_true, y_pred))\n",
    "    print(f'R2: {r2_score:.2f}')    "
   ]
  },
  {
   "cell_type": "code",
   "execution_count": 30,
   "metadata": {},
   "outputs": [
    {
     "name": "stdout",
     "output_type": "stream",
     "text": [
      "[-9.43539012e-01  3.57495491e-02  1.64272726e-02 -2.60743659e-07\n",
      " -1.16902127e-02]\n"
     ]
    }
   ],
   "source": [
    "X = df[['age', 'gender', 'income', 'family_members']].to_numpy()\n",
    "y = df['insurance_benefits'].to_numpy()\n",
    "\n",
    "X_train, X_test, y_train, y_test = train_test_split(X, y, test_size=0.3, random_state=12345)\n",
    "\n",
    "lr = MyLinearRegression()\n",
    "\n",
    "lr.fit(X_train, y_train)\n",
    "print(lr.weights)\n",
    "\n"
   ]
  },
  {
   "cell_type": "code",
   "execution_count": 31,
   "metadata": {},
   "outputs": [
    {
     "name": "stdout",
     "output_type": "stream",
     "text": [
      "Modelo con datos no escalados\n",
      "RMSE: 0.34\n",
      "R2: 0.66\n",
      "\n",
      "Modelo con datos escalados\n",
      "RMSE: 0.34\n",
      "R2: 0.66\n"
     ]
    }
   ],
   "source": [
    "# Escalar los datos\n",
    "scaler = MaxAbsScaler()\n",
    "X_train_scaled = scaler.fit_transform(X_train)\n",
    "X_test_scaled = scaler.transform(X_test)\n",
    "\n",
    "# Modelo con datos no escalados\n",
    "lr.fit(X_train, y_train)\n",
    "print(\"Modelo con datos no escalados\")\n",
    "y_test_pred = lr.predict(X_test)\n",
    "eval_regressor(y_test, y_test_pred)\n",
    "\n",
    "print(\"\\nModelo con datos escalados\")\n",
    "# Modelo con datos escalados\n",
    "lr.fit(X_train_scaled, y_train)\n",
    "y_test_pred_scaled = lr.predict(X_test_scaled)\n",
    "eval_regressor(y_test, y_test_pred_scaled)"
   ]
  },
  {
   "cell_type": "markdown",
   "metadata": {},
   "source": [
    "**No se observa diferencia entre el RECM y el R2 de los datos originales con los de los datos escalados.**"
   ]
  },
  {
   "cell_type": "markdown",
   "metadata": {},
   "source": [
    "# Tarea 4. Ofuscar datos"
   ]
  },
  {
   "cell_type": "markdown",
   "metadata": {},
   "source": [
    "Lo mejor es ofuscar los datos multiplicando las características numéricas (recuerda que se pueden ver como la matriz $X$) por una matriz invertible $P$. \n",
    "\n",
    "$$\n",
    "X' = X \\times P\n",
    "$$\n",
    "\n",
    "Trata de hacerlo y comprueba cómo quedarán los valores de las características después de la transformación. Por cierto, la propiedad de invertibilidad es importante aquí, así que asegúrate de que $P$ sea realmente invertible.\n",
    "\n",
    "Puedes revisar la lección 'Matrices y operaciones matriciales -> Multiplicación de matrices' para recordar la regla de multiplicación de matrices y su implementación con NumPy."
   ]
  },
  {
   "cell_type": "code",
   "execution_count": 32,
   "metadata": {},
   "outputs": [],
   "source": [
    "personal_info_column_list = ['gender', 'age', 'income', 'family_members']\n",
    "df_pn = df[personal_info_column_list]"
   ]
  },
  {
   "cell_type": "code",
   "execution_count": 33,
   "metadata": {},
   "outputs": [],
   "source": [
    "X = df_pn.to_numpy()"
   ]
  },
  {
   "cell_type": "markdown",
   "metadata": {},
   "source": [
    "Generar una matriz aleatoria $P$."
   ]
  },
  {
   "cell_type": "code",
   "execution_count": 34,
   "metadata": {},
   "outputs": [],
   "source": [
    "rng = np.random.default_rng(seed=42)\n",
    "P = rng.random(size=(X.shape[1], X.shape[1]))"
   ]
  },
  {
   "cell_type": "markdown",
   "metadata": {},
   "source": [
    "Comprobar que la matriz P sea invertible"
   ]
  },
  {
   "cell_type": "code",
   "execution_count": 35,
   "metadata": {},
   "outputs": [
    {
     "name": "stdout",
     "output_type": "stream",
     "text": [
      "\n",
      "Matriz aleatoria\n",
      " [[0.77395605 0.43887844 0.85859792 0.69736803]\n",
      " [0.09417735 0.97562235 0.7611397  0.78606431]\n",
      " [0.12811363 0.45038594 0.37079802 0.92676499]\n",
      " [0.64386512 0.82276161 0.4434142  0.22723872]]\n",
      "\n",
      "Inversa de matriz aleatoria\n",
      " [[ 0.41467992 -1.43783972  0.62798546  1.14001268]\n",
      " [-1.06101789  0.44219337  0.1329549   1.18425933]\n",
      " [ 1.42362442  1.60461607 -2.0553823  -1.53699695]\n",
      " [-0.11128575 -0.65813802  1.74995517 -0.11816316]]\n"
     ]
    }
   ],
   "source": [
    "# prueba de que la matriz P es invertible\n",
    "P_inv = np.linalg.inv(P)\n",
    "print('\\nMatriz aleatoria\\n',P)\n",
    "print('\\nInversa de matriz aleatoria\\n',P_inv)\n",
    "\n"
   ]
  },
  {
   "cell_type": "code",
   "execution_count": 36,
   "metadata": {},
   "outputs": [
    {
     "name": "stdout",
     "output_type": "stream",
     "text": [
      "\n",
      "Matriz de características original (X):\n",
      " [[1.00e+00 4.10e+01 4.96e+04 1.00e+00]\n",
      " [0.00e+00 4.60e+01 3.80e+04 1.00e+00]\n",
      " [0.00e+00 2.90e+01 2.10e+04 0.00e+00]\n",
      " ...\n",
      " [0.00e+00 2.00e+01 3.39e+04 2.00e+00]\n",
      " [1.00e+00 2.20e+01 3.27e+04 3.00e+00]\n",
      " [1.00e+00 2.80e+01 4.06e+04 1.00e+00]]\n",
      "\n",
      "Matriz de características ofuscada (X'):\n",
      " [[ 6359.71527314 22380.40467609 18424.09074184 46000.69669016]\n",
      " [ 4873.29406479 17160.36702982 14125.78076133 35253.45577301]\n",
      " [ 2693.11742928  9486.397744    7808.83156024 19484.86063067]\n",
      " ...\n",
      " [ 4346.2234249  15289.24126492 12586.16264392 31433.50888552]\n",
      " [ 4194.09324155 14751.9910242  12144.02930637 30323.88763426]\n",
      " [ 5205.46827354 18314.24814446 15077.01370762 37649.59295455]]\n"
     ]
    }
   ],
   "source": [
    "# se ofuscan los datos utilizando formula 𝑋′=𝑋×𝑃\n",
    "X_prime = X @ P\n",
    "\n",
    "print(\"\\nMatriz de características original (X):\\n\", X)\n",
    "print(\"\\nMatriz de características ofuscada (X'):\\n\", X_prime)"
   ]
  },
  {
   "cell_type": "markdown",
   "metadata": {},
   "source": [
    "¿Puedes adivinar la edad o los ingresos de los clientes después de la transformación?"
   ]
  },
  {
   "cell_type": "markdown",
   "metadata": {},
   "source": [
    "No, después de la transformación 𝑋′ los valores de las características están alterados, por lo que no se puede identificar directamente la edad o ingresos de los clientes. Ejemplo:"
   ]
  },
  {
   "cell_type": "code",
   "execution_count": 37,
   "metadata": {},
   "outputs": [
    {
     "data": {
      "text/html": [
       "<div>\n",
       "<style scoped>\n",
       "    .dataframe tbody tr th:only-of-type {\n",
       "        vertical-align: middle;\n",
       "    }\n",
       "\n",
       "    .dataframe tbody tr th {\n",
       "        vertical-align: top;\n",
       "    }\n",
       "\n",
       "    .dataframe thead th {\n",
       "        text-align: right;\n",
       "    }\n",
       "</style>\n",
       "<table border=\"1\" class=\"dataframe\">\n",
       "  <thead>\n",
       "    <tr style=\"text-align: right;\">\n",
       "      <th></th>\n",
       "      <th>gender</th>\n",
       "      <th>age</th>\n",
       "      <th>income</th>\n",
       "      <th>family_members</th>\n",
       "    </tr>\n",
       "  </thead>\n",
       "  <tbody>\n",
       "    <tr>\n",
       "      <th>0</th>\n",
       "      <td>6359.715273</td>\n",
       "      <td>22380.404676</td>\n",
       "      <td>18424.090742</td>\n",
       "      <td>46000.696690</td>\n",
       "    </tr>\n",
       "    <tr>\n",
       "      <th>1</th>\n",
       "      <td>4873.294065</td>\n",
       "      <td>17160.367030</td>\n",
       "      <td>14125.780761</td>\n",
       "      <td>35253.455773</td>\n",
       "    </tr>\n",
       "    <tr>\n",
       "      <th>2</th>\n",
       "      <td>2693.117429</td>\n",
       "      <td>9486.397744</td>\n",
       "      <td>7808.831560</td>\n",
       "      <td>19484.860631</td>\n",
       "    </tr>\n",
       "    <tr>\n",
       "      <th>3</th>\n",
       "      <td>5345.603937</td>\n",
       "      <td>18803.227203</td>\n",
       "      <td>15479.148373</td>\n",
       "      <td>38663.061863</td>\n",
       "    </tr>\n",
       "    <tr>\n",
       "      <th>4</th>\n",
       "      <td>3347.176735</td>\n",
       "      <td>11782.829283</td>\n",
       "      <td>9699.998942</td>\n",
       "      <td>24211.273378</td>\n",
       "    </tr>\n",
       "  </tbody>\n",
       "</table>\n",
       "</div>"
      ],
      "text/plain": [
       "        gender           age        income  family_members\n",
       "0  6359.715273  22380.404676  18424.090742    46000.696690\n",
       "1  4873.294065  17160.367030  14125.780761    35253.455773\n",
       "2  2693.117429   9486.397744   7808.831560    19484.860631\n",
       "3  5345.603937  18803.227203  15479.148373    38663.061863\n",
       "4  3347.176735  11782.829283   9699.998942    24211.273378"
      ]
     },
     "execution_count": 37,
     "metadata": {},
     "output_type": "execute_result"
    }
   ],
   "source": [
    "df_prime = pd.DataFrame(X_prime,columns = personal_info_column_list)\n",
    "\n",
    "df_prime.head()"
   ]
  },
  {
   "cell_type": "markdown",
   "metadata": {},
   "source": [
    "¿Puedes recuperar los datos originales de $X'$ si conoces $P$? Intenta comprobarlo a través de los cálculos moviendo $P$ del lado derecho de la fórmula anterior al izquierdo. En este caso las reglas de la multiplicación matricial son realmente útiles"
   ]
  },
  {
   "cell_type": "markdown",
   "metadata": {},
   "source": [
    "Muestra los tres casos para algunos clientes- Datos originales\n",
    "- El que está transformado- El que está invertido (recuperado)"
   ]
  },
  {
   "cell_type": "markdown",
   "metadata": {},
   "source": [
    "**Si conocemos la matriz 𝑃 y su inversa 𝑃−1, podemos recuperar los datos originales de 𝑋′. La fórmula $ 𝑋=𝑋′𝑃−1 $ permite hacer esta recuperación.**"
   ]
  },
  {
   "cell_type": "code",
   "execution_count": 38,
   "metadata": {},
   "outputs": [
    {
     "name": "stdout",
     "output_type": "stream",
     "text": [
      "Datos originales (X):\n",
      "[[1.00e+00 4.10e+01 4.96e+04 1.00e+00]\n",
      " [0.00e+00 4.60e+01 3.80e+04 1.00e+00]\n",
      " [0.00e+00 2.90e+01 2.10e+04 0.00e+00]\n",
      " ...\n",
      " [0.00e+00 2.00e+01 3.39e+04 2.00e+00]\n",
      " [1.00e+00 2.20e+01 3.27e+04 3.00e+00]\n",
      " [1.00e+00 2.80e+01 4.06e+04 1.00e+00]]\n",
      "\n",
      "Datos transformados (X'):\n",
      "[[ 6359.71527314 22380.40467609 18424.09074184 46000.69669016]\n",
      " [ 4873.29406479 17160.36702982 14125.78076133 35253.45577301]\n",
      " [ 2693.11742928  9486.397744    7808.83156024 19484.86063067]\n",
      " ...\n",
      " [ 4346.2234249  15289.24126492 12586.16264392 31433.50888552]\n",
      " [ 4194.09324155 14751.9910242  12144.02930637 30323.88763426]\n",
      " [ 5205.46827354 18314.24814446 15077.01370762 37649.59295455]]\n",
      "\n",
      "Datos recuperados (de X') usando P^-1:\n",
      "[[ 1.00000000e+00  4.10000000e+01  4.96000000e+04  1.00000000e+00]\n",
      " [-4.47363596e-12  4.60000000e+01  3.80000000e+04  1.00000000e+00]\n",
      " [-2.51586878e-12  2.90000000e+01  2.10000000e+04  9.52452315e-13]\n",
      " ...\n",
      " [-1.92837871e-12  2.00000000e+01  3.39000000e+04  2.00000000e+00]\n",
      " [ 1.00000000e+00  2.20000000e+01  3.27000000e+04  3.00000000e+00]\n",
      " [ 1.00000000e+00  2.80000000e+01  4.06000000e+04  1.00000000e+00]]\n"
     ]
    }
   ],
   "source": [
    "# Muestra de datos originales \n",
    "print(\"Datos originales (X):\")\n",
    "print(X)\n",
    "\n",
    "# Muestra de datos transformados\n",
    "print(\"\\nDatos transformados (X'):\")\n",
    "print(X_prime)\n",
    "\n",
    "# Recuperación de los datos originales de X' usando X' * P_inv\n",
    "X_original = X_prime @ P_inv\n",
    "\n",
    "# Muestra de datos recuperados\n",
    "print(\"\\nDatos recuperados (de X') usando P^-1:\")\n",
    "print(X_original)"
   ]
  },
  {
   "cell_type": "markdown",
   "metadata": {},
   "source": [
    "Seguramente puedes ver que algunos valores no son exactamente iguales a los de los datos originales. ¿Cuál podría ser la razón de ello?"
   ]
  },
  {
   "cell_type": "markdown",
   "metadata": {},
   "source": [
    "**Las pequeñas diferencias al recuperar los datos originales se pueden deber al redondeo de decimales durante los cálculos. Aunque no son idénticos, los valores son muy similares, por lo que no afectan significativamente los resultados.**"
   ]
  },
  {
   "cell_type": "markdown",
   "metadata": {},
   "source": [
    "## Prueba de que la ofuscación de datos puede funcionar con regresión lineal"
   ]
  },
  {
   "cell_type": "markdown",
   "metadata": {},
   "source": [
    "En este proyecto la tarea de regresión se ha resuelto con la regresión lineal. Tu siguiente tarea es demostrar _analytically_ que el método de ofuscación no afectará a la regresión lineal en términos de valores predichos, es decir, que sus valores seguirán siendo los mismos. ¿Lo puedes creer? Pues no hace falta que lo creas, ¡tienes que que demostrarlo!"
   ]
  },
  {
   "cell_type": "markdown",
   "metadata": {},
   "source": [
    "Entonces, los datos están ofuscados y ahora tenemos $X \\times P$ en lugar de tener solo $X$. En consecuencia, hay otros pesos $w_P$ como\n",
    "$$\n",
    "w = (X^T X)^{-1} X^T y \\quad \\Rightarrow \\quad w_P = [(XP)^T XP]^{-1} (XP)^T y\n",
    "$$\n",
    "\n",
    "¿Cómo se relacionarían $w$ y $w_P$ si simplificáramos la fórmula de $w_P$ anterior? \n",
    "\n",
    "¿Cuáles serían los valores predichos con $w_P$? \n",
    "\n",
    "¿Qué significa esto para la calidad de la regresión lineal si esta se mide mediante la RECM?\n",
    "Revisa el Apéndice B Propiedades de las matrices al final del cuaderno. ¡Allí encontrarás fórmulas muy útiles!\n",
    "\n",
    "No es necesario escribir código en esta sección, basta con una explicación analítica."
   ]
  },
  {
   "cell_type": "markdown",
   "metadata": {},
   "source": [
    "**Respuesta (Prueba analítica)**\n",
    "\n",
    "Al simplificar la formula $w_P = [(XP)^T XP]^{-1} (XP)^T$ usando la propiedad de reversibilidad de la transposición de un producto de matrices $(AB)^{T}=B^{T}A^{T}$ se obtiene:\n",
    "$$ \\quad w_P = [P^TX^T XP]^{-1} P^TX^Ty $$\n",
    "\n",
    "si ademas se utiliza la propiedad asociativa de la multiplicación y la propiedad $(AB)^{-1}=B^{-1}A^{-1}$ se obtiene finalmente esta formula:\n",
    "\n",
    "$$ \\quad w_P = [P]^{-1}(X^TX)^{-1}[P^T]^{-1}P^TX^Ty $$\n",
    "\n",
    "considerando que tenemos un P traspuesta y una P traspuesta inversa multiplicandose, $[P^T]^{-1}P^T$ estan pasan a ser un 1(Identidad), según la propiedad de identidad multiplicativa $IA = AI = A$ y recordando que  $ w = (X^T X)^{-1} X^Ty $ tenemos que finalmente:\n",
    "\n",
    "$$ \\quad w_P = [P]^{-1}(X^TX)^{-1}X^Ty = [P]^{-1}w $$\n",
    "\n",
    "Lo que nos indica que los nuevos valores estan relacionados con los valores (pesos) originales. Ademas, sabemos que los valores predichos en un modelo de regresión lineal se obtienen con la formula: \n",
    "$$\n",
    "\\hat{y} = Xw\n",
    "$$\n",
    "y si consideramos que para los datos ofuscados son $ X' = X \\times P $ entonces los valores predichos serian: \n",
    "$$\n",
    "\\hat{y}_P = X'w_P = (X \\times P)([P]^{-1}w)\n",
    "$$\n",
    "dado que nuevamente se genera una matriz identidad por las multiplicaciones de las P, obtenemos que:\n",
    "$$\n",
    "\\hat{y}_P = Xw = \\hat{y}\n",
    "$$\n",
    "Los valores predichos con los datos ofuscados son los mismos que los valores predichos con los datos originales, y dado que las predicciones no cambian, esto significa que el rendimiento del modelo no se ve afectado por la ofuscación de los datos. La calidad del modelo, medida a través de RECM, será la misma con los datos ofuscados que con los datos originales."
   ]
  },
  {
   "cell_type": "markdown",
   "metadata": {},
   "source": [
    "## Prueba de regresión lineal con ofuscación de datos"
   ]
  },
  {
   "cell_type": "markdown",
   "metadata": {},
   "source": [
    "Ahora, probemos que la regresión lineal pueda funcionar, en términos computacionales, con la transformación de ofuscación elegida.\n",
    "Construye un procedimiento o una clase que ejecute la regresión lineal opcionalmente con la ofuscación. Puedes usar una implementación de regresión lineal de scikit-learn o tu propia implementación.\n",
    "Ejecuta la regresión lineal para los datos originales y los ofuscados, compara los valores predichos y los valores de las métricas RMSE y $R^2$. ¿Hay alguna diferencia?"
   ]
  },
  {
   "cell_type": "markdown",
   "metadata": {},
   "source": [
    "**Procedimiento**\n",
    "\n",
    "- Crea una matriz cuadrada $P$ de números aleatorios.- Comprueba que sea invertible. Si no lo es, repite el primer paso hasta obtener una matriz invertible.\n",
    "- Utiliza $XP$ como la nueva matriz de características\n",
    "\n",
    "**Ya que en la tarea 4 se genero una matriz P invertible y se ofuscaron los datos, generando la matriz \"X_prime\", esta se reutilizara como la nueva matriz de caracteristicas**\n"
   ]
  },
  {
   "cell_type": "code",
   "execution_count": 46,
   "metadata": {},
   "outputs": [
    {
     "name": "stdout",
     "output_type": "stream",
     "text": [
      "RMSE: 0.34\n",
      "R2: 0.66\n"
     ]
    }
   ],
   "source": [
    "X_train_prime, X_test_prime, y_train, y_test = train_test_split(X_prime, y, test_size=0.3, random_state=12345)\n",
    "\n",
    "lr.fit(X_train_prime, y_train)\n",
    "\n",
    "y_test_pred_prime = lr.predict(X_test_prime)\n",
    "eval_regressor(y_test, y_test_pred_prime)"
   ]
  },
  {
   "cell_type": "markdown",
   "metadata": {},
   "source": [
    "se vuelve a hacer la regresión lineal con los datos originales para hacer las comparación:"
   ]
  },
  {
   "cell_type": "code",
   "execution_count": 47,
   "metadata": {},
   "outputs": [
    {
     "name": "stdout",
     "output_type": "stream",
     "text": [
      "RMSE: 0.34\n",
      "R2: 0.66\n"
     ]
    }
   ],
   "source": [
    "X_train, X_test, y_train, y_test = train_test_split(X, y, test_size=0.3, random_state=12345)\n",
    "\n",
    "lr.fit(X_train, y_train)\n",
    "\n",
    "y_test_pred = lr.predict(X_test)\n",
    "eval_regressor(y_test, y_test_pred)"
   ]
  },
  {
   "cell_type": "markdown",
   "metadata": {},
   "source": [
    "**La regresión lineal sigue funcionando correctamente tanto con los datos originales como con los datos ofuscados. Las métricas de rendimiento son prácticamente las mismas, lo que confirma que el proceso de ofuscación de datos no afecta negativamente el rendimiento del modelo.**"
   ]
  },
  {
   "cell_type": "markdown",
   "metadata": {},
   "source": [
    "# Conclusiones"
   ]
  },
  {
   "cell_type": "markdown",
   "metadata": {},
   "source": [
    "- De la tarea 1 concluimos que el escalado de los datos tiene un impacto importante en el algoritmo kNN, ya que sin escalar, las características con mayores valores (como los ingresos) dominan la distancia, sesgando la selección de vecinos. Al escalar los datos, todas las características tienen el mismo peso, mejorando la precisión. Las métricas de distancia Euclidiana y Manhattan producen resultados similares, especialmente cuando los datos están escalados."
   ]
  },
  {
   "cell_type": "markdown",
   "metadata": {},
   "source": [
    "- Con respecto a la tarea 2, el clasificador kNN con datos escalados superó al modelo dummy en rendimiento, con un F1 superior a 0.9 para valores bajos de k, mientras que el modelo dummy presentó un F1 muy bajo (0-0.2). Esto demuestra que kNN escalado es mucho más eficaz para predecir las prestaciones del seguro."
   ]
  },
  {
   "cell_type": "markdown",
   "metadata": {},
   "source": [
    "- En la tarea 3 al aplicar regresión lineal para predecir las prestaciones del seguro, se obtuvo un RMSE de 0.34 y un R² de 0.66 tanto en los datos originales como en los escalados. Esto sugiere que el escalado de los datos no tiene un impacto significativo en la calidad del modelo en términos de estas métricas. La implementación de regresión lineal basada en la fórmula analítica proporcionó resultados consistentes en ambos casos."
   ]
  },
  {
   "cell_type": "markdown",
   "metadata": {},
   "source": [
    "- La ofuscación de datos mediante una matriz invertible no afecta las predicciones de un modelo de regresión lineal. A través de una demostración analítica en la tarea 4, se muestra que los valores predichos con los datos ofuscados son idénticos a los obtenidos con los datos originales, lo que implica que el rendimiento del modelo y la RECM no se ven alterados, tal como se comprueba en el paso 5."
   ]
  }
 ],
 "metadata": {
  "ExecuteTimeLog": [
   {
    "duration": 2346,
    "start_time": "2025-01-10T01:21:58.977Z"
   },
   {
    "duration": 2678,
    "start_time": "2025-01-10T01:22:01.325Z"
   },
   {
    "duration": 14,
    "start_time": "2025-01-10T01:22:11.368Z"
   },
   {
    "duration": 3,
    "start_time": "2025-01-10T01:22:13.494Z"
   },
   {
    "duration": 10,
    "start_time": "2025-01-10T01:22:14.617Z"
   },
   {
    "duration": 9,
    "start_time": "2025-01-10T01:22:22.705Z"
   },
   {
    "duration": 9,
    "start_time": "2025-01-10T01:25:38.305Z"
   },
   {
    "duration": 3,
    "start_time": "2025-01-10T01:25:39.731Z"
   },
   {
    "duration": 8,
    "start_time": "2025-01-10T01:25:51.672Z"
   },
   {
    "duration": 18,
    "start_time": "2025-01-10T01:55:52.582Z"
   },
   {
    "duration": 2523,
    "start_time": "2025-01-10T01:57:20.253Z"
   },
   {
    "duration": 727,
    "start_time": "2025-01-10T01:58:25.987Z"
   },
   {
    "duration": 874,
    "start_time": "2025-01-10T01:58:52.992Z"
   },
   {
    "duration": 223,
    "start_time": "2025-01-10T02:03:34.390Z"
   },
   {
    "duration": 124,
    "start_time": "2025-01-10T02:05:01.128Z"
   },
   {
    "duration": 541,
    "start_time": "2025-01-10T02:05:10.042Z"
   },
   {
    "duration": 146,
    "start_time": "2025-01-10T02:07:20.941Z"
   },
   {
    "duration": 120,
    "start_time": "2025-01-10T02:07:33.905Z"
   },
   {
    "duration": 136,
    "start_time": "2025-01-10T02:09:14.620Z"
   },
   {
    "duration": 3,
    "start_time": "2025-01-10T02:19:40.585Z"
   },
   {
    "duration": 8,
    "start_time": "2025-01-10T02:19:42.150Z"
   },
   {
    "duration": 2360,
    "start_time": "2025-01-11T20:44:37.894Z"
   },
   {
    "duration": 2758,
    "start_time": "2025-01-11T20:44:40.257Z"
   },
   {
    "duration": 13,
    "start_time": "2025-01-11T20:44:44.897Z"
   },
   {
    "duration": 3,
    "start_time": "2025-01-11T20:44:46.132Z"
   },
   {
    "duration": 12,
    "start_time": "2025-01-11T20:44:47.614Z"
   },
   {
    "duration": 8,
    "start_time": "2025-01-11T20:44:48.418Z"
   },
   {
    "duration": 3,
    "start_time": "2025-01-11T20:44:48.958Z"
   },
   {
    "duration": 8,
    "start_time": "2025-01-11T20:44:50.533Z"
   },
   {
    "duration": 3,
    "start_time": "2025-01-11T20:44:51.109Z"
   },
   {
    "duration": 18,
    "start_time": "2025-01-11T20:44:52.200Z"
   },
   {
    "duration": 981,
    "start_time": "2025-01-11T20:44:54.861Z"
   },
   {
    "duration": 2631,
    "start_time": "2025-01-11T20:44:59.863Z"
   },
   {
    "duration": 2,
    "start_time": "2025-01-11T20:46:32.598Z"
   },
   {
    "duration": 6,
    "start_time": "2025-01-11T20:46:33.959Z"
   },
   {
    "duration": 3,
    "start_time": "2025-01-11T20:49:09.840Z"
   },
   {
    "duration": 8,
    "start_time": "2025-01-11T20:49:17.858Z"
   },
   {
    "duration": 9,
    "start_time": "2025-01-11T20:49:19.395Z"
   },
   {
    "duration": 2402,
    "start_time": "2025-01-12T02:30:02.583Z"
   },
   {
    "duration": 2630,
    "start_time": "2025-01-12T02:30:04.988Z"
   },
   {
    "duration": 2129,
    "start_time": "2025-01-12T02:30:28.117Z"
   },
   {
    "duration": 941,
    "start_time": "2025-01-12T02:30:35.257Z"
   },
   {
    "duration": 14,
    "start_time": "2025-01-12T02:30:39.809Z"
   },
   {
    "duration": 4,
    "start_time": "2025-01-12T02:30:40.793Z"
   },
   {
    "duration": 12,
    "start_time": "2025-01-12T02:30:41.214Z"
   },
   {
    "duration": 10,
    "start_time": "2025-01-12T02:30:42.209Z"
   },
   {
    "duration": 3,
    "start_time": "2025-01-12T02:30:54.835Z"
   },
   {
    "duration": 8,
    "start_time": "2025-01-12T02:30:57.478Z"
   },
   {
    "duration": 2,
    "start_time": "2025-01-12T02:31:01.326Z"
   },
   {
    "duration": 17,
    "start_time": "2025-01-12T02:31:02.330Z"
   },
   {
    "duration": 902,
    "start_time": "2025-01-12T02:31:04.334Z"
   },
   {
    "duration": 127,
    "start_time": "2025-01-12T02:31:20.561Z"
   },
   {
    "duration": 2467,
    "start_time": "2025-01-12T02:31:27.182Z"
   },
   {
    "duration": 3,
    "start_time": "2025-01-12T02:31:34.620Z"
   },
   {
    "duration": 4,
    "start_time": "2025-01-12T02:32:06.172Z"
   },
   {
    "duration": 9,
    "start_time": "2025-01-12T02:32:11.526Z"
   },
   {
    "duration": 8,
    "start_time": "2025-01-12T02:32:14.279Z"
   },
   {
    "duration": 337,
    "start_time": "2025-01-12T02:32:59.732Z"
   },
   {
    "duration": 5,
    "start_time": "2025-01-12T02:35:27.507Z"
   },
   {
    "duration": 3,
    "start_time": "2025-01-12T02:39:36.370Z"
   },
   {
    "duration": 4,
    "start_time": "2025-01-12T02:41:08.122Z"
   },
   {
    "duration": 8,
    "start_time": "2025-01-12T02:41:13.038Z"
   },
   {
    "duration": 8,
    "start_time": "2025-01-12T02:41:13.724Z"
   },
   {
    "duration": 21,
    "start_time": "2025-01-12T02:41:16.177Z"
   },
   {
    "duration": 4,
    "start_time": "2025-01-12T02:46:35.976Z"
   },
   {
    "duration": 8,
    "start_time": "2025-01-12T02:46:38.947Z"
   },
   {
    "duration": 9,
    "start_time": "2025-01-12T02:46:39.452Z"
   },
   {
    "duration": 117,
    "start_time": "2025-01-12T02:46:41.202Z"
   },
   {
    "duration": 4,
    "start_time": "2025-01-12T02:47:56.830Z"
   },
   {
    "duration": 10,
    "start_time": "2025-01-12T02:48:01.520Z"
   },
   {
    "duration": 8,
    "start_time": "2025-01-12T02:48:02.144Z"
   },
   {
    "duration": 49,
    "start_time": "2025-01-12T02:48:52.152Z"
   },
   {
    "duration": 25,
    "start_time": "2025-01-12T03:04:08.176Z"
   },
   {
    "duration": 4,
    "start_time": "2025-01-12T03:04:10.130Z"
   },
   {
    "duration": 25,
    "start_time": "2025-01-12T03:04:18.338Z"
   },
   {
    "duration": 9,
    "start_time": "2025-01-12T03:05:10.430Z"
   },
   {
    "duration": 10,
    "start_time": "2025-01-12T03:05:11.619Z"
   },
   {
    "duration": 28,
    "start_time": "2025-01-12T03:06:35.209Z"
   },
   {
    "duration": 26,
    "start_time": "2025-01-12T03:07:35.756Z"
   },
   {
    "duration": 26,
    "start_time": "2025-01-12T03:07:37.022Z"
   },
   {
    "duration": 25,
    "start_time": "2025-01-12T03:07:51.167Z"
   },
   {
    "duration": 26,
    "start_time": "2025-01-12T03:07:53.785Z"
   },
   {
    "duration": 3,
    "start_time": "2025-01-12T03:13:14.626Z"
   },
   {
    "duration": 5,
    "start_time": "2025-01-12T03:13:16.060Z"
   },
   {
    "duration": 5,
    "start_time": "2025-01-12T03:15:28.857Z"
   },
   {
    "duration": 6,
    "start_time": "2025-01-12T03:15:39.319Z"
   },
   {
    "duration": 6,
    "start_time": "2025-01-12T03:17:35.129Z"
   },
   {
    "duration": 14,
    "start_time": "2025-01-12T03:19:22.449Z"
   },
   {
    "duration": 3,
    "start_time": "2025-01-12T03:20:40.566Z"
   },
   {
    "duration": 4,
    "start_time": "2025-01-12T03:21:05.006Z"
   },
   {
    "duration": 7,
    "start_time": "2025-01-12T03:21:19.245Z"
   },
   {
    "duration": 3,
    "start_time": "2025-01-12T03:21:54.253Z"
   },
   {
    "duration": 3,
    "start_time": "2025-01-12T03:22:34.047Z"
   },
   {
    "duration": 80,
    "start_time": "2025-01-12T03:24:32.369Z"
   },
   {
    "duration": 51,
    "start_time": "2025-01-12T03:28:30.346Z"
   },
   {
    "duration": 2,
    "start_time": "2025-01-12T03:28:38.864Z"
   },
   {
    "duration": 48,
    "start_time": "2025-01-12T03:28:41.316Z"
   },
   {
    "duration": 4,
    "start_time": "2025-01-12T03:30:02.441Z"
   },
   {
    "duration": 607,
    "start_time": "2025-01-12T03:30:05.965Z"
   },
   {
    "duration": 2,
    "start_time": "2025-01-12T03:36:43.235Z"
   },
   {
    "duration": 77,
    "start_time": "2025-01-12T03:36:44.075Z"
   },
   {
    "duration": 12,
    "start_time": "2025-01-12T03:37:51.257Z"
   },
   {
    "duration": 19,
    "start_time": "2025-01-12T03:39:21.739Z"
   },
   {
    "duration": 5,
    "start_time": "2025-01-12T04:10:57.168Z"
   },
   {
    "duration": 4,
    "start_time": "2025-01-12T04:11:22.596Z"
   },
   {
    "duration": 3,
    "start_time": "2025-01-12T04:11:35.326Z"
   },
   {
    "duration": 38,
    "start_time": "2025-01-12T04:11:36.973Z"
   },
   {
    "duration": 3,
    "start_time": "2025-01-12T04:13:25.966Z"
   },
   {
    "duration": 88,
    "start_time": "2025-01-12T04:13:27.227Z"
   },
   {
    "duration": 3,
    "start_time": "2025-01-12T04:14:16.095Z"
   },
   {
    "duration": 9,
    "start_time": "2025-01-12T04:14:25.118Z"
   },
   {
    "duration": 8,
    "start_time": "2025-01-12T04:18:12.561Z"
   },
   {
    "duration": 7,
    "start_time": "2025-01-12T04:18:32.499Z"
   },
   {
    "duration": 6,
    "start_time": "2025-01-12T04:18:43.210Z"
   },
   {
    "duration": 7,
    "start_time": "2025-01-12T04:18:46.008Z"
   },
   {
    "duration": 8,
    "start_time": "2025-01-12T04:18:46.497Z"
   },
   {
    "duration": 2381,
    "start_time": "2025-01-12T15:46:07.219Z"
   },
   {
    "duration": 2625,
    "start_time": "2025-01-12T15:46:09.602Z"
   },
   {
    "duration": 15,
    "start_time": "2025-01-12T15:46:12.229Z"
   },
   {
    "duration": 3,
    "start_time": "2025-01-12T15:46:12.246Z"
   },
   {
    "duration": 11,
    "start_time": "2025-01-12T15:46:13.035Z"
   },
   {
    "duration": 9,
    "start_time": "2025-01-12T15:46:13.786Z"
   },
   {
    "duration": 3,
    "start_time": "2025-01-12T15:46:15.250Z"
   },
   {
    "duration": 9,
    "start_time": "2025-01-12T15:46:16.230Z"
   },
   {
    "duration": 2,
    "start_time": "2025-01-12T15:46:22.032Z"
   },
   {
    "duration": 16,
    "start_time": "2025-01-12T15:46:22.594Z"
   },
   {
    "duration": 988,
    "start_time": "2025-01-12T15:46:23.415Z"
   },
   {
    "duration": 131,
    "start_time": "2025-01-12T15:46:24.405Z"
   },
   {
    "duration": 2610,
    "start_time": "2025-01-12T15:46:25.564Z"
   },
   {
    "duration": 3,
    "start_time": "2025-01-12T15:46:28.176Z"
   },
   {
    "duration": 4,
    "start_time": "2025-01-12T15:46:28.220Z"
   },
   {
    "duration": 9,
    "start_time": "2025-01-12T15:46:30.044Z"
   },
   {
    "duration": 9,
    "start_time": "2025-01-12T15:46:30.560Z"
   },
   {
    "duration": 26,
    "start_time": "2025-01-12T15:46:31.772Z"
   },
   {
    "duration": 26,
    "start_time": "2025-01-12T15:46:32.265Z"
   },
   {
    "duration": 4,
    "start_time": "2025-01-12T15:46:35.715Z"
   },
   {
    "duration": 3,
    "start_time": "2025-01-12T15:46:36.350Z"
   },
   {
    "duration": 8,
    "start_time": "2025-01-12T15:46:36.975Z"
   },
   {
    "duration": 7,
    "start_time": "2025-01-12T15:46:37.546Z"
   },
   {
    "duration": 4,
    "start_time": "2025-01-12T15:46:38.216Z"
   },
   {
    "duration": 586,
    "start_time": "2025-01-12T15:46:38.794Z"
   },
   {
    "duration": 3,
    "start_time": "2025-01-12T15:46:39.540Z"
   },
   {
    "duration": 19,
    "start_time": "2025-01-12T15:46:40.210Z"
   },
   {
    "duration": 3,
    "start_time": "2025-01-12T15:46:44.694Z"
   },
   {
    "duration": 3,
    "start_time": "2025-01-12T15:46:45.632Z"
   },
   {
    "duration": 7,
    "start_time": "2025-01-12T15:46:48.721Z"
   },
   {
    "duration": 7,
    "start_time": "2025-01-12T15:46:49.434Z"
   },
   {
    "duration": 2418,
    "start_time": "2025-01-12T16:37:31.983Z"
   },
   {
    "duration": 2718,
    "start_time": "2025-01-12T16:37:34.404Z"
   },
   {
    "duration": 14,
    "start_time": "2025-01-12T16:37:37.124Z"
   },
   {
    "duration": 3,
    "start_time": "2025-01-12T16:37:37.140Z"
   },
   {
    "duration": 10,
    "start_time": "2025-01-12T16:37:37.144Z"
   },
   {
    "duration": 9,
    "start_time": "2025-01-12T16:37:37.156Z"
   },
   {
    "duration": 3,
    "start_time": "2025-01-12T16:37:37.166Z"
   },
   {
    "duration": 8,
    "start_time": "2025-01-12T16:37:37.170Z"
   },
   {
    "duration": 32,
    "start_time": "2025-01-12T16:37:37.180Z"
   },
   {
    "duration": 20,
    "start_time": "2025-01-12T16:37:37.215Z"
   },
   {
    "duration": 1009,
    "start_time": "2025-01-12T16:37:37.237Z"
   },
   {
    "duration": 131,
    "start_time": "2025-01-12T16:37:38.248Z"
   },
   {
    "duration": 2548,
    "start_time": "2025-01-12T16:37:38.381Z"
   },
   {
    "duration": 2,
    "start_time": "2025-01-12T16:37:40.931Z"
   },
   {
    "duration": 4,
    "start_time": "2025-01-12T16:37:40.935Z"
   },
   {
    "duration": 8,
    "start_time": "2025-01-12T16:37:40.941Z"
   },
   {
    "duration": 9,
    "start_time": "2025-01-12T16:37:40.950Z"
   },
   {
    "duration": 26,
    "start_time": "2025-01-12T16:37:40.960Z"
   },
   {
    "duration": 42,
    "start_time": "2025-01-12T16:37:40.987Z"
   },
   {
    "duration": 3,
    "start_time": "2025-01-12T16:37:41.031Z"
   },
   {
    "duration": 5,
    "start_time": "2025-01-12T16:37:41.035Z"
   },
   {
    "duration": 6,
    "start_time": "2025-01-12T16:37:41.041Z"
   },
   {
    "duration": 8,
    "start_time": "2025-01-12T16:37:41.048Z"
   },
   {
    "duration": 3,
    "start_time": "2025-01-12T16:37:41.057Z"
   },
   {
    "duration": 663,
    "start_time": "2025-01-12T16:37:41.062Z"
   },
   {
    "duration": 3,
    "start_time": "2025-01-12T16:37:41.727Z"
   },
   {
    "duration": 20,
    "start_time": "2025-01-12T16:37:42.214Z"
   },
   {
    "duration": 5,
    "start_time": "2025-01-12T16:37:44.914Z"
   },
   {
    "duration": 2,
    "start_time": "2025-01-12T16:37:45.117Z"
   },
   {
    "duration": 8,
    "start_time": "2025-01-12T16:37:45.527Z"
   },
   {
    "duration": 6,
    "start_time": "2025-01-12T16:37:45.738Z"
   },
   {
    "duration": 3,
    "start_time": "2025-01-12T16:38:20.187Z"
   },
   {
    "duration": 2,
    "start_time": "2025-01-12T16:38:23.323Z"
   },
   {
    "duration": 3,
    "start_time": "2025-01-12T16:38:26.522Z"
   },
   {
    "duration": 7,
    "start_time": "2025-01-12T16:41:27.731Z"
   },
   {
    "duration": 3,
    "start_time": "2025-01-12T16:41:35.652Z"
   },
   {
    "duration": 3,
    "start_time": "2025-01-12T16:41:42.722Z"
   },
   {
    "duration": 8,
    "start_time": "2025-01-12T16:41:46.473Z"
   },
   {
    "duration": 4,
    "start_time": "2025-01-12T16:42:47.617Z"
   },
   {
    "duration": 5,
    "start_time": "2025-01-12T16:43:07.123Z"
   },
   {
    "duration": 4,
    "start_time": "2025-01-12T16:45:22.848Z"
   },
   {
    "duration": 4,
    "start_time": "2025-01-12T16:58:03.203Z"
   },
   {
    "duration": 2359,
    "start_time": "2025-01-12T17:43:30.430Z"
   },
   {
    "duration": 2721,
    "start_time": "2025-01-12T17:43:32.791Z"
   },
   {
    "duration": 10,
    "start_time": "2025-01-12T17:43:35.514Z"
   },
   {
    "duration": 3,
    "start_time": "2025-01-12T17:43:35.526Z"
   },
   {
    "duration": 10,
    "start_time": "2025-01-12T17:43:35.530Z"
   },
   {
    "duration": 9,
    "start_time": "2025-01-12T17:43:35.542Z"
   },
   {
    "duration": 3,
    "start_time": "2025-01-12T17:43:35.552Z"
   },
   {
    "duration": 9,
    "start_time": "2025-01-12T17:43:35.557Z"
   },
   {
    "duration": 38,
    "start_time": "2025-01-12T17:43:35.567Z"
   },
   {
    "duration": 17,
    "start_time": "2025-01-12T17:43:35.608Z"
   },
   {
    "duration": 1009,
    "start_time": "2025-01-12T17:43:35.626Z"
   },
   {
    "duration": 128,
    "start_time": "2025-01-12T17:43:36.637Z"
   },
   {
    "duration": 2564,
    "start_time": "2025-01-12T17:43:36.766Z"
   },
   {
    "duration": 3,
    "start_time": "2025-01-12T17:43:39.333Z"
   },
   {
    "duration": 4,
    "start_time": "2025-01-12T17:43:39.337Z"
   },
   {
    "duration": 9,
    "start_time": "2025-01-12T17:43:39.343Z"
   },
   {
    "duration": 8,
    "start_time": "2025-01-12T17:43:39.353Z"
   },
   {
    "duration": 24,
    "start_time": "2025-01-12T17:43:39.363Z"
   },
   {
    "duration": 33,
    "start_time": "2025-01-12T17:43:39.388Z"
   },
   {
    "duration": 3,
    "start_time": "2025-01-12T17:43:40.882Z"
   },
   {
    "duration": 4,
    "start_time": "2025-01-12T17:43:41.137Z"
   },
   {
    "duration": 8,
    "start_time": "2025-01-12T17:43:41.425Z"
   },
   {
    "duration": 6,
    "start_time": "2025-01-12T17:43:41.726Z"
   },
   {
    "duration": 4,
    "start_time": "2025-01-12T17:43:42.025Z"
   },
   {
    "duration": 637,
    "start_time": "2025-01-12T17:43:42.334Z"
   },
   {
    "duration": 3,
    "start_time": "2025-01-12T17:43:42.973Z"
   },
   {
    "duration": 31,
    "start_time": "2025-01-12T17:43:42.978Z"
   },
   {
    "duration": 4,
    "start_time": "2025-01-12T17:43:45.353Z"
   },
   {
    "duration": 3,
    "start_time": "2025-01-12T17:43:45.605Z"
   },
   {
    "duration": 11,
    "start_time": "2025-01-12T17:43:46.106Z"
   },
   {
    "duration": 7,
    "start_time": "2025-01-12T17:43:46.355Z"
   },
   {
    "duration": 4,
    "start_time": "2025-01-12T17:43:48.017Z"
   },
   {
    "duration": 3,
    "start_time": "2025-01-12T17:43:48.818Z"
   },
   {
    "duration": 2,
    "start_time": "2025-01-12T17:43:50.121Z"
   },
   {
    "duration": 7,
    "start_time": "2025-01-12T17:43:51.278Z"
   },
   {
    "duration": 4,
    "start_time": "2025-01-12T17:43:53.814Z"
   },
   {
    "duration": 232,
    "start_time": "2025-01-12T17:48:51.535Z"
   },
   {
    "duration": 8,
    "start_time": "2025-01-12T17:48:59.653Z"
   },
   {
    "duration": 7,
    "start_time": "2025-01-12T17:51:22.003Z"
   },
   {
    "duration": 7,
    "start_time": "2025-01-12T17:52:50.486Z"
   },
   {
    "duration": 14,
    "start_time": "2025-01-12T17:55:27.601Z"
   },
   {
    "duration": 14,
    "start_time": "2025-01-12T17:55:57.153Z"
   },
   {
    "duration": 5,
    "start_time": "2025-01-12T17:57:11.198Z"
   },
   {
    "duration": 13,
    "start_time": "2025-01-12T17:57:15.575Z"
   },
   {
    "duration": 6,
    "start_time": "2025-01-12T17:58:47.478Z"
   },
   {
    "duration": 5,
    "start_time": "2025-01-12T18:01:41.489Z"
   },
   {
    "duration": 2616,
    "start_time": "2025-01-12T21:49:51.567Z"
   },
   {
    "duration": 2819,
    "start_time": "2025-01-12T21:49:54.186Z"
   },
   {
    "duration": 17,
    "start_time": "2025-01-12T21:49:57.007Z"
   },
   {
    "duration": 3,
    "start_time": "2025-01-12T21:49:57.027Z"
   },
   {
    "duration": 13,
    "start_time": "2025-01-12T21:49:57.032Z"
   },
   {
    "duration": 10,
    "start_time": "2025-01-12T21:49:57.047Z"
   },
   {
    "duration": 5,
    "start_time": "2025-01-12T21:49:57.059Z"
   },
   {
    "duration": 10,
    "start_time": "2025-01-12T21:49:57.069Z"
   },
   {
    "duration": 2,
    "start_time": "2025-01-12T21:49:57.081Z"
   },
   {
    "duration": 17,
    "start_time": "2025-01-12T21:49:57.112Z"
   },
   {
    "duration": 1139,
    "start_time": "2025-01-12T21:49:57.131Z"
   },
   {
    "duration": 167,
    "start_time": "2025-01-12T21:49:58.271Z"
   },
   {
    "duration": 2845,
    "start_time": "2025-01-12T21:49:58.440Z"
   },
   {
    "duration": 2,
    "start_time": "2025-01-12T21:50:01.287Z"
   },
   {
    "duration": 4,
    "start_time": "2025-01-12T21:50:01.291Z"
   },
   {
    "duration": 16,
    "start_time": "2025-01-12T21:50:01.297Z"
   },
   {
    "duration": 13,
    "start_time": "2025-01-12T21:50:01.315Z"
   },
   {
    "duration": 36,
    "start_time": "2025-01-12T21:50:01.332Z"
   },
   {
    "duration": 39,
    "start_time": "2025-01-12T21:50:01.370Z"
   },
   {
    "duration": 3,
    "start_time": "2025-01-12T21:50:01.411Z"
   },
   {
    "duration": 3,
    "start_time": "2025-01-12T21:50:01.416Z"
   },
   {
    "duration": 5,
    "start_time": "2025-01-12T21:50:01.421Z"
   },
   {
    "duration": 7,
    "start_time": "2025-01-12T21:50:01.428Z"
   },
   {
    "duration": 4,
    "start_time": "2025-01-12T21:50:01.436Z"
   },
   {
    "duration": 828,
    "start_time": "2025-01-12T21:50:01.442Z"
   },
   {
    "duration": 3,
    "start_time": "2025-01-12T21:50:02.273Z"
   },
   {
    "duration": 38,
    "start_time": "2025-01-12T21:50:02.278Z"
   },
   {
    "duration": 7,
    "start_time": "2025-01-12T21:50:02.321Z"
   },
   {
    "duration": 3,
    "start_time": "2025-01-12T21:50:02.331Z"
   },
   {
    "duration": 22,
    "start_time": "2025-01-12T21:50:02.339Z"
   },
   {
    "duration": 9,
    "start_time": "2025-01-12T21:50:02.553Z"
   },
   {
    "duration": 7,
    "start_time": "2025-01-12T21:50:03.533Z"
   },
   {
    "duration": 3,
    "start_time": "2025-01-12T21:50:03.769Z"
   },
   {
    "duration": 4,
    "start_time": "2025-01-12T21:50:04.655Z"
   },
   {
    "duration": 12,
    "start_time": "2025-01-12T21:50:05.120Z"
   },
   {
    "duration": 4,
    "start_time": "2025-01-12T21:50:05.310Z"
   },
   {
    "duration": 9,
    "start_time": "2025-01-12T21:50:06.012Z"
   },
   {
    "duration": 5,
    "start_time": "2025-01-12T21:50:10.147Z"
   },
   {
    "duration": 226,
    "start_time": "2025-01-13T00:39:51.884Z"
   },
   {
    "duration": 4,
    "start_time": "2025-01-13T00:45:31.188Z"
   },
   {
    "duration": 4,
    "start_time": "2025-01-13T00:47:45.459Z"
   },
   {
    "duration": 3,
    "start_time": "2025-01-13T00:49:13.879Z"
   },
   {
    "duration": 8,
    "start_time": "2025-01-13T00:49:47.813Z"
   },
   {
    "duration": 7,
    "start_time": "2025-01-13T00:53:58.791Z"
   },
   {
    "duration": 8,
    "start_time": "2025-01-13T00:56:01.519Z"
   },
   {
    "duration": 7,
    "start_time": "2025-01-13T01:03:02.182Z"
   },
   {
    "duration": 7,
    "start_time": "2025-01-13T01:03:04.243Z"
   },
   {
    "duration": 2116,
    "start_time": "2025-01-13T01:04:32.478Z"
   },
   {
    "duration": 5,
    "start_time": "2025-01-13T01:04:56.620Z"
   },
   {
    "duration": 10,
    "start_time": "2025-01-13T01:04:57.907Z"
   },
   {
    "duration": 3,
    "start_time": "2025-01-13T01:04:59.050Z"
   },
   {
    "duration": 9,
    "start_time": "2025-01-13T01:05:00.042Z"
   },
   {
    "duration": 10,
    "start_time": "2025-01-13T01:05:04.523Z"
   },
   {
    "duration": 3,
    "start_time": "2025-01-13T01:05:05.619Z"
   },
   {
    "duration": 10,
    "start_time": "2025-01-13T01:05:06.275Z"
   },
   {
    "duration": 2,
    "start_time": "2025-01-13T01:05:06.967Z"
   },
   {
    "duration": 2160,
    "start_time": "2025-01-13T01:05:25.598Z"
   },
   {
    "duration": 970,
    "start_time": "2025-01-13T01:05:30.175Z"
   },
   {
    "duration": 8,
    "start_time": "2025-01-13T01:05:32.935Z"
   },
   {
    "duration": 4,
    "start_time": "2025-01-13T01:05:34.106Z"
   },
   {
    "duration": 11,
    "start_time": "2025-01-13T01:05:35.314Z"
   },
   {
    "duration": 9,
    "start_time": "2025-01-13T01:05:36.108Z"
   },
   {
    "duration": 3,
    "start_time": "2025-01-13T01:05:37.585Z"
   },
   {
    "duration": 12,
    "start_time": "2025-01-13T01:05:39.596Z"
   },
   {
    "duration": 17,
    "start_time": "2025-01-13T01:05:54.290Z"
   },
   {
    "duration": 626,
    "start_time": "2025-01-13T01:08:28.602Z"
   },
   {
    "duration": 2557,
    "start_time": "2025-01-13T01:12:43.802Z"
   },
   {
    "duration": 2,
    "start_time": "2025-01-13T01:13:06.987Z"
   }
  ],
  "kernelspec": {
   "display_name": "Python 3 (ipykernel)",
   "language": "python",
   "name": "python3"
  },
  "language_info": {
   "codemirror_mode": {
    "name": "ipython",
    "version": 3
   },
   "file_extension": ".py",
   "mimetype": "text/x-python",
   "name": "python",
   "nbconvert_exporter": "python",
   "pygments_lexer": "ipython3",
   "version": "3.9.19"
  },
  "toc": {
   "base_numbering": 1,
   "nav_menu": {},
   "number_sections": true,
   "sideBar": true,
   "skip_h1_title": true,
   "title_cell": "Table of Contents",
   "title_sidebar": "Contents",
   "toc_cell": false,
   "toc_position": {},
   "toc_section_display": true,
   "toc_window_display": false
  }
 },
 "nbformat": 4,
 "nbformat_minor": 4
}
