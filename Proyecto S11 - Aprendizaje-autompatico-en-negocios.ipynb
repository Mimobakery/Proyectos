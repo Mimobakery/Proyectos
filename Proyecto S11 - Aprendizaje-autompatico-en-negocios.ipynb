{
 "cells": [
  {
   "cell_type": "markdown",
   "metadata": {},
   "source": [
    "### Introducción\n",
    "El objetivo de este proyecto es ayudar a la compañía OilyGiant a seleccionar las mejores ubicaciones para abrir 200 nuevos pozos petroleros en una región dada. Para ello, se ha utilizado un modelo predictivo basado en regresión lineal para estimar el volumen de reservas de crudo en diferentes regiones. Posteriormente, se han analizado los posibles beneficios de cada región, tomando en cuenta tanto el riesgo como la ganancia esperada. Finalmente, se ha implementado la técnica de bootstrapping para evaluar los riesgos de pérdida y determinar la mejor opción para invertir."
   ]
  },
  {
   "cell_type": "markdown",
   "metadata": {},
   "source": [
    "### Desarrollo\n",
    "#### Paso 1: Cargar librerías y explorar dataset"
   ]
  },
  {
   "cell_type": "code",
   "execution_count": 1,
   "metadata": {},
   "outputs": [],
   "source": [
    "#carga de librerías\n",
    "import pandas as pd\n",
    "import numpy as np\n",
    "import random\n",
    "from sklearn.linear_model import LinearRegression\n",
    "from sklearn.model_selection import train_test_split\n",
    "from sklearn.metrics import mean_squared_error"
   ]
  },
  {
   "cell_type": "code",
   "execution_count": 2,
   "metadata": {},
   "outputs": [
    {
     "name": "stdout",
     "output_type": "stream",
     "text": [
      "      id        f0        f1        f2     product\n",
      "0  txEyH  0.705745 -0.497823  1.221170  105.280062\n",
      "1  2acmU  1.334711 -0.340164  4.365080   73.037750\n",
      "2  409Wp  1.022732  0.151990  1.419926   85.265647\n",
      "3  iJLyR -0.032172  0.139033  2.978566  168.620776\n",
      "4  Xdl7t  1.988431  0.155413  4.751769  154.036647\n",
      "      id         f0         f1        f2     product\n",
      "0  kBEdx -15.001348  -8.276000 -0.005876    3.179103\n",
      "1  62mP7  14.272088  -3.475083  0.999183   26.953261\n",
      "2  vyE1P   6.263187  -5.948386  5.001160  134.766305\n",
      "3  KcrkZ -13.081196 -11.506057  4.999415  137.945408\n",
      "4  AHL4O  12.702195  -8.147433  5.004363  134.766305\n",
      "      id        f0        f1        f2     product\n",
      "0  fwXo0 -1.146987  0.963328 -0.828965   27.758673\n",
      "1  WJtFt  0.262778  0.269839 -2.530187   56.069697\n",
      "2  ovLUW  0.194587  0.289035 -5.586433   62.871910\n",
      "3  q6cA6  2.236060 -0.553760  0.930038  114.572842\n",
      "4  WPMUX -0.515993  1.716266  5.899011  149.600746\n"
     ]
    }
   ],
   "source": [
    "# se cargan los datos de cada región\n",
    "geo_data_0 = pd.read_csv('/datasets/geo_data_0.csv')\n",
    "geo_data_1 = pd.read_csv('/datasets/geo_data_1.csv')\n",
    "geo_data_2 = pd.read_csv('/datasets/geo_data_2.csv')\n",
    "\n",
    "# se usan las funciones info y head para inspección de la información  del dataset\n",
    "\n",
    "print(geo_data_0.head())\n",
    "print(geo_data_1.head())\n",
    "print(geo_data_2.head())"
   ]
  },
  {
   "cell_type": "code",
   "execution_count": 3,
   "metadata": {},
   "outputs": [
    {
     "name": "stdout",
     "output_type": "stream",
     "text": [
      "<class 'pandas.core.frame.DataFrame'>\n",
      "RangeIndex: 100000 entries, 0 to 99999\n",
      "Data columns (total 5 columns):\n",
      " #   Column   Non-Null Count   Dtype  \n",
      "---  ------   --------------   -----  \n",
      " 0   id       100000 non-null  object \n",
      " 1   f0       100000 non-null  float64\n",
      " 2   f1       100000 non-null  float64\n",
      " 3   f2       100000 non-null  float64\n",
      " 4   product  100000 non-null  float64\n",
      "dtypes: float64(4), object(1)\n",
      "memory usage: 3.8+ MB\n",
      "<class 'pandas.core.frame.DataFrame'>\n",
      "RangeIndex: 100000 entries, 0 to 99999\n",
      "Data columns (total 5 columns):\n",
      " #   Column   Non-Null Count   Dtype  \n",
      "---  ------   --------------   -----  \n",
      " 0   id       100000 non-null  object \n",
      " 1   f0       100000 non-null  float64\n",
      " 2   f1       100000 non-null  float64\n",
      " 3   f2       100000 non-null  float64\n",
      " 4   product  100000 non-null  float64\n",
      "dtypes: float64(4), object(1)\n",
      "memory usage: 3.8+ MB\n",
      "<class 'pandas.core.frame.DataFrame'>\n",
      "RangeIndex: 100000 entries, 0 to 99999\n",
      "Data columns (total 5 columns):\n",
      " #   Column   Non-Null Count   Dtype  \n",
      "---  ------   --------------   -----  \n",
      " 0   id       100000 non-null  object \n",
      " 1   f0       100000 non-null  float64\n",
      " 2   f1       100000 non-null  float64\n",
      " 3   f2       100000 non-null  float64\n",
      " 4   product  100000 non-null  float64\n",
      "dtypes: float64(4), object(1)\n",
      "memory usage: 3.8+ MB\n"
     ]
    }
   ],
   "source": [
    "geo_data_0.info()\n",
    "geo_data_1.info()\n",
    "geo_data_2.info()"
   ]
  },
  {
   "cell_type": "code",
   "execution_count": 4,
   "metadata": {},
   "outputs": [
    {
     "name": "stdout",
     "output_type": "stream",
     "text": [
      "0\n",
      "0\n",
      "0\n",
      "\n",
      "id         0\n",
      "f0         0\n",
      "f1         0\n",
      "f2         0\n",
      "product    0\n",
      "dtype: int64\n",
      "id         0\n",
      "f0         0\n",
      "f1         0\n",
      "f2         0\n",
      "product    0\n",
      "dtype: int64\n",
      "id         0\n",
      "f0         0\n",
      "f1         0\n",
      "f2         0\n",
      "product    0\n",
      "dtype: int64\n"
     ]
    }
   ],
   "source": [
    "#preprocesamiento\n",
    "#revisión de filas duplicadas\n",
    "print(geo_data_0.duplicated().sum())\n",
    "print(geo_data_1.duplicated().sum())\n",
    "print(geo_data_2.duplicated().sum())\n",
    "print()\n",
    "#revisión de valores nulos\n",
    "print(geo_data_0.isnull().sum())\n",
    "print(geo_data_1.isnull().sum())\n",
    "print(geo_data_2.isnull().sum())"
   ]
  },
  {
   "cell_type": "markdown",
   "metadata": {},
   "source": [
    "No se encontraron duplicados ni valores faltantes en las columnas relevantes."
   ]
  },
  {
   "cell_type": "markdown",
   "metadata": {},
   "source": [
    "#### Paso 2: Generación de primera función y evaluación de rendimiento.\n",
    "Se genera definición para la división de datos de entrenamiento y validación, entrenamiento del modelo de regresión lineal, generación de predicciones en el conjunto de validación y el calculo del RMSE para el modelo."
   ]
  },
  {
   "cell_type": "code",
   "execution_count": 7,
   "metadata": {},
   "outputs": [],
   "source": [
    "#se genera una definicion para utilizar en los 3 df\n",
    "def train_and_validate_model(data):\n",
    "    # se los datos en features (X) y target (y)\n",
    "    X = data[['f0', 'f1', 'f2']]\n",
    "    y = data['product']\n",
    "    \n",
    "    # se divide datos en grupos de entrenamiento y validación (75% - 25%)\n",
    "    X_train, X_val, y_train, y_val = train_test_split(X, y, test_size=0.25, random_state=12345)\n",
    "    \n",
    "    # se entrena el modelo de regresión lineal\n",
    "    model = LinearRegression()\n",
    "    model.fit(X_train, y_train)\n",
    "    \n",
    "    # se hacen predicciones en el conjunto de validación\n",
    "    y_pred = model.predict(X_val)\n",
    "    \n",
    "    # calculo del RMSE\n",
    "    rmse = np.sqrt(mean_squared_error(y_val, y_pred))\n",
    "    \n",
    "    # resultados\n",
    "    mean_pred = np.mean(y_pred)\n",
    "    print(f\"Volumen medio de reservas predicho: {mean_pred}\")\n",
    "    print(f\"RMSE: {rmse}\")\n",
    "    \n",
    "    return model, y_pred, y_val\n"
   ]
  },
  {
   "cell_type": "markdown",
   "metadata": {},
   "source": [
    "Se evalua el rendimiento de cada región utilizando la definición para calcular el volumen medio de reservas predicho y el RMSE para cada DF."
   ]
  },
  {
   "cell_type": "code",
   "execution_count": 8,
   "metadata": {},
   "outputs": [
    {
     "name": "stdout",
     "output_type": "stream",
     "text": [
      "Volumen medio de reservas predicho: 92.59256778438035\n",
      "RMSE: 37.5794217150813\n",
      "Volumen medio de reservas predicho: 68.728546895446\n",
      "RMSE: 0.893099286775617\n",
      "Volumen medio de reservas predicho: 94.96504596800489\n",
      "RMSE: 40.02970873393434\n"
     ]
    }
   ],
   "source": [
    "# entrenamiento y validación del modelo para cada región\n",
    "model_0, y_pred_0, y_val_0 = train_and_validate_model(geo_data_0)\n",
    "model_1, y_pred_1, y_val_1 = train_and_validate_model(geo_data_1)\n",
    "model_2, y_pred_2, y_val_2 = train_and_validate_model(geo_data_2)"
   ]
  },
  {
   "cell_type": "markdown",
   "metadata": {},
   "source": [
    "#### Paso 3: Análisis de ganancias\n",
    "\n",
    "Para cada una de las tres regiones, se calcula la ganancia potencial de los 200 pozos con mayor volumen de reservas predicho utilizando una nueva fórmula para calcular la ganancia basada en el ingreso por barril (4500 USD por cada 1000 barriles) y la cantidad mínima de reservas necesarias para que un pozo sea rentable (111 unidades o $500000 USD por pozo).\n"
   ]
  },
  {
   "cell_type": "code",
   "execution_count": 9,
   "metadata": {},
   "outputs": [],
   "source": [
    "# ingreso por barril\n",
    "income_per_barrel = 4500  # dólares por unidad (miles de barriles, literal $4500 USD = 1000 barriles = 1 unidad)\n",
    "# se calcula la cantidad mínima de reservas necesarias para que un pozo sea rentable\n",
    "min_reservoir_value = 500000 / income_per_barrel  # cantidad mínima de barriles (111 unidades aprox)\n",
    "\n",
    "# Función para calcular la ganancia de un conjunto de pozos seleccionados\n",
    "def calculate_profit(model, data, top_n=200):\n",
    "    # predección del volumen de reservas\n",
    "    X = data[['f0', 'f1', 'f2']]\n",
    "    y_pred = model.predict(X)\n",
    "    \n",
    "    # selección de los 200 pozos con mayor volumen de reservas predicho\n",
    "    data['predicted_reservoir'] = y_pred\n",
    "    top_200 = data.nlargest(top_n, 'predicted_reservoir')\n",
    "    \n",
    "    # cálculo la ganancia potencial\n",
    "    total_reservoir = top_200['predicted_reservoir'].sum() #suma volumen de reservas de los 200 pozos seleccionados\n",
    "    total_profit = total_reservoir * income_per_barrel\n",
    "    return total_profit, total_reservoir\n"
   ]
  },
  {
   "cell_type": "code",
   "execution_count": 10,
   "metadata": {},
   "outputs": [
    {
     "name": "stdout",
     "output_type": "stream",
     "text": [
      "Ganancia región 0: 146895961.7696032 USD, Reservas: 32643.547059911823 miles de barriles\n",
      "Ganancia región 1: 125246061.6171504 USD, Reservas: 27832.45813714453 miles de barriles\n",
      "Ganancia región 2: 140637855.90942594 USD, Reservas: 31252.856868761322 miles de barriles\n"
     ]
    }
   ],
   "source": [
    "# Se calculan las ganancias para las tres regiones con la función\n",
    "profit_0, reservoir_0 = calculate_profit(model_0, geo_data_0)\n",
    "profit_1, reservoir_1 = calculate_profit(model_1, geo_data_1)\n",
    "profit_2, reservoir_2 = calculate_profit(model_2, geo_data_2)\n",
    "\n",
    "print(f\"Ganancia región 0: {profit_0} USD, Reservas: {reservoir_0} miles de barriles\")\n",
    "print(f\"Ganancia región 1: {profit_1} USD, Reservas: {reservoir_1} miles de barriles\")\n",
    "print(f\"Ganancia región 2: {profit_2} USD, Reservas: {reservoir_2} miles de barriles\")"
   ]
  },
  {
   "cell_type": "markdown",
   "metadata": {},
   "source": [
    "#### Paso 4: Evaluación de riesgos utilizando Bootstrapping\n",
    "Se aplica la técnica de bootstrapping para simular la distribución de beneficios y calcular el intervalo de confianza del 95% para cada región. Además, se evalua el riesgo de pérdidas (cuando los beneficios sean negativos) para cada región."
   ]
  },
  {
   "cell_type": "code",
   "execution_count": 11,
   "metadata": {},
   "outputs": [
    {
     "name": "stdout",
     "output_type": "stream",
     "text": [
      "Región 0: Ganancia promedio: 83314123.87808537, Intervalo de confianza: (80710679.4410337, 86282367.70441446), Riesgo de pérdidas: 0.0%\n",
      "Región 1: Ganancia promedio: 61896170.1019992, Intervalo de confianza: (55864963.87042256, 67570377.80782768), Riesgo de pérdidas: 0.0%\n",
      "Región 2: Ganancia promedio: 85467278.63676935, Intervalo de confianza: (82949927.46685341, 88106324.58971258), Riesgo de pérdidas: 0.0%\n"
     ]
    }
   ],
   "source": [
    "def bootstrap(data, model, n_iterations=1000):\n",
    "    profits = [] # se almacenará las ganancias obtenidas en cada iteración del remuestreo\n",
    "    for _ in range(n_iterations):\n",
    "        sample = data.sample(n=200, replace=True)\n",
    "        total_profit, _ = calculate_profit(model, sample) # se calcula la ganancia total para la muestra usando la función calculate_profit\n",
    "        profits.append(total_profit)\n",
    "    \n",
    "    # cálculo del intervalo de confianza del 95%\n",
    "    lower_percentile = np.percentile(profits, 2.5)\n",
    "    upper_percentile = np.percentile(profits, 97.5)\n",
    "    \n",
    "    # cálculo del riesgo de pérdidas\n",
    "    losses = [p for p in profits if p < 0]\n",
    "    risk_of_loss = len(losses) / len(profits) * 100 #porcentaje de iteraciones con pérdidas\n",
    "    \n",
    "    return np.mean(profits), lower_percentile, upper_percentile, risk_of_loss\n",
    "\n",
    "# cálculo de riesgos y ganancias para cada región\n",
    "mean_profit_0, ci_low_0, ci_up_0, risk_0 = bootstrap(geo_data_0, model_0)\n",
    "mean_profit_1, ci_low_1, ci_up_1, risk_1 = bootstrap(geo_data_1, model_1)\n",
    "mean_profit_2, ci_low_2, ci_up_2, risk_2 = bootstrap(geo_data_2, model_2)\n",
    "\n",
    "print(f\"Región 0: Ganancia promedio: {mean_profit_0}, Intervalo de confianza: ({ci_low_0}, {ci_up_0}), Riesgo de pérdidas: {risk_0}%\")\n",
    "print(f\"Región 1: Ganancia promedio: {mean_profit_1}, Intervalo de confianza: ({ci_low_1}, {ci_up_1}), Riesgo de pérdidas: {risk_1}%\")\n",
    "print(f\"Región 2: Ganancia promedio: {mean_profit_2}, Intervalo de confianza: ({ci_low_2}, {ci_up_2}), Riesgo de pérdidas: {risk_2}%\")"
   ]
  },
  {
   "cell_type": "markdown",
   "metadata": {},
   "source": [
    "### Resultados y Conclusiones\n",
    "\n",
    "\n",
    "**Resultados de los modelos**\n",
    "\n",
    "Región 0:\n",
    "\n",
    "- Ganancia potencial: 146,9 millones de USD\n",
    "- Volumen de reservas: 32,643 miles de barriles\n",
    "- RMSE: 37.58\n",
    "- Riesgo de pérdidas: 0%\n",
    "\n",
    "Región 1:\n",
    "\n",
    "- Ganancia potencial: 125,2 millones de USD\n",
    "- Volumen de reservas: 27,832 miles de barriles\n",
    "- RMSE: 0.89\n",
    "- Riesgo de pérdidas: 0%\n",
    "\n",
    "Región 2:\n",
    "\n",
    "- Ganancia potencial: 140,6 millones de USD\n",
    "- Volumen de reservas: 31,253 miles de barriles\n",
    "- RMSE: 40.03\n",
    "- Riesgo de pérdidas: 0%\n",
    "\n",
    "**Evaluación de riesgos utilizando bootstrapping**\n",
    "\n",
    "Los resultados del bootstrapping revelaron lo siguiente:\n",
    "\n",
    "Región 0:\n",
    "\n",
    "- Ganancia promedio: 83.3 millones de USD\n",
    "- Intervalo de confianza: (80.5 millones, 86.3 millones)\n",
    "- Riesgo de pérdidas: 0%\n",
    "\n",
    "Región 1:\n",
    "\n",
    "- Ganancia promedio: 61.9 millones de USD\n",
    "- Intervalo de confianza: (55.9 millones, 67.5 millones)\n",
    "- Riesgo de pérdidas: 0%\n",
    "\n",
    "Región 2:\n",
    "\n",
    "- Ganancia promedio: 85.5 millones de USD\n",
    "- Intervalo de confianza: (83.0 millones, 87.9 millones)\n",
    "- Riesgo de pérdidas: 0%\n",
    "\n",
    "**Conclusión**\n",
    "\n",
    "Con base en los resultados obtenidos, la Región 2 se presenta como la mejor opción para abrir nuevos pozos petroleros. Aunque la Región 0 tiene una ganancia potencial ligeramente superior, la Región 2 muestra un riesgo de pérdidas nulo y un mayor beneficio promedio al considerar las variaciones en los ingresos debido a la técnica de bootstrapping. La Región 2 también presenta un intervalo de confianza más estrecho, lo que indica una mayor estabilidad en las predicciones del beneficio. Por lo tanto, la Región 2 es la más favorable para realizar la inversión, cumpliendo con los criterios de ganancia potencial, estabilidad en los resultados y un riesgo de pérdidas nulo."
   ]
  }
 ],
 "metadata": {
  "ExecuteTimeLog": [
   {
    "duration": 757,
    "start_time": "2024-12-20T00:06:53.974Z"
   },
   {
    "duration": 312,
    "start_time": "2024-12-20T00:08:44.831Z"
   },
   {
    "duration": 25,
    "start_time": "2024-12-20T00:09:23.903Z"
   },
   {
    "duration": 29,
    "start_time": "2024-12-20T00:09:29.702Z"
   },
   {
    "duration": 116,
    "start_time": "2024-12-20T00:09:47.147Z"
   },
   {
    "duration": 3,
    "start_time": "2024-12-20T00:10:52.711Z"
   },
   {
    "duration": 225,
    "start_time": "2024-12-20T00:11:28.010Z"
   },
   {
    "duration": 5,
    "start_time": "2024-12-20T00:12:52.547Z"
   },
   {
    "duration": 241,
    "start_time": "2024-12-20T00:13:04.197Z"
   },
   {
    "duration": 6403,
    "start_time": "2024-12-20T00:13:53.042Z"
   },
   {
    "duration": 96,
    "start_time": "2024-12-20T00:18:42.918Z"
   },
   {
    "duration": 812,
    "start_time": "2024-12-20T13:24:32.220Z"
   },
   {
    "duration": 311,
    "start_time": "2024-12-20T13:24:33.034Z"
   },
   {
    "duration": 26,
    "start_time": "2024-12-20T13:24:33.347Z"
   },
   {
    "duration": 104,
    "start_time": "2024-12-20T13:24:33.520Z"
   },
   {
    "duration": 210,
    "start_time": "2024-12-20T13:25:48.857Z"
   },
   {
    "duration": 2563,
    "start_time": "2024-12-20T13:26:48.451Z"
   },
   {
    "duration": 4,
    "start_time": "2024-12-20T13:28:00.804Z"
   },
   {
    "duration": 211,
    "start_time": "2024-12-20T13:28:14.507Z"
   },
   {
    "duration": 4,
    "start_time": "2024-12-20T13:28:38.232Z"
   },
   {
    "duration": 193,
    "start_time": "2024-12-20T13:28:40.821Z"
   },
   {
    "duration": 6195,
    "start_time": "2024-12-20T13:29:30.559Z"
   }
  ],
  "kernelspec": {
   "display_name": "Python 3 (ipykernel)",
   "language": "python",
   "name": "python3"
  },
  "language_info": {
   "codemirror_mode": {
    "name": "ipython",
    "version": 3
   },
   "file_extension": ".py",
   "mimetype": "text/x-python",
   "name": "python",
   "nbconvert_exporter": "python",
   "pygments_lexer": "ipython3",
   "version": "3.9.19"
  },
  "toc": {
   "base_numbering": 1,
   "nav_menu": {},
   "number_sections": true,
   "sideBar": true,
   "skip_h1_title": true,
   "title_cell": "Table of Contents",
   "title_sidebar": "Contents",
   "toc_cell": false,
   "toc_position": {},
   "toc_section_display": true,
   "toc_window_display": false
  }
 },
 "nbformat": 4,
 "nbformat_minor": 2
}
