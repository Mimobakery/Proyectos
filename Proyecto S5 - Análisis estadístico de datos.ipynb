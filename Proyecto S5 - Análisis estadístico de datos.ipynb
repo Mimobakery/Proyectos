{
 "cells": [
  {
   "cell_type": "markdown",
   "metadata": {
    "id": "3rYiDeEH0q0f"
   },
   "source": [
    "# Introducción\n",
    "\n",
    "Trabajas como analista para el operador de telecomunicaciones Megaline. La empresa ofrece a sus clientes dos tarifas de prepago, Surf y Ultimate. El departamento comercial quiere saber cuál de las tarifas genera más ingresos para poder ajustar el presupuesto de publicidad.\n",
    "\n",
    "Vas a realizar un análisis preliminar de las tarifas basado en una selección de clientes relativamente pequeña. Tendrás los datos de 500 clientes de Megaline: quiénes son los clientes, de dónde son, qué tarifa usan, así como la cantidad de llamadas que hicieron y los mensajes de texto que enviaron en 2018. Tu trabajo es analizar el comportamiento de los clientes y determinar qué tarifa de prepago genera más ingresos."
   ]
  },
  {
   "cell_type": "markdown",
   "metadata": {
    "id": "MQi4IPy70q0y"
   },
   "source": [
    "### Inicialización"
   ]
  },
  {
   "cell_type": "code",
   "execution_count": 116,
   "metadata": {
    "id": "MtYIuBxu0q0z"
   },
   "outputs": [],
   "source": [
    "# Cargar todas las librerías\n",
    "from scipy import stats as st\n",
    "import math as mt\n",
    "import numpy as np\n",
    "import seaborn as sns\n",
    "import pandas as pd\n",
    "import matplotlib.pyplot as plt"
   ]
  },
  {
   "cell_type": "markdown",
   "metadata": {
    "id": "4ysWWC5i0q00"
   },
   "source": [
    "### Cargar datos"
   ]
  },
  {
   "cell_type": "code",
   "execution_count": 117,
   "metadata": {
    "id": "CCqPW7rS0q01"
   },
   "outputs": [],
   "source": [
    "# Carga los archivos de datos en diferentes DataFrames\n",
    "users = pd.read_csv('/datasets/megaline_users.csv')\n",
    "calls = pd.read_csv('/datasets/megaline_calls.csv')\n",
    "messages = pd.read_csv('/datasets/megaline_messages.csv')\n",
    "internet = pd.read_csv('/datasets/megaline_internet.csv')\n",
    "plans = pd.read_csv('/datasets/megaline_plans.csv')\n"
   ]
  },
  {
   "cell_type": "markdown",
   "metadata": {
    "id": "69qqoJ3r0q01"
   },
   "source": [
    "### Preparar los datos"
   ]
  },
  {
   "cell_type": "markdown",
   "metadata": {
    "id": "ohBhimvH0q01"
   },
   "source": [
    "## Tarifas"
   ]
  },
  {
   "cell_type": "code",
   "execution_count": 7,
   "metadata": {
    "id": "GptqP3Q40q02"
   },
   "outputs": [
    {
     "name": "stdout",
     "output_type": "stream",
     "text": [
      "<class 'pandas.core.frame.DataFrame'>\n",
      "RangeIndex: 2 entries, 0 to 1\n",
      "Data columns (total 8 columns):\n",
      " #   Column                 Non-Null Count  Dtype  \n",
      "---  ------                 --------------  -----  \n",
      " 0   messages_included      2 non-null      int64  \n",
      " 1   mb_per_month_included  2 non-null      int64  \n",
      " 2   minutes_included       2 non-null      int64  \n",
      " 3   usd_monthly_pay        2 non-null      int64  \n",
      " 4   usd_per_gb             2 non-null      int64  \n",
      " 5   usd_per_message        2 non-null      float64\n",
      " 6   usd_per_minute         2 non-null      float64\n",
      " 7   plan_name              2 non-null      object \n",
      "dtypes: float64(2), int64(5), object(1)\n",
      "memory usage: 256.0+ bytes\n",
      "0\n"
     ]
    }
   ],
   "source": [
    "# Imprime la información general/resumida sobre el DataFrame de las tarifas\n",
    "plans.info()\n",
    "print(plans.duplicated().sum())"
   ]
  },
  {
   "cell_type": "code",
   "execution_count": 8,
   "metadata": {
    "id": "64xzjwL70q02"
   },
   "outputs": [
    {
     "name": "stdout",
     "output_type": "stream",
     "text": [
      "   messages_included  mb_per_month_included  minutes_included  \\\n",
      "0                 50                  15360               500   \n",
      "1               1000                  30720              3000   \n",
      "\n",
      "   usd_monthly_pay  usd_per_gb  usd_per_message  usd_per_minute plan_name  \n",
      "0               20          10             0.03            0.03      surf  \n",
      "1               70           7             0.01            0.01  ultimate  \n"
     ]
    }
   ],
   "source": [
    "# Imprime una muestra de los datos para las tarifas\n",
    "print(plans.head())\n"
   ]
  },
  {
   "cell_type": "markdown",
   "metadata": {},
   "source": [
    "<div class=\"alert alert-block alert-info\">\n",
    "\n",
    "**Macarena :\n",
    "La tabla de tarifas `plans` contiene toda la información sobre ambos planes (Surf y Ultimate). Sin embargo, hay un problema importante: en la descripción del proyecto se menciona que \"para tráfico web, el total del mes se redondea hacia arriba. Si alguien utiliza 1025 megabytes este mes, se le cobrarán 2 gigabytes\". Por lo tanto, los megabytes en la columna mb_per_month_included deben ajustarse a 15 y 30 GB, eliminando los megabytes adicionales, para evitar la confusión de que los planes cubren 16 y 31 GB, respectivamente. Además, se añadirá una columna que muestre la misma información en gigabytes.**\n",
    "   \n",
    "\n",
    "</div>"
   ]
  },
  {
   "cell_type": "markdown",
   "metadata": {
    "id": "R3C05i1l0q03"
   },
   "source": [
    "### Corregir datos"
   ]
  },
  {
   "cell_type": "code",
   "execution_count": 9,
   "metadata": {
    "id": "Y7SVmjGn0q03"
   },
   "outputs": [
    {
     "name": "stdout",
     "output_type": "stream",
     "text": [
      "   messages_included  mb_per_month_included  minutes_included  \\\n",
      "0                 50                  15000               500   \n",
      "1               1000                  30000              3000   \n",
      "\n",
      "   usd_monthly_pay  usd_per_gb  usd_per_message  usd_per_minute      plan  \n",
      "0               20          10             0.03            0.03      surf  \n",
      "1               70           7             0.01            0.01  ultimate  \n"
     ]
    }
   ],
   "source": [
    "plans[\"mb_per_month_included\"] = plans[\"mb_per_month_included\"].replace([15360,30720],[15000, 30000])\n",
    "plans.rename(columns={\"plan_name\": \"plan\"}, inplace =True)\n",
    "print(plans.head())"
   ]
  },
  {
   "cell_type": "markdown",
   "metadata": {
    "id": "LJir7bml0q03"
   },
   "source": [
    "### Enriquecer los datos"
   ]
  },
  {
   "cell_type": "code",
   "execution_count": 10,
   "metadata": {
    "id": "gfcIEuXV0q04"
   },
   "outputs": [
    {
     "name": "stdout",
     "output_type": "stream",
     "text": [
      "   messages_included  mb_per_month_included  minutes_included  \\\n",
      "0                 50                  15000               500   \n",
      "1               1000                  30000              3000   \n",
      "\n",
      "   usd_monthly_pay  usd_per_gb  usd_per_message  usd_per_minute      plan  \\\n",
      "0               20          10             0.03            0.03      surf   \n",
      "1               70           7             0.01            0.01  ultimate   \n",
      "\n",
      "   gb_per_month_included  \n",
      "0                   15.0  \n",
      "1                   30.0  \n"
     ]
    }
   ],
   "source": [
    "plans['gb_per_month_included'] = plans['mb_per_month_included'] / 1000\n",
    "print(plans.head())"
   ]
  },
  {
   "cell_type": "markdown",
   "metadata": {
    "id": "1n2X6WXf0q04"
   },
   "source": [
    "## Usuarios/as"
   ]
  },
  {
   "cell_type": "code",
   "execution_count": 11,
   "metadata": {
    "id": "2NgjWFqx0q05"
   },
   "outputs": [
    {
     "name": "stdout",
     "output_type": "stream",
     "text": [
      "<class 'pandas.core.frame.DataFrame'>\n",
      "RangeIndex: 500 entries, 0 to 499\n",
      "Data columns (total 8 columns):\n",
      " #   Column      Non-Null Count  Dtype \n",
      "---  ------      --------------  ----- \n",
      " 0   user_id     500 non-null    int64 \n",
      " 1   first_name  500 non-null    object\n",
      " 2   last_name   500 non-null    object\n",
      " 3   age         500 non-null    int64 \n",
      " 4   city        500 non-null    object\n",
      " 5   reg_date    500 non-null    object\n",
      " 6   plan        500 non-null    object\n",
      " 7   churn_date  34 non-null     object\n",
      "dtypes: int64(2), object(6)\n",
      "memory usage: 31.4+ KB\n",
      "0\n"
     ]
    }
   ],
   "source": [
    "# Imprime la información general/resumida sobre el DataFrame de usuarios\n",
    "users.info()\n",
    "print(users.duplicated().sum())"
   ]
  },
  {
   "cell_type": "code",
   "execution_count": 12,
   "metadata": {
    "id": "1IN1L9uh0q05"
   },
   "outputs": [
    {
     "name": "stdout",
     "output_type": "stream",
     "text": [
      "   user_id first_name  last_name  age                                   city  \\\n",
      "0     1000   Anamaria      Bauer   45  Atlanta-Sandy Springs-Roswell, GA MSA   \n",
      "1     1001     Mickey  Wilkerson   28        Seattle-Tacoma-Bellevue, WA MSA   \n",
      "2     1002     Carlee    Hoffman   36   Las Vegas-Henderson-Paradise, NV MSA   \n",
      "3     1003   Reynaldo    Jenkins   52                          Tulsa, OK MSA   \n",
      "4     1004    Leonila   Thompson   40        Seattle-Tacoma-Bellevue, WA MSA   \n",
      "\n",
      "     reg_date      plan churn_date  \n",
      "0  2018-12-24  ultimate        NaN  \n",
      "1  2018-08-13      surf        NaN  \n",
      "2  2018-10-21      surf        NaN  \n",
      "3  2018-01-28      surf        NaN  \n",
      "4  2018-05-23      surf        NaN  \n",
      "0                Atlanta-Sandy Springs-Roswell, GA MSA\n",
      "1                      Seattle-Tacoma-Bellevue, WA MSA\n",
      "2                 Las Vegas-Henderson-Paradise, NV MSA\n",
      "3                                        Tulsa, OK MSA\n",
      "4                      Seattle-Tacoma-Bellevue, WA MSA\n",
      "5                  Dallas-Fort Worth-Arlington, TX MSA\n",
      "6               San Francisco-Oakland-Berkeley, CA MSA\n",
      "7                        Grand Rapids-Kentwood, MI MSA\n",
      "8                    Orlando-Kissimmee-Sanford, FL MSA\n",
      "9               San Jose-Sunnyvale-Santa Clara, CA MSA\n",
      "10                 Dallas-Fort Worth-Arlington, TX MSA\n",
      "11                            Cleveland-Elyria, OH MSA\n",
      "12              Chicago-Naperville-Elgin, IL-IN-WI MSA\n",
      "13                                   Knoxville, TN MSA\n",
      "14           New York-Newark-Jersey City, NY-NJ-PA MSA\n",
      "15                                  Pittsburgh, PA MSA\n",
      "16                                      Fresno, CA MSA\n",
      "17    Washington-Arlington-Alexandria, DC-VA-MD-WV MSA\n",
      "18                Indianapolis-Carmel-Anderson, IN MSA\n",
      "19                                Jacksonville, FL MSA\n",
      "Name: city, dtype: object\n",
      "73\n"
     ]
    }
   ],
   "source": [
    "# Imprime una muestra de datos para usuarios\n",
    "print(users.head())\n",
    "print(users[\"city\"].head(20))\n",
    "print(users[\"city\"].nunique())"
   ]
  },
  {
   "cell_type": "markdown",
   "metadata": {},
   "source": [
    "<div class=\"alert alert-block alert-info\">\n",
    "\n",
    "**Macarena :\n",
    "La tabla `users` presenta información sobre los 500 clientes que conforman la muestra para este proyecto, incluyendo datos como la fecha de inicio de su suscripción, el tipo de tarifa que utilizan, su residencia (ciudad y estado), edad, entre otros.\n",
    "Un aspecto a señalar es la presencia de datos ausentes en la columna churn_date. Aunque esto podría ser un inconveniente si el análisis requiere datos completos, en este momento no considero necesario reemplazarlos, ya que me indican cuáles usuarios aún cuentan con una suscripción activa. Si en el futuro se requiere un cambio, probablemente se reemplazarán por una fecha ficticia específica (por ejemplo, 1999-01-01) para mantener su distinción.\n",
    "Además, las columnas churn_date y reg_date contienen valores de fecha, pero actualmente están clasificadas como object. También sugiero que, para futuros análisis, sería conveniente separar la columna city, utilizando la coma como delimitador, para obtener tanto la columna city como la columna state. Por último, se cambiará el tipo de dato de user_id a string para facilitar futuras uniones con otras tablas.**\n",
    "   \n",
    "    \n",
    "</div>"
   ]
  },
  {
   "cell_type": "markdown",
   "metadata": {
    "id": "BX5FQh_I0q06"
   },
   "source": [
    "### Corregir los datos"
   ]
  },
  {
   "cell_type": "code",
   "execution_count": 13,
   "metadata": {
    "id": "yUqX-K0C0q07",
    "scrolled": true
   },
   "outputs": [
    {
     "name": "stdout",
     "output_type": "stream",
     "text": [
      "<class 'pandas.core.frame.DataFrame'>\n",
      "RangeIndex: 500 entries, 0 to 499\n",
      "Data columns (total 8 columns):\n",
      " #   Column      Non-Null Count  Dtype         \n",
      "---  ------      --------------  -----         \n",
      " 0   user_id     500 non-null    object        \n",
      " 1   first_name  500 non-null    object        \n",
      " 2   last_name   500 non-null    object        \n",
      " 3   age         500 non-null    int64         \n",
      " 4   city        500 non-null    object        \n",
      " 5   reg_date    500 non-null    datetime64[ns]\n",
      " 6   plan        500 non-null    object        \n",
      " 7   churn_date  34 non-null     datetime64[ns]\n",
      "dtypes: datetime64[ns](2), int64(1), object(5)\n",
      "memory usage: 31.4+ KB\n"
     ]
    }
   ],
   "source": [
    "users['reg_date'] = pd.to_datetime(users['reg_date'], format='%Y-%m-%d')\n",
    "users['churn_date'] = pd.to_datetime(users['churn_date'], format='%Y-%m-%d')\n",
    "users['user_id'] = users['user_id'].astype(str)\n",
    "users.info()"
   ]
  },
  {
   "cell_type": "markdown",
   "metadata": {
    "id": "ycwuARJp0q07"
   },
   "source": [
    "### Enriquecer los datos"
   ]
  },
  {
   "cell_type": "code",
   "execution_count": 14,
   "metadata": {
    "id": "iq0AaBS90q08"
   },
   "outputs": [
    {
     "name": "stdout",
     "output_type": "stream",
     "text": [
      "  user_id first_name  last_name  age   reg_date      plan churn_date  \\\n",
      "0    1000   Anamaria      Bauer   45 2018-12-24  ultimate        NaT   \n",
      "1    1001     Mickey  Wilkerson   28 2018-08-13      surf        NaT   \n",
      "2    1002     Carlee    Hoffman   36 2018-10-21      surf        NaT   \n",
      "3    1003   Reynaldo    Jenkins   52 2018-01-28      surf        NaT   \n",
      "4    1004    Leonila   Thompson   40 2018-05-23      surf        NaT   \n",
      "\n",
      "                       city_name   state  \n",
      "0  Atlanta-Sandy Springs-Roswell  GA MSA  \n",
      "1        Seattle-Tacoma-Bellevue  WA MSA  \n",
      "2   Las Vegas-Henderson-Paradise  NV MSA  \n",
      "3                          Tulsa  OK MSA  \n",
      "4        Seattle-Tacoma-Bellevue  WA MSA  \n"
     ]
    }
   ],
   "source": [
    "users[[\"city_name\", \"state\"]] = users[\"city\"].str.split(', ', 1, expand=True)\n",
    "users = users.drop(columns=['city'])\n",
    "print(users.head())"
   ]
  },
  {
   "cell_type": "markdown",
   "metadata": {
    "id": "o7MeKCid0q08"
   },
   "source": [
    "## Llamadas"
   ]
  },
  {
   "cell_type": "code",
   "execution_count": 15,
   "metadata": {
    "id": "6dDlnoDm0q08"
   },
   "outputs": [
    {
     "name": "stdout",
     "output_type": "stream",
     "text": [
      "<class 'pandas.core.frame.DataFrame'>\n",
      "RangeIndex: 137735 entries, 0 to 137734\n",
      "Data columns (total 4 columns):\n",
      " #   Column     Non-Null Count   Dtype  \n",
      "---  ------     --------------   -----  \n",
      " 0   id         137735 non-null  object \n",
      " 1   user_id    137735 non-null  int64  \n",
      " 2   call_date  137735 non-null  object \n",
      " 3   duration   137735 non-null  float64\n",
      "dtypes: float64(1), int64(1), object(2)\n",
      "memory usage: 4.2+ MB\n"
     ]
    }
   ],
   "source": [
    "# Imprime la información general/resumida sobre el DataFrame de las llamadas\n",
    "calls.info()\n"
   ]
  },
  {
   "cell_type": "code",
   "execution_count": 12,
   "metadata": {
    "id": "kuh1vlNB0q09"
   },
   "outputs": [
    {
     "name": "stdout",
     "output_type": "stream",
     "text": [
      "          id  user_id   call_date  duration\n",
      "0    1000_93     1000  2018-12-27      8.52\n",
      "1   1000_145     1000  2018-12-27     13.66\n",
      "2   1000_247     1000  2018-12-27     14.48\n",
      "3   1000_309     1000  2018-12-28      5.76\n",
      "4   1000_380     1000  2018-12-30      4.22\n",
      "5   1000_388     1000  2018-12-31      2.20\n",
      "6   1000_510     1000  2018-12-27      5.75\n",
      "7   1000_521     1000  2018-12-28     14.18\n",
      "8   1000_530     1000  2018-12-28      5.77\n",
      "9   1000_544     1000  2018-12-26      4.40\n",
      "10  1000_693     1000  2018-12-31      4.31\n",
      "11  1000_705     1000  2018-12-31     12.78\n",
      "12  1000_735     1000  2018-12-29      1.70\n",
      "13  1000_778     1000  2018-12-28      3.29\n",
      "14  1000_826     1000  2018-12-26      9.96\n",
      "15  1000_842     1000  2018-12-27      5.85\n",
      "16    1001_0     1001  2018-09-06     10.06\n",
      "17    1001_1     1001  2018-10-12      1.00\n",
      "18    1001_2     1001  2018-10-17     15.83\n",
      "19    1001_4     1001  2018-12-05      0.00\n",
      "20    1001_5     1001  2018-12-13      6.27\n",
      "21    1001_6     1001  2018-12-04      7.19\n",
      "22    1001_8     1001  2018-11-17      2.45\n",
      "23    1001_9     1001  2018-11-19      2.40\n",
      "24   1001_11     1001  2018-11-09      1.00\n",
      "25   1001_13     1001  2018-12-24      0.00\n",
      "26   1001_19     1001  2018-11-15     30.00\n",
      "27   1001_20     1001  2018-09-21      5.75\n",
      "28   1001_23     1001  2018-10-27      0.98\n",
      "29   1001_26     1001  2018-10-28      5.90\n",
      "0\n"
     ]
    }
   ],
   "source": [
    "# Imprime una muestra de datos para las llamadas\n",
    "print(calls.head(30))\n",
    "print(calls.duplicated().sum())\n"
   ]
  },
  {
   "cell_type": "markdown",
   "metadata": {},
   "source": [
    "<div class=\"alert alert-block alert-info\">\n",
    "\n",
    "**Macarena :\n",
    "La tabla `calls` contiene información sobre todas las llamadas realizadas por la muestra de clientes de Megaline durante el periodo analizado (2018), incluyendo el usuario que realizó la llamada, la fecha y la duración.\n",
    "Respecto a esta tabla, tengo las siguientes observaciones: primero, el tipo de dato de call_date debería clasificarse como un valor de fecha. En segundo lugar, la columna duration debe redondearse hacia arriba, conforme a lo indicado en la descripción del proyecto: \"Nota: Megaline redondea los segundos a minutos y los megabytes a gigabytes. Para llamadas, cada llamada individual se redondea; incluso si la llamada duró solo un segundo, se contará como un minuto\".\n",
    "Por último, sería útil enriquecer la tabla añadiendo una columna que indique únicamente el mes. Dado que estamos midiendo tarifas que consideran el gasto mensual de cada usuario para calcular los cobros, esta columna facilitaría el agrupamiento del consumo por usuario.**\n",
    "   \n",
    "    \n",
    "</div>"
   ]
  },
  {
   "cell_type": "markdown",
   "metadata": {
    "id": "S7hzxmbX0q0-"
   },
   "source": [
    "### Corregir los datos"
   ]
  },
  {
   "cell_type": "code",
   "execution_count": 16,
   "metadata": {
    "id": "S2r8xA4f0q0-"
   },
   "outputs": [
    {
     "name": "stdout",
     "output_type": "stream",
     "text": [
      "         id  user_id  call_date  duration\n",
      "0   1000_93     1000 2018-12-27         9\n",
      "1  1000_145     1000 2018-12-27        14\n",
      "2  1000_247     1000 2018-12-27        15\n",
      "3  1000_309     1000 2018-12-28         6\n",
      "4  1000_380     1000 2018-12-30         5\n",
      "\n",
      "<class 'pandas.core.frame.DataFrame'>\n",
      "RangeIndex: 137735 entries, 0 to 137734\n",
      "Data columns (total 4 columns):\n",
      " #   Column     Non-Null Count   Dtype         \n",
      "---  ------     --------------   -----         \n",
      " 0   id         137735 non-null  object        \n",
      " 1   user_id    137735 non-null  int64         \n",
      " 2   call_date  137735 non-null  datetime64[ns]\n",
      " 3   duration   137735 non-null  int64         \n",
      "dtypes: datetime64[ns](1), int64(2), object(1)\n",
      "memory usage: 4.2+ MB\n"
     ]
    }
   ],
   "source": [
    "calls['call_date'] = pd.to_datetime(calls['call_date'], format='%Y-%m-%d')\n",
    "calls['duration'] = np.ceil(calls['duration']).astype('int64')\n",
    "\n",
    "print(calls.head())\n",
    "print()\n",
    "calls.info()"
   ]
  },
  {
   "cell_type": "markdown",
   "metadata": {
    "id": "KrMgTrlG0q0_"
   },
   "source": [
    "### Enriquecer los datos"
   ]
  },
  {
   "cell_type": "code",
   "execution_count": 17,
   "metadata": {
    "id": "iZ1avpA_0q0_"
   },
   "outputs": [
    {
     "name": "stdout",
     "output_type": "stream",
     "text": [
      "         id  user_id  call_date  duration  month\n",
      "0   1000_93     1000 2018-12-27         9     12\n",
      "1  1000_145     1000 2018-12-27        14     12\n",
      "2  1000_247     1000 2018-12-27        15     12\n",
      "3  1000_309     1000 2018-12-28         6     12\n",
      "4  1000_380     1000 2018-12-30         5     12\n",
      "\n",
      "<class 'pandas.core.frame.DataFrame'>\n",
      "RangeIndex: 137735 entries, 0 to 137734\n",
      "Data columns (total 5 columns):\n",
      " #   Column     Non-Null Count   Dtype         \n",
      "---  ------     --------------   -----         \n",
      " 0   id         137735 non-null  object        \n",
      " 1   user_id    137735 non-null  int64         \n",
      " 2   call_date  137735 non-null  datetime64[ns]\n",
      " 3   duration   137735 non-null  int64         \n",
      " 4   month      137735 non-null  int64         \n",
      "dtypes: datetime64[ns](1), int64(3), object(1)\n",
      "memory usage: 5.3+ MB\n"
     ]
    }
   ],
   "source": [
    "calls['month'] = calls['call_date'].dt.month\n",
    "\n",
    "print(calls.head())\n",
    "print()\n",
    "calls.info()"
   ]
  },
  {
   "cell_type": "markdown",
   "metadata": {
    "id": "mOUZSi180q0_"
   },
   "source": [
    "## Mensajes"
   ]
  },
  {
   "cell_type": "code",
   "execution_count": 18,
   "metadata": {
    "id": "R-bYJpdV0q1A"
   },
   "outputs": [
    {
     "name": "stdout",
     "output_type": "stream",
     "text": [
      "<class 'pandas.core.frame.DataFrame'>\n",
      "RangeIndex: 76051 entries, 0 to 76050\n",
      "Data columns (total 3 columns):\n",
      " #   Column        Non-Null Count  Dtype \n",
      "---  ------        --------------  ----- \n",
      " 0   id            76051 non-null  object\n",
      " 1   user_id       76051 non-null  int64 \n",
      " 2   message_date  76051 non-null  object\n",
      "dtypes: int64(1), object(2)\n",
      "memory usage: 1.7+ MB\n",
      "0\n"
     ]
    }
   ],
   "source": [
    "# Imprime la información general/resumida sobre el DataFrame de los mensajes\n",
    "messages.info()\n",
    "print(messages.duplicated().sum())"
   ]
  },
  {
   "cell_type": "code",
   "execution_count": 19,
   "metadata": {
    "id": "mCEl2iGE0q1A"
   },
   "outputs": [
    {
     "name": "stdout",
     "output_type": "stream",
     "text": [
      "         id  user_id message_date\n",
      "0  1000_125     1000   2018-12-27\n",
      "1  1000_160     1000   2018-12-31\n",
      "2  1000_223     1000   2018-12-31\n",
      "3  1000_251     1000   2018-12-27\n",
      "4  1000_255     1000   2018-12-26\n"
     ]
    }
   ],
   "source": [
    "# Imprime una muestra de datos para los mensajes\n",
    "print(messages.head())\n"
   ]
  },
  {
   "cell_type": "markdown",
   "metadata": {},
   "source": [
    "<div class=\"alert alert-block alert-info\">\n",
    "\n",
    "**Macarena :\n",
    "La tabla de `messages` contiene información sobre todos los mensajes enviados por la muestra de clientes de Megaline durante el periodo analizado (2018), incluyendo el usuario que los envió y la fecha de envío.\n",
    "Respecto a esta tabla, tengo las siguientes observaciones: en primer lugar, el tipo de dato de message_date debería clasificarse como un valor de fecha. Además, sería útil enriquecer la tabla añadiendo una columna que indique únicamente el mes. Dado que estamos midiendo tarifas que consideran el gasto mensual de cada usuario para calcular los cobros, esta columna facilitaría el agrupamiento del consumo por usuario.**\n",
    "   \n",
    "    \n",
    "</div>"
   ]
  },
  {
   "cell_type": "markdown",
   "metadata": {
    "id": "Sprfak900q1B"
   },
   "source": [
    "### Corregir los datos"
   ]
  },
  {
   "cell_type": "code",
   "execution_count": 20,
   "metadata": {
    "id": "vsllvkoa0q1B"
   },
   "outputs": [
    {
     "name": "stdout",
     "output_type": "stream",
     "text": [
      "         id  user_id message_date\n",
      "0  1000_125     1000   2018-12-27\n",
      "1  1000_160     1000   2018-12-31\n",
      "2  1000_223     1000   2018-12-31\n",
      "3  1000_251     1000   2018-12-27\n",
      "4  1000_255     1000   2018-12-26\n",
      "\n",
      "<class 'pandas.core.frame.DataFrame'>\n",
      "RangeIndex: 76051 entries, 0 to 76050\n",
      "Data columns (total 3 columns):\n",
      " #   Column        Non-Null Count  Dtype         \n",
      "---  ------        --------------  -----         \n",
      " 0   id            76051 non-null  object        \n",
      " 1   user_id       76051 non-null  int64         \n",
      " 2   message_date  76051 non-null  datetime64[ns]\n",
      "dtypes: datetime64[ns](1), int64(1), object(1)\n",
      "memory usage: 1.7+ MB\n"
     ]
    }
   ],
   "source": [
    "messages['message_date'] = pd.to_datetime(messages['message_date'], format='%Y-%m-%d')\n",
    "\n",
    "print(messages.head())\n",
    "print()\n",
    "messages.info()"
   ]
  },
  {
   "cell_type": "markdown",
   "metadata": {
    "id": "HvLid7iD0q1B"
   },
   "source": [
    "### Enriquecer los datos"
   ]
  },
  {
   "cell_type": "code",
   "execution_count": 21,
   "metadata": {
    "id": "zYEXZac10q1C"
   },
   "outputs": [
    {
     "name": "stdout",
     "output_type": "stream",
     "text": [
      "         id  user_id message_date  month\n",
      "0  1000_125     1000   2018-12-27     12\n",
      "1  1000_160     1000   2018-12-31     12\n",
      "2  1000_223     1000   2018-12-31     12\n",
      "3  1000_251     1000   2018-12-27     12\n",
      "4  1000_255     1000   2018-12-26     12\n",
      "\n",
      "<class 'pandas.core.frame.DataFrame'>\n",
      "RangeIndex: 76051 entries, 0 to 76050\n",
      "Data columns (total 4 columns):\n",
      " #   Column        Non-Null Count  Dtype         \n",
      "---  ------        --------------  -----         \n",
      " 0   id            76051 non-null  object        \n",
      " 1   user_id       76051 non-null  int64         \n",
      " 2   message_date  76051 non-null  datetime64[ns]\n",
      " 3   month         76051 non-null  int64         \n",
      "dtypes: datetime64[ns](1), int64(2), object(1)\n",
      "memory usage: 2.3+ MB\n"
     ]
    }
   ],
   "source": [
    "messages['month'] = messages['message_date'].dt.month\n",
    "\n",
    "print(messages.head())\n",
    "print()\n",
    "messages.info()"
   ]
  },
  {
   "cell_type": "markdown",
   "metadata": {
    "id": "bStkaxn40q1C"
   },
   "source": [
    "## Internet"
   ]
  },
  {
   "cell_type": "code",
   "execution_count": 22,
   "metadata": {
    "id": "e-Uz5qyn0q1C"
   },
   "outputs": [
    {
     "name": "stdout",
     "output_type": "stream",
     "text": [
      "<class 'pandas.core.frame.DataFrame'>\n",
      "RangeIndex: 104825 entries, 0 to 104824\n",
      "Data columns (total 4 columns):\n",
      " #   Column        Non-Null Count   Dtype  \n",
      "---  ------        --------------   -----  \n",
      " 0   id            104825 non-null  object \n",
      " 1   user_id       104825 non-null  int64  \n",
      " 2   session_date  104825 non-null  object \n",
      " 3   mb_used       104825 non-null  float64\n",
      "dtypes: float64(1), int64(1), object(2)\n",
      "memory usage: 3.2+ MB\n",
      "0\n"
     ]
    }
   ],
   "source": [
    "# Imprime la información general/resumida sobre el DataFrame de internet\n",
    "internet.info()\n",
    "print(internet.duplicated().sum())"
   ]
  },
  {
   "cell_type": "code",
   "execution_count": 23,
   "metadata": {
    "id": "9r3x_XLw0q1C"
   },
   "outputs": [
    {
     "name": "stdout",
     "output_type": "stream",
     "text": [
      "         id  user_id session_date  mb_used\n",
      "0   1000_13     1000   2018-12-29    89.86\n",
      "1  1000_204     1000   2018-12-31     0.00\n",
      "2  1000_379     1000   2018-12-28   660.40\n",
      "3  1000_413     1000   2018-12-26   270.99\n",
      "4  1000_442     1000   2018-12-27   880.22\n"
     ]
    }
   ],
   "source": [
    "# Imprime una muestra de datos para el tráfico de internet\n",
    "print(internet.head())\n"
   ]
  },
  {
   "cell_type": "markdown",
   "metadata": {
    "id": "EzOG5ik30q1D"
   },
   "source": [
    "\n",
    "\n",
    "<div class=\"alert alert-block alert-info\">\n",
    "\n",
    "**Macarena :\n",
    "La tabla `internet` contiene información sobre el tráfico de datos utilizado por la muestra de clientes de Megaline durante el periodo analizado (2018), indicando el usuario que realizó cada sesión, la fecha de la sesión y los megabytes utilizados.\n",
    "Respecto a esta tabla, tengo las siguientes observaciones: en primer lugar, el tipo de dato de session_date debería clasificarse como un valor de fecha. Además, sería beneficioso enriquecer la tabla añadiendo una columna que indique únicamente el mes. Dado que estamos midiendo tarifas que consideran el gasto mensual de cada usuario para calcular los cobros, esta columna facilitaría el agrupamiento del consumo por usuario.**\n",
    "   \n",
    "    \n",
    "</div>"
   ]
  },
  {
   "cell_type": "markdown",
   "metadata": {
    "id": "yA0tkPFg0q1D"
   },
   "source": [
    "### Corregir los datos"
   ]
  },
  {
   "cell_type": "code",
   "execution_count": 24,
   "metadata": {
    "id": "zVeanzdd0q1E"
   },
   "outputs": [
    {
     "name": "stdout",
     "output_type": "stream",
     "text": [
      "         id  user_id session_date  mb_used\n",
      "0   1000_13     1000   2018-12-29    89.86\n",
      "1  1000_204     1000   2018-12-31     0.00\n",
      "2  1000_379     1000   2018-12-28   660.40\n",
      "3  1000_413     1000   2018-12-26   270.99\n",
      "4  1000_442     1000   2018-12-27   880.22\n",
      "\n",
      "<class 'pandas.core.frame.DataFrame'>\n",
      "RangeIndex: 104825 entries, 0 to 104824\n",
      "Data columns (total 4 columns):\n",
      " #   Column        Non-Null Count   Dtype         \n",
      "---  ------        --------------   -----         \n",
      " 0   id            104825 non-null  object        \n",
      " 1   user_id       104825 non-null  int64         \n",
      " 2   session_date  104825 non-null  datetime64[ns]\n",
      " 3   mb_used       104825 non-null  float64       \n",
      "dtypes: datetime64[ns](1), float64(1), int64(1), object(1)\n",
      "memory usage: 3.2+ MB\n"
     ]
    }
   ],
   "source": [
    "internet['session_date'] = pd.to_datetime(internet['session_date'], format='%Y-%m-%d')\n",
    "\n",
    "print(internet.head())\n",
    "print()\n",
    "internet.info()"
   ]
  },
  {
   "cell_type": "markdown",
   "metadata": {
    "id": "e8_mLF4a0q1E"
   },
   "source": [
    "### Enriquecer los datos"
   ]
  },
  {
   "cell_type": "code",
   "execution_count": 25,
   "metadata": {
    "id": "ESiYPIEK0q1E"
   },
   "outputs": [
    {
     "name": "stdout",
     "output_type": "stream",
     "text": [
      "         id  user_id session_date  mb_used  month\n",
      "0   1000_13     1000   2018-12-29    89.86     12\n",
      "1  1000_204     1000   2018-12-31     0.00     12\n",
      "2  1000_379     1000   2018-12-28   660.40     12\n",
      "3  1000_413     1000   2018-12-26   270.99     12\n",
      "4  1000_442     1000   2018-12-27   880.22     12\n",
      "\n",
      "<class 'pandas.core.frame.DataFrame'>\n",
      "RangeIndex: 104825 entries, 0 to 104824\n",
      "Data columns (total 5 columns):\n",
      " #   Column        Non-Null Count   Dtype         \n",
      "---  ------        --------------   -----         \n",
      " 0   id            104825 non-null  object        \n",
      " 1   user_id       104825 non-null  int64         \n",
      " 2   session_date  104825 non-null  datetime64[ns]\n",
      " 3   mb_used       104825 non-null  float64       \n",
      " 4   month         104825 non-null  int64         \n",
      "dtypes: datetime64[ns](1), float64(1), int64(2), object(1)\n",
      "memory usage: 4.0+ MB\n"
     ]
    }
   ],
   "source": [
    "internet['month'] = internet['session_date'].dt.month\n",
    "print(internet.head())\n",
    "print()\n",
    "internet.info()"
   ]
  },
  {
   "cell_type": "markdown",
   "metadata": {
    "id": "3UA2cqIW0q1E"
   },
   "source": [
    "## Estudiar las condiciones de las tarifas"
   ]
  },
  {
   "cell_type": "code",
   "execution_count": 26,
   "metadata": {
    "id": "i409op8p0q1F"
   },
   "outputs": [
    {
     "name": "stdout",
     "output_type": "stream",
     "text": [
      "<class 'pandas.core.frame.DataFrame'>\n",
      "RangeIndex: 2 entries, 0 to 1\n",
      "Data columns (total 9 columns):\n",
      " #   Column                 Non-Null Count  Dtype  \n",
      "---  ------                 --------------  -----  \n",
      " 0   messages_included      2 non-null      int64  \n",
      " 1   mb_per_month_included  2 non-null      int64  \n",
      " 2   minutes_included       2 non-null      int64  \n",
      " 3   usd_monthly_pay        2 non-null      int64  \n",
      " 4   usd_per_gb             2 non-null      int64  \n",
      " 5   usd_per_message        2 non-null      float64\n",
      " 6   usd_per_minute         2 non-null      float64\n",
      " 7   plan                   2 non-null      object \n",
      " 8   gb_per_month_included  2 non-null      float64\n",
      "dtypes: float64(3), int64(5), object(1)\n",
      "memory usage: 272.0+ bytes\n",
      "   messages_included  mb_per_month_included  minutes_included  \\\n",
      "0                 50                  15000               500   \n",
      "1               1000                  30000              3000   \n",
      "\n",
      "   usd_monthly_pay  usd_per_gb  usd_per_message  usd_per_minute      plan  \\\n",
      "0               20          10             0.03            0.03      surf   \n",
      "1               70           7             0.01            0.01  ultimate   \n",
      "\n",
      "   gb_per_month_included  \n",
      "0                   15.0  \n",
      "1                   30.0  \n"
     ]
    }
   ],
   "source": [
    "# Imprime las condiciones de la tarifa y asegúrate de que te quedan claras\n",
    "plans.info()\n",
    "print(plans.head())\n"
   ]
  },
  {
   "cell_type": "markdown",
   "metadata": {
    "id": "hMR1tP5d0q1F"
   },
   "source": [
    "## Agregar datos por usuario\n",
    "\n"
   ]
  },
  {
   "cell_type": "code",
   "execution_count": 27,
   "metadata": {
    "id": "A332cedB0q1G"
   },
   "outputs": [
    {
     "name": "stdout",
     "output_type": "stream",
     "text": [
      "              id  user_id  call_date  duration  month\n",
      "0        1000_93     1000 2018-12-27         9     12\n",
      "1       1000_145     1000 2018-12-27        14     12\n",
      "2       1000_247     1000 2018-12-27        15     12\n",
      "3       1000_309     1000 2018-12-28         6     12\n",
      "4       1000_380     1000 2018-12-30         5     12\n",
      "...          ...      ...        ...       ...    ...\n",
      "137730  1499_199     1499 2018-11-21         9     11\n",
      "137731  1499_200     1499 2018-10-20        11     10\n",
      "137732  1499_201     1499 2018-09-21         9      9\n",
      "137733  1499_202     1499 2018-10-10         1     10\n",
      "137734  1499_203     1499 2018-12-29        14     12\n",
      "\n",
      "[137735 rows x 5 columns]\n",
      "      user_id  month  number_of_calls  duration_calls\n",
      "2257     1499     12               65             496\n",
      "2256     1499     11               45             308\n",
      "2255     1499     10               53             385\n",
      "2254     1499      9               41             346\n",
      "2243     1498      2               37             244\n",
      "<class 'pandas.core.frame.DataFrame'>\n",
      "Int64Index: 2258 entries, 2257 to 0\n",
      "Data columns (total 4 columns):\n",
      " #   Column           Non-Null Count  Dtype\n",
      "---  ------           --------------  -----\n",
      " 0   user_id          2258 non-null   int64\n",
      " 1   month            2258 non-null   int64\n",
      " 2   number_of_calls  2258 non-null   int64\n",
      " 3   duration_calls   2258 non-null   int64\n",
      "dtypes: int64(4)\n",
      "memory usage: 88.2 KB\n",
      "\n",
      "      user_id  month  number_of_calls  duration_calls user_month\n",
      "2257     1499     12               65             496    1499_12\n",
      "2256     1499     11               45             308    1499_11\n",
      "2255     1499     10               53             385    1499_10\n",
      "2254     1499      9               41             346     1499_9\n",
      "2243     1498      2               37             244     1498_2\n",
      "2253     1498     12               39             339    1498_12\n",
      "2252     1498     11               41             223    1498_11\n",
      "2251     1498     10               46             298    1498_10\n",
      "2250     1498      9               45             363     1498_9\n",
      "2249     1498      8               44             266     1498_8\n",
      "2248     1498      7               43             321     1498_7\n",
      "2247     1498      6               37             238     1498_6\n",
      "2246     1498      5               35             288     1498_5\n",
      "2245     1498      4               47             365     1498_4\n",
      "2244     1498      3               37             266     1498_3\n",
      "2242     1497     12               54             300    1497_12\n",
      "2240     1496     11               39             308    1496_11\n",
      "2239     1496     10               46             317    1496_10\n",
      "2238     1496      9               52             414     1496_9\n",
      "2237     1496      8               18             122     1496_8\n",
      "2241     1496     12               40             294    1496_12\n",
      "2234     1495     10               75             610    1495_10\n",
      "2236     1495     12               65             492    1495_12\n",
      "2235     1495     11               61             361    1495_11\n",
      "2233     1495      9               52             302     1495_9\n",
      "<class 'pandas.core.frame.DataFrame'>\n",
      "Int64Index: 2258 entries, 2257 to 0\n",
      "Data columns (total 5 columns):\n",
      " #   Column           Non-Null Count  Dtype \n",
      "---  ------           --------------  ----- \n",
      " 0   user_id          2258 non-null   int64 \n",
      " 1   month            2258 non-null   int64 \n",
      " 2   number_of_calls  2258 non-null   int64 \n",
      " 3   duration_calls   2258 non-null   int64 \n",
      " 4   user_month       2258 non-null   object\n",
      "dtypes: int64(4), object(1)\n",
      "memory usage: 105.8+ KB\n"
     ]
    }
   ],
   "source": [
    "# Calcula el número de llamadas hechas por cada usuario al mes. Guarda el resultado.\n",
    "# Calcula la cantidad de minutos usados por cada usuario al mes. Guarda el resultado.\n",
    "print(calls)\n",
    "\n",
    "calls_grp = calls.groupby(['user_id', 'month']).agg(number_of_calls =('id', 'count'), duration_calls =('duration','sum')).reset_index().sort_values(by=\"user_id\", ascending=False)\n",
    "print(calls_grp.head())\n",
    "calls_grp.info()\n",
    "calls_grp['user_month'] = calls_grp['user_id'].astype(str) + '_' + calls_grp['month'].astype(str)\n",
    "print()\n",
    "print(calls_grp.head(25))\n",
    "calls_grp.info()\n",
    "\n",
    "\n"
   ]
  },
  {
   "cell_type": "markdown",
   "metadata": {},
   "source": [
    "<div class=\"alert alert-block alert-info\">\n",
    "\n",
    "**Macarena :\n",
    "Se genera una nueva tabla agrupada por usuario y mes, de manera que haya un único registro por usuario y periodo. En esta tabla, se incluye la cantidad de llamadas y la duración total de cada registro. Además, se crea una columna que fusiona el usuario y el mes, llamada user_month, que se utilizará como llave primaria para las funciones que se presentarán más adelante.**\n",
    "   \n",
    "    \n",
    "</div>"
   ]
  },
  {
   "cell_type": "code",
   "execution_count": 29,
   "metadata": {
    "id": "CcQvNHn60q1G",
    "scrolled": true
   },
   "outputs": [
    {
     "name": "stdout",
     "output_type": "stream",
     "text": [
      "         id  user_id message_date  month\n",
      "0  1000_125     1000   2018-12-27     12\n",
      "1  1000_160     1000   2018-12-31     12\n",
      "2  1000_223     1000   2018-12-31     12\n",
      "3  1000_251     1000   2018-12-27     12\n",
      "4  1000_255     1000   2018-12-26     12\n",
      "<class 'pandas.core.frame.DataFrame'>\n",
      "Int64Index: 1806 entries, 1805 to 0\n",
      "Data columns (total 3 columns):\n",
      " #   Column          Non-Null Count  Dtype\n",
      "---  ------          --------------  -----\n",
      " 0   user_id         1806 non-null   int64\n",
      " 1   month           1806 non-null   int64\n",
      " 2   total_messages  1806 non-null   int64\n",
      "dtypes: int64(3)\n",
      "memory usage: 56.4 KB\n",
      "      user_id  month  total_messages user_month\n",
      "1805     1497     12              50    1497_12\n",
      "1804     1496     12              11    1496_12\n",
      "1803     1496     11              13    1496_11\n",
      "1802     1496     10              18    1496_10\n",
      "1801     1496      9              21     1496_9\n",
      "1800     1496      8               2     1496_8\n",
      "1799     1494     12              33    1494_12\n",
      "1798     1494     11              35    1494_11\n",
      "1797     1494     10              38    1494_10\n",
      "1796     1494      9              21     1494_9\n",
      "1795     1494      8              27     1494_8\n",
      "1794     1494      7              20     1494_7\n",
      "1791     1492     10              29    1492_10\n",
      "1790     1492      9              11     1492_9\n",
      "1793     1492     12              37    1492_12\n",
      "1792     1492     11              31    1492_11\n",
      "1789     1491     12              43    1491_12\n",
      "1788     1491     11              46    1491_11\n",
      "1787     1491     10              51    1491_10\n",
      "1786     1491      9              50     1491_9\n",
      "1785     1491      8              50     1491_8\n",
      "1784     1491      7              64     1491_7\n",
      "1783     1491      6              54     1491_6\n",
      "1782     1491      5              45     1491_5\n",
      "1781     1491      4               6     1491_4\n",
      "<class 'pandas.core.frame.DataFrame'>\n",
      "Int64Index: 1806 entries, 1805 to 0\n",
      "Data columns (total 4 columns):\n",
      " #   Column          Non-Null Count  Dtype \n",
      "---  ------          --------------  ----- \n",
      " 0   user_id         1806 non-null   int64 \n",
      " 1   month           1806 non-null   int64 \n",
      " 2   total_messages  1806 non-null   int64 \n",
      " 3   user_month      1806 non-null   object\n",
      "dtypes: int64(3), object(1)\n",
      "memory usage: 70.5+ KB\n"
     ]
    }
   ],
   "source": [
    "# Calcula el número de mensajes enviados por cada usuario al mes. Guarda el resultado.\n",
    "\n",
    "print(messages.head())\n",
    "messages_grp = messages.groupby(['user_id', 'month']).agg(total_messages=('id', 'count')).reset_index().sort_values(by=\"user_id\", ascending=False)\n",
    "messages_grp.info()\n",
    "messages_grp['user_month'] = messages_grp['user_id'].astype(str) + '_' + messages_grp['month'].astype(str)\n",
    "print(messages_grp.head(25))\n",
    "messages_grp.info()\n",
    "\n",
    "\n"
   ]
  },
  {
   "cell_type": "markdown",
   "metadata": {},
   "source": [
    "<div class=\"alert alert-block alert-info\">\n",
    "\n",
    "**Macarena :\n",
    "Se crea una nueva tabla agrupada por usuario y mes, asegurando que haya un único registro por usuario y periodo. En esta tabla, se incluye la cantidad de mensajes de cada registro y se genera también la columna user_month.**\n",
    "   \n",
    "    \n",
    "</div>"
   ]
  },
  {
   "cell_type": "code",
   "execution_count": 30,
   "metadata": {
    "id": "H1AqN2eG0q1H"
   },
   "outputs": [
    {
     "name": "stdout",
     "output_type": "stream",
     "text": [
      "         id  user_id session_date  mb_used  month\n",
      "0   1000_13     1000   2018-12-29    89.86     12\n",
      "1  1000_204     1000   2018-12-31     0.00     12\n",
      "2  1000_379     1000   2018-12-28   660.40     12\n",
      "3  1000_413     1000   2018-12-26   270.99     12\n",
      "4  1000_442     1000   2018-12-27   880.22     12\n",
      "\n",
      "<class 'pandas.core.frame.DataFrame'>\n",
      "Int64Index: 2277 entries, 2276 to 0\n",
      "Data columns (total 3 columns):\n",
      " #   Column         Non-Null Count  Dtype  \n",
      "---  ------         --------------  -----  \n",
      " 0   user_id        2277 non-null   int64  \n",
      " 1   month          2277 non-null   int64  \n",
      " 2   total_data_mb  2277 non-null   float64\n",
      "dtypes: float64(1), int64(2)\n",
      "memory usage: 71.2 KB\n",
      "\n",
      "      user_id  month  total_data_mb user_month\n",
      "2276     1499     12       22059.21    1499_12\n",
      "2275     1499     11       16813.83    1499_11\n",
      "2274     1499     10       19492.43    1499_10\n",
      "2273     1499      9       12984.76     1499_9\n",
      "2262     1498      2       19822.04     1498_2\n",
      "2272     1498     12       23137.69    1498_12\n",
      "2271     1498     11       19168.55    1498_11\n",
      "2270     1498     10       20580.76    1498_10\n",
      "2269     1498      9       22827.28     1498_9\n",
      "2268     1498      8       20261.89     1498_8\n",
      "2267     1498      7       24834.37     1498_7\n",
      "2266     1498      6       14807.18     1498_6\n",
      "2265     1498      5       22462.17     1498_5\n",
      "2264     1498      4       19878.86     1498_4\n",
      "2263     1498      3       19744.34     1498_3\n",
      "2261     1497     12       11106.55    1497_12\n",
      "2259     1496     11        8547.36    1496_11\n",
      "2258     1496     10       14287.36    1496_10\n",
      "2257     1496      9       16389.27     1496_9\n",
      "2256     1496      8        8605.66     1496_8\n",
      "2260     1496     12       16438.99    1496_12\n",
      "2253     1495     10       26899.41    1495_10\n",
      "2255     1495     12       24097.40    1495_12\n",
      "2254     1495     11       24912.78    1495_11\n",
      "2252     1495      9       22981.37     1495_9\n",
      "<class 'pandas.core.frame.DataFrame'>\n",
      "Int64Index: 2277 entries, 2276 to 0\n",
      "Data columns (total 4 columns):\n",
      " #   Column         Non-Null Count  Dtype  \n",
      "---  ------         --------------  -----  \n",
      " 0   user_id        2277 non-null   int64  \n",
      " 1   month          2277 non-null   int64  \n",
      " 2   total_data_mb  2277 non-null   float64\n",
      " 3   user_month     2277 non-null   object \n",
      "dtypes: float64(1), int64(2), object(1)\n",
      "memory usage: 88.9+ KB\n"
     ]
    }
   ],
   "source": [
    "# Calcula el volumen del tráfico de Internet usado por cada usuario al mes. Guarda el resultado.\n",
    "print(internet.head())\n",
    "internet_grp = internet.groupby(['user_id', 'month']).agg(total_data_mb=('mb_used', 'sum')).reset_index().sort_values(by=\"user_id\", ascending=False)\n",
    "print()\n",
    "internet_grp.info()\n",
    "internet_grp['user_month'] = internet_grp['user_id'].astype(str) + '_' + internet_grp['month'].astype(str)\n",
    "print()\n",
    "print(internet_grp.head(25))\n",
    "internet_grp.info()\n"
   ]
  },
  {
   "cell_type": "markdown",
   "metadata": {},
   "source": [
    "<div class=\"alert alert-block alert-info\">\n",
    "\n",
    "**Macarena :\n",
    "Se crea una nueva tabla agrupada por usuario y mes, asegurando que haya un único registro por usuario y periodo. En esta tabla, se incluye la cantidad de tráfico de internet de cada registro y se genera también la columna user_month.**\n",
    "   \n",
    "    \n",
    "</div>"
   ]
  },
  {
   "cell_type": "code",
   "execution_count": 31,
   "metadata": {
    "id": "FW99ykyf0q1H"
   },
   "outputs": [
    {
     "name": "stdout",
     "output_type": "stream",
     "text": [
      "      number_of_calls  duration_calls  total_messages  total_data_mb user_id  \\\n",
      "0                65.0           496.0             NaN       22059.21    1499   \n",
      "1                45.0           308.0             NaN       16813.83    1499   \n",
      "2                53.0           385.0             NaN       19492.43    1499   \n",
      "3                41.0           346.0             NaN       12984.76    1499   \n",
      "4                37.0           244.0             NaN       19822.04    1498   \n",
      "...               ...             ...             ...            ...     ...   \n",
      "2288              NaN             NaN            50.0       33559.88    1080   \n",
      "2289              NaN             NaN            61.0       24543.42    1080   \n",
      "2290              NaN             NaN            12.0       12591.91    1028   \n",
      "2291              NaN             NaN             NaN        1498.83    1311   \n",
      "2292              NaN             NaN             NaN         233.17    1108   \n",
      "\n",
      "     month  \n",
      "0       12  \n",
      "1       11  \n",
      "2       10  \n",
      "3        9  \n",
      "4        2  \n",
      "...    ...  \n",
      "2288    11  \n",
      "2289    12  \n",
      "2290     2  \n",
      "2291     6  \n",
      "2292    12  \n",
      "\n",
      "[2293 rows x 6 columns]\n",
      "<class 'pandas.core.frame.DataFrame'>\n",
      "Int64Index: 2293 entries, 0 to 2292\n",
      "Data columns (total 6 columns):\n",
      " #   Column           Non-Null Count  Dtype  \n",
      "---  ------           --------------  -----  \n",
      " 0   number_of_calls  2258 non-null   float64\n",
      " 1   duration_calls   2258 non-null   float64\n",
      " 2   total_messages   1806 non-null   float64\n",
      " 3   total_data_mb    2277 non-null   float64\n",
      " 4   user_id          2293 non-null   object \n",
      " 5   month            2293 non-null   object \n",
      "dtypes: float64(4), object(2)\n",
      "memory usage: 125.4+ KB\n",
      "      number_of_calls  duration_calls  total_messages  total_data_mb user_id  \\\n",
      "0                65.0           496.0             NaN       22059.21    1499   \n",
      "1                45.0           308.0             NaN       16813.83    1499   \n",
      "2                53.0           385.0             NaN       19492.43    1499   \n",
      "3                41.0           346.0             NaN       12984.76    1499   \n",
      "4                37.0           244.0             NaN       19822.04    1498   \n",
      "...               ...             ...             ...            ...     ...   \n",
      "2288              NaN             NaN            50.0       33559.88    1080   \n",
      "2289              NaN             NaN            61.0       24543.42    1080   \n",
      "2290              NaN             NaN            12.0       12591.91    1028   \n",
      "2291              NaN             NaN             NaN        1498.83    1311   \n",
      "2292              NaN             NaN             NaN         233.17    1108   \n",
      "\n",
      "     month  total_data_gb  \n",
      "0       12           23.0  \n",
      "1       11           17.0  \n",
      "2       10           20.0  \n",
      "3        9           13.0  \n",
      "4        2           20.0  \n",
      "...    ...            ...  \n",
      "2288    11           34.0  \n",
      "2289    12           25.0  \n",
      "2290     2           13.0  \n",
      "2291     6            2.0  \n",
      "2292    12            1.0  \n",
      "\n",
      "[2293 rows x 7 columns]\n"
     ]
    }
   ],
   "source": [
    "# Fusiona los datos de llamadas, minutos, mensajes e Internet con base en user_id y month\n",
    "grp = calls_grp.merge(messages_grp, on='user_month', how='outer')\n",
    "grp = grp.drop([\"user_id_x\",'month_x',\"user_id_y\",'month_y'], axis=\"columns\")\n",
    "grp = grp.merge(internet_grp, on='user_month', how='outer')\n",
    "grp = grp.drop([\"user_id\",'month'], axis=\"columns\")\n",
    "grp[[\"user_id\", \"month\"]] = grp[\"user_month\"].str.split('_', 1, expand=True)\n",
    "grp = grp.drop(columns=['user_month'])\n",
    "print(grp)\n",
    "grp.info()\n",
    "grp['total_data_gb'] = grp['total_data_mb'] / 1000\n",
    "grp['total_data_gb'] = np.ceil(grp['total_data_gb'])\n",
    "print(grp)\n"
   ]
  },
  {
   "cell_type": "markdown",
   "metadata": {
    "id": "VDfYXnj80q1H"
   },
   "source": [
    "\n",
    "<div class=\"alert alert-block alert-info\">\n",
    "\n",
    "**Macarena :\n",
    "    Se crea una nueva tabla `grp` que reúne todo el consumo de cada usuario por mes, obtenida al fusionar las tablas agrupadas generadas en el paso anterior mediante la columna user_month. Además, se separa la columna user_month en sus dos componentes originales y se agrega una columna que muestra el tráfico de internet consumido en gigabytes, redondeado hacia arriba. Esto se realiza porque, como se indicó en la descripción del proyecto, el valor se redondea únicamente cuando se considera el consumo total del mes por el usuario.**\n",
    "   \n",
    "    \n",
    "</div>"
   ]
  },
  {
   "cell_type": "code",
   "execution_count": 78,
   "metadata": {
    "id": "0dNOXHag0q1H"
   },
   "outputs": [
    {
     "name": "stdout",
     "output_type": "stream",
     "text": [
      "\n",
      "      number_of_calls  duration_calls  total_messages  total_data_mb user_id  \\\n",
      "0                65.0           496.0             NaN       22059.21    1499   \n",
      "1                45.0           308.0             NaN       16813.83    1499   \n",
      "2                53.0           385.0             NaN       19492.43    1499   \n",
      "3                41.0           346.0             NaN       12984.76    1499   \n",
      "4                37.0           244.0             NaN       19822.04    1498   \n",
      "...               ...             ...             ...            ...     ...   \n",
      "2288              NaN             NaN            78.0       36730.05    1204   \n",
      "2289              NaN             NaN            42.0       21346.95    1204   \n",
      "2290              NaN             NaN            12.0       12591.91    1028   \n",
      "2291              NaN             NaN             NaN        1498.83    1311   \n",
      "2292              NaN             NaN             NaN         233.17    1108   \n",
      "\n",
      "      month  total_data_gb      plan            state  messages_included  \\\n",
      "0        12           23.0      surf           FL MSA                 50   \n",
      "1        11           17.0      surf           FL MSA                 50   \n",
      "2        10           20.0      surf           FL MSA                 50   \n",
      "3         9           13.0      surf           FL MSA                 50   \n",
      "4         2           20.0      surf     NY-NJ-PA MSA                 50   \n",
      "...     ...            ...       ...              ...                ...   \n",
      "2288     12           37.0  ultimate     IL-IN-WI MSA               1000   \n",
      "2289     11           22.0  ultimate     IL-IN-WI MSA               1000   \n",
      "2290      2           13.0  ultimate  PA-NJ-DE-MD MSA               1000   \n",
      "2291      6            2.0  ultimate     TN-MS-AR MSA               1000   \n",
      "2292     12            1.0  ultimate           UT MSA               1000   \n",
      "\n",
      "      mb_per_month_included  minutes_included  usd_monthly_pay  usd_per_gb  \\\n",
      "0                     15000               500               20          10   \n",
      "1                     15000               500               20          10   \n",
      "2                     15000               500               20          10   \n",
      "3                     15000               500               20          10   \n",
      "4                     15000               500               20          10   \n",
      "...                     ...               ...              ...         ...   \n",
      "2288                  30000              3000               70           7   \n",
      "2289                  30000              3000               70           7   \n",
      "2290                  30000              3000               70           7   \n",
      "2291                  30000              3000               70           7   \n",
      "2292                  30000              3000               70           7   \n",
      "\n",
      "      usd_per_message  usd_per_minute  gb_per_month_included  \n",
      "0                0.03            0.03                   15.0  \n",
      "1                0.03            0.03                   15.0  \n",
      "2                0.03            0.03                   15.0  \n",
      "3                0.03            0.03                   15.0  \n",
      "4                0.03            0.03                   15.0  \n",
      "...               ...             ...                    ...  \n",
      "2288             0.01            0.01                   30.0  \n",
      "2289             0.01            0.01                   30.0  \n",
      "2290             0.01            0.01                   30.0  \n",
      "2291             0.01            0.01                   30.0  \n",
      "2292             0.01            0.01                   30.0  \n",
      "\n",
      "[2293 rows x 17 columns]\n",
      "<class 'pandas.core.frame.DataFrame'>\n",
      "Int64Index: 2293 entries, 0 to 2292\n",
      "Data columns (total 17 columns):\n",
      " #   Column                 Non-Null Count  Dtype  \n",
      "---  ------                 --------------  -----  \n",
      " 0   number_of_calls        2258 non-null   float64\n",
      " 1   duration_calls         2258 non-null   float64\n",
      " 2   total_messages         1806 non-null   float64\n",
      " 3   total_data_mb          2277 non-null   float64\n",
      " 4   user_id                2293 non-null   object \n",
      " 5   month                  2293 non-null   int64  \n",
      " 6   total_data_gb          2277 non-null   float64\n",
      " 7   plan                   2293 non-null   object \n",
      " 8   state                  2293 non-null   object \n",
      " 9   messages_included      2293 non-null   int64  \n",
      " 10  mb_per_month_included  2293 non-null   int64  \n",
      " 11  minutes_included       2293 non-null   int64  \n",
      " 12  usd_monthly_pay        2293 non-null   int64  \n",
      " 13  usd_per_gb             2293 non-null   int64  \n",
      " 14  usd_per_message        2293 non-null   float64\n",
      " 15  usd_per_minute         2293 non-null   float64\n",
      " 16  gb_per_month_included  2293 non-null   float64\n",
      "dtypes: float64(8), int64(6), object(3)\n",
      "memory usage: 322.5+ KB\n"
     ]
    }
   ],
   "source": [
    "# Añade la información de la tarifa\n",
    "user = users[['user_id', 'plan','state']]\n",
    "final_grp = grp.merge(user, on='user_id', how='left')\n",
    "\n",
    "final_grp =final_grp.merge(plans, on='plan')\n",
    "final_grp['month'] = final_grp['month'].astype(int)\n",
    "print()\n",
    "print(final_grp)\n",
    "final_grp.info()"
   ]
  },
  {
   "cell_type": "markdown",
   "metadata": {},
   "source": [
    "\n",
    "<div class=\"alert alert-block alert-info\">\n",
    "\n",
    "**Macarena :\n",
    "A la tabla generada anteriormente se le fusiona con una tabla resumen de `users` para obtener la tarifa asociada a cada cliente. Con esta información, se realiza un segundo merge para añadir las columnas de la tabla `plans`, lo que permitirá realizar análisis adicionales en el futuro.**\n",
    "   \n",
    "    \n",
    "</div>"
   ]
  },
  {
   "cell_type": "code",
   "execution_count": 79,
   "metadata": {
    "id": "5FGCf_c60q1I"
   },
   "outputs": [
    {
     "name": "stdout",
     "output_type": "stream",
     "text": [
      "   number_of_calls  duration_calls  total_messages  total_data_mb user_id  \\\n",
      "0             65.0           496.0             NaN       22059.21    1499   \n",
      "1             45.0           308.0             NaN       16813.83    1499   \n",
      "2             53.0           385.0             NaN       19492.43    1499   \n",
      "3             41.0           346.0             NaN       12984.76    1499   \n",
      "4             37.0           244.0             NaN       19822.04    1498   \n",
      "\n",
      "   month  total_data_gb  plan         state  messages_included  ...  \\\n",
      "0     12           23.0  surf        FL MSA                 50  ...   \n",
      "1     11           17.0  surf        FL MSA                 50  ...   \n",
      "2     10           20.0  surf        FL MSA                 50  ...   \n",
      "3      9           13.0  surf        FL MSA                 50  ...   \n",
      "4      2           20.0  surf  NY-NJ-PA MSA                 50  ...   \n",
      "\n",
      "   minutes_included  usd_monthly_pay  usd_per_gb  usd_per_message  \\\n",
      "0               500               20          10             0.03   \n",
      "1               500               20          10             0.03   \n",
      "2               500               20          10             0.03   \n",
      "3               500               20          10             0.03   \n",
      "4               500               20          10             0.03   \n",
      "\n",
      "   usd_per_minute  gb_per_month_included  extra_usd_per_call  \\\n",
      "0            0.03                   15.0                 0.0   \n",
      "1            0.03                   15.0                 0.0   \n",
      "2            0.03                   15.0                 0.0   \n",
      "3            0.03                   15.0                 0.0   \n",
      "4            0.03                   15.0                 0.0   \n",
      "\n",
      "   extra_usd_per_msg  extra_usd_per_gb  final_payment  \n",
      "0                0.0                80          100.0  \n",
      "1                0.0                20           40.0  \n",
      "2                0.0                50           70.0  \n",
      "3                0.0                 0           20.0  \n",
      "4                0.0                50           70.0  \n",
      "\n",
      "[5 rows x 21 columns]\n",
      "<class 'pandas.core.frame.DataFrame'>\n",
      "Int64Index: 2293 entries, 0 to 2292\n",
      "Data columns (total 21 columns):\n",
      " #   Column                 Non-Null Count  Dtype  \n",
      "---  ------                 --------------  -----  \n",
      " 0   number_of_calls        2258 non-null   float64\n",
      " 1   duration_calls         2258 non-null   float64\n",
      " 2   total_messages         1806 non-null   float64\n",
      " 3   total_data_mb          2277 non-null   float64\n",
      " 4   user_id                2293 non-null   object \n",
      " 5   month                  2293 non-null   int64  \n",
      " 6   total_data_gb          2277 non-null   float64\n",
      " 7   plan                   2293 non-null   object \n",
      " 8   state                  2293 non-null   object \n",
      " 9   messages_included      2293 non-null   int64  \n",
      " 10  mb_per_month_included  2293 non-null   int64  \n",
      " 11  minutes_included       2293 non-null   int64  \n",
      " 12  usd_monthly_pay        2293 non-null   int64  \n",
      " 13  usd_per_gb             2293 non-null   int64  \n",
      " 14  usd_per_message        2293 non-null   float64\n",
      " 15  usd_per_minute         2293 non-null   float64\n",
      " 16  gb_per_month_included  2293 non-null   float64\n",
      " 17  extra_usd_per_call     2293 non-null   float64\n",
      " 18  extra_usd_per_msg      2293 non-null   float64\n",
      " 19  extra_usd_per_gb       2293 non-null   int64  \n",
      " 20  final_payment          2293 non-null   float64\n",
      "dtypes: float64(11), int64(7), object(3)\n",
      "memory usage: 394.1+ KB\n"
     ]
    }
   ],
   "source": [
    "# Calcula el ingreso mensual para cada usuario\n",
    "final_grp['extra_usd_per_call'] = np.where(final_grp['duration_calls'] > final_grp['minutes_included'],\n",
    "                                 final_grp['duration_calls'] - final_grp['minutes_included'],\n",
    "                                 0).astype('int64')\n",
    "final_grp['extra_usd_per_call'] = final_grp['extra_usd_per_call'] * final_grp['usd_per_minute']\n",
    "\n",
    "final_grp['extra_usd_per_msg'] = np.where(final_grp['total_messages'] > final_grp['messages_included'],\n",
    "                                 final_grp['total_messages'] - final_grp['messages_included'],\n",
    "                                 0).astype('int64')\n",
    "final_grp['extra_usd_per_msg'] = final_grp['extra_usd_per_msg'] * final_grp['usd_per_message']\n",
    "\n",
    "final_grp['extra_usd_per_gb'] = np.where(final_grp['total_data_gb'] > final_grp['gb_per_month_included'],\n",
    "                                 final_grp['total_data_gb'] - final_grp['gb_per_month_included'],\n",
    "                                 0).astype('int64')\n",
    "final_grp['extra_usd_per_gb'] = final_grp['extra_usd_per_gb'] * final_grp['usd_per_gb']\n",
    "\n",
    "final_grp['final_payment'] = final_grp['usd_monthly_pay'] + final_grp['extra_usd_per_call'] + final_grp['extra_usd_per_msg'] + final_grp['extra_usd_per_gb'] \n",
    "print(final_grp.head())\n",
    "final_grp.info()\n"
   ]
  },
  {
   "cell_type": "markdown",
   "metadata": {
    "id": "1IwGo4wg0q1I"
   },
   "source": [
    "\n",
    "\n",
    "\n",
    "<div class=\"alert alert-block alert-info\">\n",
    "\n",
    "**Macarena :\n",
    "Se generan tres nuevas columnas que muestran la cantidad adicional que debe pagar cada usuario en un mes determinado si ha excedido los minutos, la cantidad de mensajes o los gigabytes incluidos en el plan al que están asociados. Finalmente, se crea una última columna llamada final_payment, que contendrá una suma de todos estos posibles cargos extras, además del valor de la tarifa que contrataron.**\n",
    "   \n",
    "    \n",
    "</div>"
   ]
  },
  {
   "cell_type": "markdown",
   "metadata": {
    "id": "-jtyHzJb0q1I"
   },
   "source": [
    "## Estudia el comportamiento de usuario"
   ]
  },
  {
   "cell_type": "code",
   "execution_count": 80,
   "metadata": {},
   "outputs": [
    {
     "name": "stdout",
     "output_type": "stream",
     "text": [
      "month\n",
      "1       2\n",
      "2       9\n",
      "3      23\n",
      "4      50\n",
      "5      77\n",
      "6      97\n",
      "7     121\n",
      "8     162\n",
      "9     194\n",
      "10    237\n",
      "11    283\n",
      "12    318\n",
      "Name: user_id, dtype: int64\n",
      "month\n",
      "1       4\n",
      "2       7\n",
      "3      12\n",
      "4      21\n",
      "5      29\n",
      "6      47\n",
      "7      59\n",
      "8      71\n",
      "9      86\n",
      "10    106\n",
      "11    127\n",
      "12    151\n",
      "Name: user_id, dtype: int64\n"
     ]
    }
   ],
   "source": [
    "plan_surf = final_grp[final_grp[\"plan\"] == 'surf']\n",
    "plan_ultimate = final_grp[final_grp[\"plan\"] == 'ultimate']\n",
    "\n",
    "print(plan_surf.groupby(\"month\")[\"user_id\"].count())\n",
    "print(plan_ultimate.groupby(\"month\")[\"user_id\"].count())\n"
   ]
  },
  {
   "cell_type": "markdown",
   "metadata": {},
   "source": [
    "<div class=\"alert alert-block alert-info\">\n",
    "\n",
    "**Macarena :\n",
    "Antes de analizar el comportamiento de los usuarios en relación con llamadas, mensajes e internet, se revisa la muestra real de clientes por mes en cada plan. Se observa que ambos planes experimentan un crecimiento mensual en la cantidad de clientes. Sin embargo, el plan Surf muestra un crecimiento mucho más exponencial en comparación con el plan Ultimate, alcanzando más del doble de clientes contratados en el último mes medido (diciembre de 2018).**\n",
    "\n",
    "    \n",
    "</div>"
   ]
  },
  {
   "cell_type": "markdown",
   "metadata": {
    "id": "vtW4CJEe0q1J"
   },
   "source": [
    "### Llamadas"
   ]
  },
  {
   "cell_type": "code",
   "execution_count": 81,
   "metadata": {
    "id": "Jf5v5--k0q1J",
    "scrolled": true
   },
   "outputs": [
    {
     "name": "stdout",
     "output_type": "stream",
     "text": [
      "month\n",
      "1     203.000000\n",
      "2     297.000000\n",
      "3     330.000000\n",
      "4     351.540000\n",
      "5     410.240000\n",
      "6     435.791667\n",
      "7     453.733333\n",
      "8     417.849057\n",
      "9     420.732984\n",
      "10    438.991379\n",
      "11    432.494585\n",
      "12    484.501608\n",
      "Name: duration_calls, dtype: float64\n",
      "month\n",
      "1     193.500000\n",
      "2     470.333333\n",
      "3     304.250000\n",
      "4     336.857143\n",
      "5     406.241379\n",
      "6     387.444444\n",
      "7     427.067797\n",
      "8     421.436620\n",
      "9     437.511628\n",
      "10    455.028571\n",
      "11    448.730159\n",
      "12    465.261745\n",
      "Name: duration_calls, dtype: float64\n"
     ]
    },
    {
     "data": {
      "image/png": "[encoded data removed]",
      "text/plain": [
       "<Figure size 1200x600 with 1 Axes>"
      ]
     },
     "metadata": {},
     "output_type": "display_data"
    }
   ],
   "source": [
    "# Compara la duración promedio de llamadas por cada plan y por cada mes. Traza un gráfico de barras para visualizarla.\n",
    "\n",
    "print(plan_surf.groupby(\"month\")[\"duration_calls\"].mean())\n",
    "print(plan_ultimate.groupby(\"month\")[\"duration_calls\"].mean())\n",
    "\n",
    "\n",
    "plan_surf.groupby(\"month\")[\"duration_calls\"].mean().plot(kind=\"bar\",\n",
    "        xlabel='Mes',\n",
    "        ylabel='Minutos promedio por llamada',\n",
    "        rot=360,\n",
    "        figsize=(12, 6),\n",
    "        color='blue', \n",
    "        edgecolor='black',  alpha=0.5\n",
    "                                                                 \n",
    ")\n",
    "\n",
    "\n",
    "plan_ultimate.groupby(\"month\")[\"duration_calls\"].mean().plot(kind=\"bar\",\n",
    "        xlabel='Mes',\n",
    "        ylabel='Minutos promedio por llamada',\n",
    "        rot=360,\n",
    "        figsize=(12, 6),\n",
    "        color='red', \n",
    "        edgecolor='black', alpha=0.5\n",
    "                                                                 \n",
    ")\n",
    "\n",
    "plt.grid(axis='y', linestyle='--', alpha=0.7)\n",
    "plt.title(\"Duración promedio de llamadas por mes\")\n",
    "plt.legend([\"Surf\", \"Ultimate\"])\n",
    "plt.show()\n",
    "\n"
   ]
  },
  {
   "cell_type": "code",
   "execution_count": 82,
   "metadata": {
    "id": "QoLqW1S_0q1J"
   },
   "outputs": [
    {
     "data": {
      "image/png": "[encoded data removed]",
      "text/plain": [
       "<Figure size 640x480 with 1 Axes>"
      ]
     },
     "metadata": {},
     "output_type": "display_data"
    }
   ],
   "source": [
    "# Compara el número de minutos mensuales que necesitan los usuarios de cada plan. Traza un histograma.\n",
    "plan_surf['duration_calls'].hist(bins=40, alpha=0.5, density=True)\n",
    "plan_ultimate['duration_calls'].hist(bins=40, alpha=0.5, density=True)\n",
    "plt.show()"
   ]
  },
  {
   "cell_type": "markdown",
   "metadata": {
    "id": "bLS9T8OH0q1K"
   },
   "source": [
    "[Calcula la media y la variable de la duración de las llamadas para averiguar si los usuarios de los distintos planes se comportan de forma diferente al realizar sus llamadas.]"
   ]
  },
  {
   "cell_type": "code",
   "execution_count": 83,
   "metadata": {
    "id": "oSndbAnt0q1K"
   },
   "outputs": [
    {
     "name": "stdout",
     "output_type": "stream",
     "text": [
      "media muestral: 435.9375553587245\n",
      "varianza muestral: 53811.16800855365\n",
      "\n",
      "media muestral plan surf: 436.51974110032364\n",
      "varianza muestral plan surf: 52571.06324345624\n",
      "\n",
      "media muestral plan ultimate: 434.67601683029454\n",
      "varianza muestral plan ultimate: 56573.63224703343\n"
     ]
    }
   ],
   "source": [
    "# Calcula la media y la varianza de la duración mensual de llamadas.\n",
    "print('media muestral:',final_grp['duration_calls'].mean())\n",
    "print('varianza muestral:',final_grp['duration_calls'].var())\n",
    "print()\n",
    "print('media muestral plan surf:',plan_surf['duration_calls'].mean())\n",
    "print('varianza muestral plan surf:',plan_surf['duration_calls'].var())\n",
    "print()\n",
    "print('media muestral plan ultimate:',plan_ultimate['duration_calls'].mean())\n",
    "print('varianza muestral plan ultimate:',plan_ultimate['duration_calls'].var())"
   ]
  },
  {
   "cell_type": "code",
   "execution_count": 84,
   "metadata": {
    "id": "nZzoRUKc0q1K"
   },
   "outputs": [
    {
     "data": {
      "image/png": "[encoded data removed]",
      "text/plain": [
       "<Figure size 640x480 with 1 Axes>"
      ]
     },
     "metadata": {},
     "output_type": "display_data"
    },
    {
     "data": {
      "image/png": "[encoded data removed]",
      "text/plain": [
       "<Figure size 640x480 with 1 Axes>"
      ]
     },
     "metadata": {},
     "output_type": "display_data"
    },
    {
     "data": {
      "image/png": "[encoded data removed]",
      "text/plain": [
       "<Figure size 640x480 with 1 Axes>"
      ]
     },
     "metadata": {},
     "output_type": "display_data"
    }
   ],
   "source": [
    "# Traza un diagrama de caja para visualizar la distribución de la duración mensual de llamadas\n",
    "sns.boxplot(final_grp['duration_calls'])\n",
    "plt.show()\n",
    "sns.boxplot(plan_surf['duration_calls'])\n",
    "plt.show()\n",
    "sns.boxplot(plan_ultimate['duration_calls'])\n",
    "plt.show()\n"
   ]
  },
  {
   "cell_type": "markdown",
   "metadata": {
    "id": "r627zBO50q1K"
   },
   "source": [
    "\n",
    "\n",
    "<div class=\"alert alert-block alert-info\">\n",
    "\n",
    "**Macarena :\n",
    "Después de analizar el comportamiento de ambos planes en función de la duración total de las llamadas mensuales mediante histogramas de densidad, gráficos de barras que representan los promedios, diagramas de cajas y comparaciones de media y varianza, se concluye que no hay diferencias significativas en el promedio, la dispersión y la varianza de la duración de las llamadas entre los dos planes. La mayoría de los clientes, independientemente del plan, tienden a utilizar entre 300 y 600 minutos aproximadamente. Por lo tanto, podría considerarse que el plan Surf es más conveniente, ya que por una tarifa de 20 dólares incluye 500 minutos. Además, si se supera esta cantidad, el costo adicional es de solo 3 centavos por minuto, lo que significaría que alcanzar los 600 minutos solo implicaría un gasto extra de 3 dólares.**\n",
    "\n",
    "    \n",
    "</div>"
   ]
  },
  {
   "cell_type": "markdown",
   "metadata": {
    "id": "8idKy8Wh0q1L"
   },
   "source": [
    "### Mensajes"
   ]
  },
  {
   "cell_type": "code",
   "execution_count": 85,
   "metadata": {
    "id": "NXLxiTit0q1L"
   },
   "outputs": [
    {
     "data": {
      "image/png": "[encoded data removed]",
      "text/plain": [
       "<Figure size 1200x600 with 1 Axes>"
      ]
     },
     "metadata": {},
     "output_type": "display_data"
    }
   ],
   "source": [
    "# Comprara el número de mensajes que tienden a enviar cada mes los usuarios de cada plan\n",
    "plan_surf.groupby(\"month\")[\"total_messages\"].mean().plot(kind=\"bar\",\n",
    "        xlabel='Mes',\n",
    "        ylabel='Mensajes promedio por cliente',\n",
    "        rot=360,\n",
    "        figsize=(12, 6),\n",
    "        color='blue', \n",
    "        edgecolor='black',  alpha=0.5\n",
    "                                                                 \n",
    ")\n",
    "\n",
    "\n",
    "plan_ultimate.groupby(\"month\")[\"total_messages\"].mean().plot(kind=\"bar\",\n",
    "        xlabel='Mes',\n",
    "        ylabel='Mensajes promedio por cliente',\n",
    "        rot=360,\n",
    "        figsize=(12, 6),\n",
    "        color='red', \n",
    "        edgecolor='black', alpha=0.5\n",
    "                                                                 \n",
    ")\n",
    "\n",
    "plt.grid(axis='y', linestyle='--', alpha=0.7)\n",
    "plt.title(\"Mensajes promedio por cliente por mes\")\n",
    "plt.legend([\"Surf\", \"Ultimate\"])\n",
    "plt.show()\n",
    "\n"
   ]
  },
  {
   "cell_type": "code",
   "execution_count": 86,
   "metadata": {
    "id": "GRI_R7xF0q1L"
   },
   "outputs": [
    {
     "data": {
      "image/png": "[encoded data removed]",
      "text/plain": [
       "<Figure size 640x480 with 1 Axes>"
      ]
     },
     "metadata": {},
     "output_type": "display_data"
    }
   ],
   "source": [
    "plan_surf['total_messages'].hist(bins=40, alpha=0.5, density=True)\n",
    "plan_ultimate['total_messages'].hist(bins=40, alpha=0.5, density=True)\n",
    "plt.show()\n"
   ]
  },
  {
   "cell_type": "code",
   "execution_count": 87,
   "metadata": {
    "id": "dtFwCGAp0q1M"
   },
   "outputs": [
    {
     "name": "stdout",
     "output_type": "stream",
     "text": [
      "media muestral: 42.110188261351055\n",
      "varianza muestral: 1097.1285720421004\n",
      "\n",
      "media muestral plan surf: 40.10965630114566\n",
      "varianza muestral plan surf: 1091.3442310038054\n",
      "\n",
      "media muestral plan ultimate: 46.29623287671233\n",
      "varianza muestral plan ultimate: 1085.183107568317\n"
     ]
    },
    {
     "data": {
      "image/png": "[encoded data removed]",
      "text/plain": [
       "<Figure size 640x480 with 1 Axes>"
      ]
     },
     "metadata": {},
     "output_type": "display_data"
    },
    {
     "data": {
      "image/png": "[encoded data removed]",
      "text/plain": [
       "<Figure size 640x480 with 1 Axes>"
      ]
     },
     "metadata": {},
     "output_type": "display_data"
    },
    {
     "data": {
      "image/png": "[encoded data removed]",
      "text/plain": [
       "<Figure size 640x480 with 1 Axes>"
      ]
     },
     "metadata": {},
     "output_type": "display_data"
    }
   ],
   "source": [
    "print('media muestral:',final_grp['total_messages'].mean())\n",
    "print('varianza muestral:',final_grp['total_messages'].var())\n",
    "print()\n",
    "print('media muestral plan surf:',plan_surf['total_messages'].mean())\n",
    "print('varianza muestral plan surf:',plan_surf['total_messages'].var())\n",
    "print()\n",
    "print('media muestral plan ultimate:',plan_ultimate['total_messages'].mean())\n",
    "print('varianza muestral plan ultimate:',plan_ultimate['total_messages'].var())\n",
    "\n",
    "sns.boxplot(final_grp['total_messages'])\n",
    "plt.show()\n",
    "sns.boxplot(plan_surf['total_messages'])\n",
    "plt.show()\n",
    "sns.boxplot(plan_ultimate['total_messages'])\n",
    "plt.show()"
   ]
  },
  {
   "cell_type": "markdown",
   "metadata": {},
   "source": [
    "<div class=\"alert alert-block alert-info\">\n",
    "\n",
    "**Macarena : \n",
    "Después de analizar el comportamiento de ambos planes en función de la cantidad total de mensajes enviados mensualmente mediante histogramas de densidad, gráficos de barras que representan los promedios, diagramas de cajas y comparaciones de media y varianza, se concluye que, si bien los clientes del plan Ultimate tienden a enviar más mensajes que los del plan Surf, los promedios de ambos se mantienen por debajo de los 50 SMS al mes (excepto en el mes 12), lo cual está dentro de lo cubierto por el plan Surf. Además, en el diagrama de caja del plan Ultimate, se observa que uno de los puntos de corte antes de que comiencen a aparecer valores anormales es aproximadamente la cantidad de 130 mensajes. Esto implica que, desde los 50 mensajes ya incluidos en el plan Surf, solo sería necesario un recargo de 80 centavos para poder enviar mensualmente 130 mensajes.**\n",
    "\n",
    "    \n",
    "</div>"
   ]
  },
  {
   "cell_type": "markdown",
   "metadata": {
    "id": "42YSypXz0q1M"
   },
   "source": [
    "### Internet"
   ]
  },
  {
   "cell_type": "code",
   "execution_count": 88,
   "metadata": {
    "id": "lSuKPtjh0q1M"
   },
   "outputs": [
    {
     "data": {
      "image/png": "[encoded data removed]",
      "text/plain": [
       "<Figure size 1200x600 with 1 Axes>"
      ]
     },
     "metadata": {},
     "output_type": "display_data"
    }
   ],
   "source": [
    "# Compara la cantidad de tráfico de Internet consumido por usuarios por plan\n",
    "plan_surf.groupby(\"month\")[\"total_data_gb\"].mean().plot(kind=\"bar\",\n",
    "        xlabel='Mes',\n",
    "        ylabel='GB promedio por cliente',\n",
    "        rot=360,\n",
    "        figsize=(12, 6),\n",
    "        color='blue', \n",
    "        edgecolor='black',  alpha=0.5\n",
    "                                                                 \n",
    ")\n",
    "\n",
    "\n",
    "plan_ultimate.groupby(\"month\")[\"total_data_gb\"].mean().plot(kind=\"bar\",\n",
    "        xlabel='Mes',\n",
    "        ylabel='GB promedio por cliente',\n",
    "        rot=360,\n",
    "        figsize=(12, 6),\n",
    "        color='red', \n",
    "        edgecolor='black', alpha=0.5\n",
    "                                                                 \n",
    ")\n",
    "\n",
    "plt.grid(axis='y', linestyle='--', alpha=0.7)\n",
    "plt.title(\"GB promedio por cliente por mes\")\n",
    "plt.legend([\"Surf\", \"Ultimate\"])\n",
    "plt.show()\n"
   ]
  },
  {
   "cell_type": "code",
   "execution_count": 89,
   "metadata": {
    "id": "wnh8jYXi0q1N"
   },
   "outputs": [
    {
     "data": {
      "image/png": "[encoded data removed]",
      "text/plain": [
       "<Figure size 640x480 with 1 Axes>"
      ]
     },
     "metadata": {},
     "output_type": "display_data"
    }
   ],
   "source": [
    "plan_surf['total_data_gb'].hist(bins=40, alpha=0.5, density=True)\n",
    "plan_ultimate['total_data_gb'].hist(bins=40, alpha=0.5, density=True)\n",
    "plt.show()\n"
   ]
  },
  {
   "cell_type": "code",
   "execution_count": 90,
   "metadata": {
    "id": "5VlyJ9ry0q1N"
   },
   "outputs": [
    {
     "name": "stdout",
     "output_type": "stream",
     "text": [
      "media muestral: 17.372859025032938\n",
      "varianza muestral: 61.92198712115424\n",
      "\n",
      "media muestral plan surf: 17.201540436456995\n",
      "varianza muestral plan surf: 62.05826352148524\n",
      "\n",
      "media muestral plan ultimate: 17.744089012517385\n",
      "varianza muestral plan ultimate: 61.511020025491916\n"
     ]
    },
    {
     "data": {
      "image/png": "[encoded data removed]",
      "text/plain": [
       "<Figure size 640x480 with 1 Axes>"
      ]
     },
     "metadata": {},
     "output_type": "display_data"
    },
    {
     "data": {
      "image/png": "[encoded data removed]",
      "text/plain": [
       "<Figure size 640x480 with 1 Axes>"
      ]
     },
     "metadata": {},
     "output_type": "display_data"
    },
    {
     "data": {
      "image/png": "[encoded data removed]",
      "text/plain": [
       "<Figure size 640x480 with 1 Axes>"
      ]
     },
     "metadata": {},
     "output_type": "display_data"
    }
   ],
   "source": [
    "print('media muestral:',final_grp['total_data_gb'].mean())\n",
    "print('varianza muestral:',final_grp['total_data_gb'].var())\n",
    "print()\n",
    "print('media muestral plan surf:',plan_surf['total_data_gb'].mean())\n",
    "print('varianza muestral plan surf:',plan_surf['total_data_gb'].var())\n",
    "print()\n",
    "print('media muestral plan ultimate:',plan_ultimate['total_data_gb'].mean())\n",
    "print('varianza muestral plan ultimate:',plan_ultimate['total_data_gb'].var())\n",
    "\n",
    "sns.boxplot(final_grp['total_data_gb'])\n",
    "plt.show()\n",
    "sns.boxplot(plan_surf['total_data_gb'])\n",
    "plt.show()\n",
    "sns.boxplot(plan_ultimate['total_data_gb'])\n",
    "plt.show()"
   ]
  },
  {
   "cell_type": "markdown",
   "metadata": {},
   "source": [
    "<div class=\"alert alert-block alert-info\">\n",
    "\n",
    "**Macarena : \n",
    "Después de analizar el comportamiento de ambos planes en función de la cantidad de tráfico de internet utilizado mensualmente mediante histogramas de densidad, gráficos de barras que representan los promedios, diagramas de cajas y comparaciones de media y varianza, se concluye que, si bien los clientes del plan Ultimate tienden a utilizar más gigabytes que los del plan Surf, los promedios de ambos se sitúan por encima de lo incluido en el plan Surf, que ofrece solo 15 gigabytes. Además, considerando los precios de ambas tarifas y sus recargos, sabemos que, si un cliente del plan Surf utiliza más de 20 gigabytes, le resultaría más conveniente contratar el plan Ultimate. Según esta información, en los diagramas de cajas de ambos planes se observa que el rango intercuartílico (IQR) incluye cantidades de 20 gigabytes o más, y el valor máximo de ambos se aproxima a 35 gigabytes. Esto implica que varios clientes con el plan Surf, independientemente de cómo utilicen sus minutos y mensajes incluidos, se verían más beneficiados al cambiar de plan debido a la cantidad de internet que consumen mensualmente.**\n",
    "\n",
    "    \n",
    "</div>"
   ]
  },
  {
   "cell_type": "markdown",
   "metadata": {
    "id": "tCijq3260q1N"
   },
   "source": [
    "### Ingreso"
   ]
  },
  {
   "cell_type": "code",
   "execution_count": 91,
   "metadata": {
    "id": "tz-dq_V00q1O"
   },
   "outputs": [
    {
     "data": {
      "image/png": "[encoded data removed]",
      "text/plain": [
       "<Figure size 1200x600 with 1 Axes>"
      ]
     },
     "metadata": {},
     "output_type": "display_data"
    }
   ],
   "source": [
    "plan_surf.groupby(\"month\")[\"final_payment\"].mean().plot(kind=\"bar\",\n",
    "        xlabel='Mes',\n",
    "        ylabel='Pago promedio final mensual',\n",
    "        rot=360,\n",
    "        figsize=(12, 6),\n",
    "        color='blue', \n",
    "        edgecolor='black',  alpha=0.5\n",
    "                                                                 \n",
    ")\n",
    "\n",
    "\n",
    "plan_ultimate.groupby(\"month\")[\"final_payment\"].mean().plot(kind=\"bar\",\n",
    "        xlabel='Mes',\n",
    "        ylabel='Pago promedio final mensual',\n",
    "        rot=360,\n",
    "        figsize=(12, 6),\n",
    "        color='red', \n",
    "        edgecolor='black', alpha=0.5\n",
    "                                                                 \n",
    ")\n",
    "\n",
    "plt.grid(axis='y', linestyle='--', alpha=0.7)\n",
    "plt.title('Pago promedio final por mes')\n",
    "plt.legend([\"Surf\", \"Ultimate\"])\n",
    "plt.show()"
   ]
  },
  {
   "cell_type": "code",
   "execution_count": 119,
   "metadata": {},
   "outputs": [
    {
     "name": "stdout",
     "output_type": "stream",
     "text": [
      "month\n",
      "1     20.000000\n",
      "2     37.730000\n",
      "3     48.115217\n",
      "4     42.110600\n",
      "5     50.095714\n",
      "6     51.338144\n",
      "7     66.227769\n",
      "8     67.141049\n",
      "9     61.106546\n",
      "10    68.163840\n",
      "11    61.149152\n",
      "12    73.670252\n",
      "Name: final_payment, dtype: float64\n",
      "month\n",
      "1     70.000000\n",
      "2     70.000000\n",
      "3     75.833333\n",
      "4     73.666667\n",
      "5     70.965517\n",
      "6     71.787234\n",
      "7     72.135593\n",
      "8     73.450704\n",
      "9     72.360465\n",
      "10    72.641509\n",
      "11    71.984252\n",
      "12    73.847682\n",
      "Name: final_payment, dtype: float64\n",
      "month\n",
      "1     20.000\n",
      "2     29.570\n",
      "3     20.000\n",
      "4     20.000\n",
      "5     21.800\n",
      "6     31.100\n",
      "7     43.800\n",
      "8     45.880\n",
      "9     45.520\n",
      "10    50.090\n",
      "11    42.520\n",
      "12    54.185\n",
      "Name: final_payment, dtype: float64\n",
      "month\n",
      "1     70.0\n",
      "2     70.0\n",
      "3     70.0\n",
      "4     70.0\n",
      "5     70.0\n",
      "6     70.0\n",
      "7     70.0\n",
      "8     70.0\n",
      "9     70.0\n",
      "10    70.0\n",
      "11    70.0\n",
      "12    70.0\n",
      "Name: final_payment, dtype: float64\n"
     ]
    }
   ],
   "source": [
    "print(plan_surf.groupby(\"month\")[\"final_payment\"].mean())\n",
    "print(plan_ultimate.groupby(\"month\")[\"final_payment\"].mean())\n",
    "print(plan_surf.groupby(\"month\")[\"final_payment\"].median())\n",
    "print(plan_ultimate.groupby(\"month\")[\"final_payment\"].median())\n"
   ]
  },
  {
   "cell_type": "code",
   "execution_count": 114,
   "metadata": {
    "id": "0Y1v8ZUz0q1P"
   },
   "outputs": [
    {
     "data": {
      "image/png": "[encoded data removed]",
      "text/plain": [
       "<Figure size 640x480 with 1 Axes>"
      ]
     },
     "metadata": {},
     "output_type": "display_data"
    }
   ],
   "source": [
    "plan_surf[\"final_payment\"].hist(bins=50, alpha=0.5, density=True)\n",
    "plan_ultimate[\"final_payment\"].hist(bins=20, alpha=0.5, density=True)\n",
    "plt.show()"
   ]
  },
  {
   "cell_type": "code",
   "execution_count": 115,
   "metadata": {
    "id": "bYmwxyVh0q1P"
   },
   "outputs": [
    {
     "name": "stdout",
     "output_type": "stream",
     "text": [
      "media muestral: 66.4662799825556\n",
      "varianza muestral: 2328.5242184852755\n",
      "\n",
      "media muestral plan surf: 63.6116846789574\n",
      "media muestral plan surf: 43.81\n",
      "varianza muestral plan surf: 3295.59769417023\n",
      "\n",
      "media muestral plan ultimate: 72.70277777777778\n",
      "media muestral plan ultimate: 70.0\n",
      "varianza muestral plan ultimate: 160.6069463761397\n"
     ]
    },
    {
     "data": {
      "image/png": "[encoded data removed]",
      "text/plain": [
       "<Figure size 640x480 with 1 Axes>"
      ]
     },
     "metadata": {},
     "output_type": "display_data"
    },
    {
     "data": {
      "image/png": "[encoded data removed]",
      "text/plain": [
       "<Figure size 640x480 with 1 Axes>"
      ]
     },
     "metadata": {},
     "output_type": "display_data"
    },
    {
     "data": {
      "image/png": "[encoded data removed]",
      "text/plain": [
       "<Figure size 640x480 with 1 Axes>"
      ]
     },
     "metadata": {},
     "output_type": "display_data"
    }
   ],
   "source": [
    "print('media muestral:',final_grp['final_payment'].mean())\n",
    "print('varianza muestral:',final_grp['final_payment'].var())\n",
    "print()\n",
    "print('media muestral plan surf:',plan_surf['final_payment'].mean())\n",
    "print('media muestral plan surf:',plan_surf['final_payment'].median())\n",
    "print('varianza muestral plan surf:',plan_surf['final_payment'].var())\n",
    "print()\n",
    "print('media muestral plan ultimate:',plan_ultimate['final_payment'].mean())\n",
    "print('media muestral plan ultimate:',plan_ultimate['final_payment'].median())\n",
    "print('varianza muestral plan ultimate:',plan_ultimate['final_payment'].var())\n",
    "\n",
    "sns.boxplot(final_grp['final_payment'])\n",
    "plt.show()\n",
    "sns.boxplot(plan_surf['final_payment'])\n",
    "plt.show()\n",
    "sns.boxplot(plan_ultimate['final_payment'])\n",
    "plt.show()"
   ]
  },
  {
   "cell_type": "markdown",
   "metadata": {},
   "source": [
    "<div class=\"alert alert-block alert-info\">\n",
    "\n",
    "**Macarena : \n",
    "Después de analizar el comportamiento de ambos planes en función del monto final mensual que pagan los clientes, utilizando histogramas de densidad, gráficos de barras para representar los promedios, diagramas de cajas y comparaciones de media, mediana y varianza, se concluye que los clientes afiliados al plan Ultimate exhiben un comportamiento bastante estático, con baja varianza. Los casos en los que pagan un recargo por encima del valor del plan son mínimos y, en su mayoría, se clasifican como valores atípicos. En contraste, aunque los clientes del plan Surf presentan una media más baja, muestran una mayor dispersión en sus pagos. Esto se debe a que, al no incluir un alto volumen de tráfico de internet y tener un servicio con recargos elevados, el pago final de estos clientes tiende a ser más diverso, en ocasiones superando el monto del plan Ultimate.**\n",
    "\n",
    "    \n",
    "</div>"
   ]
  },
  {
   "cell_type": "markdown",
   "metadata": {
    "id": "ajJ7VKeI0q1Q"
   },
   "source": [
    "## Prueba las hipótesis estadísticas"
   ]
  },
  {
   "cell_type": "code",
   "execution_count": 95,
   "metadata": {
    "id": "nFoPNlPq0q1R"
   },
   "outputs": [
    {
     "name": "stdout",
     "output_type": "stream",
     "text": [
      "valor p: 2.81373182813939e-09\n",
      "Rechazamos la hipótesis nula\n"
     ]
    }
   ],
   "source": [
    "# Prueba las hipótesis \n",
    "#hipotesis nula: los ingresos promedios de ambos planes son iguales\n",
    "#hipotesis alternativa: los ingresos promedios de ambos planes son diferentes\n",
    "surf_payment = plan_surf['final_payment']\n",
    "ultimate_payment = plan_ultimate['final_payment']\n",
    "\n",
    "alpha = 0.05  # el nivel de significancia estadística crítica\n",
    "# si el valor p es menor que alpha, rechazamos la hipótesis\n",
    "\n",
    "results = st.ttest_ind(surf_payment, ultimate_payment, equal_var = False)\n",
    "\n",
    "print('valor p:', results.pvalue)\n",
    "\n",
    "if results.pvalue < alpha:\n",
    "    print(\"Rechazamos la hipótesis nula\")\n",
    "else:\n",
    "    print(\"No podemos rechazar la hipótesis nula\")\n"
   ]
  },
  {
   "cell_type": "markdown",
   "metadata": {},
   "source": [
    "<div class=\"alert alert-block alert-info\">\n",
    "\n",
    "**Macarena : \n",
    "Se realiza una prueba t para las medias de dos muestras independientes con el objetivo de determinar si los ingresos promedio de los usuarios de los planes Surf y Ultimate son diferentes (hipótesis alternativa). En este caso, se puede rechazar la hipótesis nula porque el valor p es significativamente menor que el nivel de significancia establecido (5%). Esto indica que hay una evidencia estadística sólida que sugiere que los ingresos promedios de los usuarios de ambos planes son diferentes. La diferencia en los ingresos es lo suficientemente grande como para que no sea atribuible al azar.**\n",
    "\n",
    "</div>\n"
   ]
  },
  {
   "cell_type": "markdown",
   "metadata": {
    "id": "tCcAruM60q1R"
   },
   "source": [
    "\n",
    "Para la segunda hipotesis se toma como supuesto que la instrución inicial hacia referencía a la única área que se componia tando de NY como de NJ."
   ]
  },
  {
   "cell_type": "code",
   "execution_count": 113,
   "metadata": {
    "id": "Cqcj7wrZ0q1S",
    "scrolled": true
   },
   "outputs": [
    {
     "name": "stdout",
     "output_type": "stream",
     "text": [
      "valor p: 0.08381531697981823\n",
      "No podemos rechazar la hipótesis nula\n"
     ]
    }
   ],
   "source": [
    "# Prueba las hipótesis\n",
    "#hipotesis nula: los ingresos promedios de los usuarios del área de NY-NJ iguales al de usuarios de otras áreas\n",
    "#hipotesis alternativa: los ingresos promedios de los usuarios del área de NY-NJ son diferentes al de otros usuarios\n",
    "ny_nj = final_grp[final_grp[\"state\"] == 'NY-NJ-PA MSA']\n",
    "other_state = final_grp[final_grp[\"state\"] != 'NY-NJ-PA MSA']\n",
    "\n",
    "ny_nj_payment = ny_nj['final_payment']\n",
    "other_state_payment = other_state['final_payment']\n",
    "alpha = 0.05\n",
    "\n",
    "\n",
    "results_ny = st.ttest_ind(ny_nj_payment, other_state_payment, equal_var = False)\n",
    "\n",
    "print('valor p:', results_ny.pvalue)\n",
    "\n",
    "if results_ny.pvalue < alpha:\n",
    "    print(\"Rechazamos la hipótesis nula\")\n",
    "else:\n",
    "    print(\"No podemos rechazar la hipótesis nula\")\n"
   ]
  },
  {
   "cell_type": "markdown",
   "metadata": {},
   "source": [
    "<div class=\"alert alert-block alert-info\">\n",
    "\n",
    "**Macarena : \n",
    "En este análisis, no se puede rechazar la hipótesis nula debido a que el valor p obtenido (8%) es mayor que el nivel de significancia establecido (5%). Esto indica que la evidencia proporcionada por los datos no es lo suficientemente fuerte como para afirmar que los ingresos promedios de los usuarios del área de NY-NJ son significativamente diferentes de los ingresos de usuarios de otras áreas. Por lo tanto, mantenemos la hipótesis nula, sugiriendo que los ingresos promedio en ambas áreas son similares.**\n",
    "\n",
    "</div>\n"
   ]
  },
  {
   "cell_type": "markdown",
   "metadata": {
    "id": "bbTR8UQO0q1T"
   },
   "source": [
    "## Conclusión general\n",
    "\n"
   ]
  },
  {
   "cell_type": "markdown",
   "metadata": {},
   "source": [
    "<div class=\"alert alert-block alert-info\">\n",
    "\n",
    "**Macarena :** \n",
    "    \n",
    "Conclusión General\n",
    "\n",
    "El análisis del comportamiento de los usuarios de los planes Surf y Ultimate ha revelado diferencias significativas en varios aspectos clave que son fundamentales para determinar la mejor tarifa. Para llegar a estas conclusiones, se llevó a cabo un exhaustivo preprocesamiento de los datos. Este proceso incluyó la creación de una columna de unión basada en el ID de usuario y el mes, lo que permitió representar de manera precisa el comportamiento mensual de cada cliente. Además, se realizaron cambios en los tipos de datos para facilitar el análisis.\n",
    "\n",
    "En términos de diferenciación entre los dos planes, se observó que el crecimiento en la cantidad de clientes del plan Surf fue notablemente mayor en comparación con el plan Ultimate, lo que sugiere que, por alguna razón, este último podría no resultar tan atractivo para los nuevos usuarios. A continuación, se presentan las conclusiones clave:\n",
    "   \n",
    "\n",
    "- Duración de Llamadas\n",
    "La duración promedio de las llamadas mostró resultados similares entre ambos planes, con un uso mensual promedio de entre 300 y 600 minutos. A pesar de que el plan Surf ofrece 500 minutos por una tarifa más baja, no se observaron diferencias significativas en la varianza o en la media de duración de llamadas entre los usuarios de ambos planes.\n",
    "\n",
    "- Mensajes Enviados\n",
    "En términos de mensajes, los usuarios del plan Ultimate tienden a enviar más SMS que los del plan Surf, pero ambos promedios se mantienen por debajo de los 50 mensajes al mes. Esto implica que el plan Surf es adecuado para la mayoría de los usuarios, ya que incluye 50 mensajes sin costo adicional.\n",
    "\n",
    "- Consumo de Internet\n",
    "El análisis del consumo de datos reveló que, aunque los usuarios del plan Ultimate tienden a consumir más gigabytes, ambos planes en promedio superan el uso de 15 GB, que es el trafico incluido del plan Surf. Esto sugiere que muchos usuarios del plan Surf podrían beneficiarse al cambiarse al plan Ultimate, especialmente aquellos que exceden los 20 GB mensuales.\n",
    "\n",
    "- Ingresos\n",
    "Los resultados de las pruebas de hipótesis indican que los ingresos promedio de los usuarios de ambos planes son significativamente diferentes, pudiendo estar relacionado con lo mencionado anteriormente respecto a la alta dispersión en sus pagos debido a las altas sumas de recargo extra a pagar por internet no incluido en el plan.\n",
    "Por otro lado, no se encontró evidencia suficiente para afirmar que los ingresos promedios de los usuarios del área de NY-NJ son diferentes de los de otras áreas.\n",
    "\n",
    "En resumen, el plan Surf se presenta como una opción más atractiva y económica para la mayoría de los usuarios, mientras que el plan Ultimate resulta más adecuado para aquellos con un uso elevado de datos que buscan estabilidad en sus pagos mensuales. La elección del plan debe basarse en los patrones de uso específicos de cada cliente. Aunque el plan Surf es actualmente más popular y genera mayores ingresos, sería beneficioso investigar más a fondo las estrategias de captación inicial y la forma en que se están introduciendo ambos planes. Esto ayudaría a comprender por qué algunos clientes que requieren altos volúmenes de internet optan por el plan Surf, a pesar de que podrían incurrir en costos de servicio más altos. Si hay factores no analizados que influyen en esta decisión, o si el plan no está llegando adecuadamente a su público objetivo, podría ser una oportunidad valiosa para invertir en marketing y publicidad, garantizando así una mejor conexión con los clientes."
   ]
  }
 ],
 "metadata": {
  "ExecuteTimeLog": [
   {
    "duration": 828,
    "start_time": "2021-11-16T09:21:11.304Z"
   },
   {
    "duration": 893,
    "start_time": "2021-11-16T09:21:17.728Z"
   },
   {
    "duration": 1150,
    "start_time": "2021-11-16T09:21:29.568Z"
   },
   {
    "duration": 3,
    "start_time": "2021-11-16T09:24:14.495Z"
   },
   {
    "duration": 120,
    "start_time": "2021-11-16T09:24:46.630Z"
   },
   {
    "duration": 3,
    "start_time": "2021-11-16T09:28:27.882Z"
   },
   {
    "duration": 4,
    "start_time": "2021-11-16T09:29:54.281Z"
   },
   {
    "duration": 3,
    "start_time": "2021-11-16T09:30:45.936Z"
   },
   {
    "duration": 4,
    "start_time": "2021-11-16T09:31:06.300Z"
   },
   {
    "duration": 113,
    "start_time": "2021-11-16T09:31:37.208Z"
   },
   {
    "duration": 143,
    "start_time": "2021-11-16T09:31:48.656Z"
   },
   {
    "duration": 98,
    "start_time": "2021-11-16T09:31:55.678Z"
   },
   {
    "duration": 3,
    "start_time": "2021-11-16T09:32:08.535Z"
   },
   {
    "duration": 111,
    "start_time": "2021-11-16T09:32:10.120Z"
   },
   {
    "duration": 3,
    "start_time": "2021-11-16T09:32:15.732Z"
   },
   {
    "duration": 4,
    "start_time": "2021-11-16T09:32:29.423Z"
   },
   {
    "duration": 3,
    "start_time": "2021-11-16T10:03:03.074Z"
   },
   {
    "duration": 3,
    "start_time": "2021-11-16T10:10:01.288Z"
   },
   {
    "duration": 3,
    "start_time": "2021-11-16T10:10:46.923Z"
   },
   {
    "duration": 121,
    "start_time": "2021-11-16T10:37:46.494Z"
   },
   {
    "duration": 125,
    "start_time": "2021-11-16T10:38:20.632Z"
   },
   {
    "duration": 112,
    "start_time": "2021-11-16T10:46:53.001Z"
   },
   {
    "duration": 110,
    "start_time": "2021-11-16T10:48:25.775Z"
   },
   {
    "duration": 3,
    "start_time": "2021-11-16T10:50:18.720Z"
   },
   {
    "duration": 4,
    "start_time": "2021-11-16T10:50:37.649Z"
   },
   {
    "duration": 2,
    "start_time": "2021-11-16T10:50:51.884Z"
   },
   {
    "duration": 3,
    "start_time": "2021-11-16T10:51:56.237Z"
   },
   {
    "duration": 101,
    "start_time": "2021-11-16T10:53:13.791Z"
   },
   {
    "duration": 3,
    "start_time": "2021-11-16T10:55:59.186Z"
   },
   {
    "duration": 3,
    "start_time": "2021-11-16T10:56:10.751Z"
   },
   {
    "duration": 3,
    "start_time": "2021-11-16T10:56:49.038Z"
   },
   {
    "duration": 3,
    "start_time": "2021-11-16T10:56:49.174Z"
   },
   {
    "duration": 4,
    "start_time": "2021-11-16T10:56:49.414Z"
   },
   {
    "duration": 3,
    "start_time": "2021-11-16T10:56:49.680Z"
   },
   {
    "duration": 3,
    "start_time": "2021-11-16T10:56:50.370Z"
   },
   {
    "duration": 114,
    "start_time": "2021-11-16T10:59:34.518Z"
   },
   {
    "duration": 3,
    "start_time": "2021-11-16T11:01:41.201Z"
   },
   {
    "duration": 116,
    "start_time": "2021-11-16T11:01:48.754Z"
   },
   {
    "duration": 3,
    "start_time": "2021-11-16T11:02:16.685Z"
   },
   {
    "duration": 3,
    "start_time": "2021-11-16T11:02:19.479Z"
   },
   {
    "duration": 3,
    "start_time": "2021-11-16T11:02:47.067Z"
   },
   {
    "duration": 3,
    "start_time": "2021-11-16T11:02:49.353Z"
   },
   {
    "duration": 3,
    "start_time": "2021-11-16T11:03:07.835Z"
   },
   {
    "duration": 3,
    "start_time": "2021-11-16T11:03:07.953Z"
   },
   {
    "duration": 112,
    "start_time": "2021-11-16T11:07:52.072Z"
   },
   {
    "duration": 187,
    "start_time": "2021-11-16T11:09:23.468Z"
   },
   {
    "duration": 4,
    "start_time": "2021-11-16T11:10:01.455Z"
   },
   {
    "duration": 3,
    "start_time": "2021-11-16T11:10:05.069Z"
   },
   {
    "duration": 4,
    "start_time": "2021-11-16T11:10:13.376Z"
   },
   {
    "duration": 3,
    "start_time": "2021-11-16T11:10:14.434Z"
   },
   {
    "duration": 3,
    "start_time": "2021-11-16T11:10:22.853Z"
   },
   {
    "duration": 4,
    "start_time": "2021-11-16T11:27:29.279Z"
   },
   {
    "duration": 4,
    "start_time": "2021-11-16T11:29:08.919Z"
   },
   {
    "duration": 118,
    "start_time": "2021-11-16T11:29:46.703Z"
   },
   {
    "duration": 437,
    "start_time": "2021-11-16T11:36:02.181Z"
   },
   {
    "duration": 157,
    "start_time": "2021-11-16T11:36:14.388Z"
   },
   {
    "duration": 207,
    "start_time": "2021-11-16T11:47:15.898Z"
   },
   {
    "duration": 3,
    "start_time": "2021-11-16T11:53:52.092Z"
   },
   {
    "duration": 3,
    "start_time": "2021-11-16T11:53:52.236Z"
   },
   {
    "duration": 3,
    "start_time": "2021-11-16T11:59:12.005Z"
   },
   {
    "duration": 112,
    "start_time": "2021-11-16T12:00:33.446Z"
   },
   {
    "duration": 3,
    "start_time": "2021-11-16T12:02:14.453Z"
   },
   {
    "duration": 3,
    "start_time": "2021-11-16T12:02:39.512Z"
   },
   {
    "duration": 106,
    "start_time": "2021-11-16T12:03:03.460Z"
   },
   {
    "duration": 3,
    "start_time": "2021-11-17T20:37:21.139Z"
   },
   {
    "duration": 3,
    "start_time": "2021-11-17T20:37:22.229Z"
   },
   {
    "duration": 3,
    "start_time": "2021-11-17T20:38:38.806Z"
   },
   {
    "duration": 3,
    "start_time": "2021-11-17T20:38:41.958Z"
   },
   {
    "duration": 3,
    "start_time": "2021-11-17T20:43:46.551Z"
   },
   {
    "duration": 4,
    "start_time": "2021-11-17T20:58:21.835Z"
   },
   {
    "duration": 3,
    "start_time": "2021-11-17T20:59:21.872Z"
   },
   {
    "duration": 4,
    "start_time": "2021-11-17T20:59:45.352Z"
   },
   {
    "duration": 4,
    "start_time": "2021-11-17T20:59:49.646Z"
   },
   {
    "duration": 159,
    "start_time": "2021-11-17T21:02:26.949Z"
   },
   {
    "duration": 3,
    "start_time": "2021-11-17T21:03:53.461Z"
   },
   {
    "duration": 3,
    "start_time": "2021-11-17T21:03:53.694Z"
   },
   {
    "duration": 3,
    "start_time": "2021-11-17T21:05:28.145Z"
   },
   {
    "duration": 116,
    "start_time": "2021-11-17T21:05:57.787Z"
   },
   {
    "duration": 3,
    "start_time": "2021-11-17T21:06:37.993Z"
   },
   {
    "duration": 3,
    "start_time": "2021-11-17T21:06:38.261Z"
   },
   {
    "duration": 3,
    "start_time": "2021-11-17T21:11:54.358Z"
   },
   {
    "duration": 3,
    "start_time": "2021-11-17T21:12:43.846Z"
   },
   {
    "duration": 4,
    "start_time": "2021-11-17T21:13:08.773Z"
   },
   {
    "duration": 3,
    "start_time": "2021-11-17T21:14:44.441Z"
   },
   {
    "duration": 3,
    "start_time": "2021-11-17T21:15:42.059Z"
   },
   {
    "duration": 4,
    "start_time": "2021-11-17T21:15:51.995Z"
   },
   {
    "duration": 3,
    "start_time": "2021-11-17T21:15:53.923Z"
   },
   {
    "duration": 3,
    "start_time": "2021-11-17T21:15:55.282Z"
   },
   {
    "duration": 3,
    "start_time": "2021-11-17T21:16:28.492Z"
   },
   {
    "duration": 3,
    "start_time": "2021-11-17T21:16:32.603Z"
   },
   {
    "duration": 3,
    "start_time": "2021-11-17T21:17:06.941Z"
   },
   {
    "duration": 98,
    "start_time": "2021-11-17T21:18:05.733Z"
   },
   {
    "duration": 4,
    "start_time": "2021-11-17T21:21:35.255Z"
   },
   {
    "duration": 3,
    "start_time": "2021-11-17T21:21:37.804Z"
   },
   {
    "duration": 4,
    "start_time": "2021-11-17T21:23:06.071Z"
   },
   {
    "duration": 3,
    "start_time": "2021-11-17T21:23:24.799Z"
   },
   {
    "duration": 3,
    "start_time": "2021-11-17T21:23:32.591Z"
   },
   {
    "duration": 98,
    "start_time": "2021-11-17T21:28:31.559Z"
   },
   {
    "duration": 3,
    "start_time": "2021-11-17T21:28:45.448Z"
   },
   {
    "duration": 3,
    "start_time": "2021-11-17T21:29:17.303Z"
   },
   {
    "duration": 3,
    "start_time": "2021-11-17T21:29:29.617Z"
   },
   {
    "duration": 3,
    "start_time": "2021-11-17T21:29:32.681Z"
   },
   {
    "duration": 3,
    "start_time": "2021-11-17T21:36:11.474Z"
   },
   {
    "duration": 3,
    "start_time": "2021-11-17T21:36:14.791Z"
   },
   {
    "duration": 3,
    "start_time": "2021-11-17T21:36:53.943Z"
   },
   {
    "duration": 3,
    "start_time": "2021-11-17T21:36:56.165Z"
   },
   {
    "duration": 4,
    "start_time": "2021-11-17T21:37:16.590Z"
   },
   {
    "duration": 3,
    "start_time": "2021-11-17T21:37:22.702Z"
   },
   {
    "duration": 4,
    "start_time": "2021-11-17T21:38:03.479Z"
   },
   {
    "duration": 3,
    "start_time": "2021-11-17T21:38:08.601Z"
   },
   {
    "duration": 3,
    "start_time": "2021-11-17T21:38:12.928Z"
   },
   {
    "duration": 3,
    "start_time": "2021-11-17T21:38:48.896Z"
   },
   {
    "duration": 2,
    "start_time": "2021-11-17T21:38:49.171Z"
   },
   {
    "duration": 4,
    "start_time": "2021-11-17T21:39:57.889Z"
   },
   {
    "duration": 3,
    "start_time": "2021-11-17T21:39:58.057Z"
   },
   {
    "duration": 3,
    "start_time": "2021-11-17T21:41:20.108Z"
   },
   {
    "duration": 3,
    "start_time": "2021-11-17T21:41:20.629Z"
   },
   {
    "duration": 3,
    "start_time": "2021-11-17T21:42:49.136Z"
   },
   {
    "duration": 3,
    "start_time": "2021-11-17T21:43:15.137Z"
   },
   {
    "duration": 4,
    "start_time": "2021-11-17T21:43:16.766Z"
   },
   {
    "duration": 4,
    "start_time": "2021-11-17T21:43:31.711Z"
   },
   {
    "duration": 3,
    "start_time": "2021-11-17T21:43:36.312Z"
   },
   {
    "duration": 4,
    "start_time": "2021-11-17T21:45:08.825Z"
   },
   {
    "duration": 4,
    "start_time": "2021-11-17T21:45:10.119Z"
   },
   {
    "duration": 4,
    "start_time": "2021-11-17T21:45:13.748Z"
   },
   {
    "duration": 3,
    "start_time": "2021-11-17T21:45:22.219Z"
   },
   {
    "duration": 3,
    "start_time": "2021-11-17T21:45:33.412Z"
   },
   {
    "duration": 2,
    "start_time": "2021-11-17T21:46:01.885Z"
   },
   {
    "duration": 3,
    "start_time": "2021-11-17T21:46:03.628Z"
   },
   {
    "duration": 107,
    "start_time": "2021-11-17T21:47:32.512Z"
   },
   {
    "duration": 103,
    "start_time": "2021-11-17T21:50:36.243Z"
   },
   {
    "duration": 3,
    "start_time": "2021-11-18T06:28:31.440Z"
   },
   {
    "duration": 3,
    "start_time": "2021-11-18T06:29:00.168Z"
   },
   {
    "duration": 3,
    "start_time": "2021-11-18T06:31:27.008Z"
   },
   {
    "duration": 2,
    "start_time": "2021-11-18T06:35:34.288Z"
   },
   {
    "duration": 2,
    "start_time": "2021-11-18T06:38:04.527Z"
   },
   {
    "duration": 2558,
    "start_time": "2024-09-06T01:56:10.458Z"
   },
   {
    "duration": 245,
    "start_time": "2024-09-06T01:56:15.207Z"
   },
   {
    "duration": 14,
    "start_time": "2024-09-06T01:56:50.929Z"
   },
   {
    "duration": 10,
    "start_time": "2024-09-06T01:57:13.619Z"
   },
   {
    "duration": 10,
    "start_time": "2024-09-06T01:57:44.360Z"
   },
   {
    "duration": 7,
    "start_time": "2024-09-06T01:57:49.011Z"
   },
   {
    "duration": 2470,
    "start_time": "2024-09-06T15:49:34.767Z"
   },
   {
    "duration": 239,
    "start_time": "2024-09-06T15:49:38.596Z"
   },
   {
    "duration": 10,
    "start_time": "2024-09-06T15:51:40.909Z"
   },
   {
    "duration": 6,
    "start_time": "2024-09-06T15:51:48.944Z"
   },
   {
    "duration": 8,
    "start_time": "2024-09-06T16:15:07.761Z"
   },
   {
    "duration": 5,
    "start_time": "2024-09-06T16:15:10.462Z"
   },
   {
    "duration": 9,
    "start_time": "2024-09-06T16:19:24.638Z"
   },
   {
    "duration": 5,
    "start_time": "2024-09-06T16:19:26.246Z"
   },
   {
    "duration": 125,
    "start_time": "2024-09-06T16:20:30.580Z"
   },
   {
    "duration": 15,
    "start_time": "2024-09-06T16:20:42.305Z"
   },
   {
    "duration": 259,
    "start_time": "2024-09-06T16:23:54.829Z"
   },
   {
    "duration": 399,
    "start_time": "2024-09-06T16:24:06.385Z"
   },
   {
    "duration": 41,
    "start_time": "2024-09-06T16:24:20.633Z"
   },
   {
    "duration": 17,
    "start_time": "2024-09-06T17:00:12.903Z"
   },
   {
    "duration": 18,
    "start_time": "2024-09-06T17:00:39.556Z"
   },
   {
    "duration": 18,
    "start_time": "2024-09-06T17:00:47.389Z"
   },
   {
    "duration": 2607,
    "start_time": "2024-09-06T19:44:34.534Z"
   },
   {
    "duration": 282,
    "start_time": "2024-09-06T19:44:37.144Z"
   },
   {
    "duration": 132,
    "start_time": "2024-09-06T19:44:39.234Z"
   },
   {
    "duration": 160,
    "start_time": "2024-09-06T19:44:51.021Z"
   },
   {
    "duration": 8,
    "start_time": "2024-09-06T19:46:07.836Z"
   },
   {
    "duration": 7,
    "start_time": "2024-09-06T19:46:41.444Z"
   },
   {
    "duration": 6,
    "start_time": "2024-09-06T19:46:46.920Z"
   },
   {
    "duration": 5,
    "start_time": "2024-09-06T19:54:13.803Z"
   },
   {
    "duration": 5,
    "start_time": "2024-09-06T19:54:50.878Z"
   },
   {
    "duration": 8,
    "start_time": "2024-09-06T19:56:28.856Z"
   },
   {
    "duration": 5,
    "start_time": "2024-09-06T19:56:51.632Z"
   },
   {
    "duration": 7,
    "start_time": "2024-09-06T20:01:35.379Z"
   },
   {
    "duration": 6,
    "start_time": "2024-09-06T20:02:27.889Z"
   },
   {
    "duration": 34,
    "start_time": "2024-09-06T20:05:04.714Z"
   },
   {
    "duration": 676,
    "start_time": "2024-09-06T20:08:22.960Z"
   },
   {
    "duration": 7,
    "start_time": "2024-09-06T20:09:22.301Z"
   },
   {
    "duration": 7,
    "start_time": "2024-09-06T20:09:43.113Z"
   },
   {
    "duration": 16,
    "start_time": "2024-09-06T20:11:13.171Z"
   },
   {
    "duration": 7,
    "start_time": "2024-09-06T20:11:26.181Z"
   },
   {
    "duration": 8,
    "start_time": "2024-09-06T20:15:13.429Z"
   },
   {
    "duration": 6,
    "start_time": "2024-09-06T20:15:38.839Z"
   },
   {
    "duration": 7,
    "start_time": "2024-09-06T20:16:02.173Z"
   },
   {
    "duration": 2524,
    "start_time": "2024-09-08T01:21:07.028Z"
   },
   {
    "duration": 254,
    "start_time": "2024-09-08T01:21:09.554Z"
   },
   {
    "duration": 9,
    "start_time": "2024-09-08T01:21:13.195Z"
   },
   {
    "duration": 7,
    "start_time": "2024-09-08T01:21:14.134Z"
   },
   {
    "duration": 6,
    "start_time": "2024-09-08T01:21:26.157Z"
   },
   {
    "duration": 9,
    "start_time": "2024-09-08T01:21:32.210Z"
   },
   {
    "duration": 6,
    "start_time": "2024-09-08T01:21:35.313Z"
   },
   {
    "duration": 16,
    "start_time": "2024-09-08T01:25:15.572Z"
   },
   {
    "duration": 211,
    "start_time": "2024-09-08T01:25:37.533Z"
   },
   {
    "duration": 5,
    "start_time": "2024-09-08T01:25:56.175Z"
   },
   {
    "duration": 15,
    "start_time": "2024-09-08T01:27:24.053Z"
   },
   {
    "duration": 34,
    "start_time": "2024-09-08T01:28:31.508Z"
   },
   {
    "duration": 398,
    "start_time": "2024-09-08T01:28:49.174Z"
   },
   {
    "duration": 12,
    "start_time": "2024-09-08T01:28:59.187Z"
   },
   {
    "duration": 6,
    "start_time": "2024-09-08T01:29:14.239Z"
   },
   {
    "duration": 32,
    "start_time": "2024-09-08T01:29:26.431Z"
   },
   {
    "duration": 11,
    "start_time": "2024-09-08T01:29:47.932Z"
   },
   {
    "duration": 9,
    "start_time": "2024-09-08T01:29:59.528Z"
   },
   {
    "duration": 12,
    "start_time": "2024-09-08T01:31:38.057Z"
   },
   {
    "duration": 25,
    "start_time": "2024-09-08T01:32:08.576Z"
   },
   {
    "duration": 4,
    "start_time": "2024-09-08T01:32:30.250Z"
   },
   {
    "duration": 17,
    "start_time": "2024-09-08T01:32:53.964Z"
   },
   {
    "duration": 26,
    "start_time": "2024-09-08T01:33:00.241Z"
   },
   {
    "duration": 15,
    "start_time": "2024-09-08T01:37:11.150Z"
   },
   {
    "duration": 45,
    "start_time": "2024-09-08T01:37:36.219Z"
   },
   {
    "duration": 4,
    "start_time": "2024-09-08T01:38:03.074Z"
   },
   {
    "duration": 10,
    "start_time": "2024-09-08T01:56:31.510Z"
   },
   {
    "duration": 71,
    "start_time": "2024-09-08T02:05:41.172Z"
   },
   {
    "duration": 121,
    "start_time": "2024-09-08T02:08:22.378Z"
   },
   {
    "duration": 82,
    "start_time": "2024-09-08T02:10:21.332Z"
   },
   {
    "duration": 6,
    "start_time": "2024-09-08T02:11:58.615Z"
   },
   {
    "duration": 43,
    "start_time": "2024-09-08T02:13:09.791Z"
   },
   {
    "duration": 53,
    "start_time": "2024-09-08T02:14:13.743Z"
   },
   {
    "duration": 55,
    "start_time": "2024-09-08T02:14:40.550Z"
   },
   {
    "duration": 27,
    "start_time": "2024-09-08T02:56:35.456Z"
   },
   {
    "duration": 18,
    "start_time": "2024-09-08T02:58:07.482Z"
   },
   {
    "duration": 22,
    "start_time": "2024-09-08T03:00:52.150Z"
   },
   {
    "duration": 22,
    "start_time": "2024-09-08T03:16:35.356Z"
   },
   {
    "duration": 99,
    "start_time": "2024-09-08T03:19:58.876Z"
   },
   {
    "duration": 25,
    "start_time": "2024-09-08T03:21:06.735Z"
   },
   {
    "duration": 27,
    "start_time": "2024-09-08T03:21:30.777Z"
   },
   {
    "duration": 24,
    "start_time": "2024-09-08T03:22:20.702Z"
   },
   {
    "duration": 14,
    "start_time": "2024-09-08T03:23:29.227Z"
   },
   {
    "duration": 18,
    "start_time": "2024-09-08T03:24:52.825Z"
   },
   {
    "duration": 69,
    "start_time": "2024-09-08T03:27:26.446Z"
   },
   {
    "duration": 10,
    "start_time": "2024-09-08T03:27:33.963Z"
   },
   {
    "duration": 42,
    "start_time": "2024-09-08T03:27:37.015Z"
   },
   {
    "duration": 52,
    "start_time": "2024-09-08T03:27:45.909Z"
   },
   {
    "duration": 62,
    "start_time": "2024-09-08T03:39:04.138Z"
   },
   {
    "duration": 49,
    "start_time": "2024-09-08T03:41:04.670Z"
   },
   {
    "duration": 48,
    "start_time": "2024-09-08T03:41:42.534Z"
   },
   {
    "duration": 51,
    "start_time": "2024-09-08T03:42:25.811Z"
   },
   {
    "duration": 42,
    "start_time": "2024-09-08T03:46:30.483Z"
   },
   {
    "duration": 40,
    "start_time": "2024-09-08T03:46:46.550Z"
   },
   {
    "duration": 14,
    "start_time": "2024-09-08T03:55:04.089Z"
   },
   {
    "duration": 48,
    "start_time": "2024-09-08T03:56:05.338Z"
   },
   {
    "duration": 213,
    "start_time": "2024-09-08T03:59:34.195Z"
   },
   {
    "duration": 65,
    "start_time": "2024-09-08T03:59:57.607Z"
   },
   {
    "duration": 65,
    "start_time": "2024-09-08T04:01:35.868Z"
   },
   {
    "duration": 71,
    "start_time": "2024-09-08T04:06:28.912Z"
   },
   {
    "duration": 6,
    "start_time": "2024-09-08T04:09:47.833Z"
   },
   {
    "duration": 45,
    "start_time": "2024-09-08T04:13:33.615Z"
   },
   {
    "duration": 54,
    "start_time": "2024-09-08T04:15:48.645Z"
   },
   {
    "duration": 2514,
    "start_time": "2024-09-08T23:43:24.438Z"
   },
   {
    "duration": 3,
    "start_time": "2024-09-08T23:46:46.912Z"
   },
   {
    "duration": 2,
    "start_time": "2024-09-08T23:46:51.354Z"
   },
   {
    "duration": 267,
    "start_time": "2024-09-08T23:46:53.602Z"
   },
   {
    "duration": 12,
    "start_time": "2024-09-08T23:47:55.641Z"
   },
   {
    "duration": 6,
    "start_time": "2024-09-08T23:47:59.110Z"
   },
   {
    "duration": 6,
    "start_time": "2024-09-08T23:48:12.589Z"
   },
   {
    "duration": 12,
    "start_time": "2024-09-08T23:48:42.548Z"
   },
   {
    "duration": 7,
    "start_time": "2024-09-08T23:48:48.982Z"
   },
   {
    "duration": 15,
    "start_time": "2024-09-08T23:51:45.695Z"
   },
   {
    "duration": 34,
    "start_time": "2024-09-08T23:51:49.037Z"
   },
   {
    "duration": 28,
    "start_time": "2024-09-08T23:51:52.148Z"
   },
   {
    "duration": 19,
    "start_time": "2024-09-08T23:52:01.145Z"
   },
   {
    "duration": 24,
    "start_time": "2024-09-08T23:52:04.653Z"
   },
   {
    "duration": 4,
    "start_time": "2024-09-08T23:52:06.009Z"
   },
   {
    "duration": 20,
    "start_time": "2024-09-08T23:52:09.008Z"
   },
   {
    "duration": 15,
    "start_time": "2024-09-08T23:52:12.599Z"
   },
   {
    "duration": 42,
    "start_time": "2024-09-08T23:52:15.925Z"
   },
   {
    "duration": 5,
    "start_time": "2024-09-08T23:52:16.788Z"
   },
   {
    "duration": 22,
    "start_time": "2024-09-08T23:52:20.888Z"
   },
   {
    "duration": 17,
    "start_time": "2024-09-08T23:52:24.050Z"
   },
   {
    "duration": 10,
    "start_time": "2024-09-08T23:52:31.003Z"
   },
   {
    "duration": 74,
    "start_time": "2024-09-08T23:52:34.916Z"
   },
   {
    "duration": 6,
    "start_time": "2024-09-08T23:52:43.824Z"
   },
   {
    "duration": 45,
    "start_time": "2024-09-08T23:53:02.707Z"
   },
   {
    "duration": 57,
    "start_time": "2024-09-08T23:53:05.844Z"
   },
   {
    "duration": 59,
    "start_time": "2024-09-09T00:34:06.249Z"
   },
   {
    "duration": 60,
    "start_time": "2024-09-09T00:34:13.675Z"
   },
   {
    "duration": 172,
    "start_time": "2024-09-09T00:39:46.474Z"
   },
   {
    "duration": 157,
    "start_time": "2024-09-09T00:40:38.127Z"
   },
   {
    "duration": 56,
    "start_time": "2024-09-09T00:40:43.366Z"
   },
   {
    "duration": 54,
    "start_time": "2024-09-09T00:40:57.020Z"
   },
   {
    "duration": 70,
    "start_time": "2024-09-09T00:42:08.323Z"
   },
   {
    "duration": 6,
    "start_time": "2024-09-09T00:50:37.406Z"
   },
   {
    "duration": 5,
    "start_time": "2024-09-09T00:50:46.018Z"
   },
   {
    "duration": 11,
    "start_time": "2024-09-09T00:52:01.482Z"
   },
   {
    "duration": 10,
    "start_time": "2024-09-09T00:52:57.637Z"
   },
   {
    "duration": 501,
    "start_time": "2024-09-09T00:53:37.840Z"
   },
   {
    "duration": 69,
    "start_time": "2024-09-09T00:55:59.908Z"
   },
   {
    "duration": 12,
    "start_time": "2024-09-09T00:57:05.051Z"
   },
   {
    "duration": 20,
    "start_time": "2024-09-09T00:57:46.380Z"
   },
   {
    "duration": 8,
    "start_time": "2024-09-09T01:24:03.686Z"
   },
   {
    "duration": 4,
    "start_time": "2024-09-09T01:24:14.679Z"
   },
   {
    "duration": 4,
    "start_time": "2024-09-09T01:24:31.033Z"
   },
   {
    "duration": 4,
    "start_time": "2024-09-09T01:24:45.815Z"
   },
   {
    "duration": 23,
    "start_time": "2024-09-09T01:25:05.940Z"
   },
   {
    "duration": 13,
    "start_time": "2024-09-09T01:25:21.435Z"
   },
   {
    "duration": 25,
    "start_time": "2024-09-09T01:25:37.604Z"
   },
   {
    "duration": 15,
    "start_time": "2024-09-09T01:25:44.817Z"
   },
   {
    "duration": 25,
    "start_time": "2024-09-09T01:26:10.147Z"
   },
   {
    "duration": 16,
    "start_time": "2024-09-09T01:26:52.709Z"
   },
   {
    "duration": 16,
    "start_time": "2024-09-09T01:27:19.268Z"
   },
   {
    "duration": 15,
    "start_time": "2024-09-09T01:27:39.198Z"
   },
   {
    "duration": 19,
    "start_time": "2024-09-09T01:28:27.158Z"
   },
   {
    "duration": 4,
    "start_time": "2024-09-09T01:32:32.646Z"
   },
   {
    "duration": 318,
    "start_time": "2024-09-09T01:32:51.609Z"
   },
   {
    "duration": 66,
    "start_time": "2024-09-09T01:33:59.502Z"
   },
   {
    "duration": 15,
    "start_time": "2024-09-09T01:34:15.663Z"
   },
   {
    "duration": 51,
    "start_time": "2024-09-09T01:34:43.529Z"
   },
   {
    "duration": 20,
    "start_time": "2024-09-09T01:37:23.888Z"
   },
   {
    "duration": 16,
    "start_time": "2024-09-09T01:37:39.000Z"
   },
   {
    "duration": 579,
    "start_time": "2024-09-09T01:40:15.347Z"
   },
   {
    "duration": 17,
    "start_time": "2024-09-09T01:42:31.605Z"
   },
   {
    "duration": 24,
    "start_time": "2024-09-09T01:42:42.023Z"
   },
   {
    "duration": 21,
    "start_time": "2024-09-09T01:42:51.691Z"
   },
   {
    "duration": 52,
    "start_time": "2024-09-09T01:44:16.409Z"
   },
   {
    "duration": 23,
    "start_time": "2024-09-09T01:48:33.631Z"
   },
   {
    "duration": 29,
    "start_time": "2024-09-09T01:49:21.998Z"
   },
   {
    "duration": 29,
    "start_time": "2024-09-09T01:49:50.736Z"
   },
   {
    "duration": 2522,
    "start_time": "2024-09-13T01:40:52.364Z"
   },
   {
    "duration": 245,
    "start_time": "2024-09-13T01:40:56.720Z"
   },
   {
    "duration": 11,
    "start_time": "2024-09-13T01:41:07.826Z"
   },
   {
    "duration": 7,
    "start_time": "2024-09-13T01:41:12.464Z"
   },
   {
    "duration": 10,
    "start_time": "2024-09-13T01:42:26.415Z"
   },
   {
    "duration": 6,
    "start_time": "2024-09-13T01:42:35.093Z"
   },
   {
    "duration": 16,
    "start_time": "2024-09-13T01:43:04.825Z"
   },
   {
    "duration": 36,
    "start_time": "2024-09-13T01:43:08.139Z"
   },
   {
    "duration": 29,
    "start_time": "2024-09-13T01:43:28.490Z"
   },
   {
    "duration": 19,
    "start_time": "2024-09-13T01:43:36.223Z"
   },
   {
    "duration": 24,
    "start_time": "2024-09-13T01:43:45.246Z"
   },
   {
    "duration": 4,
    "start_time": "2024-09-13T01:43:49.152Z"
   },
   {
    "duration": 18,
    "start_time": "2024-09-13T01:43:53.568Z"
   },
   {
    "duration": 15,
    "start_time": "2024-09-13T01:43:58.425Z"
   },
   {
    "duration": 45,
    "start_time": "2024-09-13T01:44:10.515Z"
   },
   {
    "duration": 5,
    "start_time": "2024-09-13T01:44:17.061Z"
   },
   {
    "duration": 22,
    "start_time": "2024-09-13T01:44:28.106Z"
   },
   {
    "duration": 17,
    "start_time": "2024-09-13T01:44:35.676Z"
   },
   {
    "duration": 11,
    "start_time": "2024-09-13T01:44:56.378Z"
   },
   {
    "duration": 41,
    "start_time": "2024-09-13T01:45:05.304Z"
   },
   {
    "duration": 36,
    "start_time": "2024-09-13T01:48:53.529Z"
   },
   {
    "duration": 39,
    "start_time": "2024-09-13T01:50:02.876Z"
   },
   {
    "duration": 2,
    "start_time": "2024-09-13T01:51:31.165Z"
   },
   {
    "duration": 29,
    "start_time": "2024-09-13T01:54:48.674Z"
   },
   {
    "duration": 27,
    "start_time": "2024-09-13T01:55:34.499Z"
   },
   {
    "duration": 28,
    "start_time": "2024-09-13T01:55:38.546Z"
   },
   {
    "duration": 13,
    "start_time": "2024-09-13T01:59:50.787Z"
   },
   {
    "duration": 7,
    "start_time": "2024-09-13T02:04:03.679Z"
   },
   {
    "duration": 13,
    "start_time": "2024-09-13T02:04:08.958Z"
   },
   {
    "duration": 222,
    "start_time": "2024-09-13T02:18:41.466Z"
   },
   {
    "duration": 16,
    "start_time": "2024-09-13T02:19:24.604Z"
   },
   {
    "duration": 15,
    "start_time": "2024-09-13T02:19:58.960Z"
   },
   {
    "duration": 20,
    "start_time": "2024-09-13T02:20:14.273Z"
   },
   {
    "duration": 27,
    "start_time": "2024-09-13T02:31:15.476Z"
   },
   {
    "duration": 35,
    "start_time": "2024-09-13T02:33:11.877Z"
   },
   {
    "duration": 20,
    "start_time": "2024-09-13T02:34:01.503Z"
   },
   {
    "duration": 2607,
    "start_time": "2024-09-17T01:12:14.679Z"
   },
   {
    "duration": 242,
    "start_time": "2024-09-17T01:12:18.300Z"
   },
   {
    "duration": 11,
    "start_time": "2024-09-17T01:12:21.023Z"
   },
   {
    "duration": 8,
    "start_time": "2024-09-17T01:12:23.112Z"
   },
   {
    "duration": 6,
    "start_time": "2024-09-17T01:12:24.848Z"
   },
   {
    "duration": 11,
    "start_time": "2024-09-17T01:12:26.088Z"
   },
   {
    "duration": 6,
    "start_time": "2024-09-17T01:12:26.311Z"
   },
   {
    "duration": 16,
    "start_time": "2024-09-17T01:12:29.178Z"
   },
   {
    "duration": 34,
    "start_time": "2024-09-17T01:12:29.423Z"
   },
   {
    "duration": 28,
    "start_time": "2024-09-17T01:12:31.208Z"
   },
   {
    "duration": 19,
    "start_time": "2024-09-17T01:12:32.393Z"
   },
   {
    "duration": 24,
    "start_time": "2024-09-17T01:12:33.789Z"
   },
   {
    "duration": 5,
    "start_time": "2024-09-17T01:12:34.272Z"
   },
   {
    "duration": 19,
    "start_time": "2024-09-17T01:12:36.816Z"
   },
   {
    "duration": 15,
    "start_time": "2024-09-17T01:12:37.915Z"
   },
   {
    "duration": 49,
    "start_time": "2024-09-17T01:12:38.447Z"
   },
   {
    "duration": 4,
    "start_time": "2024-09-17T01:12:38.940Z"
   },
   {
    "duration": 23,
    "start_time": "2024-09-17T01:12:40.132Z"
   },
   {
    "duration": 16,
    "start_time": "2024-09-17T01:12:42.045Z"
   },
   {
    "duration": 11,
    "start_time": "2024-09-17T01:12:43.893Z"
   },
   {
    "duration": 39,
    "start_time": "2024-09-17T01:12:45.751Z"
   },
   {
    "duration": 3,
    "start_time": "2024-09-17T01:12:53.709Z"
   },
   {
    "duration": 28,
    "start_time": "2024-09-17T01:12:56.012Z"
   },
   {
    "duration": 29,
    "start_time": "2024-09-17T01:13:01.411Z"
   },
   {
    "duration": 20,
    "start_time": "2024-09-17T01:13:09.911Z"
   },
   {
    "duration": 1,
    "start_time": "2024-09-17T01:13:11.132Z"
   },
   {
    "duration": 3,
    "start_time": "2024-09-17T01:13:26.426Z"
   },
   {
    "duration": 7,
    "start_time": "2024-09-17T02:05:35.724Z"
   },
   {
    "duration": 7,
    "start_time": "2024-09-17T02:17:53.800Z"
   },
   {
    "duration": 8,
    "start_time": "2024-09-17T02:18:02.138Z"
   },
   {
    "duration": 285,
    "start_time": "2024-09-17T02:54:48.107Z"
   },
   {
    "duration": 9,
    "start_time": "2024-09-17T02:54:56.222Z"
   },
   {
    "duration": 13,
    "start_time": "2024-09-17T02:56:02.909Z"
   },
   {
    "duration": 8,
    "start_time": "2024-09-17T03:04:51.146Z"
   },
   {
    "duration": 16,
    "start_time": "2024-09-17T03:08:33.915Z"
   },
   {
    "duration": 29,
    "start_time": "2024-09-17T03:08:35.583Z"
   },
   {
    "duration": 30,
    "start_time": "2024-09-17T03:17:56.337Z"
   },
   {
    "duration": 24,
    "start_time": "2024-09-17T03:18:00.319Z"
   },
   {
    "duration": 24,
    "start_time": "2024-09-17T03:18:09.683Z"
   },
   {
    "duration": 5,
    "start_time": "2024-09-17T03:18:11.653Z"
   },
   {
    "duration": 19,
    "start_time": "2024-09-17T03:20:36.259Z"
   },
   {
    "duration": 17,
    "start_time": "2024-09-17T03:20:40.749Z"
   },
   {
    "duration": 46,
    "start_time": "2024-09-17T03:20:47.678Z"
   },
   {
    "duration": 5,
    "start_time": "2024-09-17T03:20:51.323Z"
   },
   {
    "duration": 83,
    "start_time": "2024-09-17T03:23:29.325Z"
   },
   {
    "duration": 21,
    "start_time": "2024-09-17T03:23:34.111Z"
   },
   {
    "duration": 15,
    "start_time": "2024-09-17T03:23:53.441Z"
   },
   {
    "duration": 49,
    "start_time": "2024-09-17T03:24:20.624Z"
   },
   {
    "duration": 48,
    "start_time": "2024-09-17T03:25:26.689Z"
   },
   {
    "duration": 52,
    "start_time": "2024-09-17T03:32:42.769Z"
   },
   {
    "duration": 36,
    "start_time": "2024-09-17T03:33:03.706Z"
   },
   {
    "duration": 38,
    "start_time": "2024-09-17T03:33:41.510Z"
   },
   {
    "duration": 36,
    "start_time": "2024-09-17T03:34:02.198Z"
   },
   {
    "duration": 32,
    "start_time": "2024-09-17T03:40:40.068Z"
   },
   {
    "duration": 26,
    "start_time": "2024-09-17T03:41:02.659Z"
   },
   {
    "duration": 22,
    "start_time": "2024-09-17T03:42:42.198Z"
   },
   {
    "duration": 32,
    "start_time": "2024-09-17T03:48:36.412Z"
   },
   {
    "duration": 30,
    "start_time": "2024-09-17T03:48:58.040Z"
   },
   {
    "duration": 28,
    "start_time": "2024-09-17T03:56:33.722Z"
   },
   {
    "duration": 6,
    "start_time": "2024-09-17T03:58:30.261Z"
   },
   {
    "duration": 29,
    "start_time": "2024-09-17T04:02:06.724Z"
   },
   {
    "duration": 23,
    "start_time": "2024-09-17T04:06:46.962Z"
   },
   {
    "duration": 39,
    "start_time": "2024-09-17T04:07:06.324Z"
   },
   {
    "duration": 19,
    "start_time": "2024-09-17T04:07:12.594Z"
   },
   {
    "duration": 20,
    "start_time": "2024-09-17T04:13:04.229Z"
   },
   {
    "duration": 5,
    "start_time": "2024-09-17T04:13:15.846Z"
   },
   {
    "duration": 30,
    "start_time": "2024-09-17T04:13:24.100Z"
   },
   {
    "duration": 32,
    "start_time": "2024-09-17T04:17:06.840Z"
   },
   {
    "duration": 25,
    "start_time": "2024-09-17T04:17:26.858Z"
   },
   {
    "duration": 24,
    "start_time": "2024-09-17T04:18:26.807Z"
   },
   {
    "duration": 197,
    "start_time": "2024-09-17T04:22:31.881Z"
   },
   {
    "duration": 29,
    "start_time": "2024-09-17T04:22:47.223Z"
   },
   {
    "duration": 31,
    "start_time": "2024-09-17T04:23:07.486Z"
   },
   {
    "duration": 10,
    "start_time": "2024-09-17T04:24:45.397Z"
   },
   {
    "duration": 29,
    "start_time": "2024-09-17T04:25:42.193Z"
   },
   {
    "duration": 2507,
    "start_time": "2024-09-17T23:25:18.850Z"
   },
   {
    "duration": 242,
    "start_time": "2024-09-17T23:25:22.910Z"
   },
   {
    "duration": 11,
    "start_time": "2024-09-17T23:25:25.359Z"
   },
   {
    "duration": 14,
    "start_time": "2024-09-17T23:25:26.564Z"
   },
   {
    "duration": 6,
    "start_time": "2024-09-17T23:25:30.185Z"
   },
   {
    "duration": 10,
    "start_time": "2024-09-17T23:25:33.647Z"
   },
   {
    "duration": 6,
    "start_time": "2024-09-17T23:25:35.023Z"
   },
   {
    "duration": 11,
    "start_time": "2024-09-17T23:25:38.474Z"
   },
   {
    "duration": 9,
    "start_time": "2024-09-17T23:25:44.839Z"
   },
   {
    "duration": 16,
    "start_time": "2024-09-17T23:25:48.241Z"
   },
   {
    "duration": 31,
    "start_time": "2024-09-17T23:29:10.543Z"
   },
   {
    "duration": 19,
    "start_time": "2024-09-17T23:29:13.112Z"
   },
   {
    "duration": 24,
    "start_time": "2024-09-17T23:29:26.457Z"
   },
   {
    "duration": 4,
    "start_time": "2024-09-17T23:29:27.308Z"
   },
   {
    "duration": 18,
    "start_time": "2024-09-17T23:33:58.489Z"
   },
   {
    "duration": 15,
    "start_time": "2024-09-17T23:34:10.561Z"
   },
   {
    "duration": 14,
    "start_time": "2024-09-17T23:43:15.104Z"
   },
   {
    "duration": 43,
    "start_time": "2024-09-17T23:43:17.632Z"
   },
   {
    "duration": 4,
    "start_time": "2024-09-17T23:43:18.348Z"
   },
   {
    "duration": 23,
    "start_time": "2024-09-17T23:43:20.484Z"
   },
   {
    "duration": 24,
    "start_time": "2024-09-17T23:43:21.774Z"
   },
   {
    "duration": 11,
    "start_time": "2024-09-17T23:43:23.361Z"
   },
   {
    "duration": 43,
    "start_time": "2024-09-17T23:43:24.431Z"
   },
   {
    "duration": 27,
    "start_time": "2024-09-17T23:43:25.324Z"
   },
   {
    "duration": 28,
    "start_time": "2024-09-17T23:43:26.452Z"
   },
   {
    "duration": 27,
    "start_time": "2024-09-17T23:43:29.252Z"
   },
   {
    "duration": 2551,
    "start_time": "2024-09-18T01:00:32.733Z"
   },
   {
    "duration": 245,
    "start_time": "2024-09-18T01:00:35.287Z"
   },
   {
    "duration": 10,
    "start_time": "2024-09-18T01:00:39.401Z"
   },
   {
    "duration": 6,
    "start_time": "2024-09-18T01:00:40.317Z"
   },
   {
    "duration": 7,
    "start_time": "2024-09-18T01:00:43.137Z"
   },
   {
    "duration": 10,
    "start_time": "2024-09-18T01:00:46.604Z"
   },
   {
    "duration": 6,
    "start_time": "2024-09-18T01:00:57.685Z"
   },
   {
    "duration": 11,
    "start_time": "2024-09-18T01:01:01.607Z"
   },
   {
    "duration": 9,
    "start_time": "2024-09-18T01:01:04.573Z"
   },
   {
    "duration": 16,
    "start_time": "2024-09-18T01:01:06.076Z"
   },
   {
    "duration": 34,
    "start_time": "2024-09-18T01:01:06.783Z"
   },
   {
    "duration": 28,
    "start_time": "2024-09-18T01:01:18.595Z"
   },
   {
    "duration": 20,
    "start_time": "2024-09-18T01:01:19.415Z"
   },
   {
    "duration": 23,
    "start_time": "2024-09-18T01:01:20.136Z"
   },
   {
    "duration": 3,
    "start_time": "2024-09-18T01:01:20.782Z"
   },
   {
    "duration": 18,
    "start_time": "2024-09-18T01:01:22.045Z"
   },
   {
    "duration": 14,
    "start_time": "2024-09-18T01:01:22.724Z"
   },
   {
    "duration": 43,
    "start_time": "2024-09-18T01:01:23.376Z"
   },
   {
    "duration": 4,
    "start_time": "2024-09-18T01:01:23.676Z"
   },
   {
    "duration": 22,
    "start_time": "2024-09-18T01:01:24.582Z"
   },
   {
    "duration": 17,
    "start_time": "2024-09-18T01:01:25.183Z"
   },
   {
    "duration": 10,
    "start_time": "2024-09-18T01:01:25.761Z"
   },
   {
    "duration": 40,
    "start_time": "2024-09-18T01:01:26.497Z"
   },
   {
    "duration": 29,
    "start_time": "2024-09-18T01:01:28.022Z"
   },
   {
    "duration": 28,
    "start_time": "2024-09-18T01:01:29.541Z"
   },
   {
    "duration": 36,
    "start_time": "2024-09-18T01:01:32.802Z"
   },
   {
    "duration": 28,
    "start_time": "2024-09-18T01:04:45.331Z"
   },
   {
    "duration": 6,
    "start_time": "2024-09-18T01:11:57.427Z"
   },
   {
    "duration": 212,
    "start_time": "2024-09-18T01:12:14.698Z"
   },
   {
    "duration": 330,
    "start_time": "2024-09-18T01:12:19.850Z"
   },
   {
    "duration": 14,
    "start_time": "2024-09-18T01:13:46.809Z"
   },
   {
    "duration": 12,
    "start_time": "2024-09-18T01:13:56.360Z"
   },
   {
    "duration": 19,
    "start_time": "2024-09-18T01:18:49.785Z"
   },
   {
    "duration": 29,
    "start_time": "2024-09-18T01:20:14.712Z"
   },
   {
    "duration": 20,
    "start_time": "2024-09-18T01:24:01.682Z"
   },
   {
    "duration": 280,
    "start_time": "2024-09-18T01:29:38.544Z"
   },
   {
    "duration": 8,
    "start_time": "2024-09-18T01:29:53.864Z"
   },
   {
    "duration": 6,
    "start_time": "2024-09-18T01:30:04.157Z"
   },
   {
    "duration": 12,
    "start_time": "2024-09-18T01:30:30.736Z"
   },
   {
    "duration": 5,
    "start_time": "2024-09-18T01:30:47.028Z"
   },
   {
    "duration": 779,
    "start_time": "2024-09-18T01:33:52.506Z"
   },
   {
    "duration": 154,
    "start_time": "2024-09-18T01:33:54.535Z"
   },
   {
    "duration": 11,
    "start_time": "2024-09-18T01:33:55.098Z"
   },
   {
    "duration": 6,
    "start_time": "2024-09-18T01:33:55.287Z"
   },
   {
    "duration": 6,
    "start_time": "2024-09-18T01:33:55.821Z"
   },
   {
    "duration": 7,
    "start_time": "2024-09-18T01:33:56.144Z"
   },
   {
    "duration": 10,
    "start_time": "2024-09-18T01:33:56.519Z"
   },
   {
    "duration": 6,
    "start_time": "2024-09-18T01:33:56.691Z"
   },
   {
    "duration": 12,
    "start_time": "2024-09-18T01:33:57.246Z"
   },
   {
    "duration": 9,
    "start_time": "2024-09-18T01:33:57.603Z"
   },
   {
    "duration": 15,
    "start_time": "2024-09-18T01:33:57.993Z"
   },
   {
    "duration": 39,
    "start_time": "2024-09-18T01:33:58.198Z"
   },
   {
    "duration": 31,
    "start_time": "2024-09-18T01:33:58.991Z"
   },
   {
    "duration": 19,
    "start_time": "2024-09-18T01:33:59.382Z"
   },
   {
    "duration": 24,
    "start_time": "2024-09-18T01:33:59.762Z"
   },
   {
    "duration": 4,
    "start_time": "2024-09-18T01:33:59.944Z"
   },
   {
    "duration": 19,
    "start_time": "2024-09-18T01:34:00.691Z"
   },
   {
    "duration": 15,
    "start_time": "2024-09-18T01:34:01.081Z"
   },
   {
    "duration": 44,
    "start_time": "2024-09-18T01:34:01.503Z"
   },
   {
    "duration": 4,
    "start_time": "2024-09-18T01:34:01.705Z"
   },
   {
    "duration": 22,
    "start_time": "2024-09-18T01:34:02.319Z"
   },
   {
    "duration": 16,
    "start_time": "2024-09-18T01:34:02.713Z"
   },
   {
    "duration": 10,
    "start_time": "2024-09-18T01:34:03.146Z"
   },
   {
    "duration": 39,
    "start_time": "2024-09-18T01:34:03.525Z"
   },
   {
    "duration": 26,
    "start_time": "2024-09-18T01:34:03.945Z"
   },
   {
    "duration": 27,
    "start_time": "2024-09-18T01:34:05.149Z"
   },
   {
    "duration": 26,
    "start_time": "2024-09-18T01:34:05.673Z"
   },
   {
    "duration": 21,
    "start_time": "2024-09-18T01:34:10.317Z"
   },
   {
    "duration": 32,
    "start_time": "2024-09-18T01:37:54.827Z"
   },
   {
    "duration": 11,
    "start_time": "2024-09-18T02:08:48.248Z"
   },
   {
    "duration": 125,
    "start_time": "2024-09-18T02:09:02.527Z"
   },
   {
    "duration": 7,
    "start_time": "2024-09-18T02:09:24.296Z"
   },
   {
    "duration": 22,
    "start_time": "2024-09-18T02:21:22.353Z"
   },
   {
    "duration": 18,
    "start_time": "2024-09-18T02:21:31.662Z"
   },
   {
    "duration": 18,
    "start_time": "2024-09-18T02:21:41.823Z"
   },
   {
    "duration": 4,
    "start_time": "2024-09-18T02:21:42.362Z"
   },
   {
    "duration": 87,
    "start_time": "2024-09-18T02:21:50.658Z"
   },
   {
    "duration": 15,
    "start_time": "2024-09-18T02:21:52.056Z"
   },
   {
    "duration": 37,
    "start_time": "2024-09-18T02:21:53.637Z"
   },
   {
    "duration": 4,
    "start_time": "2024-09-18T02:21:54.592Z"
   },
   {
    "duration": 22,
    "start_time": "2024-09-18T02:22:01.292Z"
   },
   {
    "duration": 17,
    "start_time": "2024-09-18T02:22:03.251Z"
   },
   {
    "duration": 12,
    "start_time": "2024-09-18T02:22:04.865Z"
   },
   {
    "duration": 38,
    "start_time": "2024-09-18T02:22:06.267Z"
   },
   {
    "duration": 27,
    "start_time": "2024-09-18T02:22:09.788Z"
   },
   {
    "duration": 37,
    "start_time": "2024-09-18T02:22:26.728Z"
   },
   {
    "duration": 29,
    "start_time": "2024-09-18T02:22:29.557Z"
   },
   {
    "duration": 38,
    "start_time": "2024-09-18T02:23:16.093Z"
   },
   {
    "duration": 27,
    "start_time": "2024-09-18T02:23:21.708Z"
   },
   {
    "duration": 26,
    "start_time": "2024-09-18T02:23:25.593Z"
   },
   {
    "duration": 28,
    "start_time": "2024-09-18T02:23:29.222Z"
   },
   {
    "duration": 21,
    "start_time": "2024-09-18T02:23:38.827Z"
   },
   {
    "duration": 7,
    "start_time": "2024-09-18T02:23:42.255Z"
   },
   {
    "duration": 6,
    "start_time": "2024-09-18T02:23:51.625Z"
   },
   {
    "duration": 5,
    "start_time": "2024-09-18T02:23:56.875Z"
   },
   {
    "duration": 6,
    "start_time": "2024-09-18T02:24:13.311Z"
   },
   {
    "duration": 4,
    "start_time": "2024-09-18T02:24:27.711Z"
   },
   {
    "duration": 10,
    "start_time": "2024-09-18T02:27:31.820Z"
   },
   {
    "duration": 15,
    "start_time": "2024-09-18T02:31:42.497Z"
   },
   {
    "duration": 13,
    "start_time": "2024-09-18T02:36:01.888Z"
   },
   {
    "duration": 3512,
    "start_time": "2024-09-18T02:56:39.112Z"
   },
   {
    "duration": 3,
    "start_time": "2024-09-18T02:57:38.989Z"
   },
   {
    "duration": 3661,
    "start_time": "2024-09-18T02:57:49.568Z"
   },
   {
    "duration": 194,
    "start_time": "2024-09-18T02:59:25.854Z"
   },
   {
    "duration": 186,
    "start_time": "2024-09-18T03:00:57.199Z"
   },
   {
    "duration": 191,
    "start_time": "2024-09-18T03:01:46.378Z"
   },
   {
    "duration": 187,
    "start_time": "2024-09-18T03:05:27.279Z"
   },
   {
    "duration": 264,
    "start_time": "2024-09-18T03:06:42.568Z"
   },
   {
    "duration": 183,
    "start_time": "2024-09-18T03:06:56.971Z"
   },
   {
    "duration": 186,
    "start_time": "2024-09-18T03:07:08.226Z"
   },
   {
    "duration": 199,
    "start_time": "2024-09-18T03:07:37.689Z"
   },
   {
    "duration": 31,
    "start_time": "2024-09-18T03:12:24.274Z"
   },
   {
    "duration": 203,
    "start_time": "2024-09-18T03:12:33.101Z"
   },
   {
    "duration": 99,
    "start_time": "2024-09-18T03:13:20.912Z"
   },
   {
    "duration": 193,
    "start_time": "2024-09-18T03:13:28.822Z"
   },
   {
    "duration": 277,
    "start_time": "2024-09-18T03:15:43.161Z"
   },
   {
    "duration": 185,
    "start_time": "2024-09-18T03:15:55.458Z"
   },
   {
    "duration": 805,
    "start_time": "2024-09-18T03:16:46.723Z"
   },
   {
    "duration": 166,
    "start_time": "2024-09-18T03:16:47.537Z"
   },
   {
    "duration": 12,
    "start_time": "2024-09-18T03:16:47.705Z"
   },
   {
    "duration": 6,
    "start_time": "2024-09-18T03:16:47.720Z"
   },
   {
    "duration": 7,
    "start_time": "2024-09-18T03:16:47.730Z"
   },
   {
    "duration": 8,
    "start_time": "2024-09-18T03:16:47.739Z"
   },
   {
    "duration": 11,
    "start_time": "2024-09-18T03:16:47.749Z"
   },
   {
    "duration": 7,
    "start_time": "2024-09-18T03:16:47.762Z"
   },
   {
    "duration": 15,
    "start_time": "2024-09-18T03:16:47.771Z"
   },
   {
    "duration": 37,
    "start_time": "2024-09-18T03:16:47.787Z"
   },
   {
    "duration": 20,
    "start_time": "2024-09-18T03:16:47.826Z"
   },
   {
    "duration": 34,
    "start_time": "2024-09-18T03:16:47.848Z"
   },
   {
    "duration": 48,
    "start_time": "2024-09-18T03:16:47.884Z"
   },
   {
    "duration": 21,
    "start_time": "2024-09-18T03:16:47.936Z"
   },
   {
    "duration": 35,
    "start_time": "2024-09-18T03:16:47.959Z"
   },
   {
    "duration": 28,
    "start_time": "2024-09-18T03:16:47.997Z"
   },
   {
    "duration": 28,
    "start_time": "2024-09-18T03:16:48.027Z"
   },
   {
    "duration": 14,
    "start_time": "2024-09-18T03:16:48.057Z"
   },
   {
    "duration": 80,
    "start_time": "2024-09-18T03:16:48.073Z"
   },
   {
    "duration": 5,
    "start_time": "2024-09-18T03:16:48.156Z"
   },
   {
    "duration": 23,
    "start_time": "2024-09-18T03:16:48.162Z"
   },
   {
    "duration": 40,
    "start_time": "2024-09-18T03:16:48.187Z"
   },
   {
    "duration": 14,
    "start_time": "2024-09-18T03:16:48.229Z"
   },
   {
    "duration": 45,
    "start_time": "2024-09-18T03:16:48.244Z"
   },
   {
    "duration": 45,
    "start_time": "2024-09-18T03:16:48.292Z"
   },
   {
    "duration": 30,
    "start_time": "2024-09-18T03:16:48.338Z"
   },
   {
    "duration": 34,
    "start_time": "2024-09-18T03:16:48.370Z"
   },
   {
    "duration": 38,
    "start_time": "2024-09-18T03:16:48.405Z"
   },
   {
    "duration": 14,
    "start_time": "2024-09-18T03:16:48.445Z"
   },
   {
    "duration": 226,
    "start_time": "2024-09-18T03:16:48.461Z"
   },
   {
    "duration": 3,
    "start_time": "2024-09-18T03:16:48.689Z"
   },
   {
    "duration": 3,
    "start_time": "2024-09-18T03:16:48.693Z"
   },
   {
    "duration": 3,
    "start_time": "2024-09-18T03:16:48.698Z"
   },
   {
    "duration": 2,
    "start_time": "2024-09-18T03:16:48.703Z"
   },
   {
    "duration": 2,
    "start_time": "2024-09-18T03:16:48.724Z"
   },
   {
    "duration": 2,
    "start_time": "2024-09-18T03:16:48.728Z"
   },
   {
    "duration": 2,
    "start_time": "2024-09-18T03:16:48.732Z"
   },
   {
    "duration": 477,
    "start_time": "2024-09-18T03:41:04.136Z"
   },
   {
    "duration": 187,
    "start_time": "2024-09-18T03:41:18.195Z"
   },
   {
    "duration": 190,
    "start_time": "2024-09-18T03:41:40.244Z"
   },
   {
    "duration": 852,
    "start_time": "2024-09-18T03:42:17.487Z"
   },
   {
    "duration": 167,
    "start_time": "2024-09-18T03:42:19.376Z"
   },
   {
    "duration": 11,
    "start_time": "2024-09-18T03:42:19.947Z"
   },
   {
    "duration": 7,
    "start_time": "2024-09-18T03:42:20.157Z"
   },
   {
    "duration": 9,
    "start_time": "2024-09-18T03:42:20.743Z"
   },
   {
    "duration": 8,
    "start_time": "2024-09-18T03:42:21.116Z"
   },
   {
    "duration": 11,
    "start_time": "2024-09-18T03:42:21.553Z"
   },
   {
    "duration": 7,
    "start_time": "2024-09-18T03:42:21.758Z"
   },
   {
    "duration": 13,
    "start_time": "2024-09-18T03:42:22.398Z"
   },
   {
    "duration": 10,
    "start_time": "2024-09-18T03:42:22.809Z"
   },
   {
    "duration": 16,
    "start_time": "2024-09-18T03:42:23.243Z"
   },
   {
    "duration": 34,
    "start_time": "2024-09-18T03:42:23.466Z"
   },
   {
    "duration": 29,
    "start_time": "2024-09-18T03:42:24.309Z"
   },
   {
    "duration": 21,
    "start_time": "2024-09-18T03:42:24.761Z"
   },
   {
    "duration": 24,
    "start_time": "2024-09-18T03:42:25.189Z"
   },
   {
    "duration": 5,
    "start_time": "2024-09-18T03:42:25.401Z"
   },
   {
    "duration": 38,
    "start_time": "2024-09-18T03:42:26.222Z"
   },
   {
    "duration": 14,
    "start_time": "2024-09-18T03:42:26.650Z"
   },
   {
    "duration": 62,
    "start_time": "2024-09-18T03:42:27.203Z"
   },
   {
    "duration": 7,
    "start_time": "2024-09-18T03:42:27.415Z"
   },
   {
    "duration": 23,
    "start_time": "2024-09-18T03:42:28.497Z"
   },
   {
    "duration": 22,
    "start_time": "2024-09-18T03:42:29.150Z"
   },
   {
    "duration": 14,
    "start_time": "2024-09-18T03:42:29.590Z"
   },
   {
    "duration": 52,
    "start_time": "2024-09-18T03:42:30.054Z"
   },
   {
    "duration": 29,
    "start_time": "2024-09-18T03:42:30.536Z"
   },
   {
    "duration": 27,
    "start_time": "2024-09-18T03:42:31.003Z"
   },
   {
    "duration": 34,
    "start_time": "2024-09-18T03:42:31.476Z"
   },
   {
    "duration": 26,
    "start_time": "2024-09-18T03:42:31.959Z"
   },
   {
    "duration": 16,
    "start_time": "2024-09-18T03:42:32.469Z"
   },
   {
    "duration": 200,
    "start_time": "2024-09-18T03:42:35.793Z"
   },
   {
    "duration": 241,
    "start_time": "2024-09-18T03:47:37.846Z"
   },
   {
    "duration": 359,
    "start_time": "2024-09-18T03:48:29.104Z"
   },
   {
    "duration": 190,
    "start_time": "2024-09-18T03:49:08.978Z"
   },
   {
    "duration": 265,
    "start_time": "2024-09-18T03:50:51.884Z"
   },
   {
    "duration": 7,
    "start_time": "2024-09-18T03:53:02.498Z"
   },
   {
    "duration": 6,
    "start_time": "2024-09-18T03:53:15.514Z"
   },
   {
    "duration": 193,
    "start_time": "2024-09-18T03:53:35.363Z"
   },
   {
    "duration": 191,
    "start_time": "2024-09-18T03:53:50.637Z"
   },
   {
    "duration": 227,
    "start_time": "2024-09-18T03:54:49.428Z"
   },
   {
    "duration": 192,
    "start_time": "2024-09-18T03:56:05.190Z"
   },
   {
    "duration": 226,
    "start_time": "2024-09-18T03:56:24.518Z"
   },
   {
    "duration": 288,
    "start_time": "2024-09-18T03:56:55.011Z"
   },
   {
    "duration": 20,
    "start_time": "2024-09-18T03:57:16.372Z"
   },
   {
    "duration": 29,
    "start_time": "2024-09-18T04:00:47.393Z"
   },
   {
    "duration": 23,
    "start_time": "2024-09-18T04:00:59.413Z"
   },
   {
    "duration": 203,
    "start_time": "2024-09-18T04:01:06.201Z"
   },
   {
    "duration": 216,
    "start_time": "2024-09-18T04:01:43.399Z"
   },
   {
    "duration": 211,
    "start_time": "2024-09-18T04:01:54.877Z"
   },
   {
    "duration": 2509,
    "start_time": "2024-09-18T13:03:34.513Z"
   },
   {
    "duration": 254,
    "start_time": "2024-09-18T13:03:37.024Z"
   },
   {
    "duration": 10,
    "start_time": "2024-09-18T13:03:38.940Z"
   },
   {
    "duration": 6,
    "start_time": "2024-09-18T13:03:40.166Z"
   },
   {
    "duration": 7,
    "start_time": "2024-09-18T13:03:43.950Z"
   },
   {
    "duration": 6,
    "start_time": "2024-09-18T13:03:46.469Z"
   },
   {
    "duration": 10,
    "start_time": "2024-09-18T13:03:48.337Z"
   },
   {
    "duration": 6,
    "start_time": "2024-09-18T13:03:49.039Z"
   },
   {
    "duration": 13,
    "start_time": "2024-09-18T13:03:51.508Z"
   },
   {
    "duration": 9,
    "start_time": "2024-09-18T13:03:53.492Z"
   },
   {
    "duration": 15,
    "start_time": "2024-09-18T13:03:55.212Z"
   },
   {
    "duration": 33,
    "start_time": "2024-09-18T13:03:56.328Z"
   },
   {
    "duration": 29,
    "start_time": "2024-09-18T13:04:01.279Z"
   },
   {
    "duration": 19,
    "start_time": "2024-09-18T13:04:04.922Z"
   },
   {
    "duration": 24,
    "start_time": "2024-09-18T13:04:07.098Z"
   },
   {
    "duration": 5,
    "start_time": "2024-09-18T13:04:08.832Z"
   },
   {
    "duration": 18,
    "start_time": "2024-09-18T13:04:20.674Z"
   },
   {
    "duration": 16,
    "start_time": "2024-09-18T13:04:22.401Z"
   },
   {
    "duration": 73,
    "start_time": "2024-09-18T13:04:24.453Z"
   },
   {
    "duration": 5,
    "start_time": "2024-09-18T13:04:25.671Z"
   },
   {
    "duration": 23,
    "start_time": "2024-09-18T13:04:28.723Z"
   },
   {
    "duration": 17,
    "start_time": "2024-09-18T13:04:30.653Z"
   },
   {
    "duration": 10,
    "start_time": "2024-09-18T13:04:32.887Z"
   },
   {
    "duration": 39,
    "start_time": "2024-09-18T13:04:35.160Z"
   },
   {
    "duration": 28,
    "start_time": "2024-09-18T13:04:45.078Z"
   },
   {
    "duration": 28,
    "start_time": "2024-09-18T13:04:51.137Z"
   },
   {
    "duration": 27,
    "start_time": "2024-09-18T13:04:56.792Z"
   },
   {
    "duration": 21,
    "start_time": "2024-09-18T13:05:02.567Z"
   },
   {
    "duration": 21,
    "start_time": "2024-09-18T13:05:10.225Z"
   },
   {
    "duration": 202,
    "start_time": "2024-09-18T13:05:22.866Z"
   },
   {
    "duration": 4,
    "start_time": "2024-09-18T13:27:17.904Z"
   },
   {
    "duration": 4,
    "start_time": "2024-09-18T13:27:51.701Z"
   },
   {
    "duration": 127,
    "start_time": "2024-09-18T13:32:38.446Z"
   },
   {
    "duration": 127,
    "start_time": "2024-09-18T13:37:44.857Z"
   },
   {
    "duration": 165,
    "start_time": "2024-09-18T13:38:25.105Z"
   },
   {
    "duration": 855,
    "start_time": "2024-09-18T13:59:40.066Z"
   },
   {
    "duration": 186,
    "start_time": "2024-09-18T14:00:18.796Z"
   },
   {
    "duration": 188,
    "start_time": "2024-09-18T14:00:41.534Z"
   },
   {
    "duration": 182,
    "start_time": "2024-09-18T14:00:49.738Z"
   },
   {
    "duration": 159,
    "start_time": "2024-09-18T14:13:14.854Z"
   },
   {
    "duration": 287,
    "start_time": "2024-09-18T14:16:12.590Z"
   },
   {
    "duration": 162,
    "start_time": "2024-09-18T14:16:19.847Z"
   },
   {
    "duration": 5,
    "start_time": "2024-09-18T14:28:01.012Z"
   },
   {
    "duration": 3,
    "start_time": "2024-09-18T14:28:13.957Z"
   },
   {
    "duration": 4,
    "start_time": "2024-09-18T14:41:54.510Z"
   },
   {
    "duration": 78,
    "start_time": "2024-09-18T14:42:37.214Z"
   },
   {
    "duration": 76,
    "start_time": "2024-09-18T14:42:54.608Z"
   },
   {
    "duration": 83,
    "start_time": "2024-09-18T14:43:34.128Z"
   },
   {
    "duration": 4,
    "start_time": "2024-09-18T14:45:46.578Z"
   },
   {
    "duration": 4,
    "start_time": "2024-09-18T14:49:25.962Z"
   },
   {
    "duration": 4,
    "start_time": "2024-09-18T14:50:24.414Z"
   },
   {
    "duration": 6,
    "start_time": "2024-09-18T14:51:01.903Z"
   },
   {
    "duration": 5,
    "start_time": "2024-09-18T14:57:35.250Z"
   },
   {
    "duration": 6,
    "start_time": "2024-09-18T14:57:43.714Z"
   },
   {
    "duration": 81,
    "start_time": "2024-09-18T14:58:04.435Z"
   },
   {
    "duration": 195,
    "start_time": "2024-09-18T15:00:04.345Z"
   },
   {
    "duration": 201,
    "start_time": "2024-09-18T15:01:37.104Z"
   },
   {
    "duration": 158,
    "start_time": "2024-09-18T15:03:03.105Z"
   },
   {
    "duration": 6,
    "start_time": "2024-09-18T15:04:10.615Z"
   },
   {
    "duration": 74,
    "start_time": "2024-09-18T15:04:40.818Z"
   },
   {
    "duration": 195,
    "start_time": "2024-09-18T15:06:02.044Z"
   },
   {
    "duration": 198,
    "start_time": "2024-09-18T15:06:59.908Z"
   },
   {
    "duration": 169,
    "start_time": "2024-09-18T15:07:52.964Z"
   },
   {
    "duration": 79,
    "start_time": "2024-09-18T15:08:52.261Z"
   },
   {
    "duration": 325,
    "start_time": "2024-09-18T15:09:59.531Z"
   },
   {
    "duration": 196,
    "start_time": "2024-09-18T15:11:37.950Z"
   },
   {
    "duration": 166,
    "start_time": "2024-09-18T15:24:13.876Z"
   },
   {
    "duration": 77,
    "start_time": "2024-09-18T15:25:38.572Z"
   },
   {
    "duration": 169,
    "start_time": "2024-09-18T15:27:58.004Z"
   },
   {
    "duration": 161,
    "start_time": "2024-09-18T15:28:31.348Z"
   },
   {
    "duration": 165,
    "start_time": "2024-09-18T15:28:49.967Z"
   },
   {
    "duration": 161,
    "start_time": "2024-09-18T15:29:12.840Z"
   },
   {
    "duration": 138,
    "start_time": "2024-09-18T15:30:06.027Z"
   },
   {
    "duration": 129,
    "start_time": "2024-09-18T15:30:19.486Z"
   },
   {
    "duration": 274,
    "start_time": "2024-09-18T15:30:34.308Z"
   },
   {
    "duration": 152,
    "start_time": "2024-09-18T15:31:09.616Z"
   },
   {
    "duration": 217,
    "start_time": "2024-09-18T15:31:29.917Z"
   },
   {
    "duration": 225,
    "start_time": "2024-09-18T15:32:37.172Z"
   },
   {
    "duration": 242,
    "start_time": "2024-09-18T15:33:46.129Z"
   },
   {
    "duration": 212,
    "start_time": "2024-09-18T15:34:45.241Z"
   },
   {
    "duration": 5,
    "start_time": "2024-09-18T15:37:08.634Z"
   },
   {
    "duration": 7,
    "start_time": "2024-09-18T15:37:38.873Z"
   },
   {
    "duration": 5,
    "start_time": "2024-09-18T15:39:34.322Z"
   },
   {
    "duration": 2564,
    "start_time": "2024-09-18T19:15:43.316Z"
   },
   {
    "duration": 238,
    "start_time": "2024-09-18T19:15:45.882Z"
   },
   {
    "duration": 11,
    "start_time": "2024-09-18T19:15:52.717Z"
   },
   {
    "duration": 7,
    "start_time": "2024-09-18T19:15:54.732Z"
   },
   {
    "duration": 7,
    "start_time": "2024-09-18T19:16:27.355Z"
   },
   {
    "duration": 7,
    "start_time": "2024-09-18T19:16:27.811Z"
   },
   {
    "duration": 10,
    "start_time": "2024-09-18T19:16:28.125Z"
   },
   {
    "duration": 6,
    "start_time": "2024-09-18T19:16:28.301Z"
   },
   {
    "duration": 11,
    "start_time": "2024-09-18T19:16:28.954Z"
   },
   {
    "duration": 11,
    "start_time": "2024-09-18T19:16:29.473Z"
   },
   {
    "duration": 15,
    "start_time": "2024-09-18T19:16:29.981Z"
   },
   {
    "duration": 33,
    "start_time": "2024-09-18T19:16:30.220Z"
   },
   {
    "duration": 29,
    "start_time": "2024-09-18T19:16:31.149Z"
   },
   {
    "duration": 19,
    "start_time": "2024-09-18T19:16:31.650Z"
   },
   {
    "duration": 24,
    "start_time": "2024-09-18T19:16:32.184Z"
   },
   {
    "duration": 4,
    "start_time": "2024-09-18T19:16:32.458Z"
   },
   {
    "duration": 20,
    "start_time": "2024-09-18T19:16:33.427Z"
   },
   {
    "duration": 15,
    "start_time": "2024-09-18T19:16:34.034Z"
   },
   {
    "duration": 44,
    "start_time": "2024-09-18T19:16:34.720Z"
   },
   {
    "duration": 5,
    "start_time": "2024-09-18T19:16:34.966Z"
   },
   {
    "duration": 22,
    "start_time": "2024-09-18T19:16:35.517Z"
   },
   {
    "duration": 17,
    "start_time": "2024-09-18T19:16:35.928Z"
   },
   {
    "duration": 12,
    "start_time": "2024-09-18T19:16:36.317Z"
   },
   {
    "duration": 39,
    "start_time": "2024-09-18T19:16:36.720Z"
   },
   {
    "duration": 36,
    "start_time": "2024-09-18T19:16:37.164Z"
   },
   {
    "duration": 27,
    "start_time": "2024-09-18T19:16:37.579Z"
   },
   {
    "duration": 27,
    "start_time": "2024-09-18T19:16:38.000Z"
   },
   {
    "duration": 22,
    "start_time": "2024-09-18T19:16:38.512Z"
   },
   {
    "duration": 20,
    "start_time": "2024-09-18T19:16:39.000Z"
   },
   {
    "duration": 216,
    "start_time": "2024-09-18T19:16:39.971Z"
   },
   {
    "duration": 201,
    "start_time": "2024-09-18T19:16:40.536Z"
   },
   {
    "duration": 224,
    "start_time": "2024-09-18T19:16:40.829Z"
   },
   {
    "duration": 6,
    "start_time": "2024-09-18T19:16:42.233Z"
   },
   {
    "duration": 222,
    "start_time": "2024-09-18T19:16:42.987Z"
   },
   {
    "duration": 189,
    "start_time": "2024-09-18T19:16:52.793Z"
   },
   {
    "duration": 162,
    "start_time": "2024-09-18T19:17:05.561Z"
   },
   {
    "duration": 286,
    "start_time": "2024-09-18T19:17:06.356Z"
   },
   {
    "duration": 215,
    "start_time": "2024-09-18T19:17:11.194Z"
   },
   {
    "duration": 231,
    "start_time": "2024-09-18T19:17:18.812Z"
   },
   {
    "duration": 217,
    "start_time": "2024-09-18T19:17:20.422Z"
   },
   {
    "duration": 195,
    "start_time": "2024-09-18T19:17:25.071Z"
   },
   {
    "duration": 12,
    "start_time": "2024-09-18T19:19:30.303Z"
   },
   {
    "duration": 188,
    "start_time": "2024-09-18T19:19:39.007Z"
   },
   {
    "duration": 178,
    "start_time": "2024-09-18T19:22:56.444Z"
   },
   {
    "duration": 5,
    "start_time": "2024-09-18T19:22:59.555Z"
   },
   {
    "duration": 307,
    "start_time": "2024-09-18T19:23:00.521Z"
   },
   {
    "duration": 185,
    "start_time": "2024-09-18T19:23:07.639Z"
   },
   {
    "duration": 161,
    "start_time": "2024-09-18T19:23:19.991Z"
   },
   {
    "duration": 211,
    "start_time": "2024-09-18T19:23:20.628Z"
   },
   {
    "duration": 200,
    "start_time": "2024-09-18T19:23:22.882Z"
   },
   {
    "duration": 163,
    "start_time": "2024-09-18T19:23:27.346Z"
   },
   {
    "duration": 288,
    "start_time": "2024-09-18T19:23:28.093Z"
   },
   {
    "duration": 208,
    "start_time": "2024-09-18T19:23:31.123Z"
   },
   {
    "duration": 143,
    "start_time": "2024-09-18T19:23:44.558Z"
   },
   {
    "duration": 2550,
    "start_time": "2024-09-19T00:39:52.514Z"
   },
   {
    "duration": 242,
    "start_time": "2024-09-19T00:41:02.331Z"
   },
   {
    "duration": 11,
    "start_time": "2024-09-19T00:41:07.673Z"
   },
   {
    "duration": 6,
    "start_time": "2024-09-19T00:41:47.602Z"
   },
   {
    "duration": 10,
    "start_time": "2024-09-19T00:44:48.570Z"
   },
   {
    "duration": 7,
    "start_time": "2024-09-19T00:44:52.491Z"
   },
   {
    "duration": 10,
    "start_time": "2024-09-19T00:59:09.675Z"
   },
   {
    "duration": 5,
    "start_time": "2024-09-19T00:59:10.320Z"
   },
   {
    "duration": 6,
    "start_time": "2024-09-19T00:59:17.160Z"
   },
   {
    "duration": 13,
    "start_time": "2024-09-19T00:59:21.516Z"
   },
   {
    "duration": 11,
    "start_time": "2024-09-19T00:59:24.091Z"
   },
   {
    "duration": 7,
    "start_time": "2024-09-19T00:59:28.892Z"
   },
   {
    "duration": 13,
    "start_time": "2024-09-19T00:59:32.085Z"
   },
   {
    "duration": 10,
    "start_time": "2024-09-19T00:59:36.156Z"
   },
   {
    "duration": 16,
    "start_time": "2024-09-19T01:00:21.784Z"
   },
   {
    "duration": 28,
    "start_time": "2024-09-19T01:04:30.903Z"
   },
   {
    "duration": 19,
    "start_time": "2024-09-19T01:04:33.895Z"
   },
   {
    "duration": 32,
    "start_time": "2024-09-19T01:04:43.182Z"
   },
   {
    "duration": 5,
    "start_time": "2024-09-19T01:04:47.805Z"
   },
   {
    "duration": 18,
    "start_time": "2024-09-19T01:06:03.464Z"
   },
   {
    "duration": 14,
    "start_time": "2024-09-19T01:06:06.804Z"
   },
   {
    "duration": 43,
    "start_time": "2024-09-19T01:06:12.837Z"
   },
   {
    "duration": 5,
    "start_time": "2024-09-19T01:06:16.414Z"
   },
   {
    "duration": 31,
    "start_time": "2024-09-19T01:07:24.222Z"
   },
   {
    "duration": 23,
    "start_time": "2024-09-19T01:07:25.878Z"
   },
   {
    "duration": 14,
    "start_time": "2024-09-19T01:07:35.485Z"
   },
   {
    "duration": 41,
    "start_time": "2024-09-19T01:07:53.166Z"
   },
   {
    "duration": 28,
    "start_time": "2024-09-19T01:09:27.197Z"
   },
   {
    "duration": 27,
    "start_time": "2024-09-19T01:20:47.546Z"
   },
   {
    "duration": 28,
    "start_time": "2024-09-19T01:22:06.698Z"
   },
   {
    "duration": 26,
    "start_time": "2024-09-19T01:23:15.588Z"
   },
   {
    "duration": 21,
    "start_time": "2024-09-19T01:26:09.557Z"
   },
   {
    "duration": 22,
    "start_time": "2024-09-19T01:31:29.337Z"
   },
   {
    "duration": 8,
    "start_time": "2024-09-19T01:47:03.374Z"
   },
   {
    "duration": 8,
    "start_time": "2024-09-19T01:48:01.941Z"
   },
   {
    "duration": 202,
    "start_time": "2024-09-19T01:48:08.490Z"
   },
   {
    "duration": 190,
    "start_time": "2024-09-19T02:00:25.504Z"
   },
   {
    "duration": 189,
    "start_time": "2024-09-19T02:02:02.248Z"
   },
   {
    "duration": 163,
    "start_time": "2024-09-19T02:05:25.386Z"
   },
   {
    "duration": 6,
    "start_time": "2024-09-19T02:05:42.571Z"
   },
   {
    "duration": 295,
    "start_time": "2024-09-19T02:05:44.175Z"
   },
   {
    "duration": 185,
    "start_time": "2024-09-19T02:25:30.574Z"
   },
   {
    "duration": 167,
    "start_time": "2024-09-19T02:25:31.526Z"
   },
   {
    "duration": 212,
    "start_time": "2024-09-19T02:25:32.644Z"
   },
   {
    "duration": 210,
    "start_time": "2024-09-19T02:25:34.871Z"
   },
   {
    "duration": 237,
    "start_time": "2024-09-19T02:25:35.822Z"
   },
   {
    "duration": 239,
    "start_time": "2024-09-19T02:25:37.113Z"
   },
   {
    "duration": 187,
    "start_time": "2024-09-19T02:25:42.616Z"
   },
   {
    "duration": 136,
    "start_time": "2024-09-19T02:25:44.289Z"
   },
   {
    "duration": 221,
    "start_time": "2024-09-19T02:25:45.150Z"
   },
   {
    "duration": 10,
    "start_time": "2024-09-19T02:27:32.551Z"
   },
   {
    "duration": 196,
    "start_time": "2024-09-19T02:28:40.639Z"
   },
   {
    "duration": 9,
    "start_time": "2024-09-19T02:28:46.903Z"
   },
   {
    "duration": 189,
    "start_time": "2024-09-19T02:41:50.710Z"
   },
   {
    "duration": 259,
    "start_time": "2024-09-19T02:42:32.418Z"
   },
   {
    "duration": 8,
    "start_time": "2024-09-19T02:43:46.785Z"
   },
   {
    "duration": 190,
    "start_time": "2024-09-19T02:43:58.950Z"
   },
   {
    "duration": 188,
    "start_time": "2024-09-19T02:44:28.518Z"
   },
   {
    "duration": 185,
    "start_time": "2024-09-19T02:51:19.378Z"
   },
   {
    "duration": 163,
    "start_time": "2024-09-19T02:51:26.101Z"
   },
   {
    "duration": 211,
    "start_time": "2024-09-19T02:51:33.460Z"
   },
   {
    "duration": 192,
    "start_time": "2024-09-19T03:37:03.347Z"
   },
   {
    "duration": 191,
    "start_time": "2024-09-19T03:45:18.810Z"
   },
   {
    "duration": 209,
    "start_time": "2024-09-19T03:45:21.073Z"
   },
   {
    "duration": 224,
    "start_time": "2024-09-19T03:45:21.995Z"
   },
   {
    "duration": 152,
    "start_time": "2024-09-19T03:46:23.372Z"
   },
   {
    "duration": 6,
    "start_time": "2024-09-19T04:03:02.867Z"
   },
   {
    "duration": 15,
    "start_time": "2024-09-19T04:05:17.759Z"
   },
   {
    "duration": 125,
    "start_time": "2024-09-19T04:06:21.791Z"
   },
   {
    "duration": 4,
    "start_time": "2024-09-19T04:06:32.316Z"
   },
   {
    "duration": 4,
    "start_time": "2024-09-19T04:06:41.426Z"
   },
   {
    "duration": 3,
    "start_time": "2024-09-19T04:07:17.863Z"
   },
   {
    "duration": 3,
    "start_time": "2024-09-19T04:07:27.865Z"
   },
   {
    "duration": 8,
    "start_time": "2024-09-19T04:34:13.774Z"
   },
   {
    "duration": 5,
    "start_time": "2024-09-19T04:55:30.111Z"
   },
   {
    "duration": 4,
    "start_time": "2024-09-19T04:55:47.664Z"
   },
   {
    "duration": 5,
    "start_time": "2024-09-19T04:57:43.175Z"
   },
   {
    "duration": 31,
    "start_time": "2024-09-19T05:02:57.012Z"
   },
   {
    "duration": 22,
    "start_time": "2024-09-19T05:03:02.883Z"
   },
   {
    "duration": 9,
    "start_time": "2024-09-19T05:03:05.959Z"
   },
   {
    "duration": 192,
    "start_time": "2024-09-19T05:03:07.228Z"
   },
   {
    "duration": 183,
    "start_time": "2024-09-19T05:03:07.479Z"
   },
   {
    "duration": 5,
    "start_time": "2024-09-19T05:03:07.946Z"
   },
   {
    "duration": 296,
    "start_time": "2024-09-19T05:03:08.118Z"
   },
   {
    "duration": 198,
    "start_time": "2024-09-19T05:03:09.851Z"
   },
   {
    "duration": 171,
    "start_time": "2024-09-19T05:03:10.117Z"
   },
   {
    "duration": 293,
    "start_time": "2024-09-19T05:03:10.371Z"
   },
   {
    "duration": 200,
    "start_time": "2024-09-19T05:03:11.326Z"
   },
   {
    "duration": 177,
    "start_time": "2024-09-19T05:03:11.682Z"
   },
   {
    "duration": 308,
    "start_time": "2024-09-19T05:03:12.031Z"
   },
   {
    "duration": 195,
    "start_time": "2024-09-19T05:03:14.311Z"
   },
   {
    "duration": 9,
    "start_time": "2024-09-19T05:03:15.075Z"
   },
   {
    "duration": 148,
    "start_time": "2024-09-19T05:03:16.379Z"
   },
   {
    "duration": 216,
    "start_time": "2024-09-19T05:03:17.098Z"
   },
   {
    "duration": 5,
    "start_time": "2024-09-19T05:03:24.902Z"
   },
   {
    "duration": 4,
    "start_time": "2024-09-19T05:04:14.478Z"
   },
   {
    "duration": 161,
    "start_time": "2024-09-19T05:05:24.820Z"
   },
   {
    "duration": 6,
    "start_time": "2024-09-19T05:06:00.122Z"
   },
   {
    "duration": 25,
    "start_time": "2024-09-19T05:09:03.324Z"
   },
   {
    "duration": 22,
    "start_time": "2024-09-19T05:09:40.133Z"
   },
   {
    "duration": 19,
    "start_time": "2024-09-19T05:10:17.858Z"
   },
   {
    "duration": 19,
    "start_time": "2024-09-19T05:10:55.991Z"
   },
   {
    "duration": 8,
    "start_time": "2024-09-19T05:11:18.514Z"
   },
   {
    "duration": 7,
    "start_time": "2024-09-19T05:12:53.456Z"
   },
   {
    "duration": 8,
    "start_time": "2024-09-19T05:13:24.808Z"
   },
   {
    "duration": 8,
    "start_time": "2024-09-19T05:14:20.428Z"
   },
   {
    "duration": 16,
    "start_time": "2024-09-19T05:18:30.243Z"
   },
   {
    "duration": 7,
    "start_time": "2024-09-19T05:18:40.003Z"
   },
   {
    "duration": 8,
    "start_time": "2024-09-19T05:18:59.598Z"
   },
   {
    "duration": 8,
    "start_time": "2024-09-19T05:19:21.309Z"
   },
   {
    "duration": 7,
    "start_time": "2024-09-19T05:20:04.795Z"
   },
   {
    "duration": 8,
    "start_time": "2024-09-19T05:25:37.237Z"
   },
   {
    "duration": 6,
    "start_time": "2024-09-19T05:27:54.231Z"
   },
   {
    "duration": 160,
    "start_time": "2024-09-19T05:43:56.540Z"
   },
   {
    "duration": 219,
    "start_time": "2024-09-19T05:55:04.581Z"
   },
   {
    "duration": 3,
    "start_time": "2024-09-19T06:00:51.830Z"
   },
   {
    "duration": 151,
    "start_time": "2024-09-19T06:00:53.079Z"
   },
   {
    "duration": 12,
    "start_time": "2024-09-19T06:27:39.340Z"
   },
   {
    "duration": 9,
    "start_time": "2024-09-19T06:28:01.397Z"
   },
   {
    "duration": 7,
    "start_time": "2024-09-19T06:46:01.444Z"
   },
   {
    "duration": 8,
    "start_time": "2024-09-19T06:47:27.345Z"
   }
  ],
  "colab": {
   "provenance": []
  },
  "kernelspec": {
   "display_name": "Python 3 (ipykernel)",
   "language": "python",
   "name": "python3"
  },
  "language_info": {
   "codemirror_mode": {
    "name": "ipython",
    "version": 3
   },
   "file_extension": ".py",
   "mimetype": "text/x-python",
   "name": "python",
   "nbconvert_exporter": "python",
   "pygments_lexer": "ipython3",
   "version": "3.9.19"
  },
  "toc": {
   "base_numbering": 1,
   "nav_menu": {
    "height": "509px",
    "width": "301.681px"
   },
   "number_sections": true,
   "sideBar": true,
   "skip_h1_title": false,
   "title_cell": "Table of Contents",
   "title_sidebar": "Contents",
   "toc_cell": false,
   "toc_position": {
    "height": "calc(100% - 180px)",
    "left": "10px",
    "top": "150px",
    "width": "165px"
   },
   "toc_section_display": true,
   "toc_window_display": true
  }
 },
 "nbformat": 4,
 "nbformat_minor": 1
}
