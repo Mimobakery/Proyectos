{
 "cells": [
  {
   "cell_type": "markdown",
   "metadata": {
    "id": "VUC88oWjTJw2"
   },
   "source": [
    "## Introducción <a id='intro'></a>\n",
    "Este proyecto tiene como objetivo analizar los datos de transmisión de música online para probar una hipótesis sobre las preferencias musicales de los usuarios en dos ciudades, Springfield y Shelbyville. A través de tres etapas (descripción de los datos, preprocesamiento y prueba de hipótesis), se comparará el comportamiento de los usuarios en ambas ciudades utilizando métodos estadísticos para validar o rechazar la hipótesis planteada. Al final, se espera extraer conclusiones valiosas que ayuden a tomar decisiones basadas en los datos analizados.\n",
    "\n",
    "### Objetivo:\n",
    "Prueba la hipótesis:\n",
    "1. La actividad de los usuarios y las usuarias difiere según el día de la semana y dependiendo de la ciudad.\n",
    "\n",
    "\n",
    "### Etapas\n",
    "Los datos del comportamiento del usuario se almacenan en el archivo `/datasets/music_project_en.csv`. No hay ninguna información sobre la calidad de los datos, así que necesitarás examinarlos antes de probar la hipótesis.\n",
    "\n",
    "Primero, evaluarás la calidad de los datos y verás si los problemas son significativos. Entonces, durante el preprocesamiento de datos, tomarás en cuenta los problemas más críticos.\n",
    "\n",
    "Tu proyecto consistirá en tres etapas:\n",
    " 1. Descripción de los datos.\n",
    " 2. Preprocesamiento de datos.\n",
    " 3. Prueba de hipótesis.\n",
    "\n",
    "\n",
    "\n",
    "\n",
    "\n",
    "\n"
   ]
  },
  {
   "cell_type": "markdown",
   "metadata": {
    "id": "fhq_eyov_Zcs"
   },
   "source": [
    "# Contenido <a id='back'></a>\n",
    "\n",
    "* [Introducción](#intro)\n",
    "* [Etapa 1. Descripción de los datos](#data_review)\n",
    "    * [Conclusiones](#data_review_conclusions)\n",
    "* [Etapa 2. Preprocesamiento de datos](#data_preprocessing)\n",
    "    * [2.1 Estilo del encabezado](#header_style)\n",
    "    * [2.2 Valores ausentes](#missing_values)\n",
    "    * [2.3 Duplicados](#duplicates)\n",
    "    * [2.4 Conclusiones](#data_preprocessing_conclusions)\n",
    "* [Etapa 3. Prueba de hipótesis](#hypothesis)\n",
    "    * [3.1 Hipótesis 1: actividad de los usuarios y las usuarias en las dos ciudades](#activity)\n",
    "* [Conclusiones](#end)"
   ]
  },
  {
   "cell_type": "markdown",
   "metadata": {
    "id": "Ml1hmfXC_Zcs"
   },
   "source": [
    "## Etapa 1. Descripción de los datos <a id='data_review'></a>\n",
    "\n",
    "Abre los datos y examínalos."
   ]
  },
  {
   "cell_type": "markdown",
   "metadata": {
    "id": "57eAOGIz_Zcs"
   },
   "source": [
    "Necesitarás `pandas`, así que impórtalo."
   ]
  },
  {
   "cell_type": "code",
   "execution_count": 2,
   "metadata": {
    "id": "AXN7PHPN_Zcs"
   },
   "outputs": [],
   "source": [
    "# Importar pandas\n",
    "\n",
    "import pandas as pd\n"
   ]
  },
  {
   "cell_type": "markdown",
   "metadata": {
    "id": "SG23P8tt_Zcs"
   },
   "source": [
    "Lee el archivo `music_project_en.csv` de la carpeta `/datasets/` y guárdalo en la variable `df`:"
   ]
  },
  {
   "cell_type": "code",
   "execution_count": 3,
   "metadata": {
    "id": "fFVu7vqh_Zct"
   },
   "outputs": [],
   "source": [
    "# Leer el archivo y almacenarlo en df\n",
    "df = pd.read_csv(\"/datasets/music_project_en.csv\")\n"
   ]
  },
  {
   "cell_type": "markdown",
   "metadata": {
    "id": "rDoOMd3uTqnZ"
   },
   "source": [
    "Muestra las 10 primeras filas de la tabla:"
   ]
  },
  {
   "cell_type": "code",
   "execution_count": 4,
   "metadata": {
    "id": "oWTVX3gW_Zct",
    "scrolled": true
   },
   "outputs": [
    {
     "name": "stdout",
     "output_type": "stream",
     "text": [
      "     userID                        Track            artist   genre  \\\n",
      "0  FFB692EC            Kamigata To Boots  The Mass Missile    rock   \n",
      "1  55204538  Delayed Because of Accident  Andreas Rönnberg    rock   \n",
      "2    20EC38            Funiculì funiculà       Mario Lanza     pop   \n",
      "3  A3DD03C9        Dragons in the Sunset        Fire + Ice    folk   \n",
      "4  E2DC1FAE                  Soul People        Space Echo   dance   \n",
      "5  842029A1                       Chains          Obladaet  rusrap   \n",
      "6  4CB90AA5                         True      Roman Messer   dance   \n",
      "7  F03E1C1F             Feeling This Way   Polina Griffith   dance   \n",
      "8  8FA1D3BE                     L’estate       Julia Dalia  ruspop   \n",
      "9  E772D5C0                    Pessimist               NaN   dance   \n",
      "\n",
      "        City        time        Day  \n",
      "0  Shelbyville  20:28:33  Wednesday  \n",
      "1  Springfield  14:07:09     Friday  \n",
      "2  Shelbyville  20:58:07  Wednesday  \n",
      "3  Shelbyville  08:37:09     Monday  \n",
      "4  Springfield  08:34:34     Monday  \n",
      "5  Shelbyville  13:09:41     Friday  \n",
      "6  Springfield  13:00:07  Wednesday  \n",
      "7  Springfield  20:47:49  Wednesday  \n",
      "8  Springfield  09:17:40     Friday  \n",
      "9  Shelbyville  21:20:49  Wednesday  \n"
     ]
    }
   ],
   "source": [
    "# Obtener las 10 primeras filas de la tabla df\n",
    "print(df.head(10))"
   ]
  },
  {
   "cell_type": "markdown",
   "metadata": {
    "id": "EO73Kwic_Zct"
   },
   "source": [
    "Obtén la información general sobre la tabla con un comando. Conoces el método que muestra la información general que necesitamos."
   ]
  },
  {
   "cell_type": "code",
   "execution_count": 5,
   "metadata": {
    "id": "DSf2kIb-_Zct"
   },
   "outputs": [
    {
     "name": "stdout",
     "output_type": "stream",
     "text": [
      "<class 'pandas.core.frame.DataFrame'>\n",
      "RangeIndex: 65079 entries, 0 to 65078\n",
      "Data columns (total 7 columns):\n",
      " #   Column    Non-Null Count  Dtype \n",
      "---  ------    --------------  ----- \n",
      " 0     userID  65079 non-null  object\n",
      " 1   Track     63736 non-null  object\n",
      " 2   artist    57512 non-null  object\n",
      " 3   genre     63881 non-null  object\n",
      " 4     City    65079 non-null  object\n",
      " 5   time      65079 non-null  object\n",
      " 6   Day       65079 non-null  object\n",
      "dtypes: object(7)\n",
      "memory usage: 3.5+ MB\n",
      "None\n"
     ]
    }
   ],
   "source": [
    "# Obtener la información general sobre nuestros datos\n",
    "print(df.info())"
   ]
  },
  {
   "cell_type": "markdown",
   "metadata": {
    "id": "TaQ2Iwbr_Zct"
   },
   "source": [
    "Estas son nuestras observaciones sobre la tabla. Contiene siete columnas. Almacenan los mismos tipos de datos: `object`.\n",
    "\n",
    "Según la documentación:\n",
    "- `' userID'`: identificador del usuario o la usuaria;\n",
    "- `'Track'`: título de la canción;\n",
    "- `'artist'`: nombre del artista;\n",
    "- `'genre'`: género de la pista;\n",
    "- `'City'`: ciudad del usuario o la usuaria;\n",
    "- `'time'`: la hora exacta en la que se reprodujo la canción;\n",
    "- `'Day'`: día de la semana.\n",
    "\n",
    "Podemos ver tres problemas con el estilo en los encabezados de la tabla:\n",
    "1. Algunos encabezados están en mayúsculas, otros en minúsculas.\n",
    "2. Hay espacios en algunos encabezados.\n",
    "3. `Detecta el tercer problema por tu cuenta y descríbelo aquí`.\n",
    "*Respuesta* -> Otro problema que presentan algunos nombres de las columnas es que tienen nombres confusos. Hay un caso en que el nombre está constituido por dos palabras, `' userID'`, pero no posee un objeto separador entre ellas (posible arreglo utilizando snake_case). También se puede señalar que la columna `'time'` es poco descriptiva, por lo que se debería cambiar a un nombre que transmita mayor claridad de su significado.\n",
    "\n",
    "\n"
   ]
  },
  {
   "cell_type": "markdown",
   "metadata": {
    "id": "MCB6-dXG_Zct"
   },
   "source": [
    "### Escribe observaciones de tu parte. Estas son algunas de las preguntas que pueden ser útiles: <a id='data_review_conclusions'></a>\n",
    "\n",
    "`1.   ¿Qué tipo de datos tenemos a nuestra disposición en las filas? ¿Y cómo podemos entender lo que almacenan las columnas?`\n",
    "\n",
    "El Data frame contiene filas que muestran cada vez que un usuario reprodujo una canción en un determinado periodo de tiempo. Cada fila está compuesta por varios atributos o características señaladas en las columnas que componen los datos, dentro de las cuales encontramos información como el título de la canción que se reprodujo, el nombre del artista, el género musical de la canción, que usuario la reprodujo, cuando (día y hora) y donde (ciudad).\n",
    "\n",
    "\n",
    "`2.   ¿Hay suficientes datos para proporcionar respuestas a nuestra hipótesis o necesitamos más información?`\n",
    "\n",
    "Actualmente a simple vista hay suficientes datos para proporcionar una respuesta a la hipótesis \"La actividad de los usuarios y las usuarias difiere según el día de la semana y dependiendo de la ciudad\", ya que tenemos datos que indican la actividad de usuarios de ambas ciudades y también por día de la semana. Aunque cabe destacar que esto podría cambiar en el proceso de limpieza y análisis de los datos, ya que aún no se revisa la calidad de los datos y si estos tienen una muestra similar para cada ciudad y cada día.\n",
    "\n",
    "\n",
    "`3.   ¿Notaste algún problema en los datos, como valores ausentes, duplicados o tipos de datos incorrectos?`\n",
    "\n",
    "Con la información proporcionada al usar la función info. podemos visualizar que tres columnas contienen actualmente valores ausentes(__Track__, __artist__ y __genre__), ya que su sumatoria de filas en la columna `Non-null Count` es inferior que el número total de filas del Data frame. Además se puede ver que todas las columnas han sido categorizadas como tipos de dato `object` cuando la columna __time__ debería estar como tipo de dato `float64`."
   ]
  },
  {
   "cell_type": "markdown",
   "metadata": {
    "id": "SjYF6Ub9_Zct"
   },
   "source": [
    "## Etapa 2. Preprocesamiento de datos <a id='data_preprocessing'></a>\n",
    "\n",
    "El objetivo aquí es preparar los datos para que sean analizados.\n",
    "El primer paso es resolver cualquier problema con los encabezados. Luego podemos avanzar a los valores ausentes y duplicados. Empecemos.\n",
    "\n",
    "Corrige el formato en los encabezados de la tabla.\n"
   ]
  },
  {
   "cell_type": "markdown",
   "metadata": {
    "id": "dIaKXr29_Zct"
   },
   "source": [
    "### Estilo del encabezado <a id='header_style'></a>\n",
    "Muestra los encabezados de la tabla (los nombres de las columnas):"
   ]
  },
  {
   "cell_type": "code",
   "execution_count": 6,
   "metadata": {
    "id": "oKOTdF_Q_Zct"
   },
   "outputs": [
    {
     "name": "stdout",
     "output_type": "stream",
     "text": [
      "Index(['  userID', 'Track', 'artist', 'genre', '  City  ', 'time', 'Day'], dtype='object')\n"
     ]
    }
   ],
   "source": [
    "# Muestra los nombres de las columnas\n",
    "print(df.columns)\n"
   ]
  },
  {
   "cell_type": "markdown",
   "metadata": {
    "id": "zj5534cv_Zct"
   },
   "source": [
    "Cambia los encabezados de la tabla de acuerdo con las reglas del buen estilo:\n",
    "* Todos los caracteres deben ser minúsculas.\n",
    "* Elimina los espacios.\n",
    "* Si el nombre tiene varias palabras, utiliza snake_case."
   ]
  },
  {
   "cell_type": "markdown",
   "metadata": {
    "id": "Xu0zkfe5zNJe"
   },
   "source": [
    "Anteriormente, aprendiste acerca de la forma automática de cambiar el nombre de las columnas. Vamos a aplicarla ahora. Utiliza el bucle for para iterar sobre los nombres de las columnas y poner todos los caracteres en minúsculas. Cuando hayas terminado, vuelve a mostrar los encabezados de la tabla:"
   ]
  },
  {
   "cell_type": "code",
   "execution_count": 7,
   "metadata": {
    "id": "6I_RwwMhzM4e"
   },
   "outputs": [
    {
     "name": "stdout",
     "output_type": "stream",
     "text": [
      "Index(['  userid', 'track', 'artist', 'genre', '  city  ', 'time', 'day'], dtype='object')\n"
     ]
    }
   ],
   "source": [
    "# Bucle en los encabezados poniendo todo en minúsculas\n",
    "new_col_names = []\n",
    "\n",
    "for old_name in df.columns:\n",
    "    name_lowered = old_name.lower()\n",
    "    new_col_names.append(name_lowered)\n",
    "\n",
    "df.columns = new_col_names\n",
    "\n",
    "print(df.columns)"
   ]
  },
  {
   "cell_type": "markdown",
   "metadata": {
    "id": "pweIRxjSzPYW"
   },
   "source": [
    "Ahora, utilizando el mismo método, elimina los espacios al principio y al final de los nombres de las columnas e imprime los nombres de las columnas nuevamente:"
   ]
  },
  {
   "cell_type": "code",
   "execution_count": 8,
   "metadata": {
    "id": "vVQXbFyJzSYl"
   },
   "outputs": [
    {
     "name": "stdout",
     "output_type": "stream",
     "text": [
      "Index(['userid', 'track', 'artist', 'genre', 'city', 'time', 'day'], dtype='object')\n"
     ]
    }
   ],
   "source": [
    "# Bucle en los encabezados eliminando los espacios\n",
    "new_col_names = []\n",
    "\n",
    "for old_name in df.columns:\n",
    "    name_stripped = old_name.strip()\n",
    "    new_col_names.append(name_stripped)\n",
    "\n",
    "df.columns = new_col_names\n",
    "\n",
    "print(df.columns)\n",
    " \n"
   ]
  },
  {
   "cell_type": "markdown",
   "metadata": {
    "id": "yCb8MW1JzURd"
   },
   "source": [
    "Necesitamos aplicar la regla de snake_case a la columna `userid`. Debe ser `user_id`. Cambia el nombre de esta columna y muestra los nombres de todas las columnas cuando hayas terminado."
   ]
  },
  {
   "cell_type": "code",
   "execution_count": 9,
   "metadata": {
    "id": "ISlFqs5y_Zct"
   },
   "outputs": [],
   "source": [
    "# Cambiar el nombre de la columna \"userid\"\n",
    "\n",
    "df.rename(columns = {'userid':'user_id'}, inplace = True)\n",
    "\n",
    "\n"
   ]
  },
  {
   "cell_type": "markdown",
   "metadata": {
    "id": "1dqbh00J_Zct"
   },
   "source": [
    "Comprueba el resultado. Muestra los encabezados una vez más:"
   ]
  },
  {
   "cell_type": "code",
   "execution_count": 10,
   "metadata": {
    "id": "d4NOAmTW_Zct",
    "scrolled": true
   },
   "outputs": [
    {
     "name": "stdout",
     "output_type": "stream",
     "text": [
      "Index(['user_id', 'track', 'artist', 'genre', 'city', 'time', 'day'], dtype='object')\n"
     ]
    }
   ],
   "source": [
    "# Comprobar el resultado: la lista de encabezados\n",
    "print(df.columns)\n"
   ]
  },
  {
   "cell_type": "markdown",
   "metadata": {
    "id": "5ISfbcfY_Zct"
   },
   "source": [
    "### Valores ausentes <a id='missing_values'></a>\n",
    " Primero, encuentra el número de valores ausentes en la tabla. Debes utilizar dos métodos en una secuencia para obtener el número de valores ausentes."
   ]
  },
  {
   "cell_type": "code",
   "execution_count": 11,
   "metadata": {
    "id": "RskX29qr_Zct"
   },
   "outputs": [
    {
     "name": "stdout",
     "output_type": "stream",
     "text": [
      "user_id       0\n",
      "track      1343\n",
      "artist     7567\n",
      "genre      1198\n",
      "city          0\n",
      "time          0\n",
      "day           0\n",
      "dtype: int64\n"
     ]
    }
   ],
   "source": [
    "# Calcular el número de valores ausentes\n",
    "print(df.isna().sum())"
   ]
  },
  {
   "cell_type": "markdown",
   "metadata": {
    "id": "qubhgnlO_Zct"
   },
   "source": [
    "No todos los valores ausentes afectan a la investigación. Por ejemplo, los valores ausentes en `track` y `artist` no son cruciales. Simplemente puedes reemplazarlos con valores predeterminados como el string `'unknown'` (desconocido).\n",
    "\n",
    "Pero los valores ausentes en `'genre'` pueden afectar la comparación entre las preferencias musicales de Springfield y Shelbyville. En la vida real, sería útil saber las razones por las cuales hay datos ausentes e intentar recuperarlos. Pero no tenemos esa oportunidad en este proyecto. Así que tendrás que:\n",
    "* rellenar estos valores ausentes con un valor predeterminado;\n",
    "* evaluar cuánto podrían afectar los valores ausentes a tus cómputos;"
   ]
  },
  {
   "cell_type": "markdown",
   "metadata": {
    "id": "fSv2laPA_Zct"
   },
   "source": [
    "Reemplazar los valores ausentes en las columnas `'track'`, `'artist'` y `'genre'` con el string `'unknown'`. Como mostramos anteriormente en las lecciones, la mejor forma de hacerlo es crear una lista que almacene los nombres de las columnas donde se necesita el reemplazo. Luego, utiliza esta lista e itera sobre las columnas donde se necesita el reemplazo haciendo el propio reemplazo."
   ]
  },
  {
   "cell_type": "code",
   "execution_count": 12,
   "metadata": {
    "id": "KplB5qWs_Zct"
   },
   "outputs": [],
   "source": [
    "# Bucle en los encabezados reemplazando los valores ausentes con 'unknown'\n",
    "columns_to_replace = ['track', 'artist', 'genre']\n",
    "for col in columns_to_replace:\n",
    "    df[col].fillna('unknown', inplace=True)"
   ]
  },
  {
   "cell_type": "markdown",
   "metadata": {
    "id": "Ilsm-MZo_Zct"
   },
   "source": [
    "Ahora comprueba el resultado para asegurarte de que después del reemplazo no haya valores ausentes en el conjunto de datos. Para hacer esto, cuenta los valores ausentes nuevamente."
   ]
  },
  {
   "cell_type": "code",
   "execution_count": 13,
   "metadata": {
    "id": "Tq4nYRX4_Zct",
    "scrolled": true
   },
   "outputs": [
    {
     "name": "stdout",
     "output_type": "stream",
     "text": [
      "user_id    0\n",
      "track      0\n",
      "artist     0\n",
      "genre      0\n",
      "city       0\n",
      "time       0\n",
      "day        0\n",
      "dtype: int64\n"
     ]
    }
   ],
   "source": [
    "# Contar valores ausentes\n",
    "print(df.isna().sum())"
   ]
  },
  {
   "cell_type": "markdown",
   "metadata": {
    "id": "BWKRtBJ3_Zct"
   },
   "source": [
    "### Duplicados <a id='duplicates'></a>\n",
    "Encuentra el número de duplicados explícitos en la tabla. Una vez más, debes aplicar dos métodos en una secuencia para obtener la cantidad de duplicados explícitos."
   ]
  },
  {
   "cell_type": "code",
   "execution_count": 14,
   "metadata": {
    "id": "36eES_S0_Zct"
   },
   "outputs": [
    {
     "name": "stdout",
     "output_type": "stream",
     "text": [
      "3826\n"
     ]
    }
   ],
   "source": [
    "# Contar duplicados explícitos\n",
    "print(df.duplicated().sum())"
   ]
  },
  {
   "cell_type": "markdown",
   "metadata": {
    "id": "Ot25h6XR_Zct"
   },
   "source": [
    "Ahora, elimina todos los duplicados. Para ello, llama al método que hace exactamente esto."
   ]
  },
  {
   "cell_type": "code",
   "execution_count": 15,
   "metadata": {
    "id": "exFHq6tt_Zct"
   },
   "outputs": [],
   "source": [
    "# Eliminar duplicados explícitos\n",
    "df = df.drop_duplicates().reset_index(drop=True)\n",
    "\n"
   ]
  },
  {
   "cell_type": "markdown",
   "metadata": {
    "id": "Im2YwBEG_Zct"
   },
   "source": [
    "Comprobemos ahora si eliminamos con éxito todos los duplicados. Cuenta los duplicados explícitos una vez más para asegurarte de haberlos eliminado todos:"
   ]
  },
  {
   "cell_type": "code",
   "execution_count": 16,
   "metadata": {
    "id": "-8PuNWQ0_Zct"
   },
   "outputs": [
    {
     "name": "stdout",
     "output_type": "stream",
     "text": [
      "0\n"
     ]
    }
   ],
   "source": [
    "# Comprobar de nuevo si hay duplicados\n",
    "\n",
    "print(df.duplicated().sum())\n"
   ]
  },
  {
   "cell_type": "markdown",
   "metadata": {
    "id": "QlFBsxAr_Zct"
   },
   "source": [
    "Ahora queremos deshacernos de los duplicados implícitos en la columna `genre`. Por ejemplo, el nombre de un género se puede escribir de varias formas. Dichos errores también pueden afectar al resultado."
   ]
  },
  {
   "cell_type": "markdown",
   "metadata": {
    "id": "eSjWwsOh_Zct"
   },
   "source": [
    "Para hacerlo, primero mostremos una lista de nombres de género únicos, ordenados en orden alfabético. Para ello:\n",
    "* Extrae la columna `genre` del DataFrame.\n",
    "* Llama al método que devolverá todos los valores únicos en la columna extraída.\n"
   ]
  },
  {
   "cell_type": "code",
   "execution_count": 17,
   "metadata": {
    "id": "JIUcqzZN_Zct",
    "scrolled": true
   },
   "outputs": [
    {
     "name": "stdout",
     "output_type": "stream",
     "text": [
      "['acid' 'acoustic' 'action' 'adult' 'africa' 'afrikaans' 'alternative'\n",
      " 'ambient' 'americana' 'animated' 'anime' 'arabesk' 'arabic' 'arena'\n",
      " 'argentinetango' 'art' 'audiobook' 'avantgarde' 'axé' 'baile' 'balkan'\n",
      " 'beats' 'bigroom' 'black' 'bluegrass' 'blues' 'bollywood' 'bossa'\n",
      " 'brazilian' 'breakbeat' 'breaks' 'broadway' 'cantautori' 'cantopop'\n",
      " 'canzone' 'caribbean' 'caucasian' 'celtic' 'chamber' 'children' 'chill'\n",
      " 'chinese' 'choral' 'christian' 'christmas' 'classical' 'classicmetal'\n",
      " 'club' 'colombian' 'comedy' 'conjazz' 'contemporary' 'country' 'cuban'\n",
      " 'dance' 'dancehall' 'dancepop' 'dark' 'death' 'deep' 'deutschrock'\n",
      " 'deutschspr' 'dirty' 'disco' 'dnb' 'documentary' 'downbeat' 'downtempo'\n",
      " 'drum' 'dub' 'dubstep' 'eastern' 'easy' 'electronic' 'electropop' 'emo'\n",
      " 'entehno' 'epicmetal' 'estrada' 'ethnic' 'eurofolk' 'european'\n",
      " 'experimental' 'extrememetal' 'fado' 'film' 'fitness' 'flamenco' 'folk'\n",
      " 'folklore' 'folkmetal' 'folkrock' 'folktronica' 'forró' 'frankreich'\n",
      " 'französisch' 'french' 'funk' 'future' 'gangsta' 'garage' 'german'\n",
      " 'ghazal' 'gitarre' 'glitch' 'gospel' 'gothic' 'grime' 'grunge' 'gypsy'\n",
      " 'handsup' \"hard'n'heavy\" 'hardcore' 'hardstyle' 'hardtechno' 'hip'\n",
      " 'hip-hop' 'hiphop' 'historisch' 'holiday' 'hop' 'horror' 'house' 'idm'\n",
      " 'independent' 'indian' 'indie' 'indipop' 'industrial' 'inspirational'\n",
      " 'instrumental' 'international' 'irish' 'jam' 'japanese' 'jazz' 'jewish'\n",
      " 'jpop' 'jungle' 'k-pop' 'karadeniz' 'karaoke' 'kayokyoku' 'korean'\n",
      " 'laiko' 'latin' 'latino' 'leftfield' 'local' 'lounge' 'loungeelectronic'\n",
      " 'lovers' 'malaysian' 'mandopop' 'marschmusik' 'meditative'\n",
      " 'mediterranean' 'melodic' 'metal' 'metalcore' 'mexican' 'middle'\n",
      " 'minimal' 'miscellaneous' 'modern' 'mood' 'mpb' 'muslim' 'native'\n",
      " 'neoklassik' 'neue' 'new' 'newage' 'newwave' 'nu' 'nujazz' 'numetal'\n",
      " 'oceania' 'old' 'opera' 'orchestral' 'other' 'piano' 'pop'\n",
      " 'popelectronic' 'popeurodance' 'post' 'posthardcore' 'postrock' 'power'\n",
      " 'progmetal' 'progressive' 'psychedelic' 'punjabi' 'punk' 'quebecois'\n",
      " 'ragga' 'ram' 'rancheras' 'rap' 'rave' 'reggae' 'reggaeton' 'regional'\n",
      " 'relax' 'religious' 'retro' 'rhythm' 'rnb' 'rnr' 'rock' 'rockabilly'\n",
      " 'romance' 'roots' 'ruspop' 'rusrap' 'rusrock' 'salsa' 'samba' 'schlager'\n",
      " 'self' 'sertanejo' 'shoegazing' 'showtunes' 'singer' 'ska' 'slow'\n",
      " 'smooth' 'soul' 'soulful' 'sound' 'soundtrack' 'southern' 'specialty'\n",
      " 'speech' 'spiritual' 'sport' 'stonerrock' 'surf' 'swing' 'synthpop'\n",
      " 'sängerportrait' 'tango' 'tanzorchester' 'taraftar' 'tech' 'techno'\n",
      " 'thrash' 'top' 'traditional' 'tradjazz' 'trance' 'tribal' 'trip'\n",
      " 'triphop' 'tropical' 'türk' 'türkçe' 'unknown' 'urban' 'uzbek' 'variété'\n",
      " 'vi' 'videogame' 'vocal' 'western' 'world' 'worldbeat' 'ïîï']\n"
     ]
    }
   ],
   "source": [
    "# Inspeccionar los nombres de géneros únicos\n",
    "\n",
    "print(df[\"genre\"].sort_values().unique())\n"
   ]
  },
  {
   "cell_type": "markdown",
   "metadata": {
    "id": "qej-Qmuo_Zct"
   },
   "source": [
    "Busca en la lista para encontrar duplicados implícitos del género `hiphop`. Estos pueden ser nombres escritos incorrectamente o nombres alternativos para el mismo género.\n",
    "\n",
    "Verás los siguientes duplicados implícitos:\n",
    "* `hip`\n",
    "* `hop`\n",
    "* `hip-hop`\n",
    "\n",
    "Para deshacerte de ellos, crea una función llamada `replace_wrong_genres()` con dos parámetros:\n",
    "* `wrong_genres=`: esta es una lista que contiene todos los valores que necesitas reemplazar.\n",
    "* `correct_genre=`: este es un string que vas a utilizar como reemplazo.\n",
    "\n",
    "Como resultado, la función debería corregir los nombres en la columna `'genre'` de la tabla `df`, es decir, remplazar cada valor de la lista `wrong_genres` por el valor en `correct_genre`.\n",
    "\n",
    "Dentro del cuerpo de la función, utiliza un bucle `'for'` para iterar sobre la lista de géneros incorrectos, extrae la columna `'genre'` y aplica el método `replace` para hacer correcciones."
   ]
  },
  {
   "cell_type": "code",
   "execution_count": 18,
   "metadata": {
    "id": "ErNDkmns_Zct"
   },
   "outputs": [],
   "source": [
    "# Función para reemplazar duplicados implícitos\n",
    "def replace_wrong_values(df,columns,wrong_genres, correct_genre):\n",
    "    for wrong_genre in wrong_genres:\n",
    "        df['genre'] = df['genre'].replace(wrong_genre,correct_genre)\n",
    "    return df\n",
    "\n",
    "\n"
   ]
  },
  {
   "cell_type": "markdown",
   "metadata": {
    "id": "aDoBJxbA_Zct"
   },
   "source": [
    "Ahora, llama a `replace_wrong_genres()` y pásale tales argumentos para que retire los duplicados implícitos (`hip`, `hop` y `hip-hop`) y los reemplace por `hiphop`:"
   ]
  },
  {
   "cell_type": "code",
   "execution_count": 19,
   "metadata": {
    "id": "YN5i2hpmSo09"
   },
   "outputs": [],
   "source": [
    "# Eliminar duplicados implícitos\n",
    "duplicates = [\"hip\", \"hop\", \"hip-hop\"]\n",
    "name = \"hiphop\"\n",
    "\n",
    "df = replace_wrong_values(df,\"genre\",duplicates,name)"
   ]
  },
  {
   "cell_type": "markdown",
   "metadata": {
    "id": "zQKF16_RG15m"
   },
   "source": [
    "Asegúrate de que los nombres duplicados han sido eliminados. Muestra la lista de valores únicos de la columna `'genre'` una vez más:"
   ]
  },
  {
   "cell_type": "code",
   "execution_count": 20,
   "metadata": {
    "id": "wvixALnFG15m"
   },
   "outputs": [
    {
     "name": "stdout",
     "output_type": "stream",
     "text": [
      "['acid' 'acoustic' 'action' 'adult' 'africa' 'afrikaans' 'alternative'\n",
      " 'ambient' 'americana' 'animated' 'anime' 'arabesk' 'arabic' 'arena'\n",
      " 'argentinetango' 'art' 'audiobook' 'avantgarde' 'axé' 'baile' 'balkan'\n",
      " 'beats' 'bigroom' 'black' 'bluegrass' 'blues' 'bollywood' 'bossa'\n",
      " 'brazilian' 'breakbeat' 'breaks' 'broadway' 'cantautori' 'cantopop'\n",
      " 'canzone' 'caribbean' 'caucasian' 'celtic' 'chamber' 'children' 'chill'\n",
      " 'chinese' 'choral' 'christian' 'christmas' 'classical' 'classicmetal'\n",
      " 'club' 'colombian' 'comedy' 'conjazz' 'contemporary' 'country' 'cuban'\n",
      " 'dance' 'dancehall' 'dancepop' 'dark' 'death' 'deep' 'deutschrock'\n",
      " 'deutschspr' 'dirty' 'disco' 'dnb' 'documentary' 'downbeat' 'downtempo'\n",
      " 'drum' 'dub' 'dubstep' 'eastern' 'easy' 'electronic' 'electropop' 'emo'\n",
      " 'entehno' 'epicmetal' 'estrada' 'ethnic' 'eurofolk' 'european'\n",
      " 'experimental' 'extrememetal' 'fado' 'film' 'fitness' 'flamenco' 'folk'\n",
      " 'folklore' 'folkmetal' 'folkrock' 'folktronica' 'forró' 'frankreich'\n",
      " 'französisch' 'french' 'funk' 'future' 'gangsta' 'garage' 'german'\n",
      " 'ghazal' 'gitarre' 'glitch' 'gospel' 'gothic' 'grime' 'grunge' 'gypsy'\n",
      " 'handsup' \"hard'n'heavy\" 'hardcore' 'hardstyle' 'hardtechno' 'hiphop'\n",
      " 'historisch' 'holiday' 'horror' 'house' 'idm' 'independent' 'indian'\n",
      " 'indie' 'indipop' 'industrial' 'inspirational' 'instrumental'\n",
      " 'international' 'irish' 'jam' 'japanese' 'jazz' 'jewish' 'jpop' 'jungle'\n",
      " 'k-pop' 'karadeniz' 'karaoke' 'kayokyoku' 'korean' 'laiko' 'latin'\n",
      " 'latino' 'leftfield' 'local' 'lounge' 'loungeelectronic' 'lovers'\n",
      " 'malaysian' 'mandopop' 'marschmusik' 'meditative' 'mediterranean'\n",
      " 'melodic' 'metal' 'metalcore' 'mexican' 'middle' 'minimal'\n",
      " 'miscellaneous' 'modern' 'mood' 'mpb' 'muslim' 'native' 'neoklassik'\n",
      " 'neue' 'new' 'newage' 'newwave' 'nu' 'nujazz' 'numetal' 'oceania' 'old'\n",
      " 'opera' 'orchestral' 'other' 'piano' 'pop' 'popelectronic' 'popeurodance'\n",
      " 'post' 'posthardcore' 'postrock' 'power' 'progmetal' 'progressive'\n",
      " 'psychedelic' 'punjabi' 'punk' 'quebecois' 'ragga' 'ram' 'rancheras'\n",
      " 'rap' 'rave' 'reggae' 'reggaeton' 'regional' 'relax' 'religious' 'retro'\n",
      " 'rhythm' 'rnb' 'rnr' 'rock' 'rockabilly' 'romance' 'roots' 'ruspop'\n",
      " 'rusrap' 'rusrock' 'salsa' 'samba' 'schlager' 'self' 'sertanejo'\n",
      " 'shoegazing' 'showtunes' 'singer' 'ska' 'slow' 'smooth' 'soul' 'soulful'\n",
      " 'sound' 'soundtrack' 'southern' 'specialty' 'speech' 'spiritual' 'sport'\n",
      " 'stonerrock' 'surf' 'swing' 'synthpop' 'sängerportrait' 'tango'\n",
      " 'tanzorchester' 'taraftar' 'tech' 'techno' 'thrash' 'top' 'traditional'\n",
      " 'tradjazz' 'trance' 'tribal' 'trip' 'triphop' 'tropical' 'türk' 'türkçe'\n",
      " 'unknown' 'urban' 'uzbek' 'variété' 'vi' 'videogame' 'vocal' 'western'\n",
      " 'world' 'worldbeat' 'ïîï']\n"
     ]
    }
   ],
   "source": [
    "# Comprobación de duplicados implícitos\n",
    "\n",
    "print(df[\"genre\"].sort_values().unique())"
   ]
  },
  {
   "cell_type": "markdown",
   "metadata": {
    "id": "jz6a9-7HQUDd"
   },
   "source": [
    "### Tus observaciones <a id='data_preprocessing_conclusions'></a>\n",
    "\n",
    "`Describe brevemente lo que has notado al analizar duplicados, cómo abordaste sus eliminaciones y qué resultados obtuviste.`\n",
    "\n",
    "Al analizar la columna `genre` en búsqueda de duplicados se puede observar que existen muchos valores únicos, entre los cuales hay varios errores de tipeo y también se nombran muchos subgéneros musicales. Si bien esta columna nos podría dar insights con respecto a los gustos musicales de cada ciudad o determinados patrones según el día en que se escucha música, primero tendría que pasar por un proceso de limpieza y ordenamiento de los datos."
   ]
  },
  {
   "cell_type": "markdown",
   "metadata": {
    "id": "WttZHXH0SqKk"
   },
   "source": [
    "## Etapa 3. Prueba de hipótesis <a id='hypothesis'></a>"
   ]
  },
  {
   "cell_type": "markdown",
   "metadata": {
    "id": "Im936VVi_Zcu"
   },
   "source": [
    "### Hipótesis: comparar el comportamiento del usuario o la usuaria en las dos ciudades <a id='activity'></a>"
   ]
  },
  {
   "cell_type": "markdown",
   "metadata": {
    "id": "nwt_MuaL_Zcu"
   },
   "source": [
    "La hipótesis afirma que existen diferencias en la forma en que los usuarios y las usuarias de Springfield y Shelbyville consumen música. Para comprobar esto, usa los datos de tres días de la semana: lunes, miércoles y viernes.\n",
    "\n",
    "* Agrupa a los usuarios y las usuarias por ciudad.\n",
    "* Compara el número de canciones que cada grupo reprodujo el lunes, el miércoles y el viernes.\n"
   ]
  },
  {
   "cell_type": "markdown",
   "metadata": {
    "id": "8Dw_YMmT_Zcu"
   },
   "source": [
    "Realiza cada cálculo por separado.\n",
    "\n",
    "El primer paso es evaluar la actividad del usuario en cada ciudad. Recuerda las etapas dividir-aplicar-combinar de las que hablamos anteriormente en la lección. Tu objetivo ahora es agrupar los datos por ciudad, aplicar el método apropiado para contar durante la etapa de aplicación y luego encontrar la cantidad de canciones reproducidas en cada grupo especificando la columna para obtener el recuento.\n",
    "\n",
    "A continuación se muestra un ejemplo de cómo debería verse el resultado final:\n",
    "`df.groupby(by='....')['column'].method()`Realiza cada cálculo por separado.\n",
    "\n",
    "Para evaluar la actividad de los usuarios y las usuarias en cada ciudad, agrupa los datos por ciudad y encuentra la cantidad de canciones reproducidas en cada grupo.\n",
    "\n"
   ]
  },
  {
   "cell_type": "code",
   "execution_count": 21,
   "metadata": {
    "id": "0_Qs96oh_Zcu",
    "scrolled": true
   },
   "outputs": [
    {
     "name": "stdout",
     "output_type": "stream",
     "text": [
      "city\n",
      "Shelbyville    18512\n",
      "Springfield    42741\n",
      "Name: track, dtype: int64\n",
      "city\n",
      "Shelbyville    12423\n",
      "Springfield    29358\n",
      "Name: user_id, dtype: int64\n"
     ]
    }
   ],
   "source": [
    "# Contar las canciones reproducidas en cada ciudad\n",
    "print(df.groupby(by = \"city\")[\"track\"].count())\n",
    "\n",
    "print(df.groupby(by = \"city\")[\"user_id\"].nunique())\n"
   ]
  },
  {
   "cell_type": "markdown",
   "metadata": {
    "id": "t_Qx-3NewAnK"
   },
   "source": [
    "`Comenta tus observaciones aquí`\n",
    "\n",
    "Se puede visualizar que Springfield compone más de dos tercios de las filas de la data, por lo que podríamos suponer que más habitantes de dicha ciudad escuchan música en comparación con los de Shelbyville, sin embargo, también estos números podrían ser causados por duplicados de usuarios, por lo que otra posibilidad sería que ambas ciudades tengan una cantidad de muestra de usuarios parecida, pero que los de Springfield hayan escuchado un mayor número de canciones. Para salir de la duda también añadí una fórmula extra para ver los valores únicos de la columna `user_id` por ciudad, en la que se puede observar que si bien en ambas ciudades hay usuarios que escucharon más de una canción, los valores únicos de Springfield siguen componiendo un 70% del total de las filas.\n"
   ]
  },
  {
   "cell_type": "markdown",
   "metadata": {
    "id": "dzli3w8o_Zcu"
   },
   "source": [
    "Ahora agrupemos los datos por día de la semana y encontremos el número de canciones reproducidas el lunes, miércoles y viernes. Utiliza el mismo método que antes, pero ahora necesitamos una agrupación diferente.\n"
   ]
  },
  {
   "cell_type": "code",
   "execution_count": 22,
   "metadata": {
    "id": "uZMKjiJz_Zcu"
   },
   "outputs": [
    {
     "name": "stdout",
     "output_type": "stream",
     "text": [
      "day\n",
      "Friday       21840\n",
      "Monday       21354\n",
      "Wednesday    18059\n",
      "Name: track, dtype: int64\n",
      "day\n",
      "Friday       16636\n",
      "Monday       16144\n",
      "Wednesday    13614\n",
      "Name: user_id, dtype: int64\n"
     ]
    }
   ],
   "source": [
    "# Calcular las canciones reproducidas en cada uno de los tres días\n",
    "print(df.groupby(by = \"day\")[\"track\"].count())\n",
    "\n",
    "\n",
    "print(df.groupby(by = \"day\")[\"user_id\"].nunique())\n"
   ]
  },
  {
   "cell_type": "markdown",
   "metadata": {
    "id": "cC2tNrlL_Zcu"
   },
   "source": [
    "`Comenta tus observaciones aquí`\n",
    "\n",
    "En el caso de la cantidad de canciones reproducidas por día, se puede observar una clara alza los días lunes y viernes, mientras que el miércoles es el día con menos canciones reproducidas. Esta tendencia también se observa en el número de usuarios que escucharon canciones por día. \n",
    "\n",
    "Una opción interesante seria ver si es que los géneros musicales escuchados al inicio de la semana varían mucho con respecto a los escuchados al final antes del fin de semana y si estas tendencias ocurren en ambas ciudades."
   ]
  },
  {
   "cell_type": "markdown",
   "metadata": {
    "id": "POzs8bGa_Zcu"
   },
   "source": [
    "Ya sabes cómo contar entradas agrupándolas por ciudad o día. Ahora necesitas escribir una función que pueda contar entradas según ambos criterios simultáneamente.\n",
    "\n",
    "Crea la función `number_tracks()` para calcular el número de canciones reproducidas en un determinado día **y** ciudad. La función debe aceptar dos parámetros:\n",
    "\n",
    "- `day`: un día de la semana para filtrar. Por ejemplo, `'Monday'` (lunes).\n",
    "- `city`: una ciudad para filtrar. Por ejemplo, `'Springfield'`.\n",
    "\n",
    "Dentro de la función, aplicarás un filtrado consecutivo con indexación lógica.\n",
    "\n",
    "Primero filtra los datos por día y luego filtra la tabla resultante por ciudad.\n",
    "\n",
    "Después de filtrar los datos por dos criterios, cuenta el número de valores de la columna 'user_id' en la tabla resultante. Este recuento representa el número de entradas que estás buscando. Guarda el resultado en una nueva variable y devuélvelo desde la función."
   ]
  },
  {
   "cell_type": "code",
   "execution_count": 33,
   "metadata": {
    "id": "Nz3GdQB1_Zcu"
   },
   "outputs": [
    {
     "name": "stdout",
     "output_type": "stream",
     "text": [
      "15740\n"
     ]
    }
   ],
   "source": [
    "# Declara la función number_tracks() con dos parámetros: day= y city=.\n",
    "\n",
    "def number_tracks(day, city):\n",
    "    \n",
    "    # Almacena las filas del DataFrame donde el valor en la columna 'day' es igual al parámetro day=\n",
    "    \n",
    "    filtered_result_1 = df[df['day'] == day]\n",
    "    \n",
    "     # Filtra las filas donde el valor en la columna 'city' es igual al parámetro city=\n",
    "    \n",
    "    filtered_result_2 = filtered_result_1[filtered_result_1['city'] == city]\n",
    "    \n",
    "    return filtered_result_2[\"user_id\"].count()\n",
    "\n",
    "\n",
    "\n",
    "# Extrae la columna 'user_id' de la tabla filtrada y aplica el método count()\n",
    " # Devolve el número de valores de la columna 'user_id'\n",
    "\n",
    "print(number_tracks('Monday','Springfield' ))\n",
    "\n",
    "\n",
    "    "
   ]
  },
  {
   "cell_type": "markdown",
   "metadata": {
    "id": "ytf7xFrFJQ2r"
   },
   "source": [
    "Llama a `number_tracks()` seis veces, cambiando los valores de los parámetros para que recuperes los datos de ambas ciudades para cada uno de los tres días."
   ]
  },
  {
   "cell_type": "code",
   "execution_count": 34,
   "metadata": {
    "id": "rJcRATNQ_Zcu"
   },
   "outputs": [
    {
     "name": "stdout",
     "output_type": "stream",
     "text": [
      "15740\n"
     ]
    }
   ],
   "source": [
    "# El número de canciones reproducidas en Springfield el lunes\n",
    "print(number_tracks('Monday','Springfield' ))"
   ]
  },
  {
   "cell_type": "code",
   "execution_count": 35,
   "metadata": {
    "id": "hq_ncZ5T_Zcu"
   },
   "outputs": [
    {
     "name": "stdout",
     "output_type": "stream",
     "text": [
      "5614\n"
     ]
    }
   ],
   "source": [
    "# El número de canciones reproducidas en Shelbyville el lunes\n",
    "print(number_tracks('Monday','Shelbyville' ))\n"
   ]
  },
  {
   "cell_type": "code",
   "execution_count": 29,
   "metadata": {
    "id": "_NTy2VPU_Zcu"
   },
   "outputs": [
    {
     "name": "stdout",
     "output_type": "stream",
     "text": [
      "11056\n"
     ]
    }
   ],
   "source": [
    "# El número de canciones reproducidas en Springfield el miércoles\n",
    "print(number_tracks('Wednesday','Springfield' ))\n"
   ]
  },
  {
   "cell_type": "code",
   "execution_count": 30,
   "metadata": {
    "id": "j2y3TAwo_Zcu"
   },
   "outputs": [
    {
     "name": "stdout",
     "output_type": "stream",
     "text": [
      "7003\n"
     ]
    }
   ],
   "source": [
    "# El número de canciones reproducidas en Shelbyville el miércoles\n",
    "print(number_tracks('Wednesday','Shelbyville' ))\n"
   ]
  },
  {
   "cell_type": "code",
   "execution_count": 31,
   "metadata": {
    "id": "vYDw5u_K_Zcu"
   },
   "outputs": [
    {
     "name": "stdout",
     "output_type": "stream",
     "text": [
      "15945\n"
     ]
    }
   ],
   "source": [
    "# El número de canciones reproducidas en Springfield el viernes\n",
    "print(number_tracks('Friday','Springfield' ))\n"
   ]
  },
  {
   "cell_type": "code",
   "execution_count": 32,
   "metadata": {
    "id": "8_yzFtW3_Zcu"
   },
   "outputs": [
    {
     "name": "stdout",
     "output_type": "stream",
     "text": [
      "5895\n"
     ]
    }
   ],
   "source": [
    "# El número de canciones reproducidas en Shelbyville el viernes\n",
    "\n",
    "print(number_tracks('Friday','Shelbyville' ))\n"
   ]
  },
  {
   "cell_type": "markdown",
   "metadata": {
    "id": "ykKQ0N65_Zcv"
   },
   "source": [
    "# Conclusiones <a id='end'></a>"
   ]
  },
  {
   "cell_type": "markdown",
   "metadata": {
    "id": "-EgPIHYu_Zcu"
   },
   "source": [
    "\n",
    "\n",
    "`Comenta si la hipótesis es correcta o se debe rechazar. Explica tu razonamiento.`\n",
    "\n",
    "La hipótesis \"La actividad de los usuarios y las usuarias difiere según el día de la semana y dependiendo de la ciudad\" puede ser aceptada pero solo parcialmente. Si bien la última información recopilada acerca de la cantidad de usuarios si nos da indicios que existe una diferencia en la actividad de los usuarios según el día y la ciudad, ya que:\n",
    "\n",
    "           L   |   M   |   V\n",
    "Springfield - 15740 - 11056 - 15945\n",
    "\n",
    "Shelbyville -  5614 -  7003 -  5895\n",
    "\n",
    "Se puede ver que al contrario de Springfield, los habitantes de Shelvyville prefieren escuchar canciones el miercoles vs los otros dos días, lo que efectivamente contaría como una diferencia, sin embargo, existe mucha ambiguedad con respecto a los datos utilizados, ya que no sabemos la cantidad de días que los componen, si es que los usuarios analizados de ambas ciudades poseen caracteristicas similares que los hagan comparables (ej.edad, genero) o que los datos esten bien distribuidos lograr para ser una muestra representativa de la ciudad analizada, etc...\n"
   ]
  }
 ],
 "metadata": {
  "ExecuteTimeLog": [
   {
    "duration": 485,
    "start_time": "2024-08-07T17:39:41.966Z"
   },
   {
    "duration": 187,
    "start_time": "2024-08-07T17:39:50.828Z"
   },
   {
    "duration": 4,
    "start_time": "2024-08-07T17:39:59.022Z"
   },
   {
    "duration": 11,
    "start_time": "2024-08-07T17:40:10.966Z"
   },
   {
    "duration": 33,
    "start_time": "2024-08-07T17:41:08.003Z"
   },
   {
    "duration": 437,
    "start_time": "2024-08-07T19:05:00.068Z"
   },
   {
    "duration": 177,
    "start_time": "2024-08-07T19:05:02.587Z"
   },
   {
    "duration": 12,
    "start_time": "2024-08-07T19:05:04.262Z"
   },
   {
    "duration": 33,
    "start_time": "2024-08-07T19:05:09.949Z"
   },
   {
    "duration": 4,
    "start_time": "2024-08-07T19:29:08.829Z"
   },
   {
    "duration": 6,
    "start_time": "2024-08-07T19:32:52.222Z"
   },
   {
    "duration": 6,
    "start_time": "2024-08-07T19:33:51.984Z"
   },
   {
    "duration": 12,
    "start_time": "2024-08-07T19:48:17.148Z"
   },
   {
    "duration": 356,
    "start_time": "2024-08-07T19:49:02.856Z"
   },
   {
    "duration": 26,
    "start_time": "2024-08-07T19:49:44.070Z"
   },
   {
    "duration": 4,
    "start_time": "2024-08-07T19:49:58.093Z"
   },
   {
    "duration": 31,
    "start_time": "2024-08-07T19:50:10.599Z"
   },
   {
    "duration": 24,
    "start_time": "2024-08-07T19:50:23.920Z"
   },
   {
    "duration": 457,
    "start_time": "2024-08-07T19:51:07.962Z"
   },
   {
    "duration": 158,
    "start_time": "2024-08-07T19:51:09.799Z"
   },
   {
    "duration": 11,
    "start_time": "2024-08-07T19:51:11.190Z"
   },
   {
    "duration": 33,
    "start_time": "2024-08-07T19:51:12.204Z"
   },
   {
    "duration": 5,
    "start_time": "2024-08-07T19:51:15.184Z"
   },
   {
    "duration": 5,
    "start_time": "2024-08-07T19:51:17.078Z"
   },
   {
    "duration": 5,
    "start_time": "2024-08-07T19:51:18.430Z"
   },
   {
    "duration": 4,
    "start_time": "2024-08-07T19:51:22.540Z"
   },
   {
    "duration": 5,
    "start_time": "2024-08-07T19:53:50.387Z"
   },
   {
    "duration": 8,
    "start_time": "2024-08-07T19:54:12.908Z"
   },
   {
    "duration": 15,
    "start_time": "2024-08-07T19:54:18.149Z"
   },
   {
    "duration": 6,
    "start_time": "2024-08-07T19:54:36.497Z"
   },
   {
    "duration": 6,
    "start_time": "2024-08-07T19:55:33.687Z"
   },
   {
    "duration": 5,
    "start_time": "2024-08-07T19:55:35.964Z"
   },
   {
    "duration": 25,
    "start_time": "2024-08-07T19:56:40.592Z"
   },
   {
    "duration": 18,
    "start_time": "2024-08-07T20:00:14.570Z"
   },
   {
    "duration": 25,
    "start_time": "2024-08-07T20:00:33.614Z"
   },
   {
    "duration": 425,
    "start_time": "2024-08-07T21:06:46.352Z"
   },
   {
    "duration": 159,
    "start_time": "2024-08-07T21:06:48.556Z"
   },
   {
    "duration": 12,
    "start_time": "2024-08-07T21:06:50.151Z"
   },
   {
    "duration": 32,
    "start_time": "2024-08-07T21:06:51.782Z"
   },
   {
    "duration": 5,
    "start_time": "2024-08-07T21:06:55.708Z"
   },
   {
    "duration": 6,
    "start_time": "2024-08-07T21:06:57.001Z"
   },
   {
    "duration": 7,
    "start_time": "2024-08-07T21:06:57.986Z"
   },
   {
    "duration": 4,
    "start_time": "2024-08-07T21:06:58.691Z"
   },
   {
    "duration": 5,
    "start_time": "2024-08-07T21:06:59.828Z"
   },
   {
    "duration": 26,
    "start_time": "2024-08-07T21:07:00.612Z"
   },
   {
    "duration": 21,
    "start_time": "2024-08-07T21:07:01.326Z"
   },
   {
    "duration": 25,
    "start_time": "2024-08-07T21:07:01.757Z"
   },
   {
    "duration": 3,
    "start_time": "2024-08-07T21:07:02.465Z"
   },
   {
    "duration": 80,
    "start_time": "2024-08-07T21:08:03.896Z"
   },
   {
    "duration": 80,
    "start_time": "2024-08-07T21:08:52.273Z"
   },
   {
    "duration": 75,
    "start_time": "2024-08-07T21:08:54.339Z"
   },
   {
    "duration": 75,
    "start_time": "2024-08-07T21:09:28.176Z"
   },
   {
    "duration": 66,
    "start_time": "2024-08-07T21:09:41.946Z"
   },
   {
    "duration": 82,
    "start_time": "2024-08-07T21:10:57.042Z"
   },
   {
    "duration": 66,
    "start_time": "2024-08-07T21:10:59.682Z"
   },
   {
    "duration": 11,
    "start_time": "2024-08-07T21:12:22.973Z"
   },
   {
    "duration": 9,
    "start_time": "2024-08-07T21:13:05.437Z"
   },
   {
    "duration": 10,
    "start_time": "2024-08-07T21:13:13.488Z"
   },
   {
    "duration": 13,
    "start_time": "2024-08-07T21:14:21.189Z"
   },
   {
    "duration": 10,
    "start_time": "2024-08-07T21:14:25.466Z"
   },
   {
    "duration": 10,
    "start_time": "2024-08-07T21:22:26.757Z"
   },
   {
    "duration": 22,
    "start_time": "2024-08-07T21:24:13.892Z"
   },
   {
    "duration": 10,
    "start_time": "2024-08-07T21:24:19.739Z"
   },
   {
    "duration": 13,
    "start_time": "2024-08-07T21:24:26.719Z"
   },
   {
    "duration": 10,
    "start_time": "2024-08-07T21:24:39.313Z"
   },
   {
    "duration": 5,
    "start_time": "2024-08-07T21:26:04.821Z"
   },
   {
    "duration": 11,
    "start_time": "2024-08-07T21:26:07.608Z"
   },
   {
    "duration": 10,
    "start_time": "2024-08-07T21:26:12.228Z"
   },
   {
    "duration": 35,
    "start_time": "2024-08-07T21:30:26.722Z"
   },
   {
    "duration": 14,
    "start_time": "2024-08-07T21:31:35.875Z"
   },
   {
    "duration": 1562,
    "start_time": "2024-08-07T21:31:49.803Z"
   },
   {
    "duration": 18,
    "start_time": "2024-08-07T21:32:00.411Z"
   },
   {
    "duration": 14,
    "start_time": "2024-08-07T21:33:27.519Z"
   },
   {
    "duration": 486,
    "start_time": "2024-08-08T00:01:44.012Z"
   },
   {
    "duration": 190,
    "start_time": "2024-08-08T00:01:44.502Z"
   },
   {
    "duration": 10,
    "start_time": "2024-08-08T00:01:44.904Z"
   },
   {
    "duration": 32,
    "start_time": "2024-08-08T00:01:45.330Z"
   },
   {
    "duration": 4,
    "start_time": "2024-08-08T00:01:47.977Z"
   },
   {
    "duration": 6,
    "start_time": "2024-08-08T00:01:49.470Z"
   },
   {
    "duration": 6,
    "start_time": "2024-08-08T00:01:50.389Z"
   },
   {
    "duration": 4,
    "start_time": "2024-08-08T00:01:51.715Z"
   },
   {
    "duration": 4,
    "start_time": "2024-08-08T00:01:52.868Z"
   },
   {
    "duration": 26,
    "start_time": "2024-08-08T00:02:02.403Z"
   },
   {
    "duration": 16,
    "start_time": "2024-08-08T00:02:05.054Z"
   },
   {
    "duration": 25,
    "start_time": "2024-08-08T00:02:06.634Z"
   },
   {
    "duration": 80,
    "start_time": "2024-08-08T00:02:08.360Z"
   },
   {
    "duration": 91,
    "start_time": "2024-08-08T00:02:09.202Z"
   },
   {
    "duration": 70,
    "start_time": "2024-08-08T00:02:10.083Z"
   },
   {
    "duration": 10,
    "start_time": "2024-08-08T00:02:11.420Z"
   },
   {
    "duration": 4,
    "start_time": "2024-08-08T00:02:19.280Z"
   },
   {
    "duration": 12,
    "start_time": "2024-08-08T00:02:20.710Z"
   },
   {
    "duration": 9,
    "start_time": "2024-08-08T00:02:24.972Z"
   },
   {
    "duration": 15,
    "start_time": "2024-08-08T00:03:44.681Z"
   },
   {
    "duration": 15,
    "start_time": "2024-08-08T00:04:07.867Z"
   },
   {
    "duration": 32,
    "start_time": "2024-08-08T00:31:48.165Z"
   },
   {
    "duration": 18,
    "start_time": "2024-08-08T00:32:48.021Z"
   },
   {
    "duration": 15,
    "start_time": "2024-08-08T00:33:40.029Z"
   },
   {
    "duration": 474,
    "start_time": "2024-08-08T00:34:53.698Z"
   },
   {
    "duration": 157,
    "start_time": "2024-08-08T00:34:54.740Z"
   },
   {
    "duration": 11,
    "start_time": "2024-08-08T00:34:56.166Z"
   },
   {
    "duration": 33,
    "start_time": "2024-08-08T00:34:57.386Z"
   },
   {
    "duration": 4,
    "start_time": "2024-08-08T00:35:00.622Z"
   },
   {
    "duration": 5,
    "start_time": "2024-08-08T00:35:02.251Z"
   },
   {
    "duration": 6,
    "start_time": "2024-08-08T00:35:03.331Z"
   },
   {
    "duration": 4,
    "start_time": "2024-08-08T00:35:04.398Z"
   },
   {
    "duration": 4,
    "start_time": "2024-08-08T00:35:05.484Z"
   },
   {
    "duration": 27,
    "start_time": "2024-08-08T00:35:07.185Z"
   },
   {
    "duration": 18,
    "start_time": "2024-08-08T00:35:08.524Z"
   },
   {
    "duration": 26,
    "start_time": "2024-08-08T00:35:09.572Z"
   },
   {
    "duration": 78,
    "start_time": "2024-08-08T00:35:11.071Z"
   },
   {
    "duration": 88,
    "start_time": "2024-08-08T00:35:11.995Z"
   },
   {
    "duration": 70,
    "start_time": "2024-08-08T00:35:12.952Z"
   },
   {
    "duration": 10,
    "start_time": "2024-08-08T00:35:14.308Z"
   },
   {
    "duration": 5,
    "start_time": "2024-08-08T00:35:16.081Z"
   },
   {
    "duration": 13,
    "start_time": "2024-08-08T00:35:17.349Z"
   },
   {
    "duration": 11,
    "start_time": "2024-08-08T00:35:19.679Z"
   },
   {
    "duration": 15,
    "start_time": "2024-08-08T00:35:25.996Z"
   },
   {
    "duration": 14,
    "start_time": "2024-08-08T00:35:27.869Z"
   },
   {
    "duration": 23,
    "start_time": "2024-08-08T00:35:41.554Z"
   },
   {
    "duration": 353,
    "start_time": "2024-08-08T00:38:21.061Z"
   },
   {
    "duration": 25,
    "start_time": "2024-08-08T00:39:54.117Z"
   },
   {
    "duration": 23,
    "start_time": "2024-08-08T00:40:01.025Z"
   },
   {
    "duration": 20,
    "start_time": "2024-08-08T00:40:37.933Z"
   },
   {
    "duration": 19,
    "start_time": "2024-08-08T00:41:24.176Z"
   },
   {
    "duration": 18,
    "start_time": "2024-08-08T00:41:54.217Z"
   },
   {
    "duration": 27,
    "start_time": "2024-08-08T00:42:25.487Z"
   },
   {
    "duration": 19,
    "start_time": "2024-08-08T00:42:58.380Z"
   },
   {
    "duration": 21,
    "start_time": "2024-08-08T00:43:31.649Z"
   },
   {
    "duration": 3,
    "start_time": "2024-08-08T00:52:46.739Z"
   },
   {
    "duration": 4,
    "start_time": "2024-08-08T00:53:21.923Z"
   },
   {
    "duration": 22,
    "start_time": "2024-08-08T01:05:39.068Z"
   },
   {
    "duration": 50,
    "start_time": "2024-08-08T01:06:26.437Z"
   },
   {
    "duration": 10,
    "start_time": "2024-08-08T01:07:03.953Z"
   },
   {
    "duration": 35,
    "start_time": "2024-08-08T01:08:08.241Z"
   },
   {
    "duration": 45,
    "start_time": "2024-08-08T01:08:37.296Z"
   },
   {
    "duration": 9,
    "start_time": "2024-08-08T01:09:08.800Z"
   },
   {
    "duration": 38,
    "start_time": "2024-08-08T01:09:20.559Z"
   },
   {
    "duration": 15,
    "start_time": "2024-08-08T01:10:38.039Z"
   },
   {
    "duration": 34,
    "start_time": "2024-08-08T01:11:11.420Z"
   },
   {
    "duration": 36,
    "start_time": "2024-08-08T01:28:11.339Z"
   },
   {
    "duration": 468,
    "start_time": "2024-08-08T02:03:41.987Z"
   },
   {
    "duration": 162,
    "start_time": "2024-08-08T02:03:45.367Z"
   },
   {
    "duration": 11,
    "start_time": "2024-08-08T02:03:47.276Z"
   },
   {
    "duration": 43,
    "start_time": "2024-08-08T02:03:51.653Z"
   },
   {
    "duration": 4,
    "start_time": "2024-08-08T02:04:06.887Z"
   },
   {
    "duration": 7,
    "start_time": "2024-08-08T02:04:10.736Z"
   },
   {
    "duration": 6,
    "start_time": "2024-08-08T02:04:12.374Z"
   },
   {
    "duration": 4,
    "start_time": "2024-08-08T02:04:15.676Z"
   },
   {
    "duration": 4,
    "start_time": "2024-08-08T02:04:17.000Z"
   },
   {
    "duration": 26,
    "start_time": "2024-08-08T02:04:20.177Z"
   },
   {
    "duration": 16,
    "start_time": "2024-08-08T02:04:22.011Z"
   },
   {
    "duration": 28,
    "start_time": "2024-08-08T02:04:23.212Z"
   },
   {
    "duration": 79,
    "start_time": "2024-08-08T02:04:25.091Z"
   },
   {
    "duration": 87,
    "start_time": "2024-08-08T02:04:26.205Z"
   },
   {
    "duration": 70,
    "start_time": "2024-08-08T02:04:27.267Z"
   },
   {
    "duration": 11,
    "start_time": "2024-08-08T02:04:29.007Z"
   },
   {
    "duration": 4,
    "start_time": "2024-08-08T02:04:31.807Z"
   },
   {
    "duration": 12,
    "start_time": "2024-08-08T02:04:33.216Z"
   },
   {
    "duration": 10,
    "start_time": "2024-08-08T02:04:34.555Z"
   },
   {
    "duration": 37,
    "start_time": "2024-08-08T02:04:43.868Z"
   },
   {
    "duration": 41,
    "start_time": "2024-08-08T02:04:46.946Z"
   },
   {
    "duration": 24,
    "start_time": "2024-08-08T02:04:50.597Z"
   },
   {
    "duration": 21,
    "start_time": "2024-08-08T02:04:52.525Z"
   },
   {
    "duration": 21,
    "start_time": "2024-08-08T02:04:53.683Z"
   },
   {
    "duration": 22,
    "start_time": "2024-08-08T02:04:54.880Z"
   },
   {
    "duration": 19,
    "start_time": "2024-08-08T02:04:55.895Z"
   },
   {
    "duration": 21,
    "start_time": "2024-08-08T02:04:56.722Z"
   },
   {
    "duration": 21,
    "start_time": "2024-08-08T02:04:57.503Z"
   },
   {
    "duration": 16,
    "start_time": "2024-08-09T02:30:18.121Z"
   },
   {
    "duration": 421,
    "start_time": "2024-08-09T02:30:34.785Z"
   },
   {
    "duration": 157,
    "start_time": "2024-08-09T02:30:35.212Z"
   },
   {
    "duration": 11,
    "start_time": "2024-08-09T02:30:35.371Z"
   },
   {
    "duration": 50,
    "start_time": "2024-08-09T02:30:35.386Z"
   },
   {
    "duration": 5,
    "start_time": "2024-08-09T02:30:35.439Z"
   },
   {
    "duration": 6,
    "start_time": "2024-08-09T02:30:35.448Z"
   },
   {
    "duration": 6,
    "start_time": "2024-08-09T02:30:35.457Z"
   },
   {
    "duration": 45,
    "start_time": "2024-08-09T02:30:35.467Z"
   },
   {
    "duration": 5,
    "start_time": "2024-08-09T02:30:35.516Z"
   },
   {
    "duration": 25,
    "start_time": "2024-08-09T02:30:35.529Z"
   },
   {
    "duration": 56,
    "start_time": "2024-08-09T02:30:35.556Z"
   },
   {
    "duration": 26,
    "start_time": "2024-08-09T02:30:35.615Z"
   },
   {
    "duration": 101,
    "start_time": "2024-08-09T02:30:35.644Z"
   },
   {
    "duration": 99,
    "start_time": "2024-08-09T02:30:35.749Z"
   },
   {
    "duration": 76,
    "start_time": "2024-08-09T02:30:35.851Z"
   },
   {
    "duration": 11,
    "start_time": "2024-08-09T02:30:35.930Z"
   },
   {
    "duration": 4,
    "start_time": "2024-08-09T02:30:35.943Z"
   },
   {
    "duration": 12,
    "start_time": "2024-08-09T02:30:35.950Z"
   },
   {
    "duration": 47,
    "start_time": "2024-08-09T02:30:35.965Z"
   },
   {
    "duration": 36,
    "start_time": "2024-08-09T02:30:36.015Z"
   },
   {
    "duration": 60,
    "start_time": "2024-08-09T02:30:36.054Z"
   },
   {
    "duration": 23,
    "start_time": "2024-08-09T02:30:36.117Z"
   },
   {
    "duration": 21,
    "start_time": "2024-08-09T02:30:36.143Z"
   },
   {
    "duration": 52,
    "start_time": "2024-08-09T02:30:36.167Z"
   },
   {
    "duration": 20,
    "start_time": "2024-08-09T02:30:36.221Z"
   },
   {
    "duration": 19,
    "start_time": "2024-08-09T02:30:36.244Z"
   },
   {
    "duration": 57,
    "start_time": "2024-08-09T02:30:36.267Z"
   },
   {
    "duration": 18,
    "start_time": "2024-08-09T02:30:36.330Z"
   },
   {
    "duration": 8,
    "start_time": "2024-08-09T02:41:40.713Z"
   },
   {
    "duration": 9,
    "start_time": "2024-08-09T02:42:11.100Z"
   },
   {
    "duration": 451,
    "start_time": "2024-08-09T12:37:31.807Z"
   },
   {
    "duration": 189,
    "start_time": "2024-08-09T12:37:33.537Z"
   },
   {
    "duration": 11,
    "start_time": "2024-08-09T12:37:35.609Z"
   },
   {
    "duration": 32,
    "start_time": "2024-08-09T12:37:38.673Z"
   },
   {
    "duration": 4,
    "start_time": "2024-08-09T12:37:45.040Z"
   },
   {
    "duration": 6,
    "start_time": "2024-08-09T12:37:47.681Z"
   },
   {
    "duration": 5,
    "start_time": "2024-08-09T12:37:48.938Z"
   },
   {
    "duration": 4,
    "start_time": "2024-08-09T12:37:50.159Z"
   },
   {
    "duration": 4,
    "start_time": "2024-08-09T12:37:51.532Z"
   },
   {
    "duration": 25,
    "start_time": "2024-08-09T12:37:55.128Z"
   },
   {
    "duration": 21,
    "start_time": "2024-08-09T12:37:56.871Z"
   },
   {
    "duration": 25,
    "start_time": "2024-08-09T12:37:59.187Z"
   },
   {
    "duration": 77,
    "start_time": "2024-08-09T12:38:03.091Z"
   },
   {
    "duration": 86,
    "start_time": "2024-08-09T12:38:05.042Z"
   },
   {
    "duration": 70,
    "start_time": "2024-08-09T12:38:06.153Z"
   },
   {
    "duration": 136,
    "start_time": "2024-08-09T12:38:34.141Z"
   },
   {
    "duration": 19,
    "start_time": "2024-08-09T12:43:53.944Z"
   },
   {
    "duration": 19,
    "start_time": "2024-08-09T12:44:03.465Z"
   },
   {
    "duration": 17,
    "start_time": "2024-08-09T12:44:14.465Z"
   },
   {
    "duration": 231,
    "start_time": "2024-08-09T12:45:23.716Z"
   },
   {
    "duration": 47,
    "start_time": "2024-08-09T12:45:49.205Z"
   },
   {
    "duration": 50,
    "start_time": "2024-08-09T12:46:10.532Z"
   },
   {
    "duration": 62,
    "start_time": "2024-08-09T12:50:34.777Z"
   },
   {
    "duration": 5,
    "start_time": "2024-08-09T12:53:30.872Z"
   },
   {
    "duration": 12,
    "start_time": "2024-08-09T12:53:34.320Z"
   },
   {
    "duration": 51,
    "start_time": "2024-08-09T12:53:39.898Z"
   },
   {
    "duration": 39,
    "start_time": "2024-08-09T12:54:21.439Z"
   },
   {
    "duration": 40,
    "start_time": "2024-08-09T12:54:52.068Z"
   },
   {
    "duration": 29,
    "start_time": "2024-08-09T12:56:15.132Z"
   },
   {
    "duration": 29,
    "start_time": "2024-08-09T12:56:25.264Z"
   },
   {
    "duration": 27,
    "start_time": "2024-08-09T12:56:31.026Z"
   },
   {
    "duration": 9,
    "start_time": "2024-08-09T12:56:36.362Z"
   },
   {
    "duration": 25,
    "start_time": "2024-08-09T12:56:40.642Z"
   },
   {
    "duration": 24,
    "start_time": "2024-08-09T12:56:47.542Z"
   },
   {
    "duration": 29,
    "start_time": "2024-08-09T12:56:52.744Z"
   },
   {
    "duration": 26,
    "start_time": "2024-08-09T12:56:58.071Z"
   },
   {
    "duration": 5,
    "start_time": "2024-08-09T13:01:42.040Z"
   },
   {
    "duration": 8,
    "start_time": "2024-08-09T13:01:51.096Z"
   },
   {
    "duration": 6,
    "start_time": "2024-08-09T13:02:53.985Z"
   },
   {
    "duration": 7,
    "start_time": "2024-08-09T13:04:35.548Z"
   },
   {
    "duration": 23,
    "start_time": "2024-08-09T13:05:55.827Z"
   },
   {
    "duration": 327,
    "start_time": "2024-08-10T14:10:55.464Z"
   },
   {
    "duration": 485,
    "start_time": "2024-08-10T14:11:31.381Z"
   },
   {
    "duration": 188,
    "start_time": "2024-08-10T14:11:32.264Z"
   },
   {
    "duration": 10,
    "start_time": "2024-08-10T14:11:32.702Z"
   },
   {
    "duration": 33,
    "start_time": "2024-08-10T14:11:33.947Z"
   },
   {
    "duration": 4,
    "start_time": "2024-08-10T14:11:36.688Z"
   },
   {
    "duration": 6,
    "start_time": "2024-08-10T14:11:37.317Z"
   },
   {
    "duration": 6,
    "start_time": "2024-08-10T14:11:37.740Z"
   },
   {
    "duration": 4,
    "start_time": "2024-08-10T14:11:38.820Z"
   },
   {
    "duration": 5,
    "start_time": "2024-08-10T14:11:39.302Z"
   },
   {
    "duration": 26,
    "start_time": "2024-08-10T14:11:41.216Z"
   },
   {
    "duration": 18,
    "start_time": "2024-08-10T14:11:41.903Z"
   },
   {
    "duration": 26,
    "start_time": "2024-08-10T14:11:42.346Z"
   },
   {
    "duration": 96,
    "start_time": "2024-08-10T14:11:43.277Z"
   },
   {
    "duration": 110,
    "start_time": "2024-08-10T14:11:43.743Z"
   },
   {
    "duration": 85,
    "start_time": "2024-08-10T14:11:44.241Z"
   },
   {
    "duration": 52,
    "start_time": "2024-08-10T14:11:45.441Z"
   },
   {
    "duration": 4,
    "start_time": "2024-08-10T14:11:48.324Z"
   },
   {
    "duration": 14,
    "start_time": "2024-08-10T14:11:49.728Z"
   },
   {
    "duration": 54,
    "start_time": "2024-08-10T14:11:52.506Z"
   },
   {
    "duration": 37,
    "start_time": "2024-08-10T14:11:59.403Z"
   },
   {
    "duration": 39,
    "start_time": "2024-08-10T14:12:02.428Z"
   },
   {
    "duration": 55,
    "start_time": "2024-08-10T14:12:05.419Z"
   },
   {
    "duration": 75,
    "start_time": "2024-08-10T14:13:32.198Z"
   },
   {
    "duration": 39,
    "start_time": "2024-08-10T14:13:48.577Z"
   },
   {
    "duration": 23,
    "start_time": "2024-08-10T14:15:08.369Z"
   },
   {
    "duration": 22,
    "start_time": "2024-08-10T14:15:33.528Z"
   },
   {
    "duration": 20,
    "start_time": "2024-08-10T14:15:53.745Z"
   },
   {
    "duration": 25,
    "start_time": "2024-08-10T14:16:12.699Z"
   },
   {
    "duration": 19,
    "start_time": "2024-08-10T14:16:27.705Z"
   },
   {
    "duration": 22,
    "start_time": "2024-08-10T14:16:44.335Z"
   },
   {
    "duration": 19,
    "start_time": "2024-08-10T14:17:01.123Z"
   },
   {
    "duration": 24,
    "start_time": "2024-08-10T14:23:37.857Z"
   },
   {
    "duration": 22,
    "start_time": "2024-08-10T14:23:49.921Z"
   },
   {
    "duration": 20,
    "start_time": "2024-08-10T14:23:51.247Z"
   }
  ],
  "colab": {
   "collapsed_sections": [
    "E0vqbgi9ay0H",
    "VUC88oWjTJw2"
   ],
   "provenance": []
  },
  "kernelspec": {
   "display_name": "Python 3 (ipykernel)",
   "language": "python",
   "name": "python3"
  },
  "language_info": {
   "codemirror_mode": {
    "name": "ipython",
    "version": 3
   },
   "file_extension": ".py",
   "mimetype": "text/x-python",
   "name": "python",
   "nbconvert_exporter": "python",
   "pygments_lexer": "ipython3",
   "version": "3.9.19"
  },
  "toc": {
   "base_numbering": 1,
   "nav_menu": {},
   "number_sections": true,
   "sideBar": true,
   "skip_h1_title": true,
   "title_cell": "Table of Contents",
   "title_sidebar": "Contents",
   "toc_cell": false,
   "toc_position": {},
   "toc_section_display": true,
   "toc_window_display": false
  }
 },
 "nbformat": 4,
 "nbformat_minor": 1
}
