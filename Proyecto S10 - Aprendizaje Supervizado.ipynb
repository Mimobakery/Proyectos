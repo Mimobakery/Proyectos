{
 "cells": [
  {
   "cell_type": "markdown",
   "metadata": {},
   "source": [
    "### Introducción del proyecto \n",
    "\n",
    "El proyecto tiene como objetivo predecir si un cliente de Beta Bank dejará o no el banco en un futuro cercano, utilizando un conjunto de datos que describe diversas características de los clientes, como su saldo, edad, puntuación crediticia, y si son miembros activos, entre otras caracteristicas. Debido a que el conjunto de datos presenta un desbalance en las clases (una gran mayoría de clientes no abandona el banco), el desafío principal es desarrollar un modelo que logre predecir correctamente el abandono de clientes, utilizando métricas como el F1 Score y AUC-ROC para evaluar su desempeño. Para esto, se emplean técnicas de ajuste de modelos, corrección de desequilibrio de clases y la selección de hiperparámetros adecuados para optimizar el rendimiento del modelo."
   ]
  },
  {
   "cell_type": "markdown",
   "metadata": {},
   "source": [
    "### Desarrollo:\n",
    "#### Paso 1: Cargar librerías y explorar dataset\n"
   ]
  },
  {
   "cell_type": "code",
   "execution_count": 1,
   "metadata": {},
   "outputs": [],
   "source": [
    "#carga de librerías\n",
    "import pandas as pd\n",
    "import numpy as np\n",
    "from sklearn.tree import DecisionTreeClassifier\n",
    "from sklearn.linear_model import LogisticRegression \n",
    "from sklearn.model_selection import train_test_split\n",
    "from sklearn.metrics import f1_score, roc_auc_score\n",
    "from sklearn.utils import shuffle\n",
    "from sklearn.metrics import accuracy_score "
   ]
  },
  {
   "cell_type": "code",
   "execution_count": 2,
   "metadata": {},
   "outputs": [],
   "source": [
    "clients = pd.read_csv(\"/datasets/Churn.csv\")"
   ]
  },
  {
   "cell_type": "code",
   "execution_count": 3,
   "metadata": {},
   "outputs": [
    {
     "name": "stdout",
     "output_type": "stream",
     "text": [
      "<class 'pandas.core.frame.DataFrame'>\n",
      "RangeIndex: 10000 entries, 0 to 9999\n",
      "Data columns (total 14 columns):\n",
      " #   Column           Non-Null Count  Dtype  \n",
      "---  ------           --------------  -----  \n",
      " 0   RowNumber        10000 non-null  int64  \n",
      " 1   CustomerId       10000 non-null  int64  \n",
      " 2   Surname          10000 non-null  object \n",
      " 3   CreditScore      10000 non-null  int64  \n",
      " 4   Geography        10000 non-null  object \n",
      " 5   Gender           10000 non-null  object \n",
      " 6   Age              10000 non-null  int64  \n",
      " 7   Tenure           9091 non-null   float64\n",
      " 8   Balance          10000 non-null  float64\n",
      " 9   NumOfProducts    10000 non-null  int64  \n",
      " 10  HasCrCard        10000 non-null  int64  \n",
      " 11  IsActiveMember   10000 non-null  int64  \n",
      " 12  EstimatedSalary  10000 non-null  float64\n",
      " 13  Exited           10000 non-null  int64  \n",
      "dtypes: float64(3), int64(8), object(3)\n",
      "memory usage: 1.1+ MB\n",
      "   RowNumber  CustomerId   Surname  CreditScore Geography  Gender  Age  \\\n",
      "0          1    15634602  Hargrave          619    France  Female   42   \n",
      "1          2    15647311      Hill          608     Spain  Female   41   \n",
      "2          3    15619304      Onio          502    France  Female   42   \n",
      "3          4    15701354      Boni          699    France  Female   39   \n",
      "4          5    15737888  Mitchell          850     Spain  Female   43   \n",
      "\n",
      "   Tenure    Balance  NumOfProducts  HasCrCard  IsActiveMember  \\\n",
      "0     2.0       0.00              1          1               1   \n",
      "1     1.0   83807.86              1          0               1   \n",
      "2     8.0  159660.80              3          1               0   \n",
      "3     1.0       0.00              2          0               0   \n",
      "4     2.0  125510.82              1          1               1   \n",
      "\n",
      "   EstimatedSalary  Exited  \n",
      "0        101348.88       1  \n",
      "1        112542.58       0  \n",
      "2        113931.57       1  \n",
      "3         93826.63       0  \n",
      "4         79084.10       0  \n"
     ]
    }
   ],
   "source": [
    "# se usan las funciones info y head para inspección de la información  del dataset\n",
    "clients.info()\n",
    "print(clients.head())\n",
    "\n"
   ]
  },
  {
   "cell_type": "code",
   "execution_count": 4,
   "metadata": {},
   "outputs": [
    {
     "name": "stdout",
     "output_type": "stream",
     "text": [
      "0\n",
      "\n",
      "RowNumber            0\n",
      "CustomerId           0\n",
      "Surname              0\n",
      "CreditScore          0\n",
      "Geography            0\n",
      "Gender               0\n",
      "Age                  0\n",
      "Tenure             909\n",
      "Balance              0\n",
      "NumOfProducts        0\n",
      "HasCrCard            0\n",
      "IsActiveMember       0\n",
      "EstimatedSalary      0\n",
      "Exited               0\n",
      "dtype: int64\n"
     ]
    }
   ],
   "source": [
    "#revisión de filas duplicadas\n",
    "print(clients.duplicated().sum())\n",
    "print()\n",
    "#revisión valores ausentes \n",
    "print(clients.isna().sum())"
   ]
  },
  {
   "cell_type": "code",
   "execution_count": 5,
   "metadata": {},
   "outputs": [
    {
     "name": "stdout",
     "output_type": "stream",
     "text": [
      "RowNumber          10000\n",
      "CustomerId         10000\n",
      "Surname             2932\n",
      "CreditScore          460\n",
      "Geography              3\n",
      "Gender                 2\n",
      "Age                   70\n",
      "Tenure                11\n",
      "Balance             6382\n",
      "NumOfProducts          4\n",
      "HasCrCard              2\n",
      "IsActiveMember         2\n",
      "EstimatedSalary     9999\n",
      "Exited                 2\n",
      "dtype: int64\n"
     ]
    }
   ],
   "source": [
    "#se ve cantidad de valores unicos en columnas para ver la factibilidad de conversión de columnas categóricas\n",
    "print(clients.nunique())"
   ]
  },
  {
   "cell_type": "code",
   "execution_count": 6,
   "metadata": {},
   "outputs": [],
   "source": [
    "# se completan valores faltantes en 'Tenure' con valor medio de la columna\n",
    "clients['Tenure'].fillna(clients['Tenure'].mean(), inplace=True)\n",
    "# se hace una conversión de columnas categóricas\n",
    "clients = pd.get_dummies(clients, columns=['Geography', 'Gender'], drop_first=True)"
   ]
  },
  {
   "cell_type": "markdown",
   "metadata": {},
   "source": [
    "#### Paso 2: Dividir el dataset en conjuntos de entrenamiento, validación y prueba\n",
    "\n",
    "El conjunto de prueba no existe, por lo que los datos fuente deben dividirse en tres partes: entrenamiento, validación y prueba. Usualmente, el tamaño del conjunto de validación y del de prueba son iguales. Esto da como resultado una proporción de datos fuente de 3:1:1"
   ]
  },
  {
   "cell_type": "code",
   "execution_count": 7,
   "metadata": {},
   "outputs": [],
   "source": [
    "# Primer paso: se separan las características y la variable objetivo\n",
    "features = clients.drop(['Exited', 'RowNumber', 'CustomerId', 'Surname'], axis=1)  # se eliminan columnas innecesarias\n",
    "target = clients['Exited']"
   ]
  },
  {
   "cell_type": "code",
   "execution_count": 8,
   "metadata": {},
   "outputs": [],
   "source": [
    "# Segundo paso: dividir en conjunto de entrenamiento (60%) y conjunto combinado de prueba/validación (40%)\n",
    "features_train, features_temp, target_train, target_temp = train_test_split(features, target, test_size=0.4, random_state=12345)\n",
    "\n",
    "# Tercer paso: dividir el 40% en conjunto de prueba (50%) y conjunto de validación (50%)\n",
    "features_test, features_valid, target_test, target_valid = train_test_split(features_temp, target_temp, test_size=0.5, random_state=12345)"
   ]
  },
  {
   "cell_type": "markdown",
   "metadata": {},
   "source": [
    "#### Paso 3: Entrenamiento Inicial del Modelo\n",
    "##### Entrenar un Modelo Sin Corregir el Desequilibrio\n",
    "\n",
    "Inicialmente entrenamos dos modelos sin aplicar ninguna corrección al desequilibrio de clases: Regresión Logística y Árbol de Decisión. El objetivo es obtener una referencia base del rendimiento de ambos modelos utilizando las métricas F1 y AUC-ROC, que nos permitirán evaluar la capacidad de cada modelo para predecir correctamente el abandono de clientes. Tras obtener los resultados, seleccionaremos el modelo que muestre el mejor desempeño en estas métricas para realizar ajustes posteriores y mejorar su capacidad de predicción."
   ]
  },
  {
   "cell_type": "markdown",
   "metadata": {},
   "source": [
    "1. Regresión Logística"
   ]
  },
  {
   "cell_type": "code",
   "execution_count": 9,
   "metadata": {},
   "outputs": [
    {
     "name": "stdout",
     "output_type": "stream",
     "text": [
      "F1 Score: 0.08385744234800838\n",
      "AUC-ROC: 0.6727947180904797\n"
     ]
    }
   ],
   "source": [
    "# Prueba de modelo de regresión logística\n",
    "model = LogisticRegression(random_state=12345, solver='liblinear')\n",
    "model.fit(features_train, target_train)\n",
    "\n",
    "# Predecir en el conjunto de prueba\n",
    "target_pred = model.predict(features_test)\n",
    "\n",
    "# Calculo F1 y AUC-ROC\n",
    "f1 = f1_score(target_test, target_pred)\n",
    "auc_roc = roc_auc_score(target_test, model.predict_proba(features_test)[:, 1])\n",
    "\n",
    "print(f\"F1 Score: {f1}\")\n",
    "print(f\"AUC-ROC: {auc_roc}\")"
   ]
  },
  {
   "cell_type": "markdown",
   "metadata": {},
   "source": [
    "2. Árbol de decisión"
   ]
  },
  {
   "cell_type": "code",
   "execution_count": 10,
   "metadata": {},
   "outputs": [
    {
     "name": "stdout",
     "output_type": "stream",
     "text": [
      "F1 Score: 0.5012165450121654\n",
      "AUC-ROC: 0.683832469347141\n"
     ]
    }
   ],
   "source": [
    "# Prueba de modelo de árbol de desición \n",
    "model = DecisionTreeClassifier(random_state=12345)\n",
    "model.fit(features_train, target_train)\n",
    "\n",
    "# Predecir en el conjunto de prueba\n",
    "target_pred = model.predict(features_test)\n",
    "\n",
    "# Calculo F1 y AUC-ROC\n",
    "f1 = f1_score(target_test, target_pred)\n",
    "auc_roc = roc_auc_score(target_test, model.predict_proba(features_test)[:, 1])\n",
    "\n",
    "print(f\"F1 Score: {f1}\")\n",
    "print(f\"AUC-ROC: {auc_roc}\")"
   ]
  },
  {
   "cell_type": "markdown",
   "metadata": {},
   "source": [
    "##### Hallazgos Iniciales\n",
    "Después de entrenar los modelos, observamos los valores de F1 y AUC-ROC para evaluar su desempeño. En el caso de la Regresión Logística, los resultados fueron bastante bajos, con un F1 Score de 0.083 y un AUC-ROC de 0.673, lo que indica que el modelo no está logrando capturar de manera efectiva las clases minoritarias, probablemente debido al desequilibrio de clases. Por otro lado, el Árbol de Decisión mostró un rendimiento más prometedor, con un F1 Score de 0.501 y un AUC-ROC de 0.684. Aunque el F1 del árbol es significativamente mejor, sigue siendo insuficiente para un modelo optimizado. Debido a su rendimiento superior, se decide proceder con el Árbol de Decisión para realizar los ajustes necesarios y abordar el desequilibrio de clases."
   ]
  },
  {
   "cell_type": "markdown",
   "metadata": {},
   "source": [
    "#### Paso 4: Mejorar el Modelo\n",
    "\n",
    "En esta etapa primero se observa la distribución de clases en el conjunto de entrenamiento:"
   ]
  },
  {
   "cell_type": "code",
   "execution_count": 11,
   "metadata": {},
   "outputs": [
    {
     "data": {
      "text/plain": [
       "0    0.800667\n",
       "1    0.199333\n",
       "Name: Exited, dtype: float64"
      ]
     },
     "execution_count": 11,
     "metadata": {},
     "output_type": "execute_result"
    }
   ],
   "source": [
    "# Ver la distribución de clases\n",
    "target_train.value_counts(normalize=True)"
   ]
  },
  {
   "cell_type": "markdown",
   "metadata": {},
   "source": [
    "Esto indica que el conjunto de datos está desequilibrado, con aproximadamente el 80% de los clientes que no se han ido del banco y el 20% que sí se han ido. Para corregir esto se va a entrenar el modelo con el parámetro class_weight='balanced' para ajusta el peso de cada clase para equilibrar su influencia en el modelo. A continuación, tambien se buscara la mejor profundidad del árbol de decisión para optimizar el modelo."
   ]
  },
  {
   "cell_type": "code",
   "execution_count": 12,
   "metadata": {},
   "outputs": [
    {
     "name": "stdout",
     "output_type": "stream",
     "text": [
      "max_depth = 1 : 0.74\n",
      "max_depth = 2 : 0.7465\n",
      "max_depth = 3 : 0.7465\n",
      "max_depth = 4 : 0.7155\n",
      "max_depth = 5 : 0.798\n",
      "max_depth = 6 : 0.762\n",
      "max_depth = 7 : 0.77\n"
     ]
    }
   ],
   "source": [
    "best_depth = None\n",
    "best_accuracy = 0\n",
    "\n",
    "# se prueban diferentes profundidades\n",
    "for depth in range(1, 8):\n",
    "        model = DecisionTreeClassifier(random_state=12345,class_weight='balanced', max_depth=depth)\n",
    "        model.fit(features_train, target_train)\n",
    "\n",
    "        predictions_valid = model.predict(features_valid)\n",
    "        # se calcula la exactitud en el conjunto de validación\n",
    "        accuracy = accuracy_score(target_valid, predictions_valid)\n",
    "\n",
    "        print(\"max_depth =\", depth, \": \", end='')\n",
    "        print(accuracy)\n",
    "        \n",
    "        # se guarda la mejor puntuación de accuracy y depth en el conjunto de validación\n",
    "        if accuracy > best_accuracy:\n",
    "            best_accuracy = accuracy\n",
    "            best_depth = depth\n",
    "            best_model = model # se guarda el mejor modelo\n",
    "        "
   ]
  },
  {
   "cell_type": "markdown",
   "metadata": {},
   "source": [
    "Como se puede observar, la mejor exactitud se obtiene con max_depth = 5, por lo que se selecciona esta profundidad para el modelo.\n",
    "\n",
    "A continuación, se entrena el modelo final con la profundidad escogida y se evalúa en el conjunto de prueba:"
   ]
  },
  {
   "cell_type": "code",
   "execution_count": 13,
   "metadata": {},
   "outputs": [
    {
     "name": "stdout",
     "output_type": "stream",
     "text": [
      "F1 Score: 0.5963791267305644\n",
      "AUC-ROC: 0.8310244134068074\n"
     ]
    }
   ],
   "source": [
    "# se ajusta peso de clase en el modelo añadiendo class_weight y se agrega profundidad adecuada\n",
    "# se entrena el modelo con los parametros incorporados\n",
    "model = DecisionTreeClassifier(random_state=12345, class_weight='balanced', max_depth = 5 )\n",
    "model.fit(features_train, target_train)\n",
    "\n",
    "# Predecir en el conjunto de prueba\n",
    "target_pred = model.predict(features_test)\n",
    "\n",
    "# Calcular F1 y AUC-ROC\n",
    "f1 = f1_score(target_test, target_pred)\n",
    "auc_roc = roc_auc_score(target_test, model.predict_proba(features_test)[:, 1])\n",
    "\n",
    "print(f\"F1 Score: {f1}\")\n",
    "print(f\"AUC-ROC: {auc_roc}\")"
   ]
  },
  {
   "cell_type": "markdown",
   "metadata": {},
   "source": [
    "### Conclusión\n",
    "A través de este proyecto, se logró desarrollar un modelo efectivo para predecir el abandono de clientes en Beta Bank, enfrentando el desafío del desbalance de clases en los datos. Inicialmente, se entrenó un modelo de regresión logística y un árbol de decisión sin considerar el desequilibrio, lo que resultó en un bajo rendimiento. Posteriormente, se implementaron diversas técnicas para manejar el desbalance, como el uso de class_weight='balanced', y se ajustaron los parámetros del modelo, como la profundidad máxima en un árbol de decisión, obteniendo finalmente un F1 Score de 0.596 y un AUC-ROC de 0.83, lo que supera el umbral mínimo requerido. Estos resultados muestran que el modelo es capaz de identificar con mayor precisión a los clientes en riesgo de abandonar el banco, lo cual es crucial para que el banco pueda enfocarse en retener a estos clientes de manera más eficiente y rentable."
   ]
  }
 ],
 "metadata": {
  "ExecuteTimeLog": [
   {
    "duration": 3,
    "start_time": "2024-12-05T01:35:25.888Z"
   },
   {
    "duration": 15,
    "start_time": "2024-12-05T01:35:56.978Z"
   },
   {
    "duration": 13,
    "start_time": "2024-12-05T01:36:28.390Z"
   },
   {
    "duration": 221,
    "start_time": "2024-12-05T01:36:44.354Z"
   },
   {
    "duration": 10,
    "start_time": "2024-12-05T01:36:57.610Z"
   },
   {
    "duration": 14,
    "start_time": "2024-12-05T01:38:14.595Z"
   },
   {
    "duration": 8,
    "start_time": "2024-12-05T01:38:19.393Z"
   },
   {
    "duration": 6,
    "start_time": "2024-12-05T01:38:32.008Z"
   },
   {
    "duration": 5,
    "start_time": "2024-12-05T01:40:31.522Z"
   },
   {
    "duration": 7,
    "start_time": "2024-12-05T01:41:17.211Z"
   },
   {
    "duration": 27,
    "start_time": "2024-12-05T01:46:04.422Z"
   },
   {
    "duration": 34,
    "start_time": "2024-12-05T01:47:33.637Z"
   },
   {
    "duration": 18,
    "start_time": "2024-12-05T01:54:04.583Z"
   },
   {
    "duration": 100,
    "start_time": "2024-12-05T01:55:31.524Z"
   },
   {
    "duration": 28,
    "start_time": "2024-12-05T01:56:58.794Z"
   },
   {
    "duration": 28,
    "start_time": "2024-12-05T01:58:23.523Z"
   },
   {
    "duration": 12,
    "start_time": "2024-12-05T02:01:43.638Z"
   },
   {
    "duration": 829,
    "start_time": "2024-12-05T02:02:43.688Z"
   },
   {
    "duration": 23,
    "start_time": "2024-12-05T02:02:44.519Z"
   },
   {
    "duration": 15,
    "start_time": "2024-12-05T02:02:45.328Z"
   },
   {
    "duration": 12,
    "start_time": "2024-12-05T02:02:50.092Z"
   },
   {
    "duration": 275,
    "start_time": "2024-12-05T02:03:17.230Z"
   },
   {
    "duration": 14,
    "start_time": "2024-12-05T02:03:22.431Z"
   },
   {
    "duration": 14,
    "start_time": "2024-12-05T02:03:43.673Z"
   },
   {
    "duration": 15,
    "start_time": "2024-12-05T02:03:50.236Z"
   },
   {
    "duration": 12,
    "start_time": "2024-12-05T02:04:03.885Z"
   },
   {
    "duration": 11,
    "start_time": "2024-12-05T02:05:24.996Z"
   },
   {
    "duration": 5,
    "start_time": "2024-12-05T02:05:26.669Z"
   },
   {
    "duration": 7,
    "start_time": "2024-12-05T02:05:27.248Z"
   },
   {
    "duration": 41,
    "start_time": "2024-12-05T02:05:28.566Z"
   },
   {
    "duration": 42,
    "start_time": "2024-12-05T02:05:29.758Z"
   },
   {
    "duration": 14,
    "start_time": "2024-12-05T02:05:30.556Z"
   },
   {
    "duration": 90,
    "start_time": "2024-12-05T02:05:31.084Z"
   },
   {
    "duration": 27,
    "start_time": "2024-12-05T02:05:31.709Z"
   },
   {
    "duration": 5,
    "start_time": "2024-12-05T02:05:54.332Z"
   },
   {
    "duration": 878,
    "start_time": "2024-12-06T00:44:40.934Z"
   },
   {
    "duration": 26,
    "start_time": "2024-12-06T00:44:41.815Z"
   },
   {
    "duration": 17,
    "start_time": "2024-12-06T00:44:41.843Z"
   },
   {
    "duration": 13,
    "start_time": "2024-12-06T00:44:41.862Z"
   },
   {
    "duration": 10,
    "start_time": "2024-12-06T00:44:41.886Z"
   },
   {
    "duration": 9,
    "start_time": "2024-12-06T00:44:41.898Z"
   },
   {
    "duration": 4,
    "start_time": "2024-12-06T00:44:41.909Z"
   },
   {
    "duration": 7,
    "start_time": "2024-12-06T00:44:41.915Z"
   },
   {
    "duration": 69,
    "start_time": "2024-12-06T00:44:41.923Z"
   },
   {
    "duration": 117,
    "start_time": "2024-12-06T00:44:41.999Z"
   },
   {
    "duration": 8,
    "start_time": "2024-12-06T00:44:42.120Z"
   },
   {
    "duration": 115,
    "start_time": "2024-12-06T00:44:42.130Z"
   },
   {
    "duration": 25,
    "start_time": "2024-12-06T00:44:42.247Z"
   }
  ],
  "kernelspec": {
   "display_name": "Python 3 (ipykernel)",
   "language": "python",
   "name": "python3"
  },
  "language_info": {
   "codemirror_mode": {
    "name": "ipython",
    "version": 3
   },
   "file_extension": ".py",
   "mimetype": "text/x-python",
   "name": "python",
   "nbconvert_exporter": "python",
   "pygments_lexer": "ipython3",
   "version": "3.9.19"
  },
  "toc": {
   "base_numbering": 1,
   "nav_menu": {},
   "number_sections": true,
   "sideBar": true,
   "skip_h1_title": true,
   "title_cell": "Table of Contents",
   "title_sidebar": "Contents",
   "toc_cell": false,
   "toc_position": {},
   "toc_section_display": true,
   "toc_window_display": false
  }
 },
 "nbformat": 4,
 "nbformat_minor": 2
}
