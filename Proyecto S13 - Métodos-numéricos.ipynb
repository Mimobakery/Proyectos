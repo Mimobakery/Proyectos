{
 "cells": [
  {
   "cell_type": "markdown",
   "metadata": {},
   "source": [
    "# Introducción\n",
    "\n",
    "El servicio Rusty Bargain está desarrollando una aplicación con el objetivo de atraer nuevos clientes, permitiendo que los usuarios consulten el valor de mercado de sus vehículos usados. Para lograr esto, se está construyendo un modelo predictivo que estime el precio de los autos en función de varias características, como el modelo, la marca, la potencia, el kilometraje, entre otras. Los aspectos clave que Rusty Bargain busca en este modelo son:\n",
    "\n",
    "Precisión: Obtener una predicción lo más exacta posible.\n",
    "Velocidad de predicción: Lograr tiempos de respuesta rápidos para una experiencia de usuario óptima.\n",
    "Eficiencia en el entrenamiento: Reducir el tiempo necesario para entrenar el modelo sin sacrificar la calidad de la predicción."
   ]
  },
  {
   "cell_type": "markdown",
   "metadata": {},
   "source": [
    "## Preparación de datos"
   ]
  },
  {
   "cell_type": "code",
   "execution_count": 1,
   "metadata": {},
   "outputs": [],
   "source": [
    "# Importación de bibliotecas\n",
    "import pandas as pd\n",
    "import numpy as np\n",
    "import matplotlib.pyplot as plt\n",
    "import lightgbm as lgb \n",
    "import time\n",
    "import seaborn as sns\n",
    "from sklearn.model_selection import train_test_split, GridSearchCV\n",
    "from sklearn.metrics import mean_squared_error, mean_absolute_error\n",
    "from sklearn.preprocessing import OneHotEncoder, StandardScaler\n",
    "from sklearn.tree import DecisionTreeRegressor\n",
    "from sklearn.ensemble import RandomForestRegressor\n",
    "from sklearn.linear_model import LinearRegression\n",
    "from catboost import CatBoostRegressor, Pool\n",
    "import xgboost as xgb"
   ]
  },
  {
   "cell_type": "code",
   "execution_count": 2,
   "metadata": {},
   "outputs": [],
   "source": [
    "df = pd.read_csv('/datasets/car_data.csv')"
   ]
  },
  {
   "cell_type": "code",
   "execution_count": 3,
   "metadata": {},
   "outputs": [
    {
     "name": "stdout",
     "output_type": "stream",
     "text": [
      "<class 'pandas.core.frame.DataFrame'>\n",
      "RangeIndex: 354369 entries, 0 to 354368\n",
      "Data columns (total 16 columns):\n",
      " #   Column             Non-Null Count   Dtype \n",
      "---  ------             --------------   ----- \n",
      " 0   DateCrawled        354369 non-null  object\n",
      " 1   Price              354369 non-null  int64 \n",
      " 2   VehicleType        316879 non-null  object\n",
      " 3   RegistrationYear   354369 non-null  int64 \n",
      " 4   Gearbox            334536 non-null  object\n",
      " 5   Power              354369 non-null  int64 \n",
      " 6   Model              334664 non-null  object\n",
      " 7   Mileage            354369 non-null  int64 \n",
      " 8   RegistrationMonth  354369 non-null  int64 \n",
      " 9   FuelType           321474 non-null  object\n",
      " 10  Brand              354369 non-null  object\n",
      " 11  NotRepaired        283215 non-null  object\n",
      " 12  DateCreated        354369 non-null  object\n",
      " 13  NumberOfPictures   354369 non-null  int64 \n",
      " 14  PostalCode         354369 non-null  int64 \n",
      " 15  LastSeen           354369 non-null  object\n",
      "dtypes: int64(7), object(9)\n",
      "memory usage: 43.3+ MB\n",
      "None\n"
     ]
    }
   ],
   "source": [
    "# Exploración inicial\n",
    "print(df.info())\n"
   ]
  },
  {
   "cell_type": "code",
   "execution_count": 4,
   "metadata": {},
   "outputs": [
    {
     "name": "stdout",
     "output_type": "stream",
     "text": [
      "        DateCrawled  Price VehicleType  RegistrationYear Gearbox  Power  \\\n",
      "0  24/03/2016 11:52    480         NaN              1993  manual      0   \n",
      "1  24/03/2016 10:58  18300       coupe              2011  manual    190   \n",
      "2  14/03/2016 12:52   9800         suv              2004    auto    163   \n",
      "3  17/03/2016 16:54   1500       small              2001  manual     75   \n",
      "4  31/03/2016 17:25   3600       small              2008  manual     69   \n",
      "\n",
      "   Model  Mileage  RegistrationMonth  FuelType       Brand NotRepaired  \\\n",
      "0   golf   150000                  0    petrol  volkswagen         NaN   \n",
      "1    NaN   125000                  5  gasoline        audi         yes   \n",
      "2  grand   125000                  8  gasoline        jeep         NaN   \n",
      "3   golf   150000                  6    petrol  volkswagen          no   \n",
      "4  fabia    90000                  7  gasoline       skoda          no   \n",
      "\n",
      "        DateCreated  NumberOfPictures  PostalCode          LastSeen  \n",
      "0  24/03/2016 00:00                 0       70435  07/04/2016 03:16  \n",
      "1  24/03/2016 00:00                 0       66954  07/04/2016 01:46  \n",
      "2  14/03/2016 00:00                 0       90480  05/04/2016 12:47  \n",
      "3  17/03/2016 00:00                 0       91074  17/03/2016 17:40  \n",
      "4  31/03/2016 00:00                 0       60437  06/04/2016 10:17  \n"
     ]
    }
   ],
   "source": [
    "print(df.head())"
   ]
  },
  {
   "cell_type": "code",
   "execution_count": 5,
   "metadata": {},
   "outputs": [
    {
     "name": "stdout",
     "output_type": "stream",
     "text": [
      "262\n",
      "DateCrawled              0\n",
      "Price                    0\n",
      "VehicleType          37490\n",
      "RegistrationYear         0\n",
      "Gearbox              19833\n",
      "Power                    0\n",
      "Model                19705\n",
      "Mileage                  0\n",
      "RegistrationMonth        0\n",
      "FuelType             32895\n",
      "Brand                    0\n",
      "NotRepaired          71154\n",
      "DateCreated              0\n",
      "NumberOfPictures         0\n",
      "PostalCode               0\n",
      "LastSeen                 0\n",
      "dtype: int64\n"
     ]
    }
   ],
   "source": [
    "#preprocesamiento\n",
    "#revisión de filas duplicadas\n",
    "print(df.duplicated().sum())\n",
    "#revisión de valores nulos\n",
    "print(df.isnull().sum())"
   ]
  },
  {
   "cell_type": "code",
   "execution_count": 6,
   "metadata": {},
   "outputs": [
    {
     "name": "stdout",
     "output_type": "stream",
     "text": [
      "               Price  RegistrationYear          Power        Mileage  \\\n",
      "count  354369.000000     354369.000000  354369.000000  354369.000000   \n",
      "mean     4416.656776       2004.234448     110.094337  128211.172535   \n",
      "std      4514.158514         90.227958     189.850405   37905.341530   \n",
      "min         0.000000       1000.000000       0.000000    5000.000000   \n",
      "25%      1050.000000       1999.000000      69.000000  125000.000000   \n",
      "50%      2700.000000       2003.000000     105.000000  150000.000000   \n",
      "75%      6400.000000       2008.000000     143.000000  150000.000000   \n",
      "max     20000.000000       9999.000000   20000.000000  150000.000000   \n",
      "\n",
      "       RegistrationMonth  NumberOfPictures     PostalCode  \n",
      "count      354369.000000          354369.0  354369.000000  \n",
      "mean            5.714645               0.0   50508.689087  \n",
      "std             3.726421               0.0   25783.096248  \n",
      "min             0.000000               0.0    1067.000000  \n",
      "25%             3.000000               0.0   30165.000000  \n",
      "50%             6.000000               0.0   49413.000000  \n",
      "75%             9.000000               0.0   71083.000000  \n",
      "max            12.000000               0.0   99998.000000  \n"
     ]
    }
   ],
   "source": [
    "print(df.describe())"
   ]
  },
  {
   "cell_type": "markdown",
   "metadata": {},
   "source": [
    "se elimina columna 'NumberOfPictures' ya que no tiene datos, lo que se muestra en la descripción de los datos"
   ]
  },
  {
   "cell_type": "code",
   "execution_count": 7,
   "metadata": {},
   "outputs": [],
   "source": [
    "df = df.drop(columns=['NumberOfPictures'])"
   ]
  },
  {
   "cell_type": "markdown",
   "metadata": {},
   "source": [
    "tambien se eliminan duplicados y filas con valores ausentes"
   ]
  },
  {
   "cell_type": "code",
   "execution_count": 8,
   "metadata": {},
   "outputs": [],
   "source": [
    "df = df.drop_duplicates()\n",
    "df = df.dropna(subset=['Gearbox','Model','NotRepaired','FuelType','VehicleType'])"
   ]
  },
  {
   "cell_type": "markdown",
   "metadata": {},
   "source": [
    "Ademas, se ven valores atipicos en la descripción, como que el minimo y maximo de 'RegistrationYear', los cuales no deberian poder tener valores de año 1000 o 9999 y en precio y power no deberian exisitir filas con valores cero."
   ]
  },
  {
   "cell_type": "code",
   "execution_count": 9,
   "metadata": {},
   "outputs": [
    {
     "data": {
      "image/png": "[encoded data removed]",
      "text/plain": [
       "<Figure size 640x480 with 1 Axes>"
      ]
     },
     "metadata": {},
     "output_type": "display_data"
    },
    {
     "data": {
      "image/png": "[encoded data removed]",
      "text/plain": [
       "<Figure size 640x480 with 1 Axes>"
      ]
     },
     "metadata": {},
     "output_type": "display_data"
    },
    {
     "data": {
      "image/png": "[encoded data removed]",
      "text/plain": [
       "<Figure size 640x480 with 1 Axes>"
      ]
     },
     "metadata": {},
     "output_type": "display_data"
    }
   ],
   "source": [
    "sns.boxplot(df['Power'])\n",
    "plt.show()\n",
    "sns.boxplot(df['Price'])\n",
    "plt.show()\n",
    "sns.boxplot(df['RegistrationYear'])\n",
    "plt.show()"
   ]
  },
  {
   "cell_type": "markdown",
   "metadata": {},
   "source": [
    "se calculan los límites inferior y superior de las variables Power y RegistrationDate para entender mejor cuales serian los rangos de valores razonable para cada una."
   ]
  },
  {
   "cell_type": "code",
   "execution_count": 10,
   "metadata": {},
   "outputs": [
    {
     "name": "stdout",
     "output_type": "stream",
     "text": [
      "limites min y max de Power :\n",
      "-37.5\n",
      "262.5\n",
      "limites min y max de RegistrationYear :\n",
      "1987.0\n",
      "2019.0\n"
     ]
    }
   ],
   "source": [
    "# se calculan los cuartiles, el IQR y se establecen los límites inferior y superior para variable Power\n",
    "\n",
    "Q1 = df['Power'].quantile(0.25)\n",
    "Q3 = df['Power'].quantile(0.75)\n",
    "IQR = Q3 - Q1\n",
    "\n",
    "lower_limit = Q1 - 1.5 * IQR\n",
    "upper_limit = Q3 + 1.5 * IQR\n",
    "print(\"limites min y max de Power :\")\n",
    "print(lower_limit)\n",
    "print(upper_limit)\n",
    "\n",
    "\n",
    "# se calculan los cuartiles, el IQR y se establecen los límites inferior y superior para variable RegistrationYear\n",
    "Q1 = df['RegistrationYear'].quantile(0.25)\n",
    "Q3 = df['RegistrationYear'].quantile(0.75)\n",
    "IQR = Q3 - Q1\n",
    "\n",
    "\n",
    "lower_limit = Q1 - 1.5 * IQR\n",
    "upper_limit = Q3 + 1.5 * IQR\n",
    "print(\"limites min y max de RegistrationYear :\")\n",
    "print(lower_limit)\n",
    "print(upper_limit)\n"
   ]
  },
  {
   "cell_type": "code",
   "execution_count": 11,
   "metadata": {},
   "outputs": [],
   "source": [
    "# se eliminan valores atípicos en Price (0)\n",
    "df = df[df['Price'] > 0]\n",
    "\n",
    "# se eliminan valores fuera de un rango razonable en Power y  RegistrationYear\n",
    "\n",
    "df = df[(df['Power'] >= 1)]\n",
    "df = df[(df['RegistrationYear'] >= 1980) & (df['RegistrationYear'] <= 2025)]"
   ]
  },
  {
   "cell_type": "markdown",
   "metadata": {},
   "source": [
    "se genera la conversión de tipos de datos de las siguientes columnas a tipo fecha y se resetean los indices"
   ]
  },
  {
   "cell_type": "code",
   "execution_count": 12,
   "metadata": {},
   "outputs": [],
   "source": [
    "df['DateCrawled'] = pd.to_datetime(df['DateCrawled'])\n",
    "df['DateCreated'] = pd.to_datetime(df['DateCreated'])\n",
    "df['LastSeen'] = pd.to_datetime(df['LastSeen'])\n",
    "df = df.reset_index(drop=True)"
   ]
  },
  {
   "cell_type": "markdown",
   "metadata": {},
   "source": [
    "Recordando las descripciones de las columnas del df:\n",
    "\n",
    "- DateCrawled — fecha en la que se descargó el perfil de la base de datos\n",
    "- VehicleType — tipo de carrocería del vehículo\n",
    "- RegistrationYear — año de matriculación del vehículo\n",
    "- Gearbox — tipo de caja de cambios\n",
    "- Power — potencia (CV)\n",
    "- Model — modelo del vehículo\n",
    "- Mileage — kilometraje (medido en km de acuerdo con las especificidades regionales del conjunto de datos)\n",
    "- RegistrationMonth — mes de matriculación del vehículo\n",
    "- FuelType — tipo de combustible\n",
    "- Brand — marca del vehículo\n",
    "- NotRepaired — vehículo con o sin reparación\n",
    "- DateCreated — fecha de creación del perfil\n",
    "- NumberOfPictures — número de fotos del vehículo\n",
    "- PostalCode — código postal del propietario del perfil (usuario)\n",
    "- LastSeen — fecha de la última vez que el usuario estuvo activo\n",
    "- Objetivo\n",
    "- Price — precio (en euros)\n",
    "\n",
    "Ya se ha eliminado la columna NumberOfPictures, pero existen otras tres columnas que no deberían influir en la determinación del precio de los autos: LastSeen, DateCrawled, DateCreated, ya que contienen información relacionada con el usuario, no con el vehículo, mientras que PostalCode tiene demasiados valores únicos y actualmente no contamos con otro DataFrame con datos geográficos que permitan agrupar estos códigos en categorías significativas, lo mismo ocurre con la columna categorica Model. De todas formas, se medirá su correlación con el precio para validar si esta decisión es acertada o si se debe reconsiderar."
   ]
  },
  {
   "cell_type": "code",
   "execution_count": 13,
   "metadata": {
    "scrolled": true
   },
   "outputs": [
    {
     "name": "stdout",
     "output_type": "stream",
     "text": [
      "DateCrawled          14686\n",
      "Price                 3361\n",
      "VehicleType              8\n",
      "RegistrationYear        39\n",
      "Gearbox                  2\n",
      "Power                  528\n",
      "Model                  248\n",
      "Mileage                 13\n",
      "RegistrationMonth       13\n",
      "FuelType                 7\n",
      "Brand                   39\n",
      "NotRepaired              2\n",
      "DateCreated            103\n",
      "PostalCode            8055\n",
      "LastSeen             16367\n",
      "dtype: int64\n"
     ]
    }
   ],
   "source": [
    "print(df.nunique())"
   ]
  },
  {
   "cell_type": "code",
   "execution_count": 14,
   "metadata": {},
   "outputs": [
    {
     "name": "stdout",
     "output_type": "stream",
     "text": [
      "               Price  PostalCode\n",
      "Price       1.000000    0.058123\n",
      "PostalCode  0.058123    1.000000\n"
     ]
    }
   ],
   "source": [
    "\n",
    "columnas_interes = ['Price','PostalCode']  \n",
    "\n",
    "correlacion = df[columnas_interes].corr()\n",
    "print(correlacion)\n"
   ]
  },
  {
   "cell_type": "markdown",
   "metadata": {},
   "source": [
    "Los resultados de la correlación indican que la variable PostalCode tiene una correlación muy baja con el Price (0.058), lo que sugiere que las variables LastSeen, DateCreated, DateCrawled y PostalCode no aportan un valor significativo para predecir el precio del vehículo. Además, la columna Model contiene 248 valores únicos, lo que podría ralentizar considerablemente los tiempos de entrenamiento del modelo. En consecuencia, se procederá a eliminar estas cinco columnas y nos enfocaremos en aquellas que están más directamente relacionadas con las características del vehículo y su precio."
   ]
  },
  {
   "cell_type": "code",
   "execution_count": 15,
   "metadata": {},
   "outputs": [
    {
     "name": "stdout",
     "output_type": "stream",
     "text": [
      "   Price  VehicleType  RegistrationYear Gearbox  Power  Mileage  \\\n",
      "0   1500        small              2001  manual     75   150000   \n",
      "1   3600        small              2008  manual     69    90000   \n",
      "2    650        sedan              1995  manual    102   150000   \n",
      "3   2200  convertible              2004  manual    109   150000   \n",
      "4   2000        sedan              2004  manual    105   150000   \n",
      "\n",
      "   RegistrationMonth  FuelType       Brand NotRepaired  \n",
      "0                  6    petrol  volkswagen          no  \n",
      "1                  7  gasoline       skoda          no  \n",
      "2                 10    petrol         bmw         yes  \n",
      "3                  8    petrol     peugeot          no  \n",
      "4                 12    petrol       mazda          no  \n"
     ]
    }
   ],
   "source": [
    "df = df.drop(columns=['LastSeen', 'PostalCode', 'DateCreated', 'DateCrawled', 'Model'])\n",
    "print(df.head())"
   ]
  },
  {
   "cell_type": "code",
   "execution_count": 16,
   "metadata": {},
   "outputs": [
    {
     "name": "stdout",
     "output_type": "stream",
     "text": [
      "<class 'pandas.core.frame.DataFrame'>\n",
      "RangeIndex: 231687 entries, 0 to 231686\n",
      "Data columns (total 10 columns):\n",
      " #   Column             Non-Null Count   Dtype \n",
      "---  ------             --------------   ----- \n",
      " 0   Price              231687 non-null  int64 \n",
      " 1   VehicleType        231687 non-null  object\n",
      " 2   RegistrationYear   231687 non-null  int64 \n",
      " 3   Gearbox            231687 non-null  object\n",
      " 4   Power              231687 non-null  int64 \n",
      " 5   Mileage            231687 non-null  int64 \n",
      " 6   RegistrationMonth  231687 non-null  int64 \n",
      " 7   FuelType           231687 non-null  object\n",
      " 8   Brand              231687 non-null  object\n",
      " 9   NotRepaired        231687 non-null  object\n",
      "dtypes: int64(5), object(5)\n",
      "memory usage: 17.7+ MB\n"
     ]
    }
   ],
   "source": [
    "df.info()"
   ]
  },
  {
   "cell_type": "markdown",
   "metadata": {},
   "source": [
    "Se utilizara el StandardScaler para normalizar las variables numéricas como Power, Mileage, RegistrationYear y RegistrationMonth, que presentan rangos de valores diferentes. La normalización permite que todas las variables tengan la misma escala, evitando que algunas dominen sobre otras durante el entrenamiento del modelo. "
   ]
  },
  {
   "cell_type": "code",
   "execution_count": 17,
   "metadata": {},
   "outputs": [],
   "source": [
    "scaler = StandardScaler()\n",
    "df[['Power', 'Mileage', 'RegistrationYear', 'RegistrationMonth']] = scaler.fit_transform(df[['Power', 'Mileage', 'RegistrationYear', 'RegistrationMonth']])"
   ]
  },
  {
   "cell_type": "markdown",
   "metadata": {},
   "source": [
    "## Entrenamiento del modelo "
   ]
  },
  {
   "cell_type": "markdown",
   "metadata": {},
   "source": [
    "Se preparan los conjuntos de entrenamiento y de prueba (75%-25%)"
   ]
  },
  {
   "cell_type": "code",
   "execution_count": 18,
   "metadata": {},
   "outputs": [],
   "source": [
    "X0 = df.drop(columns=['Price'])  # features\n",
    "y0 = df['Price']  # target\n",
    "\n",
    "# división en conjunto de entrenamiento y prueba\n",
    "X0_train, X0_test, y0_train, y0_test = train_test_split(X0, y0, test_size=0.25, random_state=12345)"
   ]
  },
  {
   "cell_type": "markdown",
   "metadata": {},
   "source": [
    "Después de la división inicial del DataFrame original en conjunto de entrenamiento y prueba, se aplica OHE a las variables categóricas necesarias para ciertos modelos. Posteriormente, se realiza una nueva división de los datos transformados, manteniendo el mismo 75%-25% para entrenamiento y prueba, lo que permite asegurar que los modelos trabajen correctamente con las variables numéricas."
   ]
  },
  {
   "cell_type": "code",
   "execution_count": 19,
   "metadata": {},
   "outputs": [],
   "source": [
    "# se usa OHE en variables categóricas necesario para el funcionamiento de algunos modelos\n",
    "df = pd.get_dummies(df, columns=['VehicleType', 'Gearbox', 'FuelType', 'Brand', 'NotRepaired'])\n"
   ]
  },
  {
   "cell_type": "code",
   "execution_count": 21,
   "metadata": {},
   "outputs": [],
   "source": [
    "X = df.drop(columns=['Price'])  # features\n",
    "y = df['Price']  # target\n",
    "\n",
    "# división en conjunto de entrenamiento y prueba\n",
    "X_train, X_test, y_train, y_test = train_test_split(X, y, test_size=0.25, random_state=12345)"
   ]
  },
  {
   "cell_type": "markdown",
   "metadata": {},
   "source": [
    "Para la predicción del precio de los vehículos, se compararon varios modelos de machine learning, con el objetivo de identificar el más adecuado en términos de precisión y velocidad de predicción. Los modelos entrenados son los siguientes:\n",
    "\n",
    "1. Regresión Lineal\n",
    "2. Árbol de Decisión\n",
    "3. Random Forest Regressor\n",
    "4. LightGBM\n",
    "5. XGBoost\n",
    "6. CatBoost"
   ]
  },
  {
   "cell_type": "markdown",
   "metadata": {},
   "source": [
    "se define función para la obtención del RECM de los diferentes modelos"
   ]
  },
  {
   "cell_type": "code",
   "execution_count": 22,
   "metadata": {},
   "outputs": [],
   "source": [
    "def calcular_recm(y_true, y_pred):\n",
    "    return np.sqrt(mean_squared_error(y_true, y_pred))"
   ]
  },
  {
   "cell_type": "markdown",
   "metadata": {},
   "source": [
    "Modelo 1: Regresión Lineal"
   ]
  },
  {
   "cell_type": "code",
   "execution_count": 24,
   "metadata": {},
   "outputs": [
    {
     "name": "stdout",
     "output_type": "stream",
     "text": [
      "Regresión Lineal - RECM: 2724.315169244406\n",
      "Regresión Lineal - Tiempo de entrenamiento: 0.7128 segundos\n",
      "Regresión Lineal - Tiempo de predicción: 0.0137 segundos\n"
     ]
    }
   ],
   "source": [
    "# Entrenamiento\n",
    "lr_model = LinearRegression()\n",
    "lr_start_time = time.time()\n",
    "lr_model.fit(X_train, y_train)\n",
    "lr_training_time = time.time() - lr_start_time\n",
    "# Predicción\n",
    "lr_start_time_pred = time.time()\n",
    "y_pred_lr = lr_model.predict(X_test)\n",
    "lr_prediction_time = time.time() - lr_start_time_pred\n",
    "# Evaluación\n",
    "recm_lr = calcular_recm(y_test, y_pred_lr)\n",
    "print(f\"Regresión Lineal - RECM: {recm_lr}\")\n",
    "print(f\"Regresión Lineal - Tiempo de entrenamiento: {lr_training_time:.4f} segundos\")\n",
    "print(f\"Regresión Lineal - Tiempo de predicción: {lr_prediction_time:.4f} segundos\")"
   ]
  },
  {
   "cell_type": "markdown",
   "metadata": {},
   "source": [
    "Modelo 2: Árbol de decisión"
   ]
  },
  {
   "cell_type": "code",
   "execution_count": 26,
   "metadata": {},
   "outputs": [
    {
     "name": "stdout",
     "output_type": "stream",
     "text": [
      "Árbol de Decisión - RECM: 1915.4638074519796\n",
      "Árbol de Decisión - Tiempo de entrenamiento: 10.2841 segundos\n",
      "Árbol de Decisión - Tiempo de predicción: 0.0135 segundos\n"
     ]
    }
   ],
   "source": [
    "# Parámetros a ajustar\n",
    "param_grid = {'max_depth': [1,2,3,4,5,6,7,8,9,10,11]}\n",
    "\n",
    "# GridSearchCV para encontrar los mejores hiperparámetros\n",
    "dt_model = DecisionTreeRegressor(random_state=12345)\n",
    "grid_search_dt = GridSearchCV(dt_model, param_grid, cv=3, n_jobs=-1)\n",
    "dt_start_time = time.time()\n",
    "grid_search_dt.fit(X_train, y_train)\n",
    "dt_training_time = time.time() - dt_start_time\n",
    "\n",
    "# Mejor modelo\n",
    "best_dt_model = grid_search_dt.best_estimator_\n",
    "\n",
    "# Predicción y evaluación\n",
    "dt_start_time_pred = time.time()\n",
    "y_pred_dt = best_dt_model.predict(X_test)\n",
    "dt_prediction_time = time.time() - dt_start_time_pred\n",
    "recm_dt = calcular_recm(y_test, y_pred_dt)\n",
    "print(f\"Árbol de Decisión - RECM: {recm_dt}\")\n",
    "print(f\"Árbol de Decisión - Tiempo de entrenamiento: {dt_training_time:.4f} segundos\")\n",
    "print(f\"Árbol de Decisión - Tiempo de predicción: {dt_prediction_time:.4f} segundos\")"
   ]
  },
  {
   "cell_type": "markdown",
   "metadata": {},
   "source": [
    "Modelo 3: Random Forest Regressor"
   ]
  },
  {
   "cell_type": "code",
   "execution_count": 27,
   "metadata": {},
   "outputs": [
    {
     "name": "stdout",
     "output_type": "stream",
     "text": [
      "Random Forest - RECM: 2423.0488062943323\n",
      "Random Forest - Tiempo de entrenamiento: 51.4577 segundos\n",
      "Random Forest - Tiempo de predicción: 0.0159 segundos\n"
     ]
    }
   ],
   "source": [
    "# Parámetros a ajustar\n",
    "param_grid = {\n",
    "    'max_features': ['sqrt', 'log2'],\n",
    "    'n_estimators': [1,2,3,4,5,6,7,8,9,10,11],\n",
    "    'max_depth': [1,2,3,4,5,6,7,8]\n",
    "    \n",
    "}\n",
    "\n",
    "# GridSearchCV para encontrar los mejores hiperparámetros\n",
    "rf_model = RandomForestRegressor(random_state=12345)\n",
    "grid_search_rf = GridSearchCV(rf_model, param_grid, cv=2, n_jobs=-1)\n",
    "rf_start_time = time.time()\n",
    "grid_search_rf.fit(X_train, y_train)\n",
    "rf_training_time = time.time() - rf_start_time\n",
    "\n",
    "# Mejor modelo\n",
    "best_rf_model = grid_search_rf.best_estimator_\n",
    "\n",
    "# Predicción y evaluación\n",
    "rf_start_time_pred = time.time()\n",
    "y_pred_rf = best_rf_model.predict(X_test)\n",
    "rf_prediction_time = time.time() - rf_start_time_pred\n",
    "recm_rf = calcular_recm(y_test, y_pred_rf)\n",
    "print(f\"Random Forest - RECM: {recm_rf}\")\n",
    "print(f\"Random Forest - Tiempo de entrenamiento: {rf_training_time:.4f} segundos\")\n",
    "print(f\"Random Forest - Tiempo de predicción: {rf_prediction_time:.4f} segundos\")"
   ]
  },
  {
   "cell_type": "markdown",
   "metadata": {},
   "source": [
    "Modelo 4: LightGBM (Gradient Boosting)"
   ]
  },
  {
   "cell_type": "code",
   "execution_count": 29,
   "metadata": {},
   "outputs": [
    {
     "name": "stdout",
     "output_type": "stream",
     "text": [
      "LightGBM - RECM: 1966.49626337004\n",
      "LightGBM - Tiempo de entrenamiento: 1.2944 segundos\n",
      "LightGBM - Tiempo de predicción: 0.2033 segundos\n"
     ]
    }
   ],
   "source": [
    "# Entrenamiento del modelo LightGBM\n",
    "lgb_model = lgb.LGBMRegressor(n_estimators=50, learning_rate=0.05, max_depth=10)\n",
    "lgb_start_time = time.time()\n",
    "lgb_model.fit(X_train, y_train)\n",
    "lgb_training_time = time.time() - lgb_start_time\n",
    "\n",
    "# Predicción y evaluación\n",
    "lgb_start_time_pred = time.time()\n",
    "y_pred_lgb = lgb_model.predict(X_test)\n",
    "lgb_prediction_time = time.time() - lgb_start_time_pred\n",
    "recm_lgb = calcular_recm(y_test, y_pred_lgb)\n",
    "print(f\"LightGBM - RECM: {recm_lgb}\")\n",
    "print(f\"LightGBM - Tiempo de entrenamiento: {lgb_training_time:.4f} segundos\")\n",
    "print(f\"LightGBM - Tiempo de predicción: {lgb_prediction_time:.4f} segundos\")"
   ]
  },
  {
   "cell_type": "markdown",
   "metadata": {},
   "source": [
    "Modelo 5: XGBoost\n",
    "\n",
    "Es posible usar XGBoost sin necesidad de convertir los datos a formato DMatrix, aunque este formato es recomendado para optimizar el rendimiento."
   ]
  },
  {
   "cell_type": "code",
   "execution_count": 31,
   "metadata": {},
   "outputs": [
    {
     "name": "stdout",
     "output_type": "stream",
     "text": [
      "XGBoost - RECM: 1594.123737545389\n",
      "XGBoost - Tiempo de entrenamiento: 103.0042 segundos\n",
      "XGBoost - Tiempo de predicción: 0.3034 segundos\n"
     ]
    }
   ],
   "source": [
    "# Convertir a formato DMatrix para XGBoost\n",
    "dtrain = xgb.DMatrix(X_train, label=y_train)\n",
    "dtest = xgb.DMatrix(X_test, label=y_test)\n",
    "\n",
    "# Parámetros y entrenamiento\n",
    "params = {\n",
    "    'objective': 'reg:squarederror',\n",
    "    'max_depth': 10,\n",
    "    'learning_rate': 0.05\n",
    "}\n",
    "xgb_start_time = time.time()\n",
    "xgb_model = xgb.train(params, dtrain, num_boost_round=100) # num_boost_round reemplaza n_estimators\n",
    "xgb_training_time = time.time() - xgb_start_time\n",
    "\n",
    "# Predicción y evaluación\n",
    "xgb_start_time_pred = time.time()\n",
    "y_pred_xgb = xgb_model.predict(dtest)\n",
    "xgb_prediction_time = time.time() - xgb_start_time_pred\n",
    "recm_xgb = calcular_recm(y_test, y_pred_xgb)\n",
    "print(f\"XGBoost - RECM: {recm_xgb}\")\n",
    "print(f\"XGBoost - Tiempo de entrenamiento: {xgb_training_time:.4f} segundos\")\n",
    "print(f\"XGBoost - Tiempo de predicción: {xgb_prediction_time:.4f} segundos\")"
   ]
  },
  {
   "cell_type": "markdown",
   "metadata": {},
   "source": [
    "Modelo 6: CatBoost (Gradient Boosting)"
   ]
  },
  {
   "cell_type": "code",
   "execution_count": 32,
   "metadata": {},
   "outputs": [
    {
     "name": "stdout",
     "output_type": "stream",
     "text": [
      "<class 'pandas.core.frame.DataFrame'>\n",
      "Int64Index: 173765 entries, 164749 to 217570\n",
      "Data columns (total 9 columns):\n",
      " #   Column             Non-Null Count   Dtype  \n",
      "---  ------             --------------   -----  \n",
      " 0   VehicleType        173765 non-null  object \n",
      " 1   RegistrationYear   173765 non-null  float64\n",
      " 2   Gearbox            173765 non-null  object \n",
      " 3   Power              173765 non-null  float64\n",
      " 4   Mileage            173765 non-null  float64\n",
      " 5   RegistrationMonth  173765 non-null  float64\n",
      " 6   FuelType           173765 non-null  object \n",
      " 7   Brand              173765 non-null  object \n",
      " 8   NotRepaired        173765 non-null  object \n",
      "dtypes: float64(4), object(5)\n",
      "memory usage: 13.3+ MB\n"
     ]
    }
   ],
   "source": [
    "#ver cuales son los indices para el parametro cat_features\n",
    "X0_train.info()"
   ]
  },
  {
   "cell_type": "code",
   "execution_count": 33,
   "metadata": {},
   "outputs": [
    {
     "name": "stdout",
     "output_type": "stream",
     "text": [
      "CatBoost - RECM: 1682.1723289353986\n",
      "CatBoost - Tiempo de entrenamiento: 6.9007 segundos\n",
      "CatBoost - Tiempo de predicción: 0.0422 segundos\n"
     ]
    }
   ],
   "source": [
    "# Entrenamiento de CatBoost\n",
    "cat_model = CatBoostRegressor(iterations=100, depth=10, learning_rate=0.1, cat_features=[0, 2, 6, 7, 8], verbose=False) \n",
    "cat_start_time = time.time()\n",
    "cat_model.fit(X0_train, y0_train)\n",
    "cat_training_time = time.time() - cat_start_time \n",
    "\n",
    "# Predicción y evaluación\n",
    "cat_start_time_pred = time.time()\n",
    "y_pred_cat = cat_model.predict(X0_test)\n",
    "cat_prediction_time = time.time() - cat_start_time_pred\n",
    "recm_cat = calcular_recm(y_test, y_pred_cat)\n",
    "print(f\"CatBoost - RECM: {recm_cat}\")\n",
    "print(f\"CatBoost - Tiempo de entrenamiento: {cat_training_time:.4f} segundos\")\n",
    "print(f\"CatBoost - Tiempo de predicción: {cat_prediction_time:.4f} segundos\")"
   ]
  },
  {
   "cell_type": "markdown",
   "metadata": {},
   "source": [
    "## Análisis del modelo"
   ]
  },
  {
   "cell_type": "markdown",
   "metadata": {},
   "source": [
    "### Resultados de los modelos\n",
    "\n",
    "**Regresión Lineal**\n",
    "\n",
    "- RECM: 2724.32\n",
    "- Tiempo de entrenamiento: 0.62 segundos\n",
    "- Tiempo de predicción: 0.09 segundos\n",
    "\n",
    "La regresión lineal es rápida, pero presenta un error de predicción relativamente alto, lo que sugiere que no captura bien la complejidad de las relaciones no lineales entre las variables.\n",
    "\n",
    "**Árbol de Decisión**\n",
    "\n",
    "- RECM: 1915.46\n",
    "- Tiempo de entrenamiento: 10.62 segundos\n",
    "- Tiempo de predicción: 0.02 segundos\n",
    "\n",
    "El árbol de decisión tiene una mejor capacidad predictiva que la regresión lineal, pero su tiempo de entrenamiento es considerablemente mayor.\n",
    "\n",
    "**Random Forest Regressor**\n",
    "\n",
    "- RECM: 2423.05\n",
    "- Tiempo de entrenamiento: 51.74 segundos\n",
    "- Tiempo de predicción: 0.02 segundos\n",
    "\n",
    "Aunque el random forest tiene un tiempo de entrenamiento es significativamente más largo en comparación con otros modelos, lo que lo hace menos adecuado para aplicaciones con restricciones de tiempo.\n",
    "\n",
    "**LightGBM**\n",
    "\n",
    "- RECM: 1966.50\n",
    "- Tiempo de entrenamiento: 1.34 segundos\n",
    "- Tiempo de predicción: 0.20 segundos\n",
    "\n",
    "LightGBM es rápido tanto en entrenamiento como en predicción y presenta un buen balance entre precisión y velocidad.\n",
    "\n",
    "**XGBoost**\n",
    "\n",
    "- RECM: 1594.12\n",
    "- Tiempo de entrenamiento: 105.07 segundos\n",
    "- Tiempo de predicción: 0.31 segundos\n",
    "\n",
    "XGBoost es el modelo con el menor error de predicción (RECM), pero su tiempo de entrenamiento es el más alto, lo que puede ser un inconveniente si se requiere un entrenamiento frecuente.\n",
    "\n",
    "**CatBoost**\n",
    "\n",
    "- RECM: 1682.17\n",
    "- Tiempo de entrenamiento: 6.72 segundos\n",
    "- Tiempo de predicción: 0.04 segundos\n",
    "\n",
    "CatBoost presenta un buen equilibrio entre precisión y tiempo de entrenamiento, con tiempos de predicción muy rápidos."
   ]
  },
  {
   "cell_type": "markdown",
   "metadata": {},
   "source": [
    "### Comparación de modelos\n",
    "\n",
    "En términos de precisión, XGBoost se destaca como el modelo con el menor error de predicción, seguido por CatBoost y el Árbol de Decisión. Sin embargo, LightGBM es un buen compromiso entre precisión y eficiencia, siendo más rápido que XGBoost y aún así bastante preciso. Random Forest es el modelo más lento en términos de entrenamiento, lo que lo hace menos adecuado para un entorno de producción en tiempo real."
   ]
  },
  {
   "cell_type": "markdown",
   "metadata": {},
   "source": [
    "## Conclusiones generales:\n",
    "\n",
    "1. Preparación de los datos: La limpieza y transformación inicial de los datos fueron esenciales para garantizar la calidad de la información. La eliminación de valores nulos, duplicados y columnas irrelevantes permitió un análisis más limpio y preciso, reduciendo el riesgo de sobreajuste y mejorando la eficiencia de los modelos.\n",
    "\n",
    "2. El uso de dos DataFrames, uno con variables dummies y otro sin ellas, permitió adaptar los datos a los modelos requeridos. La codificación One-Hot Encoding (OHE) se empleó para transformar variables categóricas en binarias, mejorando el aprendizaje del modelo, mientras que StandardScaler fue utilizado para normalizar las variables numéricas, optimizando el rendimiento y la convergencia del modelo durante el entrenamiento.\n",
    "\n",
    "3. Evaluación de los modelos: Tras evaluar los diferentes modelos, se concluyo que:\n",
    "\n",
    "- XGBoost es el mejor modelo en cuanto a precisión, pero su alto tiempo de entrenamiento lo hace menos ideal para situaciones donde se requiere un entrenamiento frecuente.\n",
    "- CatBoost ofrece un buen equilibrio entre precisión y velocidad de entrenamiento y predicción, lo que lo convierte en una opción viable para este caso de uso.\n",
    "- LightGBM es el modelo más rápido en términos de entrenamiento y predicción, y aunque su precisión no es la más alta, su desempeño es suficiente para este proyecto y se recomienda para entornos de producción donde la eficiencia es clave.\n",
    "\n",
    "Dado que Rusty Bargain valora tanto la precisión como la velocidad de predicción, LightGBM y CatBoost parecen ser las mejores opciones para su aplicación."
   ]
  }
 ],
 "metadata": {
  "ExecuteTimeLog": [
   {
    "duration": 2782,
    "start_time": "2025-01-20T15:57:29.058Z"
   },
   {
    "duration": 470,
    "start_time": "2025-01-20T15:57:57.996Z"
   },
   {
    "duration": 155,
    "start_time": "2025-01-20T16:02:39.175Z"
   },
   {
    "duration": 879,
    "start_time": "2025-01-20T16:07:51.341Z"
   },
   {
    "duration": 305,
    "start_time": "2025-01-20T16:12:01.842Z"
   },
   {
    "duration": 2766,
    "start_time": "2025-01-22T16:04:25.071Z"
   },
   {
    "duration": 449,
    "start_time": "2025-01-22T16:04:27.838Z"
   },
   {
    "duration": 155,
    "start_time": "2025-01-22T16:04:28.289Z"
   },
   {
    "duration": 299,
    "start_time": "2025-01-22T16:04:31.952Z"
   },
   {
    "duration": 229,
    "start_time": "2025-01-22T16:05:19.946Z"
   },
   {
    "duration": 137,
    "start_time": "2025-01-22T16:05:27.358Z"
   },
   {
    "duration": 24,
    "start_time": "2025-01-22T16:10:36.183Z"
   },
   {
    "duration": 35946,
    "start_time": "2025-01-22T16:11:41.146Z"
   },
   {
    "duration": 20,
    "start_time": "2025-01-22T16:13:27.523Z"
   },
   {
    "duration": 15,
    "start_time": "2025-01-22T16:15:12.462Z"
   },
   {
    "duration": 15,
    "start_time": "2025-01-22T16:15:29.558Z"
   },
   {
    "duration": 16,
    "start_time": "2025-01-22T16:16:12.846Z"
   },
   {
    "duration": 18,
    "start_time": "2025-01-22T16:16:26.078Z"
   },
   {
    "duration": 2704,
    "start_time": "2025-01-22T19:17:10.340Z"
   },
   {
    "duration": 482,
    "start_time": "2025-01-22T19:17:13.046Z"
   },
   {
    "duration": 192,
    "start_time": "2025-01-22T19:17:13.530Z"
   },
   {
    "duration": 101,
    "start_time": "2025-01-22T19:17:28.448Z"
   },
   {
    "duration": 55,
    "start_time": "2025-01-22T19:17:36.910Z"
   },
   {
    "duration": 6,
    "start_time": "2025-01-22T19:17:47.010Z"
   },
   {
    "duration": 343,
    "start_time": "2025-01-22T19:30:21.929Z"
   },
   {
    "duration": 250,
    "start_time": "2025-01-22T19:36:25.816Z"
   },
   {
    "duration": 28,
    "start_time": "2025-01-22T19:36:30.845Z"
   },
   {
    "duration": 25,
    "start_time": "2025-01-22T19:37:11.861Z"
   },
   {
    "duration": 403,
    "start_time": "2025-01-22T19:37:56.071Z"
   },
   {
    "duration": 59,
    "start_time": "2025-01-22T19:38:30.706Z"
   },
   {
    "duration": 278,
    "start_time": "2025-01-22T19:38:40.708Z"
   },
   {
    "duration": 16,
    "start_time": "2025-01-22T19:40:32.282Z"
   },
   {
    "duration": 23,
    "start_time": "2025-01-22T19:41:31.004Z"
   },
   {
    "duration": 23,
    "start_time": "2025-01-22T19:45:23.554Z"
   },
   {
    "duration": 23,
    "start_time": "2025-01-22T19:45:46.146Z"
   },
   {
    "duration": 103,
    "start_time": "2025-01-22T19:47:28.493Z"
   },
   {
    "duration": 371,
    "start_time": "2025-01-22T19:47:56.023Z"
   },
   {
    "duration": 17,
    "start_time": "2025-01-22T19:48:22.022Z"
   },
   {
    "duration": 18,
    "start_time": "2025-01-22T19:50:12.505Z"
   },
   {
    "duration": 108,
    "start_time": "2025-01-22T19:50:38.572Z"
   },
   {
    "duration": 6,
    "start_time": "2025-01-22T19:50:43.572Z"
   },
   {
    "duration": 31855,
    "start_time": "2025-01-22T19:50:49.796Z"
   },
   {
    "duration": 14,
    "start_time": "2025-01-22T19:51:21.653Z"
   },
   {
    "duration": 64,
    "start_time": "2025-01-22T19:51:21.668Z"
   },
   {
    "duration": 55,
    "start_time": "2025-01-22T19:58:10.518Z"
   },
   {
    "duration": 440,
    "start_time": "2025-01-22T20:00:15.717Z"
   },
   {
    "duration": 25,
    "start_time": "2025-01-22T20:00:52.577Z"
   },
   {
    "duration": 26,
    "start_time": "2025-01-22T20:03:19.638Z"
   },
   {
    "duration": 167,
    "start_time": "2025-01-22T20:04:56.069Z"
   },
   {
    "duration": 48,
    "start_time": "2025-01-22T20:04:57.171Z"
   },
   {
    "duration": 33,
    "start_time": "2025-01-22T20:05:24.902Z"
   },
   {
    "duration": 83,
    "start_time": "2025-01-22T20:05:59.041Z"
   },
   {
    "duration": 183,
    "start_time": "2025-01-22T20:07:45.577Z"
   },
   {
    "duration": 40,
    "start_time": "2025-01-22T20:07:46.686Z"
   },
   {
    "duration": 161,
    "start_time": "2025-01-22T20:09:10.401Z"
   },
   {
    "duration": 14,
    "start_time": "2025-01-22T20:09:11.502Z"
   },
   {
    "duration": 13,
    "start_time": "2025-01-22T20:09:12.337Z"
   },
   {
    "duration": 18,
    "start_time": "2025-01-22T20:09:30.807Z"
   },
   {
    "duration": 5,
    "start_time": "2025-01-22T20:09:40.199Z"
   },
   {
    "duration": 364,
    "start_time": "2025-01-22T20:09:41.265Z"
   },
   {
    "duration": 90,
    "start_time": "2025-01-22T20:09:42.162Z"
   },
   {
    "duration": 7,
    "start_time": "2025-01-22T20:09:43.611Z"
   },
   {
    "duration": 282,
    "start_time": "2025-01-22T20:09:44.837Z"
   },
   {
    "duration": 53,
    "start_time": "2025-01-22T20:09:46.081Z"
   },
   {
    "duration": 318,
    "start_time": "2025-01-22T20:09:47.839Z"
   },
   {
    "duration": 18,
    "start_time": "2025-01-22T20:09:51.950Z"
   },
   {
    "duration": 85,
    "start_time": "2025-01-22T20:09:53.789Z"
   },
   {
    "duration": 30303,
    "start_time": "2025-01-22T20:09:56.260Z"
   },
   {
    "duration": 22,
    "start_time": "2025-01-22T20:10:26.565Z"
   },
   {
    "duration": 199,
    "start_time": "2025-01-22T20:10:26.588Z"
   },
   {
    "duration": 13,
    "start_time": "2025-01-22T20:10:26.790Z"
   },
   {
    "duration": 1051,
    "start_time": "2025-01-22T20:10:38.484Z"
   },
   {
    "duration": 424,
    "start_time": "2025-01-22T20:10:39.537Z"
   },
   {
    "duration": 97,
    "start_time": "2025-01-22T20:10:40.264Z"
   },
   {
    "duration": 8,
    "start_time": "2025-01-22T20:10:41.414Z"
   },
   {
    "duration": 325,
    "start_time": "2025-01-22T20:10:42.682Z"
   },
   {
    "duration": 55,
    "start_time": "2025-01-22T20:10:43.710Z"
   },
   {
    "duration": 320,
    "start_time": "2025-01-22T20:10:45.425Z"
   },
   {
    "duration": 17,
    "start_time": "2025-01-22T20:10:47.142Z"
   },
   {
    "duration": 99,
    "start_time": "2025-01-22T20:10:48.007Z"
   },
   {
    "duration": 14,
    "start_time": "2025-01-22T20:11:19.739Z"
   },
   {
    "duration": 227,
    "start_time": "2025-01-22T20:11:19.755Z"
   },
   {
    "duration": 263,
    "start_time": "2025-01-22T20:11:19.986Z"
   },
   {
    "duration": 0,
    "start_time": "2025-01-22T20:11:20.251Z"
   },
   {
    "duration": 4,
    "start_time": "2025-01-22T20:11:45.146Z"
   },
   {
    "duration": 396,
    "start_time": "2025-01-22T20:11:46.097Z"
   },
   {
    "duration": 93,
    "start_time": "2025-01-22T20:11:47.110Z"
   },
   {
    "duration": 7,
    "start_time": "2025-01-22T20:11:49.020Z"
   },
   {
    "duration": 279,
    "start_time": "2025-01-22T20:11:49.617Z"
   },
   {
    "duration": 59,
    "start_time": "2025-01-22T20:11:50.451Z"
   },
   {
    "duration": 369,
    "start_time": "2025-01-22T20:11:52.020Z"
   },
   {
    "duration": 18,
    "start_time": "2025-01-22T20:11:53.872Z"
   },
   {
    "duration": 86,
    "start_time": "2025-01-22T20:11:55.158Z"
   },
   {
    "duration": 30395,
    "start_time": "2025-01-22T20:11:58.502Z"
   },
   {
    "duration": 14,
    "start_time": "2025-01-22T20:12:28.899Z"
   },
   {
    "duration": 221,
    "start_time": "2025-01-22T20:12:28.914Z"
   },
   {
    "duration": 14,
    "start_time": "2025-01-22T20:12:29.137Z"
   },
   {
    "duration": 0,
    "start_time": "2025-01-22T20:12:29.153Z"
   },
   {
    "duration": 14,
    "start_time": "2025-01-22T20:12:38.461Z"
   },
   {
    "duration": 1063,
    "start_time": "2025-01-22T20:13:09.269Z"
   },
   {
    "duration": 406,
    "start_time": "2025-01-22T20:13:13.234Z"
   },
   {
    "duration": 96,
    "start_time": "2025-01-22T20:13:13.797Z"
   },
   {
    "duration": 8,
    "start_time": "2025-01-22T20:13:14.758Z"
   },
   {
    "duration": 305,
    "start_time": "2025-01-22T20:13:15.806Z"
   },
   {
    "duration": 54,
    "start_time": "2025-01-22T20:13:18.247Z"
   },
   {
    "duration": 333,
    "start_time": "2025-01-22T20:13:24.932Z"
   },
   {
    "duration": 30,
    "start_time": "2025-01-22T20:14:18.430Z"
   },
   {
    "duration": 360,
    "start_time": "2025-01-22T20:14:20.165Z"
   },
   {
    "duration": 246,
    "start_time": "2025-01-22T20:14:23.086Z"
   },
   {
    "duration": 16,
    "start_time": "2025-01-22T20:15:02.593Z"
   },
   {
    "duration": 3,
    "start_time": "2025-01-22T20:15:12.867Z"
   },
   {
    "duration": 1089,
    "start_time": "2025-01-22T20:16:04.614Z"
   },
   {
    "duration": 403,
    "start_time": "2025-01-22T20:16:05.706Z"
   },
   {
    "duration": 94,
    "start_time": "2025-01-22T20:16:06.238Z"
   },
   {
    "duration": 8,
    "start_time": "2025-01-22T20:16:10.418Z"
   },
   {
    "duration": 299,
    "start_time": "2025-01-22T20:16:11.623Z"
   },
   {
    "duration": 54,
    "start_time": "2025-01-22T20:16:13.224Z"
   },
   {
    "duration": 23,
    "start_time": "2025-01-22T20:16:16.220Z"
   },
   {
    "duration": 341,
    "start_time": "2025-01-22T20:16:18.291Z"
   },
   {
    "duration": 7,
    "start_time": "2025-01-22T20:16:24.028Z"
   },
   {
    "duration": 294,
    "start_time": "2025-01-22T20:16:48.016Z"
   },
   {
    "duration": 15,
    "start_time": "2025-01-22T20:16:53.887Z"
   },
   {
    "duration": 5,
    "start_time": "2025-01-22T20:17:12.212Z"
   },
   {
    "duration": 66,
    "start_time": "2025-01-22T20:17:24.097Z"
   },
   {
    "duration": 23649,
    "start_time": "2025-01-22T20:17:28.382Z"
   },
   {
    "duration": 42,
    "start_time": "2025-01-22T20:17:52.033Z"
   },
   {
    "duration": 46,
    "start_time": "2025-01-22T20:17:59.234Z"
   },
   {
    "duration": 51,
    "start_time": "2025-01-22T20:18:23.820Z"
   },
   {
    "duration": 50,
    "start_time": "2025-01-22T20:20:09.926Z"
   },
   {
    "duration": 2771,
    "start_time": "2025-01-23T13:02:05.211Z"
   },
   {
    "duration": 452,
    "start_time": "2025-01-23T13:02:16.119Z"
   },
   {
    "duration": 125,
    "start_time": "2025-01-23T13:02:17.180Z"
   },
   {
    "duration": 8,
    "start_time": "2025-01-23T13:02:18.320Z"
   },
   {
    "duration": 316,
    "start_time": "2025-01-23T13:02:19.224Z"
   },
   {
    "duration": 56,
    "start_time": "2025-01-23T13:02:20.379Z"
   },
   {
    "duration": 31,
    "start_time": "2025-01-23T13:02:22.960Z"
   },
   {
    "duration": 349,
    "start_time": "2025-01-23T13:02:25.760Z"
   },
   {
    "duration": 233,
    "start_time": "2025-01-23T13:02:57.278Z"
   },
   {
    "duration": 324,
    "start_time": "2025-01-23T13:03:10.665Z"
   },
   {
    "duration": 15,
    "start_time": "2025-01-23T13:03:54.981Z"
   },
   {
    "duration": 58,
    "start_time": "2025-01-23T13:03:56.462Z"
   },
   {
    "duration": 22368,
    "start_time": "2025-01-23T13:04:01.497Z"
   },
   {
    "duration": 45,
    "start_time": "2025-01-23T13:04:23.867Z"
   },
   {
    "duration": 49,
    "start_time": "2025-01-23T13:04:31.852Z"
   },
   {
    "duration": 57,
    "start_time": "2025-01-23T13:04:49.759Z"
   },
   {
    "duration": 169,
    "start_time": "2025-01-23T13:04:55.446Z"
   },
   {
    "duration": 25,
    "start_time": "2025-01-23T13:05:06.116Z"
   },
   {
    "duration": 30,
    "start_time": "2025-01-23T13:05:24.797Z"
   },
   {
    "duration": 28,
    "start_time": "2025-01-23T13:05:38.637Z"
   },
   {
    "duration": 15,
    "start_time": "2025-01-23T13:06:39.650Z"
   },
   {
    "duration": 10,
    "start_time": "2025-01-23T13:06:44.095Z"
   },
   {
    "duration": 235,
    "start_time": "2025-01-23T13:07:01.540Z"
   },
   {
    "duration": 10,
    "start_time": "2025-01-23T13:07:41.680Z"
   },
   {
    "duration": 3185,
    "start_time": "2025-01-27T19:58:02.382Z"
   },
   {
    "duration": 479,
    "start_time": "2025-01-27T20:04:45.701Z"
   },
   {
    "duration": 93,
    "start_time": "2025-01-27T20:04:46.722Z"
   },
   {
    "duration": 9,
    "start_time": "2025-01-27T20:04:47.528Z"
   },
   {
    "duration": 328,
    "start_time": "2025-01-27T20:04:48.106Z"
   },
   {
    "duration": 52,
    "start_time": "2025-01-27T20:04:48.510Z"
   },
   {
    "duration": 22,
    "start_time": "2025-01-27T20:04:49.701Z"
   },
   {
    "duration": 353,
    "start_time": "2025-01-27T20:04:50.630Z"
   },
   {
    "duration": 337,
    "start_time": "2025-01-27T20:04:51.332Z"
   },
   {
    "duration": 15,
    "start_time": "2025-01-27T20:04:52.247Z"
   },
   {
    "duration": 64,
    "start_time": "2025-01-27T20:04:52.776Z"
   },
   {
    "duration": 24606,
    "start_time": "2025-01-27T20:04:53.757Z"
   },
   {
    "duration": 183,
    "start_time": "2025-01-27T20:05:18.365Z"
   },
   {
    "duration": 11,
    "start_time": "2025-01-27T20:05:18.550Z"
   },
   {
    "duration": 35804,
    "start_time": "2025-01-27T20:06:06.743Z"
   },
   {
    "duration": 1097,
    "start_time": "2025-01-27T20:11:34.817Z"
   },
   {
    "duration": 426,
    "start_time": "2025-01-27T20:11:35.916Z"
   },
   {
    "duration": 101,
    "start_time": "2025-01-27T20:11:36.344Z"
   },
   {
    "duration": 8,
    "start_time": "2025-01-27T20:11:37.690Z"
   },
   {
    "duration": 367,
    "start_time": "2025-01-27T20:11:38.342Z"
   },
   {
    "duration": 57,
    "start_time": "2025-01-27T20:11:39.559Z"
   },
   {
    "duration": 35,
    "start_time": "2025-01-27T20:11:46.153Z"
   },
   {
    "duration": 364,
    "start_time": "2025-01-27T20:11:47.822Z"
   },
   {
    "duration": 303,
    "start_time": "2025-01-27T20:11:49.136Z"
   },
   {
    "duration": 14,
    "start_time": "2025-01-27T20:11:50.726Z"
   },
   {
    "duration": 74,
    "start_time": "2025-01-27T20:11:51.258Z"
   },
   {
    "duration": 26298,
    "start_time": "2025-01-27T20:11:52.493Z"
   },
   {
    "duration": 8,
    "start_time": "2025-01-27T20:12:18.793Z"
   },
   {
    "duration": 18,
    "start_time": "2025-01-27T20:12:38.686Z"
   },
   {
    "duration": 12,
    "start_time": "2025-01-27T20:12:51.791Z"
   },
   {
    "duration": 29,
    "start_time": "2025-01-27T20:13:09.893Z"
   },
   {
    "duration": 8,
    "start_time": "2025-01-27T20:13:23.610Z"
   },
   {
    "duration": 30,
    "start_time": "2025-01-27T20:15:51.845Z"
   },
   {
    "duration": 310,
    "start_time": "2025-01-27T20:16:23.047Z"
   },
   {
    "duration": 153,
    "start_time": "2025-01-27T20:24:11.079Z"
   },
   {
    "duration": 8441,
    "start_time": "2025-01-27T20:27:29.319Z"
   },
   {
    "duration": 7619,
    "start_time": "2025-01-27T20:27:54.087Z"
   },
   {
    "duration": 5520,
    "start_time": "2025-01-27T20:29:11.342Z"
   },
   {
    "duration": 20225,
    "start_time": "2025-01-27T20:33:50.958Z"
   },
   {
    "duration": 180,
    "start_time": "2025-01-27T20:39:37.781Z"
   },
   {
    "duration": 10,
    "start_time": "2025-01-27T21:04:15.580Z"
   },
   {
    "duration": 11,
    "start_time": "2025-01-27T21:08:32.315Z"
   },
   {
    "duration": 14,
    "start_time": "2025-01-27T21:11:29.983Z"
   },
   {
    "duration": 1738,
    "start_time": "2025-01-27T21:11:41.130Z"
   },
   {
    "duration": 1077,
    "start_time": "2025-01-27T21:12:21.357Z"
   },
   {
    "duration": 485,
    "start_time": "2025-01-27T21:12:22.437Z"
   },
   {
    "duration": 103,
    "start_time": "2025-01-27T21:12:22.924Z"
   },
   {
    "duration": 9,
    "start_time": "2025-01-27T21:12:23.460Z"
   },
   {
    "duration": 347,
    "start_time": "2025-01-27T21:12:24.521Z"
   },
   {
    "duration": 68,
    "start_time": "2025-01-27T21:12:25.425Z"
   },
   {
    "duration": 32,
    "start_time": "2025-01-27T21:12:47.946Z"
   },
   {
    "duration": 350,
    "start_time": "2025-01-27T21:12:48.926Z"
   },
   {
    "duration": 282,
    "start_time": "2025-01-27T21:12:50.099Z"
   },
   {
    "duration": 16,
    "start_time": "2025-01-27T21:12:51.557Z"
   },
   {
    "duration": 83,
    "start_time": "2025-01-27T21:12:52.071Z"
   },
   {
    "duration": 24592,
    "start_time": "2025-01-27T21:12:53.231Z"
   },
   {
    "duration": 162,
    "start_time": "2025-01-27T21:13:17.827Z"
   },
   {
    "duration": 10,
    "start_time": "2025-01-27T21:13:17.991Z"
   },
   {
    "duration": 16,
    "start_time": "2025-01-27T21:13:22.707Z"
   },
   {
    "duration": 592,
    "start_time": "2025-01-27T21:13:56.578Z"
   },
   {
    "duration": 7,
    "start_time": "2025-01-27T21:14:09.287Z"
   },
   {
    "duration": 518,
    "start_time": "2025-01-27T21:15:38.119Z"
   },
   {
    "duration": 1095,
    "start_time": "2025-01-27T21:15:50.182Z"
   },
   {
    "duration": 430,
    "start_time": "2025-01-27T21:15:51.280Z"
   },
   {
    "duration": 117,
    "start_time": "2025-01-27T21:15:51.712Z"
   },
   {
    "duration": 8,
    "start_time": "2025-01-27T21:15:51.831Z"
   },
   {
    "duration": 325,
    "start_time": "2025-01-27T21:15:51.840Z"
   },
   {
    "duration": 60,
    "start_time": "2025-01-27T21:15:52.167Z"
   },
   {
    "duration": 34,
    "start_time": "2025-01-27T21:15:53.307Z"
   },
   {
    "duration": 400,
    "start_time": "2025-01-27T21:15:54.194Z"
   },
   {
    "duration": 283,
    "start_time": "2025-01-27T21:15:55.233Z"
   },
   {
    "duration": 14,
    "start_time": "2025-01-27T21:15:56.391Z"
   },
   {
    "duration": 72,
    "start_time": "2025-01-27T21:15:56.849Z"
   },
   {
    "duration": 23866,
    "start_time": "2025-01-27T21:15:58.156Z"
   },
   {
    "duration": 133,
    "start_time": "2025-01-27T21:16:22.024Z"
   },
   {
    "duration": 11,
    "start_time": "2025-01-27T21:16:28.738Z"
   },
   {
    "duration": 14,
    "start_time": "2025-01-27T21:16:47.596Z"
   },
   {
    "duration": 105,
    "start_time": "2025-01-27T21:17:01.561Z"
   },
   {
    "duration": 161,
    "start_time": "2025-01-27T21:18:49.430Z"
   },
   {
    "duration": 44,
    "start_time": "2025-01-27T21:19:37.592Z"
   },
   {
    "duration": 59,
    "start_time": "2025-01-27T21:41:19.129Z"
   },
   {
    "duration": 240,
    "start_time": "2025-01-27T21:44:35.493Z"
   },
   {
    "duration": 6634,
    "start_time": "2025-01-27T21:47:24.166Z"
   },
   {
    "duration": 1116,
    "start_time": "2025-01-27T21:49:19.724Z"
   },
   {
    "duration": 430,
    "start_time": "2025-01-27T21:49:21.818Z"
   },
   {
    "duration": 93,
    "start_time": "2025-01-27T21:49:23.446Z"
   },
   {
    "duration": 9,
    "start_time": "2025-01-27T21:49:24.858Z"
   },
   {
    "duration": 309,
    "start_time": "2025-01-27T21:49:25.923Z"
   },
   {
    "duration": 58,
    "start_time": "2025-01-27T21:49:26.448Z"
   },
   {
    "duration": 31,
    "start_time": "2025-01-27T21:49:27.814Z"
   },
   {
    "duration": 335,
    "start_time": "2025-01-27T21:49:28.791Z"
   },
   {
    "duration": 280,
    "start_time": "2025-01-27T21:49:29.844Z"
   },
   {
    "duration": 17,
    "start_time": "2025-01-27T21:49:30.829Z"
   },
   {
    "duration": 68,
    "start_time": "2025-01-27T21:49:31.343Z"
   },
   {
    "duration": 24286,
    "start_time": "2025-01-27T21:49:33.230Z"
   },
   {
    "duration": 146,
    "start_time": "2025-01-27T21:49:57.518Z"
   },
   {
    "duration": 16,
    "start_time": "2025-01-27T21:50:01.468Z"
   },
   {
    "duration": 13,
    "start_time": "2025-01-27T21:50:03.654Z"
   },
   {
    "duration": 43,
    "start_time": "2025-01-27T21:50:04.702Z"
   },
   {
    "duration": 171,
    "start_time": "2025-01-27T21:50:10.835Z"
   },
   {
    "duration": 442,
    "start_time": "2025-01-27T21:50:15.202Z"
   },
   {
    "duration": 7891,
    "start_time": "2025-01-27T21:50:20.007Z"
   },
   {
    "duration": 7425,
    "start_time": "2025-01-27T21:51:04.284Z"
   },
   {
    "duration": 7481,
    "start_time": "2025-01-27T21:51:29.034Z"
   },
   {
    "duration": 4,
    "start_time": "2025-01-27T21:57:49.285Z"
   },
   {
    "duration": 6341,
    "start_time": "2025-01-27T21:58:12.961Z"
   },
   {
    "duration": 1107,
    "start_time": "2025-01-27T22:06:00.127Z"
   },
   {
    "duration": 469,
    "start_time": "2025-01-27T22:06:01.236Z"
   },
   {
    "duration": 99,
    "start_time": "2025-01-27T22:06:01.707Z"
   },
   {
    "duration": 7,
    "start_time": "2025-01-27T22:06:01.809Z"
   },
   {
    "duration": 321,
    "start_time": "2025-01-27T22:06:01.818Z"
   },
   {
    "duration": 71,
    "start_time": "2025-01-27T22:06:02.141Z"
   },
   {
    "duration": 33,
    "start_time": "2025-01-27T22:06:02.214Z"
   },
   {
    "duration": 372,
    "start_time": "2025-01-27T22:06:02.249Z"
   },
   {
    "duration": 292,
    "start_time": "2025-01-27T22:06:02.624Z"
   },
   {
    "duration": 16,
    "start_time": "2025-01-27T22:06:02.918Z"
   },
   {
    "duration": 62,
    "start_time": "2025-01-27T22:06:03.464Z"
   },
   {
    "duration": 24870,
    "start_time": "2025-01-27T22:06:04.386Z"
   },
   {
    "duration": 141,
    "start_time": "2025-01-27T22:06:29.259Z"
   },
   {
    "duration": 17,
    "start_time": "2025-01-27T22:06:29.402Z"
   },
   {
    "duration": 15,
    "start_time": "2025-01-27T22:06:29.422Z"
   },
   {
    "duration": 67,
    "start_time": "2025-01-27T22:06:29.440Z"
   },
   {
    "duration": 230,
    "start_time": "2025-01-27T22:06:52.999Z"
   },
   {
    "duration": 53,
    "start_time": "2025-01-27T22:06:56.796Z"
   },
   {
    "duration": 443,
    "start_time": "2025-01-27T22:07:40.508Z"
   },
   {
    "duration": 240,
    "start_time": "2025-01-27T22:07:54.293Z"
   },
   {
    "duration": 6260,
    "start_time": "2025-01-27T22:08:58.944Z"
   },
   {
    "duration": 1093,
    "start_time": "2025-01-27T22:14:08.542Z"
   },
   {
    "duration": 430,
    "start_time": "2025-01-27T22:14:09.637Z"
   },
   {
    "duration": 110,
    "start_time": "2025-01-27T22:14:10.068Z"
   },
   {
    "duration": 7,
    "start_time": "2025-01-27T22:14:10.187Z"
   },
   {
    "duration": 362,
    "start_time": "2025-01-27T22:14:10.196Z"
   },
   {
    "duration": 64,
    "start_time": "2025-01-27T22:14:10.560Z"
   },
   {
    "duration": 30,
    "start_time": "2025-01-27T22:14:10.639Z"
   },
   {
    "duration": 339,
    "start_time": "2025-01-27T22:14:11.258Z"
   },
   {
    "duration": 328,
    "start_time": "2025-01-27T22:14:11.766Z"
   },
   {
    "duration": 16,
    "start_time": "2025-01-27T22:14:12.241Z"
   },
   {
    "duration": 80,
    "start_time": "2025-01-27T22:14:12.497Z"
   },
   {
    "duration": 24239,
    "start_time": "2025-01-27T22:14:12.975Z"
   },
   {
    "duration": 121,
    "start_time": "2025-01-27T22:14:37.217Z"
   },
   {
    "duration": 11,
    "start_time": "2025-01-27T22:14:37.340Z"
   },
   {
    "duration": 11,
    "start_time": "2025-01-27T22:14:40.381Z"
   },
   {
    "duration": 14,
    "start_time": "2025-01-27T22:14:42.100Z"
   },
   {
    "duration": 63,
    "start_time": "2025-01-27T22:14:45.011Z"
   },
   {
    "duration": 110,
    "start_time": "2025-01-27T22:14:47.579Z"
   },
   {
    "duration": 177,
    "start_time": "2025-01-27T22:14:52.067Z"
   },
   {
    "duration": 55,
    "start_time": "2025-01-27T22:14:57.547Z"
   },
   {
    "duration": 439,
    "start_time": "2025-01-27T22:14:58.811Z"
   },
   {
    "duration": 8147,
    "start_time": "2025-01-27T22:15:16.768Z"
   },
   {
    "duration": 2038,
    "start_time": "2025-01-27T22:15:39.904Z"
   },
   {
    "duration": 1069,
    "start_time": "2025-01-27T22:19:55.458Z"
   },
   {
    "duration": 428,
    "start_time": "2025-01-27T22:19:56.533Z"
   },
   {
    "duration": 99,
    "start_time": "2025-01-27T22:19:57.332Z"
   },
   {
    "duration": 8,
    "start_time": "2025-01-27T22:19:57.708Z"
   },
   {
    "duration": 354,
    "start_time": "2025-01-27T22:19:58.187Z"
   },
   {
    "duration": 67,
    "start_time": "2025-01-27T22:19:58.605Z"
   },
   {
    "duration": 37,
    "start_time": "2025-01-27T22:19:59.403Z"
   },
   {
    "duration": 378,
    "start_time": "2025-01-27T22:20:00.208Z"
   },
   {
    "duration": 291,
    "start_time": "2025-01-27T22:20:09.000Z"
   },
   {
    "duration": 15,
    "start_time": "2025-01-27T22:20:09.933Z"
   },
   {
    "duration": 73,
    "start_time": "2025-01-27T22:20:10.330Z"
   },
   {
    "duration": 25062,
    "start_time": "2025-01-27T22:20:11.224Z"
   },
   {
    "duration": 118,
    "start_time": "2025-01-27T22:20:36.288Z"
   },
   {
    "duration": 11,
    "start_time": "2025-01-27T22:20:36.408Z"
   },
   {
    "duration": 13,
    "start_time": "2025-01-27T22:20:36.421Z"
   },
   {
    "duration": 79,
    "start_time": "2025-01-27T22:20:36.435Z"
   },
   {
    "duration": 131,
    "start_time": "2025-01-27T22:20:36.515Z"
   },
   {
    "duration": 172,
    "start_time": "2025-01-27T22:20:36.907Z"
   },
   {
    "duration": 480,
    "start_time": "2025-01-27T22:20:43.174Z"
   },
   {
    "duration": 5926,
    "start_time": "2025-01-27T22:21:02.082Z"
   },
   {
    "duration": 1153,
    "start_time": "2025-01-27T22:26:33.525Z"
   },
   {
    "duration": 455,
    "start_time": "2025-01-27T22:26:35.522Z"
   },
   {
    "duration": 96,
    "start_time": "2025-01-27T22:26:35.979Z"
   },
   {
    "duration": 14,
    "start_time": "2025-01-27T22:26:36.077Z"
   },
   {
    "duration": 305,
    "start_time": "2025-01-27T22:26:36.119Z"
   },
   {
    "duration": 72,
    "start_time": "2025-01-27T22:26:36.427Z"
   },
   {
    "duration": 24,
    "start_time": "2025-01-27T22:26:36.672Z"
   },
   {
    "duration": 340,
    "start_time": "2025-01-27T22:26:37.046Z"
   },
   {
    "duration": 301,
    "start_time": "2025-01-27T22:26:37.452Z"
   },
   {
    "duration": 21,
    "start_time": "2025-01-27T22:26:37.862Z"
   },
   {
    "duration": 82,
    "start_time": "2025-01-27T22:26:38.048Z"
   },
   {
    "duration": 24051,
    "start_time": "2025-01-27T22:26:38.439Z"
   },
   {
    "duration": 119,
    "start_time": "2025-01-27T22:27:02.492Z"
   },
   {
    "duration": 11,
    "start_time": "2025-01-27T22:27:02.613Z"
   },
   {
    "duration": 14,
    "start_time": "2025-01-27T22:27:02.626Z"
   },
   {
    "duration": 64,
    "start_time": "2025-01-27T22:27:02.642Z"
   },
   {
    "duration": 101,
    "start_time": "2025-01-27T22:27:02.708Z"
   },
   {
    "duration": 179,
    "start_time": "2025-01-27T22:27:02.811Z"
   },
   {
    "duration": 566,
    "start_time": "2025-01-27T22:27:02.991Z"
   },
   {
    "duration": 249,
    "start_time": "2025-01-27T22:27:03.559Z"
   },
   {
    "duration": 0,
    "start_time": "2025-01-27T22:27:03.810Z"
   },
   {
    "duration": 6576,
    "start_time": "2025-01-27T22:27:38.316Z"
   },
   {
    "duration": 36994,
    "start_time": "2025-01-27T22:31:39.397Z"
   },
   {
    "duration": 36881,
    "start_time": "2025-01-27T22:32:30.207Z"
   },
   {
    "duration": 37364,
    "start_time": "2025-01-27T22:35:12.086Z"
   },
   {
    "duration": 231,
    "start_time": "2025-01-27T22:51:37.005Z"
   },
   {
    "duration": 1085,
    "start_time": "2025-01-27T22:51:53.208Z"
   },
   {
    "duration": 137,
    "start_time": "2025-01-27T22:52:39.937Z"
   },
   {
    "duration": 5,
    "start_time": "2025-01-27T22:53:23.054Z"
   },
   {
    "duration": 33,
    "start_time": "2025-01-27T22:53:27.361Z"
   },
   {
    "duration": 3,
    "start_time": "2025-01-27T22:53:40.176Z"
   },
   {
    "duration": 398,
    "start_time": "2025-01-27T22:53:40.713Z"
   },
   {
    "duration": 96,
    "start_time": "2025-01-27T22:53:41.758Z"
   },
   {
    "duration": 9,
    "start_time": "2025-01-27T22:53:42.133Z"
   },
   {
    "duration": 323,
    "start_time": "2025-01-27T22:53:42.408Z"
   },
   {
    "duration": 70,
    "start_time": "2025-01-27T22:53:42.733Z"
   },
   {
    "duration": 44,
    "start_time": "2025-01-27T22:53:43.111Z"
   },
   {
    "duration": 377,
    "start_time": "2025-01-27T22:53:43.514Z"
   },
   {
    "duration": 286,
    "start_time": "2025-01-27T22:53:43.927Z"
   },
   {
    "duration": 15,
    "start_time": "2025-01-27T22:53:44.332Z"
   },
   {
    "duration": 74,
    "start_time": "2025-01-27T22:53:44.520Z"
   },
   {
    "duration": 25239,
    "start_time": "2025-01-27T22:53:46.417Z"
   },
   {
    "duration": 123,
    "start_time": "2025-01-27T22:54:11.658Z"
   },
   {
    "duration": 12,
    "start_time": "2025-01-27T22:54:11.783Z"
   },
   {
    "duration": 14,
    "start_time": "2025-01-27T22:54:11.797Z"
   },
   {
    "duration": 44,
    "start_time": "2025-01-27T22:54:11.814Z"
   },
   {
    "duration": 120,
    "start_time": "2025-01-27T22:54:11.859Z"
   },
   {
    "duration": 181,
    "start_time": "2025-01-27T22:54:11.981Z"
   },
   {
    "duration": 423,
    "start_time": "2025-01-27T22:54:17.161Z"
   },
   {
    "duration": 157285,
    "start_time": "2025-01-27T22:54:49.754Z"
   },
   {
    "duration": 159135,
    "start_time": "2025-01-27T22:57:44.203Z"
   },
   {
    "duration": 160,
    "start_time": "2025-01-27T23:08:29.858Z"
   },
   {
    "duration": 1112,
    "start_time": "2025-01-27T23:08:37.144Z"
   },
   {
    "duration": 405,
    "start_time": "2025-01-27T23:08:38.258Z"
   },
   {
    "duration": 101,
    "start_time": "2025-01-27T23:08:38.665Z"
   },
   {
    "duration": 8,
    "start_time": "2025-01-27T23:08:38.769Z"
   },
   {
    "duration": 334,
    "start_time": "2025-01-27T23:08:38.786Z"
   },
   {
    "duration": 56,
    "start_time": "2025-01-27T23:08:39.122Z"
   },
   {
    "duration": 39,
    "start_time": "2025-01-27T23:08:39.180Z"
   },
   {
    "duration": 361,
    "start_time": "2025-01-27T23:08:39.221Z"
   },
   {
    "duration": 290,
    "start_time": "2025-01-27T23:08:39.586Z"
   },
   {
    "duration": 21,
    "start_time": "2025-01-27T23:08:39.878Z"
   },
   {
    "duration": 56,
    "start_time": "2025-01-27T23:08:39.962Z"
   },
   {
    "duration": 25408,
    "start_time": "2025-01-27T23:08:40.354Z"
   },
   {
    "duration": 132,
    "start_time": "2025-01-27T23:09:05.764Z"
   },
   {
    "duration": 15,
    "start_time": "2025-01-27T23:09:05.898Z"
   },
   {
    "duration": 16,
    "start_time": "2025-01-27T23:09:19.909Z"
   },
   {
    "duration": 427,
    "start_time": "2025-01-27T23:11:29.623Z"
   },
   {
    "duration": 1106,
    "start_time": "2025-01-27T23:11:40.993Z"
   },
   {
    "duration": 427,
    "start_time": "2025-01-27T23:11:42.101Z"
   },
   {
    "duration": 102,
    "start_time": "2025-01-27T23:11:42.530Z"
   },
   {
    "duration": 8,
    "start_time": "2025-01-27T23:11:42.634Z"
   },
   {
    "duration": 342,
    "start_time": "2025-01-27T23:11:42.644Z"
   },
   {
    "duration": 69,
    "start_time": "2025-01-27T23:11:42.988Z"
   },
   {
    "duration": 46,
    "start_time": "2025-01-27T23:11:43.059Z"
   },
   {
    "duration": 410,
    "start_time": "2025-01-27T23:11:43.108Z"
   },
   {
    "duration": 303,
    "start_time": "2025-01-27T23:11:43.520Z"
   },
   {
    "duration": 16,
    "start_time": "2025-01-27T23:11:45.185Z"
   },
   {
    "duration": 75,
    "start_time": "2025-01-27T23:11:45.713Z"
   },
   {
    "duration": 25200,
    "start_time": "2025-01-27T23:11:47.042Z"
   },
   {
    "duration": 122,
    "start_time": "2025-01-27T23:12:12.244Z"
   },
   {
    "duration": 13,
    "start_time": "2025-01-27T23:12:18.695Z"
   },
   {
    "duration": 12,
    "start_time": "2025-01-27T23:15:43.383Z"
   },
   {
    "duration": 53,
    "start_time": "2025-01-27T23:15:47.692Z"
   },
   {
    "duration": 94,
    "start_time": "2025-01-27T23:16:01.607Z"
   },
   {
    "duration": 716,
    "start_time": "2025-01-27T23:16:03.677Z"
   },
   {
    "duration": 76,
    "start_time": "2025-01-27T23:16:16.149Z"
   },
   {
    "duration": 84,
    "start_time": "2025-01-27T23:16:19.315Z"
   },
   {
    "duration": 688,
    "start_time": "2025-01-27T23:16:21.205Z"
   },
   {
    "duration": 10502,
    "start_time": "2025-01-27T23:16:35.065Z"
   },
   {
    "duration": 95814,
    "start_time": "2025-01-27T23:17:49.772Z"
   },
   {
    "duration": 197984,
    "start_time": "2025-01-27T23:20:19.117Z"
   },
   {
    "duration": 1511,
    "start_time": "2025-01-28T01:12:07.079Z"
   },
   {
    "duration": 3,
    "start_time": "2025-01-28T01:39:27.909Z"
   },
   {
    "duration": 763,
    "start_time": "2025-01-28T01:39:58.526Z"
   },
   {
    "duration": 9963,
    "start_time": "2025-01-28T01:40:53.630Z"
   },
   {
    "duration": 92080,
    "start_time": "2025-01-28T01:41:11.089Z"
   },
   {
    "duration": 52080,
    "start_time": "2025-01-28T01:43:09.790Z"
   },
   {
    "duration": 1911,
    "start_time": "2025-01-28T01:45:02.692Z"
   },
   {
    "duration": 4,
    "start_time": "2025-01-28T01:48:01.153Z"
   },
   {
    "duration": 103195,
    "start_time": "2025-01-28T01:53:32.913Z"
   },
   {
    "duration": 51043,
    "start_time": "2025-01-28T01:57:36.544Z"
   },
   {
    "duration": 13,
    "start_time": "2025-01-28T02:05:37.710Z"
   },
   {
    "duration": 78,
    "start_time": "2025-01-28T02:05:48.350Z"
   },
   {
    "duration": 17,
    "start_time": "2025-01-28T02:05:53.596Z"
   },
   {
    "duration": 1037,
    "start_time": "2025-01-28T02:06:36.829Z"
   },
   {
    "duration": 409,
    "start_time": "2025-01-28T02:06:37.868Z"
   },
   {
    "duration": 102,
    "start_time": "2025-01-28T02:06:38.603Z"
   },
   {
    "duration": 8,
    "start_time": "2025-01-28T02:06:39.214Z"
   },
   {
    "duration": 297,
    "start_time": "2025-01-28T02:06:39.864Z"
   },
   {
    "duration": 52,
    "start_time": "2025-01-28T02:06:40.193Z"
   },
   {
    "duration": 23,
    "start_time": "2025-01-28T02:06:40.705Z"
   },
   {
    "duration": 338,
    "start_time": "2025-01-28T02:06:41.455Z"
   },
   {
    "duration": 325,
    "start_time": "2025-01-28T02:06:43.041Z"
   },
   {
    "duration": 14,
    "start_time": "2025-01-28T02:06:44.465Z"
   },
   {
    "duration": 73,
    "start_time": "2025-01-28T02:06:45.062Z"
   },
   {
    "duration": 24149,
    "start_time": "2025-01-28T02:06:46.387Z"
   },
   {
    "duration": 114,
    "start_time": "2025-01-28T02:07:10.539Z"
   },
   {
    "duration": 11,
    "start_time": "2025-01-28T02:07:10.654Z"
   },
   {
    "duration": 13,
    "start_time": "2025-01-28T02:07:19.021Z"
   },
   {
    "duration": 38,
    "start_time": "2025-01-28T02:07:20.393Z"
   },
   {
    "duration": 106,
    "start_time": "2025-01-28T02:07:20.966Z"
   },
   {
    "duration": 47,
    "start_time": "2025-01-28T02:07:25.000Z"
   },
   {
    "duration": 85,
    "start_time": "2025-01-28T02:07:30.641Z"
   },
   {
    "duration": 87,
    "start_time": "2025-01-28T02:07:32.065Z"
   },
   {
    "duration": 3,
    "start_time": "2025-01-28T02:07:33.271Z"
   },
   {
    "duration": 778,
    "start_time": "2025-01-28T02:07:36.315Z"
   },
   {
    "duration": 31,
    "start_time": "2025-01-28T02:07:46.509Z"
   },
   {
    "duration": 3635,
    "start_time": "2025-01-28T02:08:48.109Z"
   },
   {
    "duration": 6889,
    "start_time": "2025-01-28T02:09:48.285Z"
   },
   {
    "duration": 32,
    "start_time": "2025-01-28T02:11:41.542Z"
   },
   {
    "duration": 712,
    "start_time": "2025-01-28T02:17:27.379Z"
   },
   {
    "duration": 710,
    "start_time": "2025-01-28T02:18:24.388Z"
   },
   {
    "duration": 10644,
    "start_time": "2025-01-28T02:23:04.367Z"
   },
   {
    "duration": 6862,
    "start_time": "2025-01-28T02:23:52.810Z"
   },
   {
    "duration": 52265,
    "start_time": "2025-01-28T02:24:01.916Z"
   },
   {
    "duration": 51959,
    "start_time": "2025-01-28T02:26:09.376Z"
   },
   {
    "duration": 51762,
    "start_time": "2025-01-28T02:27:16.492Z"
   },
   {
    "duration": 1545,
    "start_time": "2025-01-28T02:29:39.853Z"
   },
   {
    "duration": 105159,
    "start_time": "2025-01-28T02:29:44.445Z"
   },
   {
    "duration": 105749,
    "start_time": "2025-01-28T02:33:02.049Z"
   },
   {
    "duration": 30,
    "start_time": "2025-01-28T02:34:57.984Z"
   },
   {
    "duration": 6921,
    "start_time": "2025-01-28T02:35:00.776Z"
   },
   {
    "duration": 6767,
    "start_time": "2025-01-28T02:36:45.548Z"
   },
   {
    "duration": 339,
    "start_time": "2025-01-28T02:45:18.579Z"
   },
   {
    "duration": 6,
    "start_time": "2025-01-28T02:52:21.058Z"
   },
   {
    "duration": 1219,
    "start_time": "2025-01-28T03:13:02.834Z"
   },
   {
    "duration": 413,
    "start_time": "2025-01-28T03:13:04.216Z"
   },
   {
    "duration": 102,
    "start_time": "2025-01-28T03:13:06.078Z"
   },
   {
    "duration": 8,
    "start_time": "2025-01-28T03:13:07.101Z"
   },
   {
    "duration": 343,
    "start_time": "2025-01-28T03:13:07.938Z"
   },
   {
    "duration": 58,
    "start_time": "2025-01-28T03:13:08.995Z"
   },
   {
    "duration": 23,
    "start_time": "2025-01-28T03:13:11.184Z"
   },
   {
    "duration": 350,
    "start_time": "2025-01-28T03:13:12.546Z"
   },
   {
    "duration": 305,
    "start_time": "2025-01-28T03:13:14.635Z"
   },
   {
    "duration": 16,
    "start_time": "2025-01-28T03:13:16.930Z"
   },
   {
    "duration": 69,
    "start_time": "2025-01-28T03:13:17.765Z"
   },
   {
    "duration": 23944,
    "start_time": "2025-01-28T03:13:19.163Z"
   },
   {
    "duration": 171,
    "start_time": "2025-01-28T03:13:43.111Z"
   },
   {
    "duration": 10,
    "start_time": "2025-01-28T03:13:48.143Z"
   },
   {
    "duration": 13,
    "start_time": "2025-01-28T03:13:53.930Z"
   },
   {
    "duration": 39,
    "start_time": "2025-01-28T03:13:55.360Z"
   },
   {
    "duration": 40,
    "start_time": "2025-01-28T03:14:03.866Z"
   },
   {
    "duration": 94,
    "start_time": "2025-01-28T03:14:05.689Z"
   },
   {
    "duration": 45,
    "start_time": "2025-01-28T03:14:10.222Z"
   },
   {
    "duration": 84,
    "start_time": "2025-01-28T03:14:15.224Z"
   },
   {
    "duration": 109,
    "start_time": "2025-01-28T03:14:50.636Z"
   },
   {
    "duration": 2,
    "start_time": "2025-01-28T03:14:56.959Z"
   },
   {
    "duration": 824,
    "start_time": "2025-01-28T03:14:59.763Z"
   },
   {
    "duration": 732,
    "start_time": "2025-01-28T03:15:20.375Z"
   },
   {
    "duration": 10176,
    "start_time": "2025-01-28T03:15:22.524Z"
   },
   {
    "duration": 10302,
    "start_time": "2025-01-28T03:15:43.522Z"
   },
   {
    "duration": 51479,
    "start_time": "2025-01-28T03:15:53.826Z"
   },
   {
    "duration": 1453,
    "start_time": "2025-01-28T03:17:08.849Z"
   },
   {
    "duration": 1503,
    "start_time": "2025-01-28T03:17:17.901Z"
   },
   {
    "duration": 179799,
    "start_time": "2025-01-28T03:17:19.407Z"
   },
   {
    "duration": 103761,
    "start_time": "2025-01-28T03:20:30.126Z"
   },
   {
    "duration": 37,
    "start_time": "2025-01-28T03:22:13.889Z"
   },
   {
    "duration": 6948,
    "start_time": "2025-01-28T03:22:13.928Z"
   },
   {
    "duration": 2875,
    "start_time": "2025-01-28T03:51:01.655Z"
   },
   {
    "duration": 444,
    "start_time": "2025-01-28T03:51:04.533Z"
   },
   {
    "duration": 91,
    "start_time": "2025-01-28T03:51:04.979Z"
   },
   {
    "duration": 7,
    "start_time": "2025-01-28T03:51:05.072Z"
   },
   {
    "duration": 307,
    "start_time": "2025-01-28T03:51:05.082Z"
   },
   {
    "duration": 61,
    "start_time": "2025-01-28T03:51:05.392Z"
   },
   {
    "duration": 29,
    "start_time": "2025-01-28T03:51:05.455Z"
   },
   {
    "duration": 346,
    "start_time": "2025-01-28T03:51:05.486Z"
   },
   {
    "duration": 293,
    "start_time": "2025-01-28T03:51:05.834Z"
   },
   {
    "duration": 14,
    "start_time": "2025-01-28T03:51:06.129Z"
   },
   {
    "duration": 58,
    "start_time": "2025-01-28T03:51:06.145Z"
   },
   {
    "duration": 23282,
    "start_time": "2025-01-28T03:51:06.205Z"
   },
   {
    "duration": 119,
    "start_time": "2025-01-28T03:51:29.489Z"
   },
   {
    "duration": 13,
    "start_time": "2025-01-28T03:51:29.612Z"
   },
   {
    "duration": 12,
    "start_time": "2025-01-28T03:51:29.626Z"
   },
   {
    "duration": 36,
    "start_time": "2025-01-28T03:51:29.640Z"
   },
   {
    "duration": 111,
    "start_time": "2025-01-28T03:51:29.678Z"
   },
   {
    "duration": 56,
    "start_time": "2025-01-28T03:51:29.791Z"
   },
   {
    "duration": 89,
    "start_time": "2025-01-28T03:51:29.849Z"
   },
   {
    "duration": 29,
    "start_time": "2025-01-28T03:51:35.961Z"
   }
  ],
  "kernelspec": {
   "display_name": "Python 3 (ipykernel)",
   "language": "python",
   "name": "python3"
  },
  "language_info": {
   "codemirror_mode": {
    "name": "ipython",
    "version": 3
   },
   "file_extension": ".py",
   "mimetype": "text/x-python",
   "name": "python",
   "nbconvert_exporter": "python",
   "pygments_lexer": "ipython3",
   "version": "3.9.19"
  },
  "toc": {
   "base_numbering": 1,
   "nav_menu": {},
   "number_sections": true,
   "sideBar": true,
   "skip_h1_title": true,
   "title_cell": "Table of Contents",
   "title_sidebar": "Contents",
   "toc_cell": false,
   "toc_position": {},
   "toc_section_display": true,
   "toc_window_display": false
  }
 },
 "nbformat": 4,
 "nbformat_minor": 2
}
